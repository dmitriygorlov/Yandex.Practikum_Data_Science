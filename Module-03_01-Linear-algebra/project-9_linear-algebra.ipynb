{
  "nbformat": 4,
  "nbformat_minor": 0,
  "metadata": {
    "ExecuteTimeLog": [
      {
        "duration": 1351,
        "start_time": "2021-07-10T11:51:15.090Z"
      },
      {
        "duration": 4,
        "start_time": "2021-07-10T11:51:20.158Z"
      },
      {
        "duration": 4,
        "start_time": "2021-07-10T11:51:24.158Z"
      },
      {
        "duration": 4,
        "start_time": "2021-07-10T11:53:10.359Z"
      },
      {
        "duration": 18,
        "start_time": "2021-07-10T11:53:11.229Z"
      },
      {
        "duration": 500,
        "start_time": "2021-07-10T11:53:11.959Z"
      },
      {
        "duration": 28,
        "start_time": "2021-07-10T11:53:25.878Z"
      },
      {
        "duration": 17,
        "start_time": "2021-07-10T11:53:37.357Z"
      },
      {
        "duration": 17,
        "start_time": "2021-07-10T11:54:03.498Z"
      },
      {
        "duration": 5,
        "start_time": "2021-07-10T12:04:48.837Z"
      },
      {
        "duration": 6,
        "start_time": "2021-07-10T12:04:54.276Z"
      },
      {
        "duration": 205,
        "start_time": "2021-07-11T19:22:07.371Z"
      },
      {
        "duration": 1002,
        "start_time": "2021-07-11T19:22:14.954Z"
      },
      {
        "duration": 17,
        "start_time": "2021-07-11T19:22:15.959Z"
      },
      {
        "duration": 17,
        "start_time": "2021-07-11T19:22:15.981Z"
      },
      {
        "duration": 3,
        "start_time": "2021-07-11T19:22:16.000Z"
      },
      {
        "duration": 3,
        "start_time": "2021-07-11T19:25:07.012Z"
      },
      {
        "duration": 264,
        "start_time": "2021-07-11T19:26:09.493Z"
      },
      {
        "duration": 8,
        "start_time": "2021-07-11T19:26:23.820Z"
      },
      {
        "duration": 9,
        "start_time": "2021-07-11T19:26:25.650Z"
      },
      {
        "duration": 4,
        "start_time": "2021-07-11T19:29:41.736Z"
      },
      {
        "duration": 3,
        "start_time": "2021-07-11T19:30:03.881Z"
      },
      {
        "duration": 3,
        "start_time": "2021-07-11T19:42:08.215Z"
      },
      {
        "duration": 7,
        "start_time": "2021-07-11T19:56:59.074Z"
      },
      {
        "duration": 7,
        "start_time": "2021-07-11T19:57:23.846Z"
      },
      {
        "duration": 8,
        "start_time": "2021-07-11T19:57:35.066Z"
      },
      {
        "duration": 8,
        "start_time": "2021-07-11T19:57:51.281Z"
      },
      {
        "duration": 8,
        "start_time": "2021-07-11T19:58:07.479Z"
      },
      {
        "duration": 3,
        "start_time": "2021-07-11T20:53:16.252Z"
      },
      {
        "duration": 8,
        "start_time": "2021-07-11T20:57:04.025Z"
      },
      {
        "duration": 7,
        "start_time": "2021-07-11T20:57:07.172Z"
      },
      {
        "duration": 8,
        "start_time": "2021-07-11T20:59:28.127Z"
      },
      {
        "duration": 8,
        "start_time": "2021-07-11T20:59:33.069Z"
      },
      {
        "duration": 8,
        "start_time": "2021-07-11T21:00:02.616Z"
      },
      {
        "duration": 11,
        "start_time": "2021-07-11T21:00:14.363Z"
      },
      {
        "duration": 9,
        "start_time": "2021-07-11T21:00:15.076Z"
      },
      {
        "duration": 9,
        "start_time": "2021-07-11T21:00:15.506Z"
      },
      {
        "duration": 9,
        "start_time": "2021-07-11T21:00:16.007Z"
      },
      {
        "duration": 8,
        "start_time": "2021-07-11T21:00:56.007Z"
      },
      {
        "duration": 8,
        "start_time": "2021-07-11T21:00:57.853Z"
      },
      {
        "duration": 8,
        "start_time": "2021-07-11T21:01:26.441Z"
      },
      {
        "duration": 3,
        "start_time": "2021-07-11T21:01:46.470Z"
      },
      {
        "duration": 6,
        "start_time": "2021-07-11T21:01:47.923Z"
      },
      {
        "duration": 183,
        "start_time": "2021-07-11T21:04:17.195Z"
      },
      {
        "duration": 3,
        "start_time": "2021-07-11T21:04:27.457Z"
      },
      {
        "duration": 8,
        "start_time": "2021-07-11T21:04:29.016Z"
      },
      {
        "duration": 8,
        "start_time": "2021-07-11T21:04:35.483Z"
      },
      {
        "duration": 981,
        "start_time": "2021-07-11T21:06:58.729Z"
      },
      {
        "duration": 18,
        "start_time": "2021-07-11T21:06:59.711Z"
      },
      {
        "duration": 18,
        "start_time": "2021-07-11T21:06:59.732Z"
      },
      {
        "duration": 6,
        "start_time": "2021-07-11T21:06:59.752Z"
      },
      {
        "duration": 10,
        "start_time": "2021-07-11T21:06:59.760Z"
      },
      {
        "duration": 3,
        "start_time": "2021-07-11T21:06:59.784Z"
      },
      {
        "duration": 10,
        "start_time": "2021-07-11T21:06:59.789Z"
      },
      {
        "duration": 3,
        "start_time": "2021-07-11T21:06:59.801Z"
      },
      {
        "duration": 8,
        "start_time": "2021-07-11T21:06:59.887Z"
      },
      {
        "duration": 91,
        "start_time": "2021-07-11T21:06:59.897Z"
      }
    ],
    "kernelspec": {
      "display_name": "Python 3",
      "language": "python",
      "name": "python3"
    },
    "language_info": {
      "codemirror_mode": {
        "name": "ipython",
        "version": 3
      },
      "file_extension": ".py",
      "mimetype": "text/x-python",
      "name": "python",
      "nbconvert_exporter": "python",
      "pygments_lexer": "ipython3",
      "version": "3.7.8"
    },
    "toc": {
      "base_numbering": 1,
      "nav_menu": {},
      "number_sections": true,
      "sideBar": true,
      "skip_h1_title": true,
      "title_cell": "Содержание",
      "title_sidebar": "Contents",
      "toc_cell": true,
      "toc_position": {},
      "toc_section_display": true,
      "toc_window_display": false
    },
    "colab": {
      "name": "project-9_linear-algebra.ipynb",
      "provenance": [],
      "include_colab_link": true
    }
  },
  "cells": [
    {
      "cell_type": "markdown",
      "metadata": {
        "id": "view-in-github",
        "colab_type": "text"
      },
      "source": [
        "<a href=\"https://colab.research.google.com/github/dmitriygorlov/Yandex.Practikum_Data_Science/blob/main/Module-03_01-Linear-algebra/project-9_linear-algebra.ipynb\" target=\"_parent\"><img src=\"https://colab.research.google.com/assets/colab-badge.svg\" alt=\"Open In Colab\"/></a>"
      ]
    },
    {
      "cell_type": "markdown",
      "metadata": {
        "id": "XoIZZqetRdpP"
      },
      "source": [
        "# Защита персональных данных клиентов"
      ]
    },
    {
      "cell_type": "markdown",
      "metadata": {
        "id": "2BB25CImRdpQ"
      },
      "source": [
        "Нужно разработать метод преобразования данных, чтобы по ним было сложно восстановить персональную информацию, но качество моделей машинного обучения не ухудшилось."
      ]
    },
    {
      "cell_type": "markdown",
      "metadata": {
        "toc": true,
        "id": "QC53c1F-RdpP"
      },
      "source": [
        "<h1>Содержание<span class=\"tocSkip\"></span></h1>\n",
        "<div class=\"toc\"><ul class=\"toc-item\"><li><span><a href=\"#Загрузка-данных\" data-toc-modified-id=\"Загрузка-данных-1\"><span class=\"toc-item-num\">1&nbsp;&nbsp;</span>Загрузка данных</a></span></li><li><span><a href=\"#Умножение-матриц\" data-toc-modified-id=\"Умножение-матриц-2\"><span class=\"toc-item-num\">2&nbsp;&nbsp;</span>Умножение матриц</a></span></li><li><span><a href=\"#Алгоритм-преобразования\" data-toc-modified-id=\"Алгоритм-преобразования-3\"><span class=\"toc-item-num\">3&nbsp;&nbsp;</span>Алгоритм преобразования</a></span></li><li><span><a href=\"#Проверка-алгоритма\" data-toc-modified-id=\"Проверка-алгоритма-4\"><span class=\"toc-item-num\">4&nbsp;&nbsp;</span>Проверка алгоритма</a></span></li><li><span><a href=\"#Чек-лист-проверки\" data-toc-modified-id=\"Чек-лист-проверки-5\"><span class=\"toc-item-num\">5&nbsp;&nbsp;</span>Чек-лист проверки</a></span></li></ul></div>"
      ]
    },
    {
      "cell_type": "markdown",
      "metadata": {
        "id": "Skx8oeJSRdpQ"
      },
      "source": [
        "## Загрузка данных"
      ]
    },
    {
      "cell_type": "code",
      "metadata": {
        "id": "KP5T6ylcRdpR"
      },
      "source": [
        "import pandas as pd\n",
        "import numpy as np\n",
        "from sklearn.linear_model import LinearRegression\n",
        "from sklearn.model_selection import train_test_split"
      ],
      "execution_count": 1,
      "outputs": []
    },
    {
      "cell_type": "markdown",
      "metadata": {
        "id": "9DF8tPRWRdpS"
      },
      "source": [
        "загрузили библиотеки"
      ]
    },
    {
      "cell_type": "code",
      "metadata": {
        "id": "uN_32bJ4RdpT"
      },
      "source": [
        "df = pd.read_csv(\"https://code.s3.yandex.net/datasets/insurance.csv\")"
      ],
      "execution_count": 2,
      "outputs": []
    },
    {
      "cell_type": "markdown",
      "metadata": {
        "id": "820Hn9zHRdpU"
      },
      "source": [
        "загрузили данные"
      ]
    },
    {
      "cell_type": "code",
      "metadata": {
        "id": "ktfRwXRhRdpU",
        "outputId": "b459c418-0e84-4e40-f1fd-34e0623390f5",
        "colab": {
          "base_uri": "https://localhost:8080/",
          "height": 408
        }
      },
      "source": [
        "df.info()\n",
        "display(df.head())"
      ],
      "execution_count": 3,
      "outputs": [
        {
          "output_type": "stream",
          "name": "stdout",
          "text": [
            "<class 'pandas.core.frame.DataFrame'>\n",
            "RangeIndex: 5000 entries, 0 to 4999\n",
            "Data columns (total 5 columns):\n",
            " #   Column             Non-Null Count  Dtype  \n",
            "---  ------             --------------  -----  \n",
            " 0   Пол                5000 non-null   int64  \n",
            " 1   Возраст            5000 non-null   float64\n",
            " 2   Зарплата           5000 non-null   float64\n",
            " 3   Члены семьи        5000 non-null   int64  \n",
            " 4   Страховые выплаты  5000 non-null   int64  \n",
            "dtypes: float64(2), int64(3)\n",
            "memory usage: 195.4 KB\n"
          ]
        },
        {
          "output_type": "display_data",
          "data": {
            "text/html": [
              "<div>\n",
              "<style scoped>\n",
              "    .dataframe tbody tr th:only-of-type {\n",
              "        vertical-align: middle;\n",
              "    }\n",
              "\n",
              "    .dataframe tbody tr th {\n",
              "        vertical-align: top;\n",
              "    }\n",
              "\n",
              "    .dataframe thead th {\n",
              "        text-align: right;\n",
              "    }\n",
              "</style>\n",
              "<table border=\"1\" class=\"dataframe\">\n",
              "  <thead>\n",
              "    <tr style=\"text-align: right;\">\n",
              "      <th></th>\n",
              "      <th>Пол</th>\n",
              "      <th>Возраст</th>\n",
              "      <th>Зарплата</th>\n",
              "      <th>Члены семьи</th>\n",
              "      <th>Страховые выплаты</th>\n",
              "    </tr>\n",
              "  </thead>\n",
              "  <tbody>\n",
              "    <tr>\n",
              "      <th>0</th>\n",
              "      <td>1</td>\n",
              "      <td>41.0</td>\n",
              "      <td>49600.0</td>\n",
              "      <td>1</td>\n",
              "      <td>0</td>\n",
              "    </tr>\n",
              "    <tr>\n",
              "      <th>1</th>\n",
              "      <td>0</td>\n",
              "      <td>46.0</td>\n",
              "      <td>38000.0</td>\n",
              "      <td>1</td>\n",
              "      <td>1</td>\n",
              "    </tr>\n",
              "    <tr>\n",
              "      <th>2</th>\n",
              "      <td>0</td>\n",
              "      <td>29.0</td>\n",
              "      <td>21000.0</td>\n",
              "      <td>0</td>\n",
              "      <td>0</td>\n",
              "    </tr>\n",
              "    <tr>\n",
              "      <th>3</th>\n",
              "      <td>0</td>\n",
              "      <td>21.0</td>\n",
              "      <td>41700.0</td>\n",
              "      <td>2</td>\n",
              "      <td>0</td>\n",
              "    </tr>\n",
              "    <tr>\n",
              "      <th>4</th>\n",
              "      <td>1</td>\n",
              "      <td>28.0</td>\n",
              "      <td>26100.0</td>\n",
              "      <td>0</td>\n",
              "      <td>0</td>\n",
              "    </tr>\n",
              "  </tbody>\n",
              "</table>\n",
              "</div>"
            ],
            "text/plain": [
              "   Пол  Возраст  Зарплата  Члены семьи  Страховые выплаты\n",
              "0    1     41.0   49600.0            1                  0\n",
              "1    0     46.0   38000.0            1                  1\n",
              "2    0     29.0   21000.0            0                  0\n",
              "3    0     21.0   41700.0            2                  0\n",
              "4    1     28.0   26100.0            0                  0"
            ]
          },
          "metadata": {}
        }
      ]
    },
    {
      "cell_type": "markdown",
      "metadata": {
        "id": "9qCYT0-pRdpV"
      },
      "source": [
        "наши исходные данные состоят из 5000 строк, есть целевой признак \"Страховые выплаты\", а также признаки пол, возраст, зарплата, члены семьи. Поделим данные на features и target, а также на тренировочный и тестовый набор."
      ]
    },
    {
      "cell_type": "code",
      "metadata": {
        "id": "xAakTtwrRdpW"
      },
      "source": [
        "features = df.drop('Страховые выплаты', axis=1)\n",
        "target = df['Страховые выплаты']\n",
        "\n",
        "features_train, features_test, target_train, target_test = train_test_split(\n",
        "    features, target, test_size=0.25, random_state=12345)"
      ],
      "execution_count": 4,
      "outputs": []
    },
    {
      "cell_type": "markdown",
      "metadata": {
        "id": "1xia_iu8RdpW"
      },
      "source": [
        "посчитаем r2 на изначальной регрессии"
      ]
    },
    {
      "cell_type": "code",
      "metadata": {
        "id": "JIaIUQNBRdpW",
        "outputId": "a4dffe5c-aa03-4405-bb8c-55b5114877d0",
        "colab": {
          "base_uri": "https://localhost:8080/"
        }
      },
      "source": [
        "model = LinearRegression()\n",
        "model.fit(features_train, target_train)\n",
        "r2 = model.score(features_test, target_test)\n",
        "print('r2 =', r2)"
      ],
      "execution_count": 5,
      "outputs": [
        {
          "output_type": "stream",
          "name": "stdout",
          "text": [
            "r2 = 0.435227571270266\n"
          ]
        }
      ]
    },
    {
      "cell_type": "markdown",
      "metadata": {
        "id": "dKGuLU8HRdpX"
      },
      "source": [
        "Итак, мы знаем исходное значение качества на модели, теперь приступим к умножению матриц и исследуем влияние."
      ]
    },
    {
      "cell_type": "markdown",
      "metadata": {
        "id": "BU6iSsZGRdpX"
      },
      "source": [
        "## Умножение матриц"
      ]
    },
    {
      "cell_type": "markdown",
      "metadata": {
        "id": "UuLw7saJRdpX"
      },
      "source": [
        "Создадим случайную матрицу 4 на 4 и проверим её на обратимость перед умножением"
      ]
    },
    {
      "cell_type": "code",
      "metadata": {
        "id": "hwZCgVxYRdpX"
      },
      "source": [
        "matrix = np.random.rand(4, 4)\n",
        "\n",
        "ver_matrix = np.linalg.inv(matrix)"
      ],
      "execution_count": 6,
      "outputs": []
    },
    {
      "cell_type": "markdown",
      "metadata": {
        "id": "WsX0H3rtRdpY"
      },
      "source": [
        "подходящая обратимая матрица готова, умножим исходные данные и оценим изменение качества модели (r2)"
      ]
    },
    {
      "cell_type": "code",
      "metadata": {
        "id": "E2b9hK9wRdpY",
        "outputId": "0014cffd-2b86-4d4e-b276-0aa892fb2a18",
        "colab": {
          "base_uri": "https://localhost:8080/"
        }
      },
      "source": [
        "features_train_mat = features_train @ matrix\n",
        "features_test_mat = features_test @ matrix\n",
        "\n",
        "\n",
        "model_mat = LinearRegression()\n",
        "model_mat.fit(features_train_mat, target_train)\n",
        "r2 = model_mat.score(features_test_mat, target_test)\n",
        "print('r2 =', r2)"
      ],
      "execution_count": 7,
      "outputs": [
        {
          "output_type": "stream",
          "name": "stdout",
          "text": [
            "r2 = 0.4352275712700624\n"
          ]
        }
      ]
    },
    {
      "cell_type": "markdown",
      "metadata": {
        "id": "SZRO4R7pRdpY"
      },
      "source": [
        "**Ответ:** Метрика r2 по сути не изменилась, а значит качество линейной регрессии не меняется при умножении признаков на обратимую матрицу. Это происходит вввиду самой логики формулы линейной регрессии. Посмотрим подробнее"
      ]
    },
    {
      "cell_type": "markdown",
      "metadata": {
        "id": "WI7rV9gXRdpZ"
      },
      "source": [
        "Обозначения:\n",
        "\n",
        "- $X$ — матрица признаков (нулевой столбец состоит из единиц)\n",
        "\n",
        "- $y$ — вектор целевого признака\n",
        "\n",
        "- $P$ — матрица, на которую умножаются признаки\n",
        "\n",
        "- $w$ — вектор весов линейной регрессии (нулевой элемент равен сдвигу)"
      ]
    },
    {
      "cell_type": "markdown",
      "metadata": {
        "id": "rG5vsGBVRdpZ"
      },
      "source": [
        "Предсказания:\n",
        "\n",
        "$$\n",
        "a = Xw\n",
        "$$\n",
        "\n",
        "Задача обучения:\n",
        "\n",
        "$$\n",
        "w = \\arg\\min_w MSE(Xw, y)\n",
        "$$\n",
        "\n",
        "Формула обучения:\n",
        "\n",
        "$$\n",
        "w = (X^T X)^{-1} X^T y\n",
        "$$\n",
        "\n",
        "Важные свойства матриц:\n",
        "\n",
        "$$\n",
        "(AB)^{-1} = B^{-1} A^{-1}\n",
        "$$\n",
        "$$\n",
        "(AB)^{T} = B^{T} A^{T}\n",
        "$$\n",
        "$$\n",
        "A A^{-1} = E\n",
        "$$\n"
      ]
    },
    {
      "cell_type": "markdown",
      "metadata": {
        "id": "3j6dQKXnRdpZ"
      },
      "source": [
        "**Обоснование:**\n",
        "\n",
        "Заменим матрицу $X$ на $Y$\n",
        "\n",
        "$$\n",
        "N = XO\n",
        "$$\n",
        "\n",
        "где $O$ - обратимая матрица со случайными значениями\n",
        "\n",
        "После замены посмотрим на новые $w_{1}$ и $a_{1}$\n",
        "\n",
        "$$\n",
        "w_{1}=(N^T N)^{-1} N^T y\n",
        "$$\n",
        "\n",
        "$$\n",
        "a_{1}=N (N^T N)^{-1} N^T y\n",
        "$$\n",
        "\n",
        "Раскроем N\n",
        "\n",
        "$$\n",
        "a_{1}=XO ((XO)^T (XO))^{-1} (XO)^T y\n",
        "$$\n",
        "\n",
        "Теперь воспользуемся свойствами матриц\n",
        "\n",
        "$$\n",
        "XO ((XO)^T (XO))^{-1} (XO)^T y = XO(XO)^{-1}((XO)^T)^{-1}(XO)^Ty = XOO^{-1}X^{-1}((XO)^T)^{-1}(XO)^Ty = XEX^{-1}((XO)^T)^{-1}(XO)^Ty = XX^{-1}(O^T X^T)^{-1} O^T X^T y = X X^{-1}(X^T)^{-1}(O^T)^{-1}O^T X^T y = X X^{-1}(X^T)^{-1}EX^T y = X(X^T X)^{-1} X^T y\n",
        "$$\n",
        "\n",
        "таким образом мы получили исходное \n",
        "\n",
        "$$\n",
        "a = Xw = X(X^T X)^{-1} X^T y\n",
        "$$\n",
        "\n",
        "а это значит, что $a_{1}$ = $a$ и значение предсказания не меняется, если умножать матрицу признаков на обратимую матрицу!"
      ]
    },
    {
      "cell_type": "markdown",
      "metadata": {
        "id": "h9QLr6aORdpZ"
      },
      "source": [
        "## Алгоритм преобразования"
      ]
    },
    {
      "cell_type": "markdown",
      "metadata": {
        "id": "41-OKz76RdpZ"
      },
      "source": [
        "**Алгоритм**\n",
        "\n",
        "Для шифрования исходных данных сделаем функцию, которая будет создавать подходящую матрицу и перемножать исходные данные на неё"
      ]
    },
    {
      "cell_type": "code",
      "metadata": {
        "id": "0dzx3MApRdpa"
      },
      "source": [
        "def algoritm(features_train, features_test):\n",
        "    n = features_train.shape[1]\n",
        "    matrix = np.random.rand(n, n)\n",
        "    det = np.linalg.det(matrix)\n",
        "    while det == 0:\n",
        "        matrix = np.random.rand(n, n)\n",
        "        det = np.linalg.det(matrix)\n",
        "    new_features_train = features_train @ matrix\n",
        "    new_features_test = features_test @ matrix\n",
        "    return new_features_train, new_features_test"
      ],
      "execution_count": 8,
      "outputs": []
    },
    {
      "cell_type": "markdown",
      "metadata": {
        "id": "tZDnzcTHRdpa"
      },
      "source": [
        "**Обоснование**\n",
        "\n",
        "Как мы уже доказали ранее, качество линейной регрессии не изменяется при умножении признаков на обратимую матрицу. Поэтому в рамках функции мы берём исходные данные, узнаем подходящую размерность, создаём подходящую матрицу, проверяем матрицу на обратимость (при необходимости создаём новую) и возвращаем перемноженные матрицы. Проверим алгоритм на наших данных"
      ]
    },
    {
      "cell_type": "markdown",
      "metadata": {
        "id": "Z29LZgByRdpa"
      },
      "source": [
        "## Проверка алгоритма"
      ]
    },
    {
      "cell_type": "markdown",
      "metadata": {
        "id": "0a3p_DfGRdpb"
      },
      "source": [
        "Исходные данные:"
      ]
    },
    {
      "cell_type": "code",
      "metadata": {
        "id": "jb5Ce-enRdpb",
        "outputId": "325bf20c-70ed-4dec-c4a7-4961d1a532dd",
        "colab": {
          "base_uri": "https://localhost:8080/"
        }
      },
      "source": [
        "model = LinearRegression()\n",
        "model.fit(features_train, target_train)\n",
        "r2 = model.score(features_test, target_test)\n",
        "print('r2 =', r2)"
      ],
      "execution_count": 9,
      "outputs": [
        {
          "output_type": "stream",
          "name": "stdout",
          "text": [
            "r2 = 0.435227571270266\n"
          ]
        }
      ]
    },
    {
      "cell_type": "markdown",
      "metadata": {
        "id": "wQiqvYVrRdpb"
      },
      "source": [
        "Зашфруем данные и померяем r2 снова:"
      ]
    },
    {
      "cell_type": "code",
      "metadata": {
        "id": "g7yquoWwRdpb",
        "outputId": "fbfb8ed0-6a96-46e6-92d9-3cdc7da3c7e0",
        "colab": {
          "base_uri": "https://localhost:8080/"
        }
      },
      "source": [
        "cipher_features_train, cipher_features_test = algoritm(features_train, features_test)\n",
        "\n",
        "model_cipher = LinearRegression()\n",
        "model_cipher.fit(cipher_features_train, target_train)\n",
        "cipher_r2 = model_cipher.score(cipher_features_test, target_test)\n",
        "print('cipher_r2 =', cipher_r2)"
      ],
      "execution_count": 10,
      "outputs": [
        {
          "output_type": "stream",
          "name": "stdout",
          "text": [
            "cipher_r2 = 0.43522757126978073\n"
          ]
        }
      ]
    },
    {
      "cell_type": "markdown",
      "metadata": {
        "id": "pK3oDNCwRdpc"
      },
      "source": [
        "Метрика качества (r2) не поменялась! \n",
        "\n",
        "**Вывод:** функцию алгоритма можно применять для шифровки исходных данных без падения качества предсказания модели"
      ]
    }
  ]
}