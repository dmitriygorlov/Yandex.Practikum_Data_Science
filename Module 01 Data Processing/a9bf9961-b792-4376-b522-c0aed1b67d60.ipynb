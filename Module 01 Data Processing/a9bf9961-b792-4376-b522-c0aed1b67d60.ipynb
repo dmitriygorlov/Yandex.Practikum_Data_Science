{
 "cells": [
  {
   "cell_type": "markdown",
   "metadata": {},
   "source": [
    "<div style=\"border:solid black 2px; padding: 20px\">\n",
    "<b>Дмитрий, привет!</b>\n",
    "\n",
    "Меня зовут Полина Бережная, и я буду делать ревью проекта по предобработке данных. Давай будем общаться на «ты». Но если тебе комфортнее на «вы», обязательно сообщи мне об этом. \n",
    "\n",
    "Твоя работа просто 🔥. Мне было очень приятно проверять твой проект, так как чувствуется твое старание и желание сделать задание на достойном уровне. Однако есть некоторые аспекты, которые требуют твоего внимания и доработки. \n",
    "    \n",
    "В тетрадке ты можешь встретить 4 вида моих комментариев:\n",
    "- <div class=\"alert alert-danger\">\n",
    "  \n",
    "    **Комментарий ревьюера**\n",
    "    \n",
    "    Такой нюанс требует обязательной доработки, иначе проект не будет принят.\n",
    "  </div>\n",
    "    \n",
    "    \n",
    "- <div class=\"alert alert-warning\">\n",
    "  \n",
    "    **Комментарий ревьюера**\n",
    "    \n",
    "    Так выделены не обязательные к доработке моменты. Mожешь учесть их при редактировании проекта и выполнении будущих заданий. На твое усмотрение. Однако если в работе больше двух таких комментариев, необходимо их проработать.\n",
    "  </div>\n",
    "    \n",
    "    \n",
    "- <div class=\"alert alert-success\">\n",
    "  \n",
    "    **Комментарий ревьюера**\n",
    "    \n",
    "    Так отмечены удачные решения и подходы, на которые стоит опираться в будущих проектах.\n",
    "  </div>\n",
    "    \n",
    "    \n",
    "- <div style=\"border:solid black 2px; padding: 20px\">\n",
    "  \n",
    "    **Чек-лист доработок**\n",
    "    \n",
    "    Такой комментарий будет находиться в конце тетрадки. В нем будут еще раз указаны нюансы, требующие обязательной корректировки.\n",
    "  </div>\n",
    "\n",
    "Предлагаю работать над проектом в форме диалога: если ты **что-то меняешь** в работе по моим рекомендациям — **пиши об этом** и помечай комментарий каким-то заметным цветом. Пожалуйста, **не перемещай, не изменяй и не удаляй мои комментарии**. Такой формат работы поможет выполнить повторную проверку твоего проекта оперативнее.\n",
    "    \n",
    "Не переживай, если что-то не получилось сделать идеально с первого раза. Основная цель нашей команды - не указать на ошибки, а поделиться своим опытом и помочь тебе отточить аналитические навыки и навыки владения аналитическими инструментами 🙂\n",
    "    \n",
    "Жду твой проект на повторное ревью, ты уже почти на финише!\n",
    "\n",
    "</div>"
   ]
  },
  {
   "cell_type": "markdown",
   "metadata": {},
   "source": [
    "<div style=\"border:solid black 2px; padding: 20px\">\n",
    "<b>Дмитрий, привет еще раз!</b>\n",
    "\n",
    "Посмотри, пожалуйста, комментарии v2 🙂"
   ]
  },
  {
   "cell_type": "markdown",
   "metadata": {},
   "source": [
    "<div style=\"border:solid green 2px; padding: 20px\">\n",
    "<b>Дмитрий, привет еще раз!</b>\n",
    "\n",
    "Ты отлично поработал, я бы сказал на все 200%! Проект принят, ты большой молодец! \n",
    "    \n",
    "Желаю тебе успехов во всех будущих начинаниях!"
   ]
  },
  {
   "cell_type": "markdown",
   "metadata": {},
   "source": [
    "# Исследование надёжности заёмщиков\n",
    "\n",
    "Заказчик — кредитный отдел банка. Нужно разобраться, влияет ли семейное положение и количество детей клиента на факт погашения кредита в срок. Входные данные от банка — статистика о платёжеспособности клиентов.\n",
    "\n",
    "Результаты исследования будут учтены при построении модели **кредитного скоринга** — специальной системы, которая оценивает способность потенциального заёмщика вернуть кредит банку.\n",
    "\n",
    "Данные представлены в виде таблицы с информацией по клиентам и наличию или отсутствию у них невыплаченных кредитов. По проекту планируются следующие шаги:\n",
    "\n",
    "- Шаг 1. Прочтение\n",
    "\n",
    "- Шаг 2. Предобработка данных\n",
    "\n",
    "- Шаг 3. Ответы на вопросы\n",
    "\n",
    "- [Шаг 4. Общий вывод](#last)\n"
   ]
  },
  {
   "cell_type": "markdown",
   "metadata": {},
   "source": [
    "<div class=\"alert alert-success\">\n",
    "\n",
    "**Комментарий ревьюера**\n",
    "    \n",
    "Здорово, что перед кодом есть название проекта и описание задач. Да и все оформление тетрадки выполнено на достойном уровне 👍🏻\n",
    "</div>"
   ]
  },
  {
   "cell_type": "markdown",
   "metadata": {},
   "source": [
    "<div class=\"alert alert-warning\">\n",
    "\n",
    "**Комментарий ревьюера**\n",
    "    \n",
    "Однако предлагаю обратить внимание на несколько нюансов:\n",
    "- Стоит добавить описание данных и план твоих действий во введение к работе.\n",
    "- Будет здорово, если во введении будет присутствовать навигация по проекту. Можешь, например, использовать гиперссылки для каждого пункта плана.   \n",
    "    \n",
    "Данные корректировки сделают твою тетрадку очень удобной для использования другими людьми. Она будет рассказывать историю за тебя и показывать как твои кодинговые навыки, так и умение анализировать и преподносить информацию 🙂\n",
    "</div>"
   ]
  },
  {
   "cell_type": "markdown",
   "metadata": {},
   "source": [
    "<b><i> Сделал правки: </b></i>\n",
    "- <i>Добавил описание данных и план</i>\n",
    "- <i>Не справился с якорными гиперссылками, не понял почему не ставится :\\</i>"
   ]
  },
  {
   "cell_type": "markdown",
   "metadata": {},
   "source": [
    "## Шаг 1. Откройте файл с данными и изучите общую информацию "
   ]
  },
  {
   "cell_type": "code",
   "execution_count": 1,
   "metadata": {
    "scrolled": true
   },
   "outputs": [
    {
     "name": "stdout",
     "output_type": "stream",
     "text": [
      "<class 'pandas.core.frame.DataFrame'>\n",
      "RangeIndex: 21525 entries, 0 to 21524\n",
      "Data columns (total 12 columns):\n",
      "children            21525 non-null int64\n",
      "days_employed       19351 non-null float64\n",
      "dob_years           21525 non-null int64\n",
      "education           21525 non-null object\n",
      "education_id        21525 non-null int64\n",
      "family_status       21525 non-null object\n",
      "family_status_id    21525 non-null int64\n",
      "gender              21525 non-null object\n",
      "income_type         21525 non-null object\n",
      "debt                21525 non-null int64\n",
      "total_income        19351 non-null float64\n",
      "purpose             21525 non-null object\n",
      "dtypes: float64(2), int64(5), object(5)\n",
      "memory usage: 2.0+ MB\n",
      "    children  days_employed  dob_years            education  education_id  \\\n",
      "0          1   -8437.673028         42               высшее             0   \n",
      "1          1   -4024.803754         36              среднее             1   \n",
      "2          0   -5623.422610         33              Среднее             1   \n",
      "3          3   -4124.747207         32              среднее             1   \n",
      "4          0  340266.072047         53              среднее             1   \n",
      "5          0    -926.185831         27               высшее             0   \n",
      "6          0   -2879.202052         43               высшее             0   \n",
      "7          0    -152.779569         50              СРЕДНЕЕ             1   \n",
      "8          2   -6929.865299         35               ВЫСШЕЕ             0   \n",
      "9          0   -2188.756445         41              среднее             1   \n",
      "10         2   -4171.483647         36               высшее             0   \n",
      "11         0    -792.701887         40              среднее             1   \n",
      "12         0            NaN         65              среднее             1   \n",
      "13         0   -1846.641941         54  неоконченное высшее             2   \n",
      "14         0   -1844.956182         56               высшее             0   \n",
      "15         1    -972.364419         26              среднее             1   \n",
      "16         0   -1719.934226         35              среднее             1   \n",
      "17         0   -2369.999720         33               высшее             0   \n",
      "18         0  400281.136913         53              среднее             1   \n",
      "19         0  -10038.818549         48              СРЕДНЕЕ             1   \n",
      "\n",
      "       family_status  family_status_id gender income_type  debt  \\\n",
      "0    женат / замужем                 0      F   сотрудник     0   \n",
      "1    женат / замужем                 0      F   сотрудник     0   \n",
      "2    женат / замужем                 0      M   сотрудник     0   \n",
      "3    женат / замужем                 0      M   сотрудник     0   \n",
      "4   гражданский брак                 1      F   пенсионер     0   \n",
      "5   гражданский брак                 1      M   компаньон     0   \n",
      "6    женат / замужем                 0      F   компаньон     0   \n",
      "7    женат / замужем                 0      M   сотрудник     0   \n",
      "8   гражданский брак                 1      F   сотрудник     0   \n",
      "9    женат / замужем                 0      M   сотрудник     0   \n",
      "10   женат / замужем                 0      M   компаньон     0   \n",
      "11   женат / замужем                 0      F   сотрудник     0   \n",
      "12  гражданский брак                 1      M   пенсионер     0   \n",
      "13   женат / замужем                 0      F   сотрудник     0   \n",
      "14  гражданский брак                 1      F   компаньон     1   \n",
      "15   женат / замужем                 0      F   сотрудник     0   \n",
      "16   женат / замужем                 0      F   сотрудник     0   \n",
      "17  гражданский брак                 1      M   сотрудник     0   \n",
      "18    вдовец / вдова                 2      F   пенсионер     0   \n",
      "19         в разводе                 3      F   сотрудник     0   \n",
      "\n",
      "     total_income                                 purpose  \n",
      "0   253875.639453                           покупка жилья  \n",
      "1   112080.014102                 приобретение автомобиля  \n",
      "2   145885.952297                           покупка жилья  \n",
      "3   267628.550329              дополнительное образование  \n",
      "4   158616.077870                         сыграть свадьбу  \n",
      "5   255763.565419                           покупка жилья  \n",
      "6   240525.971920                       операции с жильем  \n",
      "7   135823.934197                             образование  \n",
      "8    95856.832424                   на проведение свадьбы  \n",
      "9   144425.938277                 покупка жилья для семьи  \n",
      "10  113943.491460                    покупка недвижимости  \n",
      "11   77069.234271       покупка коммерческой недвижимости  \n",
      "12            NaN                         сыграть свадьбу  \n",
      "13  130458.228857                 приобретение автомобиля  \n",
      "14  165127.911772              покупка жилой недвижимости  \n",
      "15  116820.904450  строительство собственной недвижимости  \n",
      "16  289202.704229                            недвижимость  \n",
      "17   90410.586745              строительство недвижимости  \n",
      "18   56823.777243      на покупку подержанного автомобиля  \n",
      "19  242831.107982            на покупку своего автомобиля  \n"
     ]
    }
   ],
   "source": [
    "import pandas as pd\n",
    "\n",
    "data = pd.read_csv('/datasets/data.csv')\n",
    "\n",
    "data.info()\n",
    "\n",
    "print(data.head(20))\n"
   ]
  },
  {
   "cell_type": "markdown",
   "metadata": {},
   "source": [
    "**Вывод**"
   ]
  },
  {
   "cell_type": "markdown",
   "metadata": {},
   "source": [
    "Прочитали файл, запросили инфу и прочитали первые 20 строк. <br>\n",
    "\n",
    "<i> В наборе есть: <br>\n",
    "- Логическая переменная 'debt' (либо 0 либо 1) <br>\n",
    "- количественные (их можно сравнить) переменные ('children', 'days_employed', 'dob_years', 'education_id', 'family_status_id', 'total_income')<br>\n",
    "- Категориальные ('education', 'family_status', 'gender', 'income_type', 'purpose') <br>\n",
    "</i>\n",
    "\n",
    "В столбцах 'days_employed' и 'total_income' данных меньше, чем в других столбцах - видимо пропуски, также они единственные являются числами с плавающей точкой. Надо будет убрать эти пропуски, перевести в int64 для использования. <br>\n",
    "Есть отрицательные значения стажа - это вероятно ошибка ввода дат и нужно будет перевести в плюсы (модуль?)\n",
    "В столбце 'education' есть значения прописными и обычными буквами - надо будет унифицировать"
   ]
  },
  {
   "cell_type": "code",
   "execution_count": null,
   "metadata": {},
   "outputs": [],
   "source": []
  },
  {
   "cell_type": "markdown",
   "metadata": {},
   "source": [
    "<div class=\"alert alert-success\">\n",
    "\n",
    "**Комментарий от ревьювера**\n",
    "\n",
    "Ты отлично владеешь методами первичного изучения данных 👍🏻\n",
    "\n",
    "</div>"
   ]
  },
  {
   "cell_type": "markdown",
   "metadata": {},
   "source": [
    "<div class=\"alert alert-danger\">\n",
    "\n",
    "**Комментарий от ревьювера**\n",
    "\n",
    "Какие из переменных можно отнести к логическим, категориальным, количественным?\n",
    "\n",
    "</div>"
   ]
  },
  {
   "cell_type": "markdown",
   "metadata": {},
   "source": [
    "<b><i> Сделал правки: </b></i>\n",
    "- <i>Описал переменные по классификации</i> <br>\n",
    "(не очень уверен в количественных/категориальных id столбцах, но я ведь я смогу сравнить колво детей у разных строчек)"
   ]
  },
  {
   "cell_type": "markdown",
   "metadata": {},
   "source": [
    "<div class=\"alert alert-success\">\n",
    "\n",
    "**Комментарий ревьюера v2**\n",
    "    \n",
    "Отлично 👍🏻"
   ]
  },
  {
   "cell_type": "markdown",
   "metadata": {},
   "source": [
    "## Шаг 2. Предобработка данных "
   ]
  },
  {
   "cell_type": "markdown",
   "metadata": {},
   "source": [
    "### Обработка пропусков"
   ]
  },
  {
   "cell_type": "code",
   "execution_count": 2,
   "metadata": {},
   "outputs": [
    {
     "name": "stdout",
     "output_type": "stream",
     "text": [
      "                      family_status\n",
      "                              count\n",
      "family_status                      \n",
      "Не женат / не замужем           288\n",
      "в разводе                       112\n",
      "вдовец / вдова                   95\n",
      "гражданский брак                442\n",
      "женат / замужем                1237\n",
      "                      family_status\n",
      "                              count\n",
      "family_status                      \n",
      "Не женат / не замужем          2813\n",
      "в разводе                      1195\n",
      "вдовец / вдова                  960\n",
      "гражданский брак               4177\n",
      "женат / замужем               12380\n",
      "                          count       mean\n",
      "                      dob_years  dob_years\n",
      "family_status                             \n",
      "Не женат / не замужем      2813  38.369357\n",
      "в разводе                  1195  45.517992\n",
      "вдовец / вдова              960  56.513542\n",
      "гражданский брак           4177  42.130476\n",
      "женат / замужем           12380  43.564701\n",
      "                          count       mean\n",
      "                      dob_years  dob_years\n",
      "family_status                             \n",
      "Не женат / не замужем       288  39.135417\n",
      "в разводе                   112  45.785714\n",
      "вдовец / вдова               95  56.642105\n",
      "гражданский брак            442  42.300905\n",
      "женат / замужем            1237  43.960388\n"
     ]
    }
   ],
   "source": [
    "data['days_employed'].isnull().sum()\n",
    "# print (data[data['days_employed'].isnull()].head(20))\n",
    "\n",
    "def plusik(row):\n",
    "    days_employed = row['days_employed']\n",
    "    if days_employed < 0: \n",
    "        vozvrat = -row['days_employed']\n",
    "        return vozvrat\n",
    "    if days_employed >= 0:\n",
    "        vozvrat = row['days_employed']\n",
    "        return vozvrat\n",
    "\n",
    "    \n",
    "data['days_employed'] = data.apply(plusik, axis=1)\n",
    "\n",
    "data_null = data[data['total_income'].isna()] \n",
    "\n",
    "# добавил создание \"нулевой\" таблицы для простоты дальнейших сравнений на случайность\n",
    "\n",
    "\n",
    "# сверка \"глазами\" на случайность\n",
    "# print(data.head(20))\n",
    "# print(data_null.head(20))\n",
    "\n",
    "\n",
    "\n",
    "# сверка группировкой на случайность по категориальной переменной 'family_status'\n",
    "print(data_null.groupby('family_status').agg({'family_status': ['count']}))\n",
    "print(data.groupby('family_status').agg({'family_status': ['count']}))\n",
    "\n",
    "# создание сводных таблиц\n",
    "data_pivot = data.pivot_table(index='family_status', values='dob_years', aggfunc=['count', 'mean'])\n",
    "data_null_pivot = data_null.pivot_table(index='family_status', values='dob_years', aggfunc=['count', 'mean'])\n",
    "\n",
    "# проверка на случайность по количественной переменной 'dob_years'\n",
    "print(data_pivot)\n",
    "print(data_null_pivot)\n",
    "\n",
    "\n",
    "average_days_employed = data['days_employed'].median()\n",
    "average_total_income = data['total_income'].median()\n",
    "\n",
    "data['days_employed'].fillna(average_days_employed, inplace=True)\n",
    "data['total_income'].fillna(average_total_income, inplace=True)\n",
    "\n",
    "    \n",
    "# print(data.head(15))\n"
   ]
  },
  {
   "cell_type": "markdown",
   "metadata": {},
   "source": [
    "**Вывод**"
   ]
  },
  {
   "cell_type": "markdown",
   "metadata": {},
   "source": [
    "Смотрим сколько пропущено - это 2174 значения <br>\n",
    "Проверяем насколько совпадают пустые значения в столбце значения 'days_employed' и остальными. Точное совпадение с 'total_income', у остальных такого совпадения не замечено. Пустые данные появились скорее всего из-за отсутствия данных о трудоустройстве при анкетировании, зависимостей больше нетДля подтвержения печатаем датафрейм с фильтрацией по пустым значениям с пустыми значениями<br>\n",
    "Нужно заменить пропуски средним значением для удобства подсчёта (до этого в 'days_employed' переделать отрицательные значения.\n",
    "Пишем функцию 'plusik'по переводу в положительное значение и применяем её через apply.<br>\n",
    "Теперь данные в обоих столбцах готовы к замене среднего (берём медиану как более \"честное\" среднее в сильно разросанных данных), заменяем значения медианой в 'days_employed' и 'total_income'\n"
   ]
  },
  {
   "cell_type": "markdown",
   "metadata": {},
   "source": [
    "<div class=\"alert alert-danger\">\n",
    "\n",
    "**Комментарий от ревьювера**\n",
    "\n",
    "Случайны ли пропуски в данных?)"
   ]
  },
  {
   "cell_type": "markdown",
   "metadata": {},
   "source": [
    "<div class=\"alert alert-success\">\n",
    "\n",
    "**Комментарий ревьюера**\n",
    "    \n",
    "Сама предобработка выполнена верно 👍🏻\n",
    "    \n",
    "Можно было также попробовать группировать данные по каким-то критериям и использовать для замены медиану группы. Так замены будут более точными и объективными :)"
   ]
  },
  {
   "cell_type": "markdown",
   "metadata": {},
   "source": [
    "<b><i> Сделал правки: </b></i>\n",
    "- <i>вывел на печать отфильтрованные пустые значения - в других столбцах разные данные, поэтому пропуск точно случаен</i> <br>\n",
    "(или я чего-то не понял и надо было прогнать все столбцы в исходной и отфильрованной по groupby или value_counts?)"
   ]
  },
  {
   "cell_type": "markdown",
   "metadata": {},
   "source": [
    "<div class=\"alert alert-danger\">\n",
    "\n",
    "**Комментарий от ревьювера v2**\n",
    "\n",
    "Все верно, у нас здесь пропуски случаные :)\n",
    "    \n",
    "Какие есть базовые способы доказательства случайности пропусков?   \n",
    "- Если наш признак категориальный, мы смотрим на соотношение разных категорий в оригинальном датасете и в датасете, содержащем только пропуски. Если соотношения похожи (например, в данных 70% мужчин и 30% женщин, и в датасете с пропусками такая же история), то пропуски скорее всего случайны.\n",
    "- Если наш признак количественный, мы строим сводные таблицы и пытаемся выделить зависимости.\n",
    "    \n",
    "Попробуй, пожалуйста, рассмотреть несколько переменных таким способом :)\n",
    " \n",
    "</div>"
   ]
  },
  {
   "cell_type": "markdown",
   "metadata": {},
   "source": [
    "<div class=\"alert alert-success\">\n",
    "\n",
    "**Комментарий ревьюера v3**\n",
    "    \n",
    "Отлично 👍🏻"
   ]
  },
  {
   "cell_type": "markdown",
   "metadata": {},
   "source": [
    "<b><i> Сделал правки: </b></i>\n",
    "- <i>Добавил новую таблицу с пустыми значениями data_null</i> <br>\n",
    "- <i>Вывел на печать группировку по подсчету значений в столбце 'family_status'. Они оказались одинаковыми (в большой таблице простот больше в 10 раз</i> <br>\n",
    "- <i>Создал сводные таблицы по исходному массиву и по таблице с пустыми значениями с значениями подсчета (count) и средних (mean) по возрасту 'dob_years' </i> <br>"
   ]
  },
  {
   "cell_type": "markdown",
   "metadata": {},
   "source": [
    "### Замена типа данных"
   ]
  },
  {
   "cell_type": "code",
   "execution_count": 3,
   "metadata": {},
   "outputs": [],
   "source": [
    "# data.info()\n",
    "\n",
    "data['days_employed'] = data['days_employed'].astype('int')\n",
    "data['total_income'] = data['total_income'].astype('int')\n",
    "\n",
    "# data.info()\n",
    "\n"
   ]
  },
  {
   "cell_type": "markdown",
   "metadata": {},
   "source": [
    "**Вывод**"
   ]
  },
  {
   "cell_type": "markdown",
   "metadata": {},
   "source": [
    "Для унификации и успешной дальнейшей обработки данных на корреляцию, нужно заменить 2 столца формата 'float64' на 'int64', меняем через astype."
   ]
  },
  {
   "cell_type": "markdown",
   "metadata": {},
   "source": [
    "<div class=\"alert alert-success\">\n",
    "\n",
    "**Комментарий ревьюера**\n",
    "    \n",
    "Отлично 👍🏻"
   ]
  },
  {
   "cell_type": "markdown",
   "metadata": {},
   "source": [
    "### Обработка дубликатов"
   ]
  },
  {
   "cell_type": "code",
   "execution_count": 4,
   "metadata": {
    "scrolled": true
   },
   "outputs": [],
   "source": [
    "# print(data.head(15))\n",
    "\n",
    "data['education'] = data['education'].str.lower()\n",
    "# print(data.head(15))\n",
    "\n",
    "# data['education'].value_counts()\n",
    "\n",
    "# data['purpose'].value_counts()\n",
    "\n",
    "# data['family_status'].value_counts()\n",
    "data['family_status'] = data['family_status'].str.lower()\n",
    "# data['family_status'].value_counts()\n",
    "\n",
    "\n",
    "# data['income_type'].value_counts()\n",
    "\n",
    "# data['gender'].value_counts()\n",
    "data = data[data['gender'] != 'XNA']\n",
    "# data['gender'].value_counts()\n",
    "\n",
    "# data.duplicated().sum()\n",
    "# print(data[data.duplicated() == True].head(20))\n",
    "data = data.drop_duplicates().reset_index(drop = True)\n",
    "# data.duplicated().sum()\n"
   ]
  },
  {
   "cell_type": "markdown",
   "metadata": {},
   "source": [
    "**Вывод**"
   ]
  },
  {
   "cell_type": "markdown",
   "metadata": {},
   "source": [
    "Из пробных таблиц мы знаем о разных регистрах в столбце 'education'. Меняем в нем все значения на нижний регистр с помощью '.str.lower'. Проверим его и все остальные столбцы 'object' с помощью value_counts\n",
    "Для стандартизации пройдем обработкой и по family_status, а в столбце gender удалим неподходящее значение 'XNA'\n",
    "Посчитаем дубликаты в таблице и выведем 20 строк. Исходя из полученного повторы - это те элементы, где не было информации про трудоустройство Это значит, что мы спокойно удаляем повторы через drop_dublicates и обновить индексы"
   ]
  },
  {
   "cell_type": "markdown",
   "metadata": {},
   "source": [
    "<div class=\"alert alert-success\">\n",
    "\n",
    "**Комментарий ревьюера**\n",
    "    \n",
    "Отлично! Но стоит делать проверку на дубликаты до замены пропусков. Студенты часто задают вопрос, почему так, ведь в задании этот пункт стоит после замены пропущенных значений.\n",
    "\n",
    "Представь, что у тебя есть 6 наблюдений:\n",
    "1. Мужчина, 45 лет, рост 180\n",
    "2. Женщина, 42 года, рост 165\n",
    "3. Мужчина, 38 лет, рост 177\n",
    "4. Мужчина, 37 лет, рост 183\n",
    "5. Женщина, 42 года, рост 159\n",
    "6. Женщина, - , рост 167\n",
    "    \n",
    "Решили мы заменить пропуск медианой (ты такую стратегию не испльзовал, но в будущем скорее всего такое может произойти). Соответственно, это будет 42 года. А теперь мы нечаянно продублировали наблюдения 3 и 4. Медиана стала 38 лет. Такие нюансы могут подпортить нам анализ.\n",
    "    \n",
    "Поэтому золотое правило — довести данные до идеального состояния -> исследовать пропуски -> заменить пропуски."
   ]
  },
  {
   "cell_type": "markdown",
   "metadata": {},
   "source": [
    "<b><i>Спасибо за уточнение, я тоже удивился и не понял почему такой порядок)</i></b>"
   ]
  },
  {
   "cell_type": "markdown",
   "metadata": {},
   "source": [
    "### Лемматизация"
   ]
  },
  {
   "cell_type": "code",
   "execution_count": 5,
   "metadata": {},
   "outputs": [
    {
     "data": {
      "text/plain": [
       "dict_items([('a', 1), ('b', 2)])"
      ]
     },
     "execution_count": 5,
     "metadata": {},
     "output_type": "execute_result"
    }
   ],
   "source": [
    "diction = {'a': 1, 'b': 2}\n",
    "diction.items()"
   ]
  },
  {
   "cell_type": "code",
   "execution_count": 6,
   "metadata": {},
   "outputs": [
    {
     "data": {
      "text/plain": [
       "недвижимость    6350\n",
       "жилье           4460\n",
       "автомобиль      4306\n",
       "образование     4013\n",
       "свадьба         2324\n",
       "Name: pyrpose_group, dtype: int64"
      ]
     },
     "execution_count": 6,
     "metadata": {},
     "output_type": "execute_result"
    }
   ],
   "source": [
    "from pymystem3 import Mystem\n",
    "m = Mystem()\n",
    "from collections import Counter\n",
    "\n",
    "data['purpose'].value_counts()\n",
    "\n",
    "purposes = []\n",
    "for element in data['purpose']:\n",
    "    lemma = m.lemmatize(element)\n",
    "    purposes.extend(lemma)\n",
    "\n",
    "unique_purposes = Counter(purposes)\n",
    "# print(unique_purposes)    \n",
    "\n",
    "list_unique = []\n",
    "for elements in unique_purposes:\n",
    "    if len(elements) >= 5 :\n",
    "        list_unique.append(elements) \n",
    "        \n",
    "\n",
    "# print(list_unique)\n",
    "\n",
    "list_uni = {'жилье' : 1, 'автомобиль' : 2, 'образование' : 3, 'свадьба' : 4, 'недвижимость' : 5}\n",
    "\n",
    "# list_uni.items()\n",
    "\n",
    "def pyrpose_gr(row):\n",
    "    pyrpose = row['purpose']\n",
    "    ret_pyr = m.lemmatize(pyrpose)\n",
    "    for lemmam in list_uni:\n",
    "        if lemmam in ret_pyr:\n",
    "            return lemmam\n",
    "    return 'другое'\n",
    "\n",
    "data['pyrpose_group'] = data.apply(pyrpose_gr, axis = 1)\n",
    "\n",
    "data['pyrpose_group'].value_counts()\n"
   ]
  },
  {
   "cell_type": "markdown",
   "metadata": {},
   "source": [
    "**Вывод**"
   ]
  },
  {
   "cell_type": "markdown",
   "metadata": {},
   "source": [
    "Ранее мы получили информацию, что в столбце 'pupose' есть много значей одинаковых по смыслу, но разных по написанию. Приведем данные к корректным с помощью лемматизации из pymystem3. <br>\n",
    "Вначале посмотрим на сами значения с помощью value_counts, снова видим, что значений много, но среди них есть схожие группы. В цикле лемматизируем столбец и считаем с помощью Counter наиболее часто встречающиеся варианты. Чтобы убрать пробелы и предлоги фильтруем значения только больше или равно 5 <br>\n",
    "Из получившегося списка и предыдущего выбираем для словаря 5 значений: 'жилье', 'автомобиль', 'образование', 'свадьба', 'недвижимость'. Создаем функцию pyrpose_gr, которая проходит по столбцу и возвращает что-то из азбуки или 'другое' Примянем функцию и поверяем с value_counts исчерпываемость группировки (наличие 'другое'). Считаем лемматизацию успешной. <br>"
   ]
  },
  {
   "cell_type": "markdown",
   "metadata": {},
   "source": [
    "<div class=\"alert alert-success\">\n",
    "\n",
    "**Комментарий ревьюера**\n",
    "    \n",
    "Супер 🔥"
   ]
  },
  {
   "cell_type": "markdown",
   "metadata": {},
   "source": [
    "### Категоризация данных"
   ]
  },
  {
   "cell_type": "code",
   "execution_count": 7,
   "metadata": {},
   "outputs": [],
   "source": [
    "# data.info()\n",
    "\n",
    "def children_type_f(row):\n",
    "    total = row['children']\n",
    "    if total == 0:\n",
    "        return 'нет детей'\n",
    "    if total > 0:\n",
    "        return 'дети есть'\n",
    "    return 'ошибка'\n",
    "data['children_type'] = data.apply(children_type_f, axis = 1)\n",
    "\n",
    "# data['children_type'].value_counts()\n",
    "data = data[data['children_type'] != 'ошибка']\n",
    "# data['children_type'].value_counts()\n",
    "\n",
    "data_child = data.groupby('children_type').agg({'debt': ['count', 'mean']})\n",
    "diction_chil = data['children_type'].unique()\n",
    "diction_chil2 = data[['family_status']].drop_duplicates().reset_index(drop=True)\n",
    "\n",
    "# print(diction_chil)\n",
    "# print(diction_chil2)\n",
    "\n",
    "\n",
    "data_family_status = data.groupby('family_status').agg({'debt': ['count', 'mean']})\n",
    "diction_fam_stat = data['family_status'].unique()\n",
    "diction_fam_stat2 = data[['family_status']].drop_duplicates().reset_index(drop=True)\n",
    "\n",
    "# print(diction_fam_stat)\n",
    "# print(diction_fam_stat2)\n",
    "\n",
    "total_income_mean = data['total_income'].mean().astype('int')\n",
    "\n",
    "def total_incom_type_f(row):\n",
    "    total = row['total_income']\n",
    "    if total < total_income_mean:\n",
    "        return 'low'\n",
    "    if total >= total_income_mean:\n",
    "        return 'high'\n",
    "    return 'ошибка'\n",
    "\n",
    "data['total_incom_type'] = data.apply(total_incom_type_f, axis=1)\n",
    "\n",
    "# data['total_incom_type'].value_counts()\n",
    "\n",
    "data_total_incom_type = data.groupby('total_incom_type').agg({'debt': ['count', 'mean']})\n",
    "data_income_type = data.groupby('income_type').agg({'debt': ['count', 'mean'], 'total_income' : ['mean']})\n",
    "\n",
    "data_pyrpose_group = data.groupby('pyrpose_group').agg({'debt': ['count', 'mean']})\n",
    "\n",
    "\n",
    "\n",
    "data_education = data.groupby('education').agg({'debt': ['count', 'mean']})\n",
    "diction_edu = data['education'].unique()\n",
    "diction_edu2 = data[['education']].drop_duplicates().reset_index(drop=True)\n",
    "\n",
    "# print(diction_edu)\n",
    "# print(diction_edu2)\n",
    "\n"
   ]
  },
  {
   "cell_type": "markdown",
   "metadata": {},
   "source": [
    "**Вывод**"
   ]
  },
  {
   "cell_type": "markdown",
   "metadata": {},
   "source": [
    "Категоризируем данные для разных вопросов, собираем информацию по столбцам через groupby и agg. Нужные нам значения будут по debt - это количество (для понимания выборки) и среднее (для оценивания есть корреляция или нет). <br>\n",
    "Столбец по детям представляет собой числа, поэтому создадим новый столбец в str по есть/нет детей, Проверяем значение, замечаем ошибочные. Фильтруем таблицу без этих данных. Далее группируем по новому столбцу.<br>\n",
    "Столбец по семейному статусу тоже собирается просто<br>\n",
    "Для столбца по типам доходов сделаем числовой срез от среднего (пишем функцию и делаем новый столбец со значениями 'low' и 'high', проверяем и потом группируем. Также сгруппируем и по типу дохода и выведем там средний доход на группу.<br>\n",
    "Группировка по целям кредита также легко строится."
   ]
  },
  {
   "cell_type": "markdown",
   "metadata": {},
   "source": [
    "<div class=\"alert alert-success\">\n",
    "\n",
    "**Комментарий ревьюера**\n",
    "    \n",
    "Отличная работа!\n",
    "    "
   ]
  },
  {
   "cell_type": "markdown",
   "metadata": {},
   "source": [
    "<div class=\"alert alert-danger\">\n",
    "\n",
    "**Комментарий ревьювера**\n",
    "    \n",
    "В рамках данного пункта также необходимо создать словари соответствия для семейного статуса и уровня образования.\n",
    "    \n",
    "Доработай, пожалуйста :)\n",
    "</div>"
   ]
  },
  {
   "cell_type": "markdown",
   "metadata": {},
   "source": [
    "<b><i> Сделал правки: </b></i>\n",
    "- <i>Добавил словари для детей, семейного статуса, уровня образования</i> <br>\n",
    "- <i>Добавил группировку по образовнию</i> <br>"
   ]
  },
  {
   "cell_type": "markdown",
   "metadata": {},
   "source": [
    "<div class=\"alert alert-danger\">\n",
    "\n",
    "**Комментарий ревьюера v2**\n",
    "    \n",
    "Отлично 👍🏻\n",
    "    \n",
    "Но давай попробуем использовать структуру словаря { }. Нам важно знать, что ты ее освоил :)"
   ]
  },
  {
   "cell_type": "markdown",
   "metadata": {},
   "source": [
    "<b><i> Сделал правки: </b></i>\n",
    "- <i>Добавил словари (в конце уточнение 2 по детям, семейному статусу и образованию как считали в тренажере (через столбец, взять уникальные и обновить индексы</i> <br>\n",
    "Нашёл метод, который мы не изучали to_dict, но не разобрался как его делать"
   ]
  },
  {
   "cell_type": "markdown",
   "metadata": {},
   "source": [
    "## Шаг 3. Ответьте на вопросы"
   ]
  },
  {
   "cell_type": "markdown",
   "metadata": {},
   "source": [
    "- Есть ли зависимость между наличием детей и возвратом кредита в срок?"
   ]
  },
  {
   "cell_type": "code",
   "execution_count": 8,
   "metadata": {},
   "outputs": [
    {
     "name": "stdout",
     "output_type": "stream",
     "text": [
      "                debt          \n",
      "               count      mean\n",
      "children_type                 \n",
      "дети есть       7316  0.092537\n",
      "нет детей      14090  0.075444\n"
     ]
    }
   ],
   "source": [
    "print(data_child)"
   ]
  },
  {
   "cell_type": "markdown",
   "metadata": {},
   "source": [
    "**Вывод**"
   ]
  },
  {
   "cell_type": "markdown",
   "metadata": {},
   "source": [
    "Печатаем и смотрим на столбец mean(для простоты будем говорить о процентах, не сумел поставить процент) и count. \n",
    "Размер выборок большой, можно им верить. \n",
    "Среди тех, у кого нет детей, процент имеющих задолженность по кредиту ниже. Зависимость есть!"
   ]
  },
  {
   "cell_type": "markdown",
   "metadata": {},
   "source": [
    "- Есть ли зависимость между семейным положением и возвратом кредита в срок?"
   ]
  },
  {
   "cell_type": "code",
   "execution_count": 9,
   "metadata": {},
   "outputs": [
    {
     "name": "stdout",
     "output_type": "stream",
     "text": [
      "                        debt          \n",
      "                       count      mean\n",
      "family_status                         \n",
      "в разводе               1191  0.071369\n",
      "вдовец / вдова           955  0.065969\n",
      "гражданский брак        4145  0.093607\n",
      "женат / замужем        12310  0.075548\n",
      "не женат / не замужем   2805  0.097683\n"
     ]
    }
   ],
   "source": [
    "print(data_family_status)"
   ]
  },
  {
   "cell_type": "markdown",
   "metadata": {},
   "source": [
    "**Вывод**"
   ]
  },
  {
   "cell_type": "markdown",
   "metadata": {},
   "source": [
    "Печатаем и смотрим на столбец mean(для простоты будем говорить о процентах, не сумел поставить процент) и count. \n",
    "Размер выборок большой, можно им верить. \n",
    "Группа вдовцов и вдов имеют наименьший проент задолженности по кредита, также низкие показатели у в разводе и женаты/замужем. У тех, кто в гражданском браке и неженаты/незамужем процент выше.  Зависимость есть!"
   ]
  },
  {
   "cell_type": "markdown",
   "metadata": {},
   "source": [
    "- Есть ли зависимость между уровнем дохода и возвратом кредита в срок?"
   ]
  },
  {
   "cell_type": "code",
   "execution_count": 10,
   "metadata": {},
   "outputs": [
    {
     "name": "stdout",
     "output_type": "stream",
     "text": [
      "                   debt          \n",
      "                  count      mean\n",
      "total_incom_type                 \n",
      "high               7663  0.077515\n",
      "low               13743  0.083388\n",
      "\n",
      "                  debt             total_income\n",
      "                 count      mean           mean\n",
      "income_type                                    \n",
      "безработный          2  0.500000  131339.000000\n",
      "в декрете            1  1.000000   53829.000000\n",
      "госслужащий       1453  0.059188  168235.437027\n",
      "компаньон         5068  0.074191  196810.030584\n",
      "пенсионер         3821  0.056530  137964.716043\n",
      "предприниматель      2  0.000000  322090.000000\n",
      "сотрудник        11058  0.095858  159815.493489\n",
      "студент              1  0.000000   98201.000000\n",
      "\n",
      "                 count            mean          \n",
      "total_incom_type  high   low      high       low\n",
      "income_type                                     \n",
      "госслужащий        555   898  0.054054  0.062361\n",
      "компаньон         2456  2612  0.071661  0.076570\n",
      "пенсионер          918  2903  0.058824  0.055804\n",
      "сотрудник         3732  7326  0.089496  0.099099\n"
     ]
    }
   ],
   "source": [
    "print(data_total_incom_type)\n",
    "print()\n",
    "print(data_income_type)\n",
    "print()\n",
    "data_pivot_incom = data[(data['income_type'] != 'предприниматель')&(data['income_type'] != 'в декрете')&(data['income_type'] != 'безработный')&(data['income_type'] != 'студент')].pivot_table(index='income_type', columns='total_incom_type', values='debt', aggfunc=['count', 'mean'])\n",
    "print(data_pivot_incom)\n"
   ]
  },
  {
   "cell_type": "markdown",
   "metadata": {},
   "source": [
    "**Вывод**"
   ]
  },
  {
   "cell_type": "markdown",
   "metadata": {},
   "source": [
    "Печатаем и смотрим на столбец mean(для простоты будем говорить о процентах, не сумел поставить процент) и count. \n",
    "Размер выборок большой в меньше и больше среднего, а также в типах 'Госслужащий', 'Компаньон', 'Пенсионер' и 'Cотрудник'. Группы 'Безработный', 'В декрете', 'Предприниматель', 'Студент' обладают лишь по паре значений - игнорируем их. \n",
    "\n",
    "1)При сравнении относительно средней заметно, что процент, имевших задолженность) чуть выше у людей с меньшим заработком. Зависимость есть!\n",
    "2)При делении на типы дохода заметно меньше процент у Пенсионеров и Госслужащих, средний у Компаньнов и высокий у Сотрудников. Есть сильная зависимость!"
   ]
  },
  {
   "cell_type": "markdown",
   "metadata": {},
   "source": [
    "- Как разные цели кредита влияют на его возврат в срок?"
   ]
  },
  {
   "cell_type": "code",
   "execution_count": 11,
   "metadata": {},
   "outputs": [
    {
     "name": "stdout",
     "output_type": "stream",
     "text": [
      "               debt          \n",
      "              count      mean\n",
      "pyrpose_group                \n",
      "автомобиль     4295  0.093597\n",
      "жилье          4452  0.069182\n",
      "недвижимость   6334  0.074834\n",
      "образование    4003  0.092431\n",
      "свадьба        2322  0.080103\n"
     ]
    }
   ],
   "source": [
    "print(data_pyrpose_group)"
   ]
  },
  {
   "cell_type": "markdown",
   "metadata": {},
   "source": [
    "**Вывод**"
   ]
  },
  {
   "cell_type": "markdown",
   "metadata": {},
   "source": [
    "Печатаем и смотрим на столбец mean(для простоты будем говорить о процентах, не сумел поставить процент) и count. \n",
    "Размер всех выборок большой, можно им верить. \n",
    "Заметно ниже процент у тех, кто брал кредит на жильё и недвижимость, средний у \"свадебных\" и большой среди бравших кредит на Автомобиль и обраование. Зависимость есть!"
   ]
  },
  {
   "cell_type": "markdown",
   "metadata": {},
   "source": [
    "<div class=\"alert alert-success\">\n",
    "\n",
    "**Комментарий от ревьювера**\n",
    "\n",
    "Абсолютно согласна с твоими выводами 👍🏻 \n",
    "</div>"
   ]
  },
  {
   "cell_type": "markdown",
   "metadata": {},
   "source": [
    "<div class=\"alert alert-danger\">\n",
    "\n",
    "**Комментарий от ревьювера**\n",
    "\n",
    "Единственное, мне нужно убедиться, что ты был усвоен метод построения сводных таблиц. Используй, пожалуйста, данный подход для ответа хотя бы на один вопрос 🙂 \n",
    "</div>"
   ]
  },
  {
   "cell_type": "markdown",
   "metadata": {},
   "source": [
    "<b><i> Сделал правки: </b></i>\n",
    "- <i>Добавил сводную таблицу в income_type с отдельным рассмотрением по доходу выше и ниже среднего, отфильтровав маленькие группы</i> <br>"
   ]
  },
  {
   "cell_type": "markdown",
   "metadata": {},
   "source": [
    "<div class=\"alert alert-success\">\n",
    "\n",
    "**Комментарий ревьюера v2**\n",
    "\n",
    "Супер 👍🏻"
   ]
  },
  {
   "cell_type": "markdown",
   "metadata": {},
   "source": [
    "## Шаг 4. Общий вывод <a id='step4'></a>"
   ]
  },
  {
   "cell_type": "markdown",
   "metadata": {},
   "source": [
    "Гипотезы о всех факторах влияния подтвердились! Самый надежный заемщик обладает следующими характеристиками: нет детей, вдовец/вдова или в разводе, пенсионер или госслужащий, с целью кредита \"Жильё\". А самый ненадежный обладает обратными харатеристиками: есть дети, не женат/не замужем, сотрудник и цель кредита \"Автомобиль\" или \"Образование\"."
   ]
  },
  {
   "cell_type": "markdown",
   "metadata": {},
   "source": [
    "## Чек-лист готовности проекта\n",
    "\n",
    "Поставьте 'x' в выполненных пунктах. Далее нажмите Shift+Enter."
   ]
  },
  {
   "cell_type": "markdown",
   "metadata": {},
   "source": [
    "- [x]  открыт файл;\n",
    "- [x]  файл изучен;\n",
    "- [x]  определены пропущенные значения;\n",
    "- [x]  заполнены пропущенные значения;\n",
    "- [x]  есть пояснение, какие пропущенные значения обнаружены;\n",
    "- [x]  описаны возможные причины появления пропусков в данных;\n",
    "- [x]  объяснено, по какому принципу заполнены пропуски;\n",
    "- [x]  заменен вещественный тип данных на целочисленный;\n",
    "- [x]  есть пояснение, какой метод используется для изменения типа данных и почему;\n",
    "- [x]  удалены дубликаты;\n",
    "- [x]  есть пояснение, какой метод используется для поиска и удаления дубликатов;\n",
    "- [x]  описаны возможные причины появления дубликатов в данных;\n",
    "- [x]  выделены леммы в значениях столбца с целями получения кредита;\n",
    "- [x]  описан процесс лемматизации;\n",
    "- [x]  данные категоризированы;\n",
    "- [x]  есть объяснение принципа категоризации данных;\n",
    "- [x]  есть ответ на вопрос: \"Есть ли зависимость между наличием детей и возвратом кредита в срок?\";\n",
    "- [x]  есть ответ на вопрос: \"Есть ли зависимость между семейным положением и возвратом кредита в срок?\";\n",
    "- [x]  есть ответ на вопрос: \"Есть ли зависимость между уровнем дохода и возвратом кредита в срок?\";\n",
    "- [x]  есть ответ на вопрос: \"Как разные цели кредита влияют на его возврат в срок?\";\n",
    "- [x]  в каждом этапе есть выводы;\n",
    "- [X]  есть общий вывод."
   ]
  },
  {
   "cell_type": "markdown",
   "metadata": {},
   "source": [
    "<div style=\"border:solid black 2px; padding: 20px\">\n",
    "<h3>Чек-лист доработок</h3> \n",
    "    \n",
    "По проекту видно, что ты достаточно уверенно кодишь и корректно используешь все инструменты. Мне было очень приятно проверять твою работу! Чувствуется, что было вложено много труда и сил.\n",
    "\n",
    "Прошу тебя проработать следующие моменты:\n",
    "\n",
    "1. **Разделить типы данных на количественные, категориальные и логические .**\n",
    "2. **Проанализировать, являются ли пропуски в данных случайными**\n",
    "3. **Создать словари соответствия для семейного статуса и уровня образования.**\n",
    "4. **Использовать метод сводных таблиц.**\n",
    "\n",
    "Жду твой проект на повторное ревью, осталось совсем чуть-чуть. Не стесняйся оставлять комментарии и задавать вопросы. Твоя работа выполнена на достойном уровне, просто мы сделаем ее прям 🔥🔥🔥\n",
    " \n",
    "Удачи! Все получится 🙂\n",
    "</div>"
   ]
  },
  {
   "cell_type": "markdown",
   "metadata": {},
   "source": [
    "<b>Привет!<br> Большое спасибо за ревью! И самое главное за слова поддержки!!! Я уже начинал отчаиваться, что люди уже сдали проекты, а я много времени трачу. А тут такой крутой заряд от тебя и хочется делать и больше и лучше. Постарался сделать все правки</b>"
   ]
  },
  {
   "cell_type": "markdown",
   "metadata": {},
   "source": [
    "<div style=\"border:solid black 2px; padding: 20px\">\n",
    "<h3>Чек-лист доработок v2</h3> \n",
    "    \n",
    "Нам осталось еще разок проанализировать, являются ли пропуски в данных случайными, и проработать процедуру создания словарей.\n",
    "\n",
    "Жду твой проект на последнее ревью 🙂\n",
    "</div>"
   ]
  },
  {
   "cell_type": "markdown",
   "metadata": {},
   "source": [
    "<b> Добавил правки по первому и втором пункты доработок№2</b></br>\n",
    "Я же сдал, да? Ну пожааалуйста :) (единственное не уверен про словари)"
   ]
  },
  {
   "cell_type": "code",
   "execution_count": null,
   "metadata": {},
   "outputs": [],
   "source": []
  }
 ],
 "metadata": {
  "kernelspec": {
   "display_name": "Python 3",
   "language": "python",
   "name": "python3"
  },
  "language_info": {
   "codemirror_mode": {
    "name": "ipython",
    "version": 3
   },
   "file_extension": ".py",
   "mimetype": "text/x-python",
   "name": "python",
   "nbconvert_exporter": "python",
   "pygments_lexer": "ipython3",
   "version": "3.7.8"
  },
  "toc": {
   "base_numbering": 1,
   "nav_menu": {
    "height": "225px",
    "width": "237px"
   },
   "number_sections": true,
   "sideBar": true,
   "skip_h1_title": true,
   "title_cell": "Table of Contents",
   "title_sidebar": "Contents",
   "toc_cell": false,
   "toc_position": {},
   "toc_section_display": true,
   "toc_window_display": false
  }
 },
 "nbformat": 4,
 "nbformat_minor": 2
}
