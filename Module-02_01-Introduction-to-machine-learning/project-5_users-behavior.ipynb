{
  "nbformat": 4,
  "nbformat_minor": 0,
  "metadata": {
    "kernelspec": {
      "display_name": "Python 3",
      "language": "python",
      "name": "python3"
    },
    "language_info": {
      "codemirror_mode": {
        "name": "ipython",
        "version": 3
      },
      "file_extension": ".py",
      "mimetype": "text/x-python",
      "name": "python",
      "nbconvert_exporter": "python",
      "pygments_lexer": "ipython3",
      "version": "3.7.8"
    },
    "toc": {
      "base_numbering": 1,
      "nav_menu": {},
      "number_sections": true,
      "sideBar": true,
      "skip_h1_title": true,
      "title_cell": "Table of Contents",
      "title_sidebar": "Contents",
      "toc_cell": false,
      "toc_position": {},
      "toc_section_display": true,
      "toc_window_display": false
    },
    "colab": {
      "name": "project-5_users-behavior.ipynb",
      "provenance": [],
      "include_colab_link": true
    }
  },
  "cells": [
    {
      "cell_type": "markdown",
      "metadata": {
        "id": "view-in-github",
        "colab_type": "text"
      },
      "source": [
        "<a href=\"https://colab.research.google.com/github/dmitriygorlov/Yandex.Practikum_Data_Science/blob/main/Module-02_01-Introduction-to-machine-learning/project-5_users-behavior.ipynb\" target=\"_parent\"><img src=\"https://colab.research.google.com/assets/colab-badge.svg\" alt=\"Open In Colab\"/></a>"
      ]
    },
    {
      "cell_type": "markdown",
      "metadata": {
        "id": "ePwQ9Ke2AkDR"
      },
      "source": [
        "# Рекомендация тарифов"
      ]
    },
    {
      "cell_type": "markdown",
      "metadata": {
        "id": "WVr7wylAAkDS"
      },
      "source": [
        "Нужно построить модель для задачи классификации, которая выберет подходящий тариф. "
      ]
    },
    {
      "cell_type": "markdown",
      "metadata": {
        "id": "2-3ezEH0AkDS"
      },
      "source": [
        "## Откройте и изучите файл"
      ]
    },
    {
      "cell_type": "code",
      "metadata": {
        "id": "XHkRDXVIAkDT"
      },
      "source": [
        "import pandas as pd\n",
        "from sklearn.model_selection import train_test_split \n",
        "from sklearn.tree import DecisionTreeClassifier\n",
        "from sklearn.metrics import accuracy_score\n",
        "from sklearn.ensemble import RandomForestClassifier \n",
        "from sklearn.linear_model import LogisticRegression "
      ],
      "execution_count": 1,
      "outputs": []
    },
    {
      "cell_type": "code",
      "metadata": {
        "id": "5DPcv0kIAkDV"
      },
      "source": [
        "df = pd.read_csv('https://code.s3.yandex.net/datasets/users_behavior.csv')"
      ],
      "execution_count": 2,
      "outputs": []
    },
    {
      "cell_type": "markdown",
      "metadata": {
        "id": "p_r7ESgwAkDW"
      },
      "source": [
        "Импортировали библиотеки, а также записали исходную таблицу в df. изучим данные"
      ]
    },
    {
      "cell_type": "code",
      "metadata": {
        "id": "61lRjIdDAkDX",
        "outputId": "854cf0c5-89b6-4db9-c20b-2fde5a36f942",
        "colab": {
          "base_uri": "https://localhost:8080/",
          "height": 408
        }
      },
      "source": [
        "df.info()\n",
        "\n",
        "display(df.head())"
      ],
      "execution_count": 3,
      "outputs": [
        {
          "output_type": "stream",
          "name": "stdout",
          "text": [
            "<class 'pandas.core.frame.DataFrame'>\n",
            "RangeIndex: 3214 entries, 0 to 3213\n",
            "Data columns (total 5 columns):\n",
            " #   Column    Non-Null Count  Dtype  \n",
            "---  ------    --------------  -----  \n",
            " 0   calls     3214 non-null   float64\n",
            " 1   minutes   3214 non-null   float64\n",
            " 2   messages  3214 non-null   float64\n",
            " 3   mb_used   3214 non-null   float64\n",
            " 4   is_ultra  3214 non-null   int64  \n",
            "dtypes: float64(4), int64(1)\n",
            "memory usage: 125.7 KB\n"
          ]
        },
        {
          "output_type": "display_data",
          "data": {
            "text/html": [
              "<div>\n",
              "<style scoped>\n",
              "    .dataframe tbody tr th:only-of-type {\n",
              "        vertical-align: middle;\n",
              "    }\n",
              "\n",
              "    .dataframe tbody tr th {\n",
              "        vertical-align: top;\n",
              "    }\n",
              "\n",
              "    .dataframe thead th {\n",
              "        text-align: right;\n",
              "    }\n",
              "</style>\n",
              "<table border=\"1\" class=\"dataframe\">\n",
              "  <thead>\n",
              "    <tr style=\"text-align: right;\">\n",
              "      <th></th>\n",
              "      <th>calls</th>\n",
              "      <th>minutes</th>\n",
              "      <th>messages</th>\n",
              "      <th>mb_used</th>\n",
              "      <th>is_ultra</th>\n",
              "    </tr>\n",
              "  </thead>\n",
              "  <tbody>\n",
              "    <tr>\n",
              "      <th>0</th>\n",
              "      <td>40.0</td>\n",
              "      <td>311.90</td>\n",
              "      <td>83.0</td>\n",
              "      <td>19915.42</td>\n",
              "      <td>0</td>\n",
              "    </tr>\n",
              "    <tr>\n",
              "      <th>1</th>\n",
              "      <td>85.0</td>\n",
              "      <td>516.75</td>\n",
              "      <td>56.0</td>\n",
              "      <td>22696.96</td>\n",
              "      <td>0</td>\n",
              "    </tr>\n",
              "    <tr>\n",
              "      <th>2</th>\n",
              "      <td>77.0</td>\n",
              "      <td>467.66</td>\n",
              "      <td>86.0</td>\n",
              "      <td>21060.45</td>\n",
              "      <td>0</td>\n",
              "    </tr>\n",
              "    <tr>\n",
              "      <th>3</th>\n",
              "      <td>106.0</td>\n",
              "      <td>745.53</td>\n",
              "      <td>81.0</td>\n",
              "      <td>8437.39</td>\n",
              "      <td>1</td>\n",
              "    </tr>\n",
              "    <tr>\n",
              "      <th>4</th>\n",
              "      <td>66.0</td>\n",
              "      <td>418.74</td>\n",
              "      <td>1.0</td>\n",
              "      <td>14502.75</td>\n",
              "      <td>0</td>\n",
              "    </tr>\n",
              "  </tbody>\n",
              "</table>\n",
              "</div>"
            ],
            "text/plain": [
              "   calls  minutes  messages   mb_used  is_ultra\n",
              "0   40.0   311.90      83.0  19915.42         0\n",
              "1   85.0   516.75      56.0  22696.96         0\n",
              "2   77.0   467.66      86.0  21060.45         0\n",
              "3  106.0   745.53      81.0   8437.39         1\n",
              "4   66.0   418.74       1.0  14502.75         0"
            ]
          },
          "metadata": {}
        }
      ]
    },
    {
      "cell_type": "markdown",
      "metadata": {
        "id": "8mYp1PU9AkDY"
      },
      "source": [
        "Таблица исходных данных содержит информацию о пользователе и его тарифе с количеством использованных им звонков, минут, сообщений и мегабайт. Все столбцы данных по пользователею с плавающей запятой, параметр тарифа - целое число. Пустых значений нет, изменения в типе данных также не нужны. Проверим целевой признак is_ultra на значения"
      ]
    },
    {
      "cell_type": "code",
      "metadata": {
        "id": "Eb9eWZ4QAkDZ",
        "outputId": "bac68074-3272-45a1-ccab-fce16152ce77",
        "colab": {
          "base_uri": "https://localhost:8080/"
        }
      },
      "source": [
        "print(df['is_ultra'].value_counts())"
      ],
      "execution_count": 4,
      "outputs": [
        {
          "output_type": "stream",
          "name": "stdout",
          "text": [
            "0    2229\n",
            "1     985\n",
            "Name: is_ultra, dtype: int64\n"
          ]
        }
      ]
    },
    {
      "cell_type": "markdown",
      "metadata": {
        "id": "fMW4d0TaAkDZ"
      },
      "source": [
        "В наборе данных по столбцу is_ultra, отвечающему за тариф, только 2 значения (1 - Ultra, 0 - Smart). Примерно две трети - это тарифы Smart, треть - Ultra. Для предсказания по тарифам, нам потребуется задача бинарной классификации, обучение с учителем."
      ]
    },
    {
      "cell_type": "markdown",
      "metadata": {
        "id": "TsE8Dt1fAkDa"
      },
      "source": [
        "## Разбейте данные на выборки"
      ]
    },
    {
      "cell_type": "code",
      "metadata": {
        "id": "l9ZW7NY8AkDb"
      },
      "source": [
        "features = df.drop(['is_ultra'], axis = 1)\n",
        "target = df['is_ultra']"
      ],
      "execution_count": 5,
      "outputs": []
    },
    {
      "cell_type": "markdown",
      "metadata": {
        "id": "lxsvGRJzAkDb"
      },
      "source": [
        "Делем исходные данные на целевой признак и признаки по которым будем предсказывать. Теперь поделим эти таблицы на обучающующую, валидационную и тестовую выборку (3:1:1) дважды применив деление"
      ]
    },
    {
      "cell_type": "code",
      "metadata": {
        "id": "mysVe_RnAkDb",
        "outputId": "557925de-56a4-41b2-8d8f-ffcb9d240ada",
        "colab": {
          "base_uri": "https://localhost:8080/"
        }
      },
      "source": [
        "print('Объектов всего:', len(features))\n",
        "\n",
        "main_features, test_features, main_target, test_target = train_test_split(\n",
        "        features, target, test_size=0.2, random_state=231)\n",
        "\n",
        "train_features, valid_features, train_target, valid_target = train_test_split(\n",
        "        main_features, main_target, test_size=0.25, random_state=231)\n",
        "\n",
        "print('Обучающих объекты:', len(train_features))\n",
        "print('Валидирующие объекты:', len(valid_features))\n",
        "print('Тестовые объекты:', len(test_features))\n"
      ],
      "execution_count": 6,
      "outputs": [
        {
          "output_type": "stream",
          "name": "stdout",
          "text": [
            "Объектов всего: 3214\n",
            "Обучающих объекты: 1928\n",
            "Валидирующие объекты: 643\n",
            "Тестовые объекты: 643\n"
          ]
        }
      ]
    },
    {
      "cell_type": "markdown",
      "metadata": {
        "id": "h2gQo5fLAkDb"
      },
      "source": [
        "Деление на выборки провели, теперь можно переходить к исследованию моделей"
      ]
    },
    {
      "cell_type": "markdown",
      "metadata": {
        "id": "MfKp-f3lAkDc"
      },
      "source": [
        "## Исследуйте модели"
      ]
    },
    {
      "cell_type": "markdown",
      "metadata": {
        "id": "PA-oXTxwAkDc"
      },
      "source": [
        "### Исследуем модели дерева решений"
      ]
    },
    {
      "cell_type": "code",
      "metadata": {
        "id": "Bm0JbKPMAkDc",
        "outputId": "bf53a4a3-0646-4963-defa-0501ef1a0de9",
        "colab": {
          "base_uri": "https://localhost:8080/"
        }
      },
      "source": [
        "tree_best_model = None\n",
        "tree_best_accuracy = 0\n",
        "tree_best_max_depth = 0\n",
        "\n",
        "for depth in range(1, 16):\n",
        "    model = DecisionTreeClassifier(random_state=231, max_depth=depth)\n",
        "    model.fit(train_features, train_target)\n",
        "    valid_predictions = model.predict(valid_features)\n",
        "    accuracy = accuracy_score(valid_target, valid_predictions)\n",
        "    print('max_depth =', depth, ', accuracy = {:.4f}'.format(accuracy))\n",
        "    if accuracy > tree_best_accuracy:\n",
        "        tree_best_model = model\n",
        "        tree_best_accuracy = accuracy\n",
        "        tree_best_max_depth = depth\n",
        "print()\n",
        "print('Лучшая максимальная глубина:', tree_best_max_depth, 'Точность правильных ответов: {:.4f}'.format(tree_best_accuracy))"
      ],
      "execution_count": 7,
      "outputs": [
        {
          "output_type": "stream",
          "name": "stdout",
          "text": [
            "max_depth = 1 , accuracy = 0.7309\n",
            "max_depth = 2 , accuracy = 0.7574\n",
            "max_depth = 3 , accuracy = 0.7729\n",
            "max_depth = 4 , accuracy = 0.7714\n",
            "max_depth = 5 , accuracy = 0.7823\n",
            "max_depth = 6 , accuracy = 0.7605\n",
            "max_depth = 7 , accuracy = 0.7807\n",
            "max_depth = 8 , accuracy = 0.7745\n",
            "max_depth = 9 , accuracy = 0.7683\n",
            "max_depth = 10 , accuracy = 0.7652\n",
            "max_depth = 11 , accuracy = 0.7589\n",
            "max_depth = 12 , accuracy = 0.7543\n",
            "max_depth = 13 , accuracy = 0.7589\n",
            "max_depth = 14 , accuracy = 0.7481\n",
            "max_depth = 15 , accuracy = 0.7512\n",
            "\n",
            "Лучшая максимальная глубина: 5 Точность правильных ответов: 0.7823\n"
          ]
        }
      ]
    },
    {
      "cell_type": "markdown",
      "metadata": {
        "id": "9pU5Y0oMAkDc"
      },
      "source": [
        "Наибольшей точности модель достигла с максимальной глубиной дерева 5 (близкое значение было при глубине в 7, дальше только уменьшалась точность), точность правильных ответов составила: 0,7823"
      ]
    },
    {
      "cell_type": "markdown",
      "metadata": {
        "id": "Ce3iklk8AkDd"
      },
      "source": [
        "### Исследуем модели случайного леса"
      ]
    },
    {
      "cell_type": "code",
      "metadata": {
        "id": "YLh4UTusAkDd",
        "outputId": "7ab43463-e527-40a3-c730-842251e8609e",
        "colab": {
          "base_uri": "https://localhost:8080/"
        }
      },
      "source": [
        "forest_best_model = None\n",
        "forest_best_accuracy = 0\n",
        "forest_best_n_estimators = 0\n",
        "\n",
        "for est in range(1, 41):\n",
        "    model = RandomForestClassifier(random_state=231, n_estimators=est)\n",
        "    model.fit(train_features, train_target)\n",
        "    valid_predictions = model.predict(valid_features)\n",
        "    accuracy = accuracy_score(valid_target, valid_predictions)\n",
        "    print('n_estimators =', est, ', accuracy = {:.4f}'.format(accuracy))\n",
        "    if accuracy > forest_best_accuracy:\n",
        "        forest_best_model = model\n",
        "        forest_best_accuracy = accuracy\n",
        "        forest_best_n_estimators = est\n",
        "print()\n",
        "print('Лучшее количество деревьев:', forest_best_n_estimators, 'Точность правильных ответов: {:.4f}'.format(forest_best_accuracy))"
      ],
      "execution_count": 8,
      "outputs": [
        {
          "output_type": "stream",
          "name": "stdout",
          "text": [
            "n_estimators = 1 , accuracy = 0.7387\n",
            "n_estimators = 2 , accuracy = 0.7434\n",
            "n_estimators = 3 , accuracy = 0.7543\n",
            "n_estimators = 4 , accuracy = 0.7558\n",
            "n_estimators = 5 , accuracy = 0.7543\n",
            "n_estimators = 6 , accuracy = 0.7729\n",
            "n_estimators = 7 , accuracy = 0.7589\n",
            "n_estimators = 8 , accuracy = 0.7745\n",
            "n_estimators = 9 , accuracy = 0.7760\n",
            "n_estimators = 10 , accuracy = 0.7823\n",
            "n_estimators = 11 , accuracy = 0.7792\n",
            "n_estimators = 12 , accuracy = 0.7807\n",
            "n_estimators = 13 , accuracy = 0.7683\n",
            "n_estimators = 14 , accuracy = 0.7838\n",
            "n_estimators = 15 , accuracy = 0.7823\n",
            "n_estimators = 16 , accuracy = 0.7807\n",
            "n_estimators = 17 , accuracy = 0.7823\n",
            "n_estimators = 18 , accuracy = 0.7760\n",
            "n_estimators = 19 , accuracy = 0.7776\n",
            "n_estimators = 20 , accuracy = 0.7838\n",
            "n_estimators = 21 , accuracy = 0.7823\n",
            "n_estimators = 22 , accuracy = 0.7776\n",
            "n_estimators = 23 , accuracy = 0.7745\n",
            "n_estimators = 24 , accuracy = 0.7854\n",
            "n_estimators = 25 , accuracy = 0.7838\n",
            "n_estimators = 26 , accuracy = 0.7869\n",
            "n_estimators = 27 , accuracy = 0.7838\n",
            "n_estimators = 28 , accuracy = 0.7869\n",
            "n_estimators = 29 , accuracy = 0.7869\n",
            "n_estimators = 30 , accuracy = 0.7885\n",
            "n_estimators = 31 , accuracy = 0.7854\n",
            "n_estimators = 32 , accuracy = 0.7854\n",
            "n_estimators = 33 , accuracy = 0.7838\n",
            "n_estimators = 34 , accuracy = 0.7869\n",
            "n_estimators = 35 , accuracy = 0.7838\n",
            "n_estimators = 36 , accuracy = 0.7838\n",
            "n_estimators = 37 , accuracy = 0.7807\n",
            "n_estimators = 38 , accuracy = 0.7807\n",
            "n_estimators = 39 , accuracy = 0.7838\n",
            "n_estimators = 40 , accuracy = 0.7792\n",
            "\n",
            "Лучшее количество деревьев: 30 Точность правильных ответов: 0.7885\n"
          ]
        }
      ]
    },
    {
      "cell_type": "markdown",
      "metadata": {
        "id": "bXWevKicAkDd"
      },
      "source": [
        "Наибольшей точности модель достигла с количеством деревье 30 (хотя при 10 деревьях точность уже была близкой 0,7823), точность правильных ответов составила: 0,7885"
      ]
    },
    {
      "cell_type": "markdown",
      "metadata": {
        "id": "v4IkPh4xAkDe"
      },
      "source": [
        "### Исследуем модель логистической регрессии"
      ]
    },
    {
      "cell_type": "code",
      "metadata": {
        "id": "FKQ6cQstAkDe",
        "outputId": "e0708f2f-fe4a-4bc7-da7b-e6b943192a0c",
        "colab": {
          "base_uri": "https://localhost:8080/"
        }
      },
      "source": [
        "log_model = LogisticRegression(random_state=231)\n",
        "log_model.fit(train_features, train_target)\n",
        "log_accuracy = log_model.score(valid_features, valid_target)\n",
        "\n",
        "print('Точность правильных ответов: {:.4f}'.format(log_accuracy))"
      ],
      "execution_count": 9,
      "outputs": [
        {
          "output_type": "stream",
          "name": "stdout",
          "text": [
            "Точность правильных ответов: 0.6781\n"
          ]
        }
      ]
    },
    {
      "cell_type": "markdown",
      "metadata": {
        "id": "oUVbFNgqAkDe"
      },
      "source": [
        "Модель логистической регрессии достигла точности правильных ответов 0,6796"
      ]
    },
    {
      "cell_type": "markdown",
      "metadata": {
        "id": "cN90-6giAkDe"
      },
      "source": [
        "**Итого наибольшей точности достигла модель случайного леса при количестве дереьев 30**. Однако и дерево решений с глубиной в 7 достигло хороших результатов (0,7823). Модель логистической регрессии не преодолела требуемый порог точности в 0.75"
      ]
    },
    {
      "cell_type": "markdown",
      "metadata": {
        "id": "doPGU3PpAkDf"
      },
      "source": [
        "## Проверьте модель на тестовой выборке"
      ]
    },
    {
      "cell_type": "code",
      "metadata": {
        "id": "ya4ehrbrAkDf",
        "outputId": "263fdf23-ae59-4c67-baf0-b3f617c54075",
        "colab": {
          "base_uri": "https://localhost:8080/"
        }
      },
      "source": [
        "print('Точность лучшей модели дерева решений на тестовой выборке: {:.4f}'.format(tree_best_model.score(test_features, test_target)))\n",
        "print('Точность лучшей модели случайного леса на тестовой выборке: {:.4f}'.format(forest_best_model.score(test_features, test_target)))\n",
        "print('Точность модели логистической регрессии на тестовой выборке: {:.4f}'.format(log_model.score(test_features, test_target)))"
      ],
      "execution_count": 10,
      "outputs": [
        {
          "output_type": "stream",
          "name": "stdout",
          "text": [
            "Точность лучшей модели дерева решений на тестовой выборке: 0.7900\n",
            "Точность лучшей модели случайного леса на тестовой выборке: 0.7916\n",
            "Точность модели логистической регрессии на тестовой выборке: 0.7076\n"
          ]
        }
      ]
    },
    {
      "cell_type": "markdown",
      "metadata": {
        "id": "jFZssMs5AkDf"
      },
      "source": [
        "Как и ожидалось лучше всего на тестовой выборке сработала лучшая модель случайного леса (30 деревьев): 0,7916, однако почти также сработала и лучшая модель дерева решений (глубина 5): 0,7900. Что, при учёте тяжелости рассчётов модели случайного леса, говорит нам о смысле **лучше всего использовать лучшую модель дерева решений**"
      ]
    },
    {
      "cell_type": "markdown",
      "metadata": {
        "id": "o3ExGZhvAkDf"
      },
      "source": [
        "## (бонус) Проверьте модели на адекватность"
      ]
    },
    {
      "cell_type": "code",
      "metadata": {
        "id": "7_358jzLAkDg",
        "outputId": "54128520-052b-498e-e9b2-25a938162752",
        "colab": {
          "base_uri": "https://localhost:8080/"
        }
      },
      "source": [
        "print('Доля тарифа Smart: ', len(df[df['is_ultra'] == 0])/len(df))"
      ],
      "execution_count": 11,
      "outputs": [
        {
          "output_type": "stream",
          "name": "stdout",
          "text": [
            "Доля тарифа Smart:  0.693528313627878\n"
          ]
        }
      ]
    },
    {
      "cell_type": "markdown",
      "metadata": {
        "id": "-LCjkHXjAkDg"
      },
      "source": [
        "Точность выбранными нами моделями около 0,79. Количество объектов со значением Smart - 0,69. Когда мы предсказываем, мы делаем это точнее, чем если бы все объекты поставили бы Smart, значит модель адекватна!"
      ]
    },
    {
      "cell_type": "code",
      "metadata": {
        "id": "TwiL5WDrBImo",
        "outputId": "46f94588-60e8-4d9e-877a-866ca7a5a12d",
        "colab": {
          "base_uri": "https://localhost:8080/"
        }
      },
      "source": [
        "from sklearn.dummy import DummyClassifier\n",
        "\n",
        "dummy_clf = DummyClassifier(strategy=\"most_frequent\")\n",
        "\n",
        "dummy_clf.fit(train_features, train_target)\n",
        "\n",
        "dummy = dummy_clf.score(test_features, test_target)\n",
        "print('Доля тарифа Smart: ', dummy)"
      ],
      "execution_count": 13,
      "outputs": [
        {
          "output_type": "stream",
          "name": "stdout",
          "text": [
            "Доля тарифа Smart:  0.6982892690513219\n"
          ]
        }
      ]
    }
  ]
}