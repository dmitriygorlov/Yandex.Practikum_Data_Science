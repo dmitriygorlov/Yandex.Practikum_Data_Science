{
  "nbformat": 4,
  "nbformat_minor": 0,
  "metadata": {
    "ExecuteTimeLog": [
      {
        "duration": 18111,
        "start_time": "2021-09-30T09:10:23.121Z"
      },
      {
        "duration": 2291,
        "start_time": "2021-09-30T09:10:41.234Z"
      },
      {
        "duration": 95,
        "start_time": "2021-09-30T09:11:26.816Z"
      },
      {
        "duration": 3,
        "start_time": "2021-09-30T09:12:06.958Z"
      },
      {
        "duration": 23,
        "start_time": "2021-09-30T09:12:08.223Z"
      },
      {
        "duration": 14,
        "start_time": "2021-09-30T09:13:38.397Z"
      },
      {
        "duration": 11,
        "start_time": "2021-09-30T09:13:47.799Z"
      },
      {
        "duration": 17,
        "start_time": "2021-09-30T09:13:49.318Z"
      },
      {
        "duration": 13,
        "start_time": "2021-09-30T09:13:54.390Z"
      },
      {
        "duration": 14,
        "start_time": "2021-09-30T09:14:23.506Z"
      },
      {
        "duration": 480,
        "start_time": "2021-09-30T09:14:24.531Z"
      },
      {
        "duration": 544,
        "start_time": "2021-09-30T09:14:49.028Z"
      },
      {
        "duration": 426,
        "start_time": "2021-09-30T09:14:49.998Z"
      },
      {
        "duration": 4,
        "start_time": "2021-09-30T09:15:21.897Z"
      },
      {
        "duration": 11,
        "start_time": "2021-09-30T09:15:22.097Z"
      },
      {
        "duration": 271,
        "start_time": "2021-09-30T09:15:24.807Z"
      },
      {
        "duration": 336,
        "start_time": "2021-09-30T09:15:26.368Z"
      },
      {
        "duration": 335,
        "start_time": "2021-09-30T09:15:27.027Z"
      },
      {
        "duration": 22,
        "start_time": "2021-09-30T09:16:25.871Z"
      },
      {
        "duration": 17,
        "start_time": "2021-09-30T09:16:26.555Z"
      },
      {
        "duration": 17,
        "start_time": "2021-09-30T09:16:27.655Z"
      },
      {
        "duration": 21,
        "start_time": "2021-09-30T09:16:28.327Z"
      },
      {
        "duration": 13,
        "start_time": "2021-09-30T09:16:29.925Z"
      },
      {
        "duration": 31,
        "start_time": "2021-09-30T09:17:13.283Z"
      },
      {
        "duration": 4,
        "start_time": "2021-09-30T09:17:14.812Z"
      },
      {
        "duration": 13,
        "start_time": "2021-09-30T09:17:16.942Z"
      },
      {
        "duration": 6,
        "start_time": "2021-09-30T09:17:53.510Z"
      },
      {
        "duration": 8,
        "start_time": "2021-09-30T09:17:55.435Z"
      },
      {
        "duration": 22,
        "start_time": "2021-09-30T09:17:58.618Z"
      },
      {
        "duration": 6,
        "start_time": "2021-09-30T09:18:00.648Z"
      },
      {
        "duration": 22,
        "start_time": "2021-09-30T09:18:18.591Z"
      },
      {
        "duration": 7,
        "start_time": "2021-09-30T09:18:55.839Z"
      },
      {
        "duration": 26,
        "start_time": "2021-09-30T09:18:56.465Z"
      },
      {
        "duration": 167,
        "start_time": "2021-09-30T09:18:57.235Z"
      },
      {
        "duration": 8200,
        "start_time": "2021-09-30T09:18:58.698Z"
      },
      {
        "duration": 186,
        "start_time": "2021-09-30T09:19:06.901Z"
      },
      {
        "duration": 10935,
        "start_time": "2021-09-30T09:19:07.090Z"
      },
      {
        "duration": 5843,
        "start_time": "2021-09-30T09:19:18.026Z"
      },
      {
        "duration": 5,
        "start_time": "2021-09-30T09:19:23.876Z"
      },
      {
        "duration": 17,
        "start_time": "2021-09-30T09:19:23.883Z"
      },
      {
        "duration": 11,
        "start_time": "2021-09-30T09:23:08.308Z"
      },
      {
        "duration": 15,
        "start_time": "2021-09-30T09:23:09.351Z"
      },
      {
        "duration": 5,
        "start_time": "2021-09-30T09:23:18.486Z"
      },
      {
        "duration": 26,
        "start_time": "2021-09-30T09:23:30.691Z"
      },
      {
        "duration": 4,
        "start_time": "2021-09-30T09:23:54.633Z"
      },
      {
        "duration": 79888,
        "start_time": "2021-09-30T09:23:56.653Z"
      },
      {
        "duration": 7,
        "start_time": "2021-09-30T09:28:54.769Z"
      },
      {
        "duration": 59585,
        "start_time": "2021-09-30T09:28:56.248Z"
      },
      {
        "duration": 274,
        "start_time": "2021-09-30T09:30:23.115Z"
      },
      {
        "duration": 257,
        "start_time": "2021-09-30T09:30:36.956Z"
      },
      {
        "duration": 3,
        "start_time": "2021-09-30T09:30:44.497Z"
      },
      {
        "duration": 155139,
        "start_time": "2021-09-30T09:31:08.059Z"
      },
      {
        "duration": 8,
        "start_time": "2021-09-30T09:35:19.390Z"
      },
      {
        "duration": 256,
        "start_time": "2021-09-30T09:35:20.547Z"
      }
    ],
    "colab": {
      "name": "project-final_telecom",
      "provenance": [],
      "collapsed_sections": [
        "OhpqQJd6D3Sh",
        "ujPLhew6PqhK",
        "r3bPDnXIPY1m",
        "iUMqFtwA_Nut"
      ],
      "toc_visible": true,
      "include_colab_link": true
    },
    "kernelspec": {
      "display_name": "Python 3",
      "language": "python",
      "name": "python3"
    },
    "language_info": {
      "codemirror_mode": {
        "name": "ipython",
        "version": 3
      },
      "file_extension": ".py",
      "mimetype": "text/x-python",
      "name": "python",
      "nbconvert_exporter": "python",
      "pygments_lexer": "ipython3",
      "version": "3.7.8"
    },
    "toc": {
      "base_numbering": 1,
      "nav_menu": {},
      "number_sections": true,
      "sideBar": true,
      "skip_h1_title": true,
      "title_cell": "Table of Contents",
      "title_sidebar": "Contents",
      "toc_cell": false,
      "toc_position": {},
      "toc_section_display": true,
      "toc_window_display": false
    }
  },
  "cells": [
    {
      "cell_type": "markdown",
      "metadata": {
        "id": "view-in-github",
        "colab_type": "text"
      },
      "source": [
        "<a href=\"https://colab.research.google.com/github/dmitriygorlov/Yandex.Practikum_Data_Science/blob/main/Module-final-Common-project/project_final_telecom.ipynb\" target=\"_parent\"><img src=\"https://colab.research.google.com/assets/colab-badge.svg\" alt=\"Open In Colab\"/></a>"
      ]
    },
    {
      "cell_type": "markdown",
      "metadata": {
        "id": "OhpqQJd6D3Sh"
      },
      "source": [
        "# Проект для Telecom компании «Ниединогоразрыва.ком»"
      ]
    },
    {
      "cell_type": "markdown",
      "metadata": {
        "id": "plcP7QlyEWfV"
      },
      "source": [
        "Необходимо обучить модель, предсказывающую отток клиентов для формирования предложений по скидкам и промокодам."
      ]
    },
    {
      "cell_type": "markdown",
      "metadata": {
        "id": "ujPLhew6PqhK"
      },
      "source": [
        "## Описание услуг\n"
      ]
    },
    {
      "cell_type": "markdown",
      "metadata": {
        "id": "dp1QxGFOPt8T"
      },
      "source": [
        "\n",
        "Оператор предоставляет два основных типа услуг: \n",
        "\n",
        "1. Стационарную телефонную связь. Возможно подключение телефонного аппарата к нескольким линиям одновременно.\n",
        "2. Интернет. Подключение может быть двух типов: через телефонную линию (DSL*,* от англ. *digital subscriber line*, «цифровая абонентская линия») или оптоволоконный кабель (*Fiber optic*).  \n",
        "\n",
        "Также доступны такие услуги:\n",
        "\n",
        "- Интернет-безопасность: антивирус (*DeviceProtection*) и блокировка небезопасных сайтов (*OnlineSecurity*);\n",
        "- Выделенная линия технической поддержки (*TechSupport*);\n",
        "- Облачное хранилище файлов для резервного копирования данных (*OnlineBackup*);\n",
        "- Стриминговое телевидение (*StreamingTV*) и каталог фильмов (*StreamingMovies*).\n",
        "\n",
        "За услуги клиенты могут платить каждый месяц или заключить договор на 1–2 года. Доступны различные способы расчёта и возможность получения электронного чека."
      ]
    },
    {
      "cell_type": "markdown",
      "metadata": {
        "id": "r3bPDnXIPY1m"
      },
      "source": [
        "## Описание данных\n"
      ]
    },
    {
      "cell_type": "markdown",
      "metadata": {
        "id": "UV8KE3lcPj3f"
      },
      "source": [
        "\n",
        " /datasets/final_provider/\n",
        "\n",
        "- `contract.csv` — информация о договоре;\n",
        "- `personal.csv` — персональные данные клиента;\n",
        "- `internet.csv` — информация об интернет-услугах;\n",
        "- `phone.csv` — информация об услугах телефонии.\n",
        "\n",
        "В каждом файле есть столбец CustomerId - который является связующим\n",
        "\n",
        "Данные предоставлены на 1 Февраля 2020 года."
      ]
    },
    {
      "cell_type": "markdown",
      "metadata": {
        "id": "iUMqFtwA_Nut"
      },
      "source": [
        "# План работ"
      ]
    },
    {
      "cell_type": "markdown",
      "metadata": {
        "id": "qTFQCSYq_R7P"
      },
      "source": [
        "- Подготовка Данных и Исследовательский анализ данных\n",
        "  - Предварительное изучение данных\n",
        "  - Получение итоговой таблицы\n",
        "  - Исследование распределений по целевому признаку и Кластеризация\n",
        "  - Подготовка train и test\n",
        "- Настройка и подбор лучших моделей\n",
        "  - Обучение и подбор гиперпараметров разных моделей\n",
        "- Тест и вывод\n",
        "  - Итоговый тест на выделенных лучших моделях по AUC-ROC и Accuracy\n",
        "  - Вывод по выбранной для использования модели и комментарии про исходные данные"
      ]
    },
    {
      "cell_type": "markdown",
      "metadata": {
        "id": "LdByMXLGnOoR"
      },
      "source": [
        "# Подготовка Данных и Исследовательский анализ данных"
      ]
    },
    {
      "cell_type": "markdown",
      "metadata": {
        "id": "oQtNeqNjFEzM"
      },
      "source": [
        "## Загрузка библиотек и файлов"
      ]
    },
    {
      "cell_type": "code",
      "metadata": {
        "colab": {
          "base_uri": "https://localhost:8080/",
          "height": 816
        },
        "id": "s7giQ_fawIa7",
        "trusted": false,
        "outputId": "13f3b654-d93d-4d41-d59c-e97b6d0afa0b"
      },
      "source": [
        "import pandas as pd\n",
        "import numpy as np\n",
        "\n",
        "import matplotlib.pyplot as plt\n",
        "import seaborn as sns\n",
        "\n",
        "!pip install phik\n",
        "import phik\n",
        "from phik.report import plot_correlation_matrix\n",
        "from phik import report\n",
        "\n",
        "from sklearn.cluster import KMeans\n",
        "from sklearn.model_selection import train_test_split, GridSearchCV\n",
        "from sklearn.preprocessing import StandardScaler\n",
        "\n",
        "from sklearn.metrics import roc_auc_score, accuracy_score, roc_curve\n",
        "\n",
        "from sklearn.ensemble import RandomForestClassifier\n",
        "from sklearn.linear_model import LogisticRegression, SGDClassifier\n",
        "\n",
        "from lightgbm import LGBMClassifier\n",
        "\n",
        "!pip install catboost\n",
        "from catboost import CatBoostClassifier\n",
        "\n",
        "from sklearn.dummy import DummyClassifier\n",
        "\n",
        "rand_stat = 42"
      ],
      "execution_count": 1,
      "outputs": [
        {
          "output_type": "stream",
          "name": "stdout",
          "text": [
            "Collecting phik\n",
            "  Downloading phik-0.12.0-cp37-cp37m-manylinux2010_x86_64.whl (675 kB)\n",
            "\u001b[?25l\r\u001b[K     |▌                               | 10 kB 27.7 MB/s eta 0:00:01\r\u001b[K     |█                               | 20 kB 34.0 MB/s eta 0:00:01\r\u001b[K     |█▌                              | 30 kB 25.4 MB/s eta 0:00:01\r\u001b[K     |██                              | 40 kB 19.4 MB/s eta 0:00:01\r\u001b[K     |██▍                             | 51 kB 16.2 MB/s eta 0:00:01\r\u001b[K     |███                             | 61 kB 12.6 MB/s eta 0:00:01\r\u001b[K     |███▍                            | 71 kB 13.6 MB/s eta 0:00:01\r\u001b[K     |███▉                            | 81 kB 15.2 MB/s eta 0:00:01\r\u001b[K     |████▍                           | 92 kB 14.9 MB/s eta 0:00:01\r\u001b[K     |████▉                           | 102 kB 14.5 MB/s eta 0:00:01\r\u001b[K     |█████▎                          | 112 kB 14.5 MB/s eta 0:00:01\r\u001b[K     |█████▉                          | 122 kB 14.5 MB/s eta 0:00:01\r\u001b[K     |██████▎                         | 133 kB 14.5 MB/s eta 0:00:01\r\u001b[K     |██████▉                         | 143 kB 14.5 MB/s eta 0:00:01\r\u001b[K     |███████▎                        | 153 kB 14.5 MB/s eta 0:00:01\r\u001b[K     |███████▊                        | 163 kB 14.5 MB/s eta 0:00:01\r\u001b[K     |████████▎                       | 174 kB 14.5 MB/s eta 0:00:01\r\u001b[K     |████████▊                       | 184 kB 14.5 MB/s eta 0:00:01\r\u001b[K     |█████████▏                      | 194 kB 14.5 MB/s eta 0:00:01\r\u001b[K     |█████████▊                      | 204 kB 14.5 MB/s eta 0:00:01\r\u001b[K     |██████████▏                     | 215 kB 14.5 MB/s eta 0:00:01\r\u001b[K     |██████████▋                     | 225 kB 14.5 MB/s eta 0:00:01\r\u001b[K     |███████████▏                    | 235 kB 14.5 MB/s eta 0:00:01\r\u001b[K     |███████████▋                    | 245 kB 14.5 MB/s eta 0:00:01\r\u001b[K     |████████████▏                   | 256 kB 14.5 MB/s eta 0:00:01\r\u001b[K     |████████████▋                   | 266 kB 14.5 MB/s eta 0:00:01\r\u001b[K     |█████████████                   | 276 kB 14.5 MB/s eta 0:00:01\r\u001b[K     |█████████████▋                  | 286 kB 14.5 MB/s eta 0:00:01\r\u001b[K     |██████████████                  | 296 kB 14.5 MB/s eta 0:00:01\r\u001b[K     |██████████████▌                 | 307 kB 14.5 MB/s eta 0:00:01\r\u001b[K     |███████████████                 | 317 kB 14.5 MB/s eta 0:00:01\r\u001b[K     |███████████████▌                | 327 kB 14.5 MB/s eta 0:00:01\r\u001b[K     |████████████████                | 337 kB 14.5 MB/s eta 0:00:01\r\u001b[K     |████████████████▌               | 348 kB 14.5 MB/s eta 0:00:01\r\u001b[K     |█████████████████               | 358 kB 14.5 MB/s eta 0:00:01\r\u001b[K     |█████████████████▌              | 368 kB 14.5 MB/s eta 0:00:01\r\u001b[K     |██████████████████              | 378 kB 14.5 MB/s eta 0:00:01\r\u001b[K     |██████████████████▍             | 389 kB 14.5 MB/s eta 0:00:01\r\u001b[K     |███████████████████             | 399 kB 14.5 MB/s eta 0:00:01\r\u001b[K     |███████████████████▍            | 409 kB 14.5 MB/s eta 0:00:01\r\u001b[K     |███████████████████▉            | 419 kB 14.5 MB/s eta 0:00:01\r\u001b[K     |████████████████████▍           | 430 kB 14.5 MB/s eta 0:00:01\r\u001b[K     |████████████████████▉           | 440 kB 14.5 MB/s eta 0:00:01\r\u001b[K     |█████████████████████▎          | 450 kB 14.5 MB/s eta 0:00:01\r\u001b[K     |█████████████████████▉          | 460 kB 14.5 MB/s eta 0:00:01\r\u001b[K     |██████████████████████▎         | 471 kB 14.5 MB/s eta 0:00:01\r\u001b[K     |██████████████████████▉         | 481 kB 14.5 MB/s eta 0:00:01\r\u001b[K     |███████████████████████▎        | 491 kB 14.5 MB/s eta 0:00:01\r\u001b[K     |███████████████████████▊        | 501 kB 14.5 MB/s eta 0:00:01\r\u001b[K     |████████████████████████▎       | 512 kB 14.5 MB/s eta 0:00:01\r\u001b[K     |████████████████████████▊       | 522 kB 14.5 MB/s eta 0:00:01\r\u001b[K     |█████████████████████████▏      | 532 kB 14.5 MB/s eta 0:00:01\r\u001b[K     |█████████████████████████▊      | 542 kB 14.5 MB/s eta 0:00:01\r\u001b[K     |██████████████████████████▏     | 552 kB 14.5 MB/s eta 0:00:01\r\u001b[K     |██████████████████████████▋     | 563 kB 14.5 MB/s eta 0:00:01\r\u001b[K     |███████████████████████████▏    | 573 kB 14.5 MB/s eta 0:00:01\r\u001b[K     |███████████████████████████▋    | 583 kB 14.5 MB/s eta 0:00:01\r\u001b[K     |████████████████████████████▏   | 593 kB 14.5 MB/s eta 0:00:01\r\u001b[K     |████████████████████████████▋   | 604 kB 14.5 MB/s eta 0:00:01\r\u001b[K     |█████████████████████████████   | 614 kB 14.5 MB/s eta 0:00:01\r\u001b[K     |█████████████████████████████▋  | 624 kB 14.5 MB/s eta 0:00:01\r\u001b[K     |██████████████████████████████  | 634 kB 14.5 MB/s eta 0:00:01\r\u001b[K     |██████████████████████████████▌ | 645 kB 14.5 MB/s eta 0:00:01\r\u001b[K     |███████████████████████████████ | 655 kB 14.5 MB/s eta 0:00:01\r\u001b[K     |███████████████████████████████▌| 665 kB 14.5 MB/s eta 0:00:01\r\u001b[K     |████████████████████████████████| 675 kB 14.5 MB/s eta 0:00:01\r\u001b[K     |████████████████████████████████| 675 kB 14.5 MB/s \n",
            "\u001b[?25hRequirement already satisfied: joblib>=0.14.1 in /usr/local/lib/python3.7/dist-packages (from phik) (1.0.1)\n",
            "Requirement already satisfied: matplotlib>=2.2.3 in /usr/local/lib/python3.7/dist-packages (from phik) (3.2.2)\n",
            "Collecting scipy>=1.5.2\n",
            "  Downloading scipy-1.7.1-cp37-cp37m-manylinux_2_5_x86_64.manylinux1_x86_64.whl (28.5 MB)\n",
            "\u001b[K     |████████████████████████████████| 28.5 MB 42 kB/s \n",
            "\u001b[?25hRequirement already satisfied: pandas>=0.25.1 in /usr/local/lib/python3.7/dist-packages (from phik) (1.1.5)\n",
            "Requirement already satisfied: numpy>=1.18.0 in /usr/local/lib/python3.7/dist-packages (from phik) (1.19.5)\n",
            "Requirement already satisfied: python-dateutil>=2.1 in /usr/local/lib/python3.7/dist-packages (from matplotlib>=2.2.3->phik) (2.8.2)\n",
            "Requirement already satisfied: kiwisolver>=1.0.1 in /usr/local/lib/python3.7/dist-packages (from matplotlib>=2.2.3->phik) (1.3.2)\n",
            "Requirement already satisfied: pyparsing!=2.0.4,!=2.1.2,!=2.1.6,>=2.0.1 in /usr/local/lib/python3.7/dist-packages (from matplotlib>=2.2.3->phik) (2.4.7)\n",
            "Requirement already satisfied: cycler>=0.10 in /usr/local/lib/python3.7/dist-packages (from matplotlib>=2.2.3->phik) (0.10.0)\n",
            "Requirement already satisfied: six in /usr/local/lib/python3.7/dist-packages (from cycler>=0.10->matplotlib>=2.2.3->phik) (1.15.0)\n",
            "Requirement already satisfied: pytz>=2017.2 in /usr/local/lib/python3.7/dist-packages (from pandas>=0.25.1->phik) (2018.9)\n",
            "Installing collected packages: scipy, phik\n",
            "  Attempting uninstall: scipy\n",
            "    Found existing installation: scipy 1.4.1\n",
            "    Uninstalling scipy-1.4.1:\n",
            "      Successfully uninstalled scipy-1.4.1\n",
            "\u001b[31mERROR: pip's dependency resolver does not currently take into account all the packages that are installed. This behaviour is the source of the following dependency conflicts.\n",
            "albumentations 0.1.12 requires imgaug<0.2.7,>=0.2.5, but you have imgaug 0.2.9 which is incompatible.\u001b[0m\n",
            "Successfully installed phik-0.12.0 scipy-1.7.1\n"
          ]
        },
        {
          "output_type": "display_data",
          "data": {
            "application/vnd.colab-display-data+json": {
              "pip_warning": {
                "packages": [
                  "scipy"
                ]
              }
            }
          },
          "metadata": {}
        },
        {
          "output_type": "stream",
          "name": "stdout",
          "text": [
            "Collecting catboost\n",
            "  Downloading catboost-1.0.0-cp37-none-manylinux1_x86_64.whl (76.4 MB)\n",
            "\u001b[K     |████████████████████████████████| 76.4 MB 23 kB/s \n",
            "\u001b[?25hRequirement already satisfied: matplotlib in /usr/local/lib/python3.7/dist-packages (from catboost) (3.2.2)\n",
            "Requirement already satisfied: six in /usr/local/lib/python3.7/dist-packages (from catboost) (1.15.0)\n",
            "Requirement already satisfied: pandas>=0.24.0 in /usr/local/lib/python3.7/dist-packages (from catboost) (1.1.5)\n",
            "Requirement already satisfied: numpy>=1.16.0 in /usr/local/lib/python3.7/dist-packages (from catboost) (1.19.5)\n",
            "Requirement already satisfied: scipy in /usr/local/lib/python3.7/dist-packages (from catboost) (1.7.1)\n",
            "Requirement already satisfied: graphviz in /usr/local/lib/python3.7/dist-packages (from catboost) (0.10.1)\n",
            "Requirement already satisfied: plotly in /usr/local/lib/python3.7/dist-packages (from catboost) (4.4.1)\n",
            "Requirement already satisfied: pytz>=2017.2 in /usr/local/lib/python3.7/dist-packages (from pandas>=0.24.0->catboost) (2018.9)\n",
            "Requirement already satisfied: python-dateutil>=2.7.3 in /usr/local/lib/python3.7/dist-packages (from pandas>=0.24.0->catboost) (2.8.2)\n",
            "Requirement already satisfied: kiwisolver>=1.0.1 in /usr/local/lib/python3.7/dist-packages (from matplotlib->catboost) (1.3.2)\n",
            "Requirement already satisfied: pyparsing!=2.0.4,!=2.1.2,!=2.1.6,>=2.0.1 in /usr/local/lib/python3.7/dist-packages (from matplotlib->catboost) (2.4.7)\n",
            "Requirement already satisfied: cycler>=0.10 in /usr/local/lib/python3.7/dist-packages (from matplotlib->catboost) (0.10.0)\n",
            "Requirement already satisfied: retrying>=1.3.3 in /usr/local/lib/python3.7/dist-packages (from plotly->catboost) (1.3.3)\n",
            "Installing collected packages: catboost\n",
            "Successfully installed catboost-1.0.0\n"
          ]
        }
      ]
    },
    {
      "cell_type": "markdown",
      "metadata": {
        "id": "wAieUh3Mw2qB"
      },
      "source": [
        "Библиотеки загрузили"
      ]
    },
    {
      "cell_type": "markdown",
      "metadata": {
        "id": "JyLgtpw8-FEA"
      },
      "source": [
        "https://drive.google.com/file/d/15r2FielktOMWN-KQN8w8owu96_nRtiUN/view?usp=sharing "
      ]
    },
    {
      "cell_type": "code",
      "metadata": {
        "colab": {
          "base_uri": "https://localhost:8080/"
        },
        "id": "UwIbCdGE-gQ0",
        "trusted": false,
        "outputId": "1a70b73d-c498-4b84-a302-d369eae20516"
      },
      "source": [
        "! gdown --id 15r2FielktOMWN-KQN8w8owu96_nRtiUN"
      ],
      "execution_count": 2,
      "outputs": [
        {
          "output_type": "stream",
          "name": "stdout",
          "text": [
            "Downloading...\n",
            "From: https://drive.google.com/uc?id=15r2FielktOMWN-KQN8w8owu96_nRtiUN\n",
            "To: /content/final_provider.zip\n",
            "\r  0% 0.00/294k [00:00<?, ?B/s]\r100% 294k/294k [00:00<00:00, 79.4MB/s]\n"
          ]
        }
      ]
    },
    {
      "cell_type": "code",
      "metadata": {
        "colab": {
          "base_uri": "https://localhost:8080/"
        },
        "id": "IxOx_GtCyrir",
        "trusted": false,
        "outputId": "c5432210-33a1-4dd2-ff99-d985178313f3"
      },
      "source": [
        "!unzip \"/content/final_provider.zip\" -d \"/content/final_provider/\""
      ],
      "execution_count": 3,
      "outputs": [
        {
          "output_type": "stream",
          "name": "stdout",
          "text": [
            "Archive:  /content/final_provider.zip\n",
            "   creating: /content/final_provider/final_provider/\n",
            "  inflating: /content/final_provider/final_provider/personal.csv  \n",
            "  inflating: /content/final_provider/__MACOSX/final_provider/._personal.csv  \n",
            "  inflating: /content/final_provider/final_provider/contract.csv  \n",
            "  inflating: /content/final_provider/final_provider/phone.csv  \n",
            "  inflating: /content/final_provider/__MACOSX/final_provider/._phone.csv  \n",
            "  inflating: /content/final_provider/final_provider/internet.csv  \n"
          ]
        }
      ]
    },
    {
      "cell_type": "code",
      "metadata": {
        "id": "2GOYxyoXxZLw"
      },
      "source": [
        "contract = pd.read_csv('/content/final_provider/final_provider/contract.csv')\n",
        "personal = pd.read_csv('/content/final_provider/final_provider/personal.csv')\n",
        "internet = pd.read_csv('/content/final_provider/final_provider/internet.csv')\n",
        "phone = pd.read_csv('/content/final_provider/final_provider/phone.csv')"
      ],
      "execution_count": 4,
      "outputs": []
    },
    {
      "cell_type": "code",
      "metadata": {
        "trusted": false,
        "id": "IbMpYlW-1yvP"
      },
      "source": [
        "# contract = pd.read_csv('/datasets/final_provider/contract.csv')\n",
        "# internet = pd.read_csv('/datasets/final_provider/internet.csv')\n",
        "# personal = pd.read_csv('/datasets/final_provider/personal.csv')\n",
        "# phone = pd.read_csv('/datasets/final_provider/phone.csv')"
      ],
      "execution_count": 5,
      "outputs": []
    },
    {
      "cell_type": "markdown",
      "metadata": {
        "id": "pmJqt072w74L"
      },
      "source": [
        "Файлы загрузили, изучим предварительно данные. "
      ]
    },
    {
      "cell_type": "markdown",
      "metadata": {
        "id": "XLNNiKpvNz71"
      },
      "source": [
        "## Предварительное Изучение исходных данных"
      ]
    },
    {
      "cell_type": "markdown",
      "metadata": {
        "id": "mokou-Ir1oNM"
      },
      "source": [
        "### Contract"
      ]
    },
    {
      "cell_type": "markdown",
      "metadata": {
        "id": "GGyrPxLVFmJY"
      },
      "source": [
        "Начнём с главной таблицы - Информация о договорах"
      ]
    },
    {
      "cell_type": "code",
      "metadata": {
        "id": "s-kOo4RbG0WR",
        "trusted": false
      },
      "source": [
        "def check_df(df):\n",
        "  display(df.info())\n",
        "  display(df.head())\n",
        "  print()\n",
        "  print('Количество уникальных customerID:', df['customerID'].nunique())"
      ],
      "execution_count": 6,
      "outputs": []
    },
    {
      "cell_type": "code",
      "metadata": {
        "colab": {
          "base_uri": "https://localhost:8080/",
          "height": 510
        },
        "id": "-0cMYnkuzKzO",
        "trusted": false,
        "outputId": "57b38409-8be0-48ad-a229-b9cea9a7abac"
      },
      "source": [
        "check_df(contract)"
      ],
      "execution_count": 7,
      "outputs": [
        {
          "output_type": "stream",
          "name": "stdout",
          "text": [
            "<class 'pandas.core.frame.DataFrame'>\n",
            "RangeIndex: 7043 entries, 0 to 7042\n",
            "Data columns (total 8 columns):\n",
            " #   Column            Non-Null Count  Dtype  \n",
            "---  ------            --------------  -----  \n",
            " 0   customerID        7043 non-null   object \n",
            " 1   BeginDate         7043 non-null   object \n",
            " 2   EndDate           7043 non-null   object \n",
            " 3   Type              7043 non-null   object \n",
            " 4   PaperlessBilling  7043 non-null   object \n",
            " 5   PaymentMethod     7043 non-null   object \n",
            " 6   MonthlyCharges    7043 non-null   float64\n",
            " 7   TotalCharges      7043 non-null   object \n",
            "dtypes: float64(1), object(7)\n",
            "memory usage: 440.3+ KB\n"
          ]
        },
        {
          "output_type": "display_data",
          "data": {
            "text/plain": [
              "None"
            ]
          },
          "metadata": {}
        },
        {
          "output_type": "display_data",
          "data": {
            "text/html": [
              "<div>\n",
              "<style scoped>\n",
              "    .dataframe tbody tr th:only-of-type {\n",
              "        vertical-align: middle;\n",
              "    }\n",
              "\n",
              "    .dataframe tbody tr th {\n",
              "        vertical-align: top;\n",
              "    }\n",
              "\n",
              "    .dataframe thead th {\n",
              "        text-align: right;\n",
              "    }\n",
              "</style>\n",
              "<table border=\"1\" class=\"dataframe\">\n",
              "  <thead>\n",
              "    <tr style=\"text-align: right;\">\n",
              "      <th></th>\n",
              "      <th>customerID</th>\n",
              "      <th>BeginDate</th>\n",
              "      <th>EndDate</th>\n",
              "      <th>Type</th>\n",
              "      <th>PaperlessBilling</th>\n",
              "      <th>PaymentMethod</th>\n",
              "      <th>MonthlyCharges</th>\n",
              "      <th>TotalCharges</th>\n",
              "    </tr>\n",
              "  </thead>\n",
              "  <tbody>\n",
              "    <tr>\n",
              "      <th>0</th>\n",
              "      <td>7590-VHVEG</td>\n",
              "      <td>2020-01-01</td>\n",
              "      <td>No</td>\n",
              "      <td>Month-to-month</td>\n",
              "      <td>Yes</td>\n",
              "      <td>Electronic check</td>\n",
              "      <td>29.85</td>\n",
              "      <td>29.85</td>\n",
              "    </tr>\n",
              "    <tr>\n",
              "      <th>1</th>\n",
              "      <td>5575-GNVDE</td>\n",
              "      <td>2017-04-01</td>\n",
              "      <td>No</td>\n",
              "      <td>One year</td>\n",
              "      <td>No</td>\n",
              "      <td>Mailed check</td>\n",
              "      <td>56.95</td>\n",
              "      <td>1889.5</td>\n",
              "    </tr>\n",
              "    <tr>\n",
              "      <th>2</th>\n",
              "      <td>3668-QPYBK</td>\n",
              "      <td>2019-10-01</td>\n",
              "      <td>2019-12-01 00:00:00</td>\n",
              "      <td>Month-to-month</td>\n",
              "      <td>Yes</td>\n",
              "      <td>Mailed check</td>\n",
              "      <td>53.85</td>\n",
              "      <td>108.15</td>\n",
              "    </tr>\n",
              "    <tr>\n",
              "      <th>3</th>\n",
              "      <td>7795-CFOCW</td>\n",
              "      <td>2016-05-01</td>\n",
              "      <td>No</td>\n",
              "      <td>One year</td>\n",
              "      <td>No</td>\n",
              "      <td>Bank transfer (automatic)</td>\n",
              "      <td>42.30</td>\n",
              "      <td>1840.75</td>\n",
              "    </tr>\n",
              "    <tr>\n",
              "      <th>4</th>\n",
              "      <td>9237-HQITU</td>\n",
              "      <td>2019-09-01</td>\n",
              "      <td>2019-11-01 00:00:00</td>\n",
              "      <td>Month-to-month</td>\n",
              "      <td>Yes</td>\n",
              "      <td>Electronic check</td>\n",
              "      <td>70.70</td>\n",
              "      <td>151.65</td>\n",
              "    </tr>\n",
              "  </tbody>\n",
              "</table>\n",
              "</div>"
            ],
            "text/plain": [
              "   customerID   BeginDate  ... MonthlyCharges TotalCharges\n",
              "0  7590-VHVEG  2020-01-01  ...          29.85        29.85\n",
              "1  5575-GNVDE  2017-04-01  ...          56.95       1889.5\n",
              "2  3668-QPYBK  2019-10-01  ...          53.85       108.15\n",
              "3  7795-CFOCW  2016-05-01  ...          42.30      1840.75\n",
              "4  9237-HQITU  2019-09-01  ...          70.70       151.65\n",
              "\n",
              "[5 rows x 8 columns]"
            ]
          },
          "metadata": {}
        },
        {
          "output_type": "stream",
          "name": "stdout",
          "text": [
            "\n",
            "Количество уникальных customerID: 7043\n"
          ]
        }
      ]
    },
    {
      "cell_type": "markdown",
      "metadata": {
        "id": "ULB5mFq1Fyp-"
      },
      "source": [
        "В нашей таблице 7043 клиента, пропуски отсутствуют. На первый взгляд: необходимо пройтись по типам данных у столбцов; проанализировать распределения в столбцах; а также создать целевой столбец для машинного обучения. Начнём с типов данных"
      ]
    },
    {
      "cell_type": "markdown",
      "metadata": {
        "id": "b1lb0p5ZI9EF"
      },
      "source": [
        "Для начала разберёмся с датами. Кажется даты фиксируют только статус на первое число каждого месяца, проверим."
      ]
    },
    {
      "cell_type": "code",
      "metadata": {
        "colab": {
          "base_uri": "https://localhost:8080/"
        },
        "id": "oPoC0Ptt8ZXY",
        "trusted": false,
        "outputId": "4597bb2b-f457-4596-bcf2-3660deeea98e"
      },
      "source": [
        "print('Какие Дни есть в BeginDate:', '\\n', contract['BeginDate'].str[-2:].value_counts(), '\\n')\n",
        "print('Какие Дни есть в EndDate:', '\\n', contract['EndDate'].str[-11:].value_counts(), '\\n')"
      ],
      "execution_count": 8,
      "outputs": [
        {
          "output_type": "stream",
          "name": "stdout",
          "text": [
            "Какие Дни есть в BeginDate: \n",
            " 01    7043\n",
            "Name: BeginDate, dtype: int64 \n",
            "\n",
            "Какие Дни есть в EndDate: \n",
            " No             5174\n",
            "01 00:00:00    1869\n",
            "Name: EndDate, dtype: int64 \n",
            "\n"
          ]
        }
      ]
    },
    {
      "cell_type": "markdown",
      "metadata": {
        "id": "tbwtbUdCJyGC"
      },
      "source": [
        "Действительно есть только дни, поменяем тип данных на datetime"
      ]
    },
    {
      "cell_type": "code",
      "metadata": {
        "id": "gJSofb0F4JYW",
        "trusted": false
      },
      "source": [
        "contract['BeginDate'] = pd.to_datetime(contract['BeginDate'], format = '%Y-%m-%d', errors='coerce')\n",
        "contract['EndDate'] = pd.to_datetime(contract['EndDate'], format = '%Y-%m-%d', errors='coerce')\n",
        "# print(contract.info())"
      ],
      "execution_count": 9,
      "outputs": []
    },
    {
      "cell_type": "markdown",
      "metadata": {
        "id": "fK2wyNPoQHyU"
      },
      "source": [
        "Даты поменяли на нужный тип, вызывает подозрение и столбец TotalCharges, проверим почему он не числовой"
      ]
    },
    {
      "cell_type": "code",
      "metadata": {
        "colab": {
          "base_uri": "https://localhost:8080/",
          "height": 390
        },
        "id": "X5nKnNGFH7pg",
        "trusted": false,
        "outputId": "0d5d5871-65f6-4aac-bcf4-8d192045671f"
      },
      "source": [
        "# Посмотрим что не смогло бы сконвертить\n",
        "display(contract[pd.to_numeric(contract['TotalCharges'], errors='coerce').isnull()])"
      ],
      "execution_count": 10,
      "outputs": [
        {
          "output_type": "display_data",
          "data": {
            "text/html": [
              "<div>\n",
              "<style scoped>\n",
              "    .dataframe tbody tr th:only-of-type {\n",
              "        vertical-align: middle;\n",
              "    }\n",
              "\n",
              "    .dataframe tbody tr th {\n",
              "        vertical-align: top;\n",
              "    }\n",
              "\n",
              "    .dataframe thead th {\n",
              "        text-align: right;\n",
              "    }\n",
              "</style>\n",
              "<table border=\"1\" class=\"dataframe\">\n",
              "  <thead>\n",
              "    <tr style=\"text-align: right;\">\n",
              "      <th></th>\n",
              "      <th>customerID</th>\n",
              "      <th>BeginDate</th>\n",
              "      <th>EndDate</th>\n",
              "      <th>Type</th>\n",
              "      <th>PaperlessBilling</th>\n",
              "      <th>PaymentMethod</th>\n",
              "      <th>MonthlyCharges</th>\n",
              "      <th>TotalCharges</th>\n",
              "    </tr>\n",
              "  </thead>\n",
              "  <tbody>\n",
              "    <tr>\n",
              "      <th>488</th>\n",
              "      <td>4472-LVYGI</td>\n",
              "      <td>2020-02-01</td>\n",
              "      <td>NaT</td>\n",
              "      <td>Two year</td>\n",
              "      <td>Yes</td>\n",
              "      <td>Bank transfer (automatic)</td>\n",
              "      <td>52.55</td>\n",
              "      <td></td>\n",
              "    </tr>\n",
              "    <tr>\n",
              "      <th>753</th>\n",
              "      <td>3115-CZMZD</td>\n",
              "      <td>2020-02-01</td>\n",
              "      <td>NaT</td>\n",
              "      <td>Two year</td>\n",
              "      <td>No</td>\n",
              "      <td>Mailed check</td>\n",
              "      <td>20.25</td>\n",
              "      <td></td>\n",
              "    </tr>\n",
              "    <tr>\n",
              "      <th>936</th>\n",
              "      <td>5709-LVOEQ</td>\n",
              "      <td>2020-02-01</td>\n",
              "      <td>NaT</td>\n",
              "      <td>Two year</td>\n",
              "      <td>No</td>\n",
              "      <td>Mailed check</td>\n",
              "      <td>80.85</td>\n",
              "      <td></td>\n",
              "    </tr>\n",
              "    <tr>\n",
              "      <th>1082</th>\n",
              "      <td>4367-NUYAO</td>\n",
              "      <td>2020-02-01</td>\n",
              "      <td>NaT</td>\n",
              "      <td>Two year</td>\n",
              "      <td>No</td>\n",
              "      <td>Mailed check</td>\n",
              "      <td>25.75</td>\n",
              "      <td></td>\n",
              "    </tr>\n",
              "    <tr>\n",
              "      <th>1340</th>\n",
              "      <td>1371-DWPAZ</td>\n",
              "      <td>2020-02-01</td>\n",
              "      <td>NaT</td>\n",
              "      <td>Two year</td>\n",
              "      <td>No</td>\n",
              "      <td>Credit card (automatic)</td>\n",
              "      <td>56.05</td>\n",
              "      <td></td>\n",
              "    </tr>\n",
              "    <tr>\n",
              "      <th>3331</th>\n",
              "      <td>7644-OMVMY</td>\n",
              "      <td>2020-02-01</td>\n",
              "      <td>NaT</td>\n",
              "      <td>Two year</td>\n",
              "      <td>No</td>\n",
              "      <td>Mailed check</td>\n",
              "      <td>19.85</td>\n",
              "      <td></td>\n",
              "    </tr>\n",
              "    <tr>\n",
              "      <th>3826</th>\n",
              "      <td>3213-VVOLG</td>\n",
              "      <td>2020-02-01</td>\n",
              "      <td>NaT</td>\n",
              "      <td>Two year</td>\n",
              "      <td>No</td>\n",
              "      <td>Mailed check</td>\n",
              "      <td>25.35</td>\n",
              "      <td></td>\n",
              "    </tr>\n",
              "    <tr>\n",
              "      <th>4380</th>\n",
              "      <td>2520-SGTTA</td>\n",
              "      <td>2020-02-01</td>\n",
              "      <td>NaT</td>\n",
              "      <td>Two year</td>\n",
              "      <td>No</td>\n",
              "      <td>Mailed check</td>\n",
              "      <td>20.00</td>\n",
              "      <td></td>\n",
              "    </tr>\n",
              "    <tr>\n",
              "      <th>5218</th>\n",
              "      <td>2923-ARZLG</td>\n",
              "      <td>2020-02-01</td>\n",
              "      <td>NaT</td>\n",
              "      <td>One year</td>\n",
              "      <td>Yes</td>\n",
              "      <td>Mailed check</td>\n",
              "      <td>19.70</td>\n",
              "      <td></td>\n",
              "    </tr>\n",
              "    <tr>\n",
              "      <th>6670</th>\n",
              "      <td>4075-WKNIU</td>\n",
              "      <td>2020-02-01</td>\n",
              "      <td>NaT</td>\n",
              "      <td>Two year</td>\n",
              "      <td>No</td>\n",
              "      <td>Mailed check</td>\n",
              "      <td>73.35</td>\n",
              "      <td></td>\n",
              "    </tr>\n",
              "    <tr>\n",
              "      <th>6754</th>\n",
              "      <td>2775-SEFEE</td>\n",
              "      <td>2020-02-01</td>\n",
              "      <td>NaT</td>\n",
              "      <td>Two year</td>\n",
              "      <td>Yes</td>\n",
              "      <td>Bank transfer (automatic)</td>\n",
              "      <td>61.90</td>\n",
              "      <td></td>\n",
              "    </tr>\n",
              "  </tbody>\n",
              "</table>\n",
              "</div>"
            ],
            "text/plain": [
              "      customerID  BeginDate  ... MonthlyCharges TotalCharges\n",
              "488   4472-LVYGI 2020-02-01  ...          52.55             \n",
              "753   3115-CZMZD 2020-02-01  ...          20.25             \n",
              "936   5709-LVOEQ 2020-02-01  ...          80.85             \n",
              "1082  4367-NUYAO 2020-02-01  ...          25.75             \n",
              "1340  1371-DWPAZ 2020-02-01  ...          56.05             \n",
              "3331  7644-OMVMY 2020-02-01  ...          19.85             \n",
              "3826  3213-VVOLG 2020-02-01  ...          25.35             \n",
              "4380  2520-SGTTA 2020-02-01  ...          20.00             \n",
              "5218  2923-ARZLG 2020-02-01  ...          19.70             \n",
              "6670  4075-WKNIU 2020-02-01  ...          73.35             \n",
              "6754  2775-SEFEE 2020-02-01  ...          61.90             \n",
              "\n",
              "[11 rows x 8 columns]"
            ]
          },
          "metadata": {}
        }
      ]
    },
    {
      "cell_type": "markdown",
      "metadata": {
        "id": "fDuNO8tmKaYu"
      },
      "source": [
        "Кажется причиной неточностей являются клиенты Февраля 2020 года ввиду их первого месяца использования (сумма по ним посчитается в следующем месяце). Проверим"
      ]
    },
    {
      "cell_type": "code",
      "metadata": {
        "colab": {
          "base_uri": "https://localhost:8080/",
          "height": 390
        },
        "id": "YxUhLf-6KZRi",
        "trusted": false,
        "outputId": "0dd1377a-b5b6-4da5-8b88-ca3399149140"
      },
      "source": [
        "display(contract[contract['BeginDate'] == '2020-02-01'])"
      ],
      "execution_count": 11,
      "outputs": [
        {
          "output_type": "display_data",
          "data": {
            "text/html": [
              "<div>\n",
              "<style scoped>\n",
              "    .dataframe tbody tr th:only-of-type {\n",
              "        vertical-align: middle;\n",
              "    }\n",
              "\n",
              "    .dataframe tbody tr th {\n",
              "        vertical-align: top;\n",
              "    }\n",
              "\n",
              "    .dataframe thead th {\n",
              "        text-align: right;\n",
              "    }\n",
              "</style>\n",
              "<table border=\"1\" class=\"dataframe\">\n",
              "  <thead>\n",
              "    <tr style=\"text-align: right;\">\n",
              "      <th></th>\n",
              "      <th>customerID</th>\n",
              "      <th>BeginDate</th>\n",
              "      <th>EndDate</th>\n",
              "      <th>Type</th>\n",
              "      <th>PaperlessBilling</th>\n",
              "      <th>PaymentMethod</th>\n",
              "      <th>MonthlyCharges</th>\n",
              "      <th>TotalCharges</th>\n",
              "    </tr>\n",
              "  </thead>\n",
              "  <tbody>\n",
              "    <tr>\n",
              "      <th>488</th>\n",
              "      <td>4472-LVYGI</td>\n",
              "      <td>2020-02-01</td>\n",
              "      <td>NaT</td>\n",
              "      <td>Two year</td>\n",
              "      <td>Yes</td>\n",
              "      <td>Bank transfer (automatic)</td>\n",
              "      <td>52.55</td>\n",
              "      <td></td>\n",
              "    </tr>\n",
              "    <tr>\n",
              "      <th>753</th>\n",
              "      <td>3115-CZMZD</td>\n",
              "      <td>2020-02-01</td>\n",
              "      <td>NaT</td>\n",
              "      <td>Two year</td>\n",
              "      <td>No</td>\n",
              "      <td>Mailed check</td>\n",
              "      <td>20.25</td>\n",
              "      <td></td>\n",
              "    </tr>\n",
              "    <tr>\n",
              "      <th>936</th>\n",
              "      <td>5709-LVOEQ</td>\n",
              "      <td>2020-02-01</td>\n",
              "      <td>NaT</td>\n",
              "      <td>Two year</td>\n",
              "      <td>No</td>\n",
              "      <td>Mailed check</td>\n",
              "      <td>80.85</td>\n",
              "      <td></td>\n",
              "    </tr>\n",
              "    <tr>\n",
              "      <th>1082</th>\n",
              "      <td>4367-NUYAO</td>\n",
              "      <td>2020-02-01</td>\n",
              "      <td>NaT</td>\n",
              "      <td>Two year</td>\n",
              "      <td>No</td>\n",
              "      <td>Mailed check</td>\n",
              "      <td>25.75</td>\n",
              "      <td></td>\n",
              "    </tr>\n",
              "    <tr>\n",
              "      <th>1340</th>\n",
              "      <td>1371-DWPAZ</td>\n",
              "      <td>2020-02-01</td>\n",
              "      <td>NaT</td>\n",
              "      <td>Two year</td>\n",
              "      <td>No</td>\n",
              "      <td>Credit card (automatic)</td>\n",
              "      <td>56.05</td>\n",
              "      <td></td>\n",
              "    </tr>\n",
              "    <tr>\n",
              "      <th>3331</th>\n",
              "      <td>7644-OMVMY</td>\n",
              "      <td>2020-02-01</td>\n",
              "      <td>NaT</td>\n",
              "      <td>Two year</td>\n",
              "      <td>No</td>\n",
              "      <td>Mailed check</td>\n",
              "      <td>19.85</td>\n",
              "      <td></td>\n",
              "    </tr>\n",
              "    <tr>\n",
              "      <th>3826</th>\n",
              "      <td>3213-VVOLG</td>\n",
              "      <td>2020-02-01</td>\n",
              "      <td>NaT</td>\n",
              "      <td>Two year</td>\n",
              "      <td>No</td>\n",
              "      <td>Mailed check</td>\n",
              "      <td>25.35</td>\n",
              "      <td></td>\n",
              "    </tr>\n",
              "    <tr>\n",
              "      <th>4380</th>\n",
              "      <td>2520-SGTTA</td>\n",
              "      <td>2020-02-01</td>\n",
              "      <td>NaT</td>\n",
              "      <td>Two year</td>\n",
              "      <td>No</td>\n",
              "      <td>Mailed check</td>\n",
              "      <td>20.00</td>\n",
              "      <td></td>\n",
              "    </tr>\n",
              "    <tr>\n",
              "      <th>5218</th>\n",
              "      <td>2923-ARZLG</td>\n",
              "      <td>2020-02-01</td>\n",
              "      <td>NaT</td>\n",
              "      <td>One year</td>\n",
              "      <td>Yes</td>\n",
              "      <td>Mailed check</td>\n",
              "      <td>19.70</td>\n",
              "      <td></td>\n",
              "    </tr>\n",
              "    <tr>\n",
              "      <th>6670</th>\n",
              "      <td>4075-WKNIU</td>\n",
              "      <td>2020-02-01</td>\n",
              "      <td>NaT</td>\n",
              "      <td>Two year</td>\n",
              "      <td>No</td>\n",
              "      <td>Mailed check</td>\n",
              "      <td>73.35</td>\n",
              "      <td></td>\n",
              "    </tr>\n",
              "    <tr>\n",
              "      <th>6754</th>\n",
              "      <td>2775-SEFEE</td>\n",
              "      <td>2020-02-01</td>\n",
              "      <td>NaT</td>\n",
              "      <td>Two year</td>\n",
              "      <td>Yes</td>\n",
              "      <td>Bank transfer (automatic)</td>\n",
              "      <td>61.90</td>\n",
              "      <td></td>\n",
              "    </tr>\n",
              "  </tbody>\n",
              "</table>\n",
              "</div>"
            ],
            "text/plain": [
              "      customerID  BeginDate  ... MonthlyCharges TotalCharges\n",
              "488   4472-LVYGI 2020-02-01  ...          52.55             \n",
              "753   3115-CZMZD 2020-02-01  ...          20.25             \n",
              "936   5709-LVOEQ 2020-02-01  ...          80.85             \n",
              "1082  4367-NUYAO 2020-02-01  ...          25.75             \n",
              "1340  1371-DWPAZ 2020-02-01  ...          56.05             \n",
              "3331  7644-OMVMY 2020-02-01  ...          19.85             \n",
              "3826  3213-VVOLG 2020-02-01  ...          25.35             \n",
              "4380  2520-SGTTA 2020-02-01  ...          20.00             \n",
              "5218  2923-ARZLG 2020-02-01  ...          19.70             \n",
              "6670  4075-WKNIU 2020-02-01  ...          73.35             \n",
              "6754  2775-SEFEE 2020-02-01  ...          61.90             \n",
              "\n",
              "[11 rows x 8 columns]"
            ]
          },
          "metadata": {}
        }
      ]
    },
    {
      "cell_type": "markdown",
      "metadata": {
        "id": "JOlfXx0qK9kv"
      },
      "source": [
        "Количество клиентов сошлось, гипотеза верна. Учитывая нашу задачу, уберём клиентов текущего месяца, поскольку мы еще не знаем ничего об их расторжении контракта. Теперь смело поменяем тип и уберём нули"
      ]
    },
    {
      "cell_type": "code",
      "metadata": {
        "id": "Omw5K74RKTT3",
        "trusted": false
      },
      "source": [
        "contract['TotalCharges'] = pd.to_numeric(contract['TotalCharges'], errors='coerce')\n",
        "contract.dropna(subset = ['TotalCharges'], inplace = True)\n",
        "\n",
        "# contract.info()"
      ],
      "execution_count": 12,
      "outputs": []
    },
    {
      "cell_type": "markdown",
      "metadata": {
        "id": "9PGrkhAOWYAj"
      },
      "source": [
        "Теперь пройдёмся по каждому из столбцов и изучим его."
      ]
    },
    {
      "cell_type": "code",
      "metadata": {
        "colab": {
          "base_uri": "https://localhost:8080/",
          "height": 683
        },
        "id": "FxKLUM74GWF4",
        "trusted": false,
        "outputId": "91e1352b-87dd-4896-8f78-18e5cfd241a6"
      },
      "source": [
        "def hist_with_bins(column):\n",
        "  column.hist(bins = len(column.value_counts()))\n",
        "  plt.show()  \n",
        "\n",
        "hist_with_bins(contract['BeginDate'])\n",
        "print('Главный пик начала контрактов:', '\\n' , contract['BeginDate'].value_counts(normalize = True).head(1))\n",
        "\n",
        "hist_with_bins(contract['EndDate'])\n",
        "print('Распределение окончания договоров:', '\\n', contract['EndDate'].value_counts(dropna = False, normalize = True))"
      ],
      "execution_count": 13,
      "outputs": [
        {
          "output_type": "display_data",
          "data": {
            "image/png": "[encoded data removed]",
            "text/plain": [
              "<Figure size 432x288 with 1 Axes>"
            ]
          },
          "metadata": {
            "needs_background": "light"
          }
        },
        {
          "output_type": "stream",
          "name": "stdout",
          "text": [
            "Главный пик начала контрактов: \n",
            " 2014-02-01    0.052048\n",
            "Name: BeginDate, dtype: float64\n"
          ]
        },
        {
          "output_type": "display_data",
          "data": {
            "image/png": "[encoded data removed]",
            "text/plain": [
              "<Figure size 432x288 with 1 Axes>"
            ]
          },
          "metadata": {
            "needs_background": "light"
          }
        },
        {
          "output_type": "stream",
          "name": "stdout",
          "text": [
            "Распределение окончания договоров: \n",
            " NaT           0.734215\n",
            "2019-11-01    0.068970\n",
            "2019-12-01    0.066268\n",
            "2020-01-01    0.065415\n",
            "2019-10-01    0.065131\n",
            "Name: EndDate, dtype: float64\n"
          ]
        }
      ]
    },
    {
      "cell_type": "markdown",
      "metadata": {
        "id": "G5l71-P6yO3w"
      },
      "source": [
        "Много клиентов датируется 6 лет назад - февралём 2014 (5% от всей базу) и также последние месяца 2019 года, в остальное время примерно одинаковое количество клиентов. \n",
        "\n",
        "А вот конец контрактов только в последние 4 месяца - либо странность либо особенность базы. **Обязательно учесть факт только 4 месяцев расторжения при выводе**\n",
        "\n",
        "Кроме того важно, что 73% от базы все ещё являюся клиентами, в базе явный перекос в пользу информации о действующих клиентах.\n",
        "\n",
        "Теперь изучим клиентов, которые окончили взаимодействие с нами"
      ]
    },
    {
      "cell_type": "code",
      "metadata": {
        "colab": {
          "base_uri": "https://localhost:8080/",
          "height": 350
        },
        "id": "ZAy5qwiIDZRG",
        "trusted": false,
        "outputId": "ab0c7124-0ee0-4917-895e-b8be41db7401"
      },
      "source": [
        "contract_end = contract[contract['EndDate'].notna()].copy()\n",
        "\n",
        "contract_end['duration_M'] = (((contract_end['EndDate'] - contract_end['BeginDate']) / np.timedelta64(1, 'M')).round()).astype(int)\n",
        "\n",
        "hist_with_bins(contract_end['duration_M'])\n",
        "\n",
        "pd.cut(contract_end['duration_M'], bins = [0, 1, 5, 12, 100]).value_counts(normalize = True).sort_index()"
      ],
      "execution_count": 14,
      "outputs": [
        {
          "output_type": "display_data",
          "data": {
            "image/png": "[encoded data removed]",
            "text/plain": [
              "<Figure size 432x288 with 1 Axes>"
            ]
          },
          "metadata": {
            "needs_background": "light"
          }
        },
        {
          "output_type": "execute_result",
          "data": {
            "text/plain": [
              "(0, 1]       0.203317\n",
              "(1, 5]       0.194757\n",
              "(5, 12]      0.156768\n",
              "(12, 100]    0.445158\n",
              "Name: duration_M, dtype: float64"
            ]
          },
          "metadata": {},
          "execution_count": 14
        }
      ]
    },
    {
      "cell_type": "markdown",
      "metadata": {
        "id": "TP9oFK7-4aew"
      },
      "source": [
        "У распределения времени пользования услугами компании очень длинный хвост с большим максимумом на 1 месяце. **Каждый пятый клиент отказался от услуг компании через месяц использования, еще 20% были пользователями 5 и менее месяцев, 44% пользовались более года.**\n",
        "\n",
        "По условию у нас также есть клиенты с годовым и двухгодовым типом оплаты, посмотрим отличаются ли они в длительности пользования услугами."
      ]
    },
    {
      "cell_type": "code",
      "metadata": {
        "colab": {
          "base_uri": "https://localhost:8080/",
          "height": 265
        },
        "id": "qr5ThgfIEd9t",
        "trusted": false,
        "outputId": "9c5786b5-a380-4784-d8d3-f3e4e98d13fc"
      },
      "source": [
        "hist_with_bins(contract_end[contract_end['Type'].isin(['Two year', 'One year'])]['duration_M'])"
      ],
      "execution_count": 15,
      "outputs": [
        {
          "output_type": "display_data",
          "data": {
            "image/png": "[encoded data removed]",
            "text/plain": [
              "<Figure size 432x288 with 1 Axes>"
            ]
          },
          "metadata": {
            "needs_background": "light"
          }
        }
      ]
    },
    {
      "cell_type": "markdown",
      "metadata": {
        "id": "tZScZ0JOFTkO"
      },
      "source": [
        "Странно, но люди оплачивающие на год и 2 не прекращают использование кратно 12 месяцам. Возможно вина в переездах, переключении на других провайдеров, но важно понимать, что здесь нет корреляции с 12 месяцами!\n",
        "\n",
        "Посмотрим на другие столбцы"
      ]
    },
    {
      "cell_type": "code",
      "metadata": {
        "id": "EevuVdaQRmkg",
        "trusted": false
      },
      "source": [
        "def check_cat_column(column):\n",
        "  print('Кратко о', column.name)\n",
        "  print(column.value_counts(normalize = True), '\\n')"
      ],
      "execution_count": 16,
      "outputs": []
    },
    {
      "cell_type": "code",
      "metadata": {
        "colab": {
          "base_uri": "https://localhost:8080/"
        },
        "id": "LTgurpoH-RZc",
        "trusted": false,
        "outputId": "134bce15-1e81-46b1-87c1-b1f489dcb294"
      },
      "source": [
        "# contract.columns\n",
        "check_cat_column(contract['Type'])\n",
        "check_cat_column(contract['PaperlessBilling'])\n",
        "check_cat_column(contract['PaymentMethod'])\n",
        "\n",
        "# проверка вхождения типов друг в друга не дала нужных данных\n",
        "# contract.groupby(['PaperlessBilling', 'PaymentMethod']).count()['customerID']"
      ],
      "execution_count": 17,
      "outputs": [
        {
          "output_type": "stream",
          "name": "stdout",
          "text": [
            "Кратко о Type\n",
            "Month-to-month    0.551052\n",
            "Two year          0.239619\n",
            "One year          0.209329\n",
            "Name: Type, dtype: float64 \n",
            "\n",
            "Кратко о PaperlessBilling\n",
            "Yes    0.592719\n",
            "No     0.407281\n",
            "Name: PaperlessBilling, dtype: float64 \n",
            "\n",
            "Кратко о PaymentMethod\n",
            "Electronic check             0.336320\n",
            "Mailed check                 0.228100\n",
            "Bank transfer (automatic)    0.219283\n",
            "Credit card (automatic)      0.216297\n",
            "Name: PaymentMethod, dtype: float64 \n",
            "\n"
          ]
        }
      ]
    },
    {
      "cell_type": "markdown",
      "metadata": {
        "id": "v_n6HfnjELwW"
      },
      "source": [
        "Примерно половина клиентов (55%) оплачивает услуги ежемесячно, а другие на год или два. \n",
        "\n",
        "60% пользователей использует безбумажный чек.\n",
        "\n",
        "Среди клиентов распределены разные методы оплат: треть использует электронный чек и по 22% (приблизительно) используют чек по почте, банковский перевод и кредитную карту.\n",
        "\n",
        "Посмотрим на столбцы оплат"
      ]
    },
    {
      "cell_type": "code",
      "metadata": {
        "colab": {
          "base_uri": "https://localhost:8080/",
          "height": 282
        },
        "id": "MmGHWiYhWySw",
        "trusted": false,
        "outputId": "b691788e-03d8-43cb-986e-c0f1f6fc3b11"
      },
      "source": [
        "bins = int((contract['MonthlyCharges'].max() - contract['MonthlyCharges'].min())//5)\n",
        "contract['MonthlyCharges'].hist(bins = bins)"
      ],
      "execution_count": 18,
      "outputs": [
        {
          "output_type": "execute_result",
          "data": {
            "text/plain": [
              "<matplotlib.axes._subplots.AxesSubplot at 0x7f9c1c6fe350>"
            ]
          },
          "metadata": {},
          "execution_count": 18
        },
        {
          "output_type": "display_data",
          "data": {
            "image/png": "[encoded data removed]",
            "text/plain": [
              "<Figure size 432x288 with 1 Axes>"
            ]
          },
          "metadata": {
            "needs_background": "light"
          }
        }
      ]
    },
    {
      "cell_type": "markdown",
      "metadata": {
        "id": "3M9lqAznYn_w"
      },
      "source": [
        "Клиенты платят по разному в месяц - заметен пик у минимального значения - 20, а также пик около 80/"
      ]
    },
    {
      "cell_type": "code",
      "metadata": {
        "colab": {
          "base_uri": "https://localhost:8080/",
          "height": 282
        },
        "id": "fkztIRDpY4VR",
        "trusted": false,
        "outputId": "fe92249e-9be9-46a9-d731-ca4b1aac81c0"
      },
      "source": [
        "bins = int((contract['TotalCharges'].max() - contract['TotalCharges'].min())//100)\n",
        "contract['TotalCharges'].hist(bins = bins)"
      ],
      "execution_count": 19,
      "outputs": [
        {
          "output_type": "execute_result",
          "data": {
            "text/plain": [
              "<matplotlib.axes._subplots.AxesSubplot at 0x7f9c1c6948d0>"
            ]
          },
          "metadata": {},
          "execution_count": 19
        },
        {
          "output_type": "display_data",
          "data": {
            "image/png": "[encoded data removed]",
            "text/plain": [
              "<Figure size 432x288 with 1 Axes>"
            ]
          },
          "metadata": {
            "needs_background": "light"
          }
        }
      ]
    },
    {
      "cell_type": "markdown",
      "metadata": {
        "id": "74Gr57N6bevY"
      },
      "source": [
        "Среди наших клиентов есть как те, кто принёс нам уже очень много денег (длинный хвост вплоть до 9000), так и те, кто принёс около минимума. \n",
        "\n",
        "Посмотрим подробнее"
      ]
    },
    {
      "cell_type": "code",
      "metadata": {
        "colab": {
          "base_uri": "https://localhost:8080/",
          "height": 299
        },
        "id": "kj32Kigbbqoq",
        "trusted": false,
        "outputId": "18f59660-f72c-4b48-b282-55cc60aa80d2"
      },
      "source": [
        "bins = int((contract[contract['TotalCharges'] < 1000]['TotalCharges'].max() - contract[contract['TotalCharges'] < 1000]['TotalCharges'].min())//10)\n",
        "\n",
        "\n",
        "print(bins)\n",
        "contract[contract['TotalCharges'] < 1000]['TotalCharges'].hist(bins = bins)"
      ],
      "execution_count": 20,
      "outputs": [
        {
          "output_type": "stream",
          "name": "stdout",
          "text": [
            "98\n"
          ]
        },
        {
          "output_type": "execute_result",
          "data": {
            "text/plain": [
              "<matplotlib.axes._subplots.AxesSubplot at 0x7f9c1c606a90>"
            ]
          },
          "metadata": {},
          "execution_count": 20
        },
        {
          "output_type": "display_data",
          "data": {
            "image/png": "[encoded data removed]",
            "text/plain": [
              "<Figure size 432x288 with 1 Axes>"
            ]
          },
          "metadata": {
            "needs_background": "light"
          }
        }
      ]
    },
    {
      "cell_type": "markdown",
      "metadata": {
        "id": "4pY3hE2OcQVB"
      },
      "source": [
        "Видно несколько пиков до 100 как около минимума 20, так и около 70.\n",
        "\n",
        "Прежде, чем добавлять значения других таблиц в contract и создания целевых переменных, посмотрим на данные внутри них"
      ]
    },
    {
      "cell_type": "markdown",
      "metadata": {
        "id": "COCqOVh-1yva"
      },
      "source": [
        ""
      ]
    },
    {
      "cell_type": "markdown",
      "metadata": {
        "id": "9IXCrHBs10dM"
      },
      "source": [
        "### Personal"
      ]
    },
    {
      "cell_type": "code",
      "metadata": {
        "colab": {
          "base_uri": "https://localhost:8080/",
          "height": 459
        },
        "id": "d2ah4MU2zV9s",
        "trusted": false,
        "outputId": "3206d753-f71e-498e-8b35-f8d409fef814"
      },
      "source": [
        "check_df(personal)"
      ],
      "execution_count": 21,
      "outputs": [
        {
          "output_type": "stream",
          "name": "stdout",
          "text": [
            "<class 'pandas.core.frame.DataFrame'>\n",
            "RangeIndex: 7043 entries, 0 to 7042\n",
            "Data columns (total 5 columns):\n",
            " #   Column         Non-Null Count  Dtype \n",
            "---  ------         --------------  ----- \n",
            " 0   customerID     7043 non-null   object\n",
            " 1   gender         7043 non-null   object\n",
            " 2   SeniorCitizen  7043 non-null   int64 \n",
            " 3   Partner        7043 non-null   object\n",
            " 4   Dependents     7043 non-null   object\n",
            "dtypes: int64(1), object(4)\n",
            "memory usage: 275.2+ KB\n"
          ]
        },
        {
          "output_type": "display_data",
          "data": {
            "text/plain": [
              "None"
            ]
          },
          "metadata": {}
        },
        {
          "output_type": "display_data",
          "data": {
            "text/html": [
              "<div>\n",
              "<style scoped>\n",
              "    .dataframe tbody tr th:only-of-type {\n",
              "        vertical-align: middle;\n",
              "    }\n",
              "\n",
              "    .dataframe tbody tr th {\n",
              "        vertical-align: top;\n",
              "    }\n",
              "\n",
              "    .dataframe thead th {\n",
              "        text-align: right;\n",
              "    }\n",
              "</style>\n",
              "<table border=\"1\" class=\"dataframe\">\n",
              "  <thead>\n",
              "    <tr style=\"text-align: right;\">\n",
              "      <th></th>\n",
              "      <th>customerID</th>\n",
              "      <th>gender</th>\n",
              "      <th>SeniorCitizen</th>\n",
              "      <th>Partner</th>\n",
              "      <th>Dependents</th>\n",
              "    </tr>\n",
              "  </thead>\n",
              "  <tbody>\n",
              "    <tr>\n",
              "      <th>0</th>\n",
              "      <td>7590-VHVEG</td>\n",
              "      <td>Female</td>\n",
              "      <td>0</td>\n",
              "      <td>Yes</td>\n",
              "      <td>No</td>\n",
              "    </tr>\n",
              "    <tr>\n",
              "      <th>1</th>\n",
              "      <td>5575-GNVDE</td>\n",
              "      <td>Male</td>\n",
              "      <td>0</td>\n",
              "      <td>No</td>\n",
              "      <td>No</td>\n",
              "    </tr>\n",
              "    <tr>\n",
              "      <th>2</th>\n",
              "      <td>3668-QPYBK</td>\n",
              "      <td>Male</td>\n",
              "      <td>0</td>\n",
              "      <td>No</td>\n",
              "      <td>No</td>\n",
              "    </tr>\n",
              "    <tr>\n",
              "      <th>3</th>\n",
              "      <td>7795-CFOCW</td>\n",
              "      <td>Male</td>\n",
              "      <td>0</td>\n",
              "      <td>No</td>\n",
              "      <td>No</td>\n",
              "    </tr>\n",
              "    <tr>\n",
              "      <th>4</th>\n",
              "      <td>9237-HQITU</td>\n",
              "      <td>Female</td>\n",
              "      <td>0</td>\n",
              "      <td>No</td>\n",
              "      <td>No</td>\n",
              "    </tr>\n",
              "  </tbody>\n",
              "</table>\n",
              "</div>"
            ],
            "text/plain": [
              "   customerID  gender  SeniorCitizen Partner Dependents\n",
              "0  7590-VHVEG  Female              0     Yes         No\n",
              "1  5575-GNVDE    Male              0      No         No\n",
              "2  3668-QPYBK    Male              0      No         No\n",
              "3  7795-CFOCW    Male              0      No         No\n",
              "4  9237-HQITU  Female              0      No         No"
            ]
          },
          "metadata": {}
        },
        {
          "output_type": "stream",
          "name": "stdout",
          "text": [
            "\n",
            "Количество уникальных customerID: 7043\n"
          ]
        }
      ]
    },
    {
      "cell_type": "markdown",
      "metadata": {
        "id": "bNLiBM_EX_UB"
      },
      "source": [
        "В таблице, описывающей клиентов, строк столько же сколько и в главной. Пропусков нет, столбцы в основном текстовые. Признаки сдержат краткое описание атрибутов клиента.\n",
        "\n",
        "Рассмотрим подробнее"
      ]
    },
    {
      "cell_type": "code",
      "metadata": {
        "colab": {
          "base_uri": "https://localhost:8080/"
        },
        "id": "VaMofgpu3zlZ",
        "trusted": false,
        "outputId": "99ea81ad-1071-43d5-90da-286ed8cbb886"
      },
      "source": [
        "for col in personal.columns.drop('customerID'):\n",
        "  check_cat_column(personal[col])"
      ],
      "execution_count": 22,
      "outputs": [
        {
          "output_type": "stream",
          "name": "stdout",
          "text": [
            "Кратко о gender\n",
            "Male      0.504756\n",
            "Female    0.495244\n",
            "Name: gender, dtype: float64 \n",
            "\n",
            "Кратко о SeniorCitizen\n",
            "0    0.837853\n",
            "1    0.162147\n",
            "Name: SeniorCitizen, dtype: float64 \n",
            "\n",
            "Кратко о Partner\n",
            "No     0.516967\n",
            "Yes    0.483033\n",
            "Name: Partner, dtype: float64 \n",
            "\n",
            "Кратко о Dependents\n",
            "No     0.700412\n",
            "Yes    0.299588\n",
            "Name: Dependents, dtype: float64 \n",
            "\n"
          ]
        }
      ]
    },
    {
      "cell_type": "markdown",
      "metadata": {
        "id": "iRNuoXe5xSSQ"
      },
      "source": [
        "В нашей базе^ \n",
        "- половина мужчин и женщин, \n",
        "- 16% пожилых, \n",
        "- у половины есть партнеры,\n",
        "- у 30% есть иждивенцы"
      ]
    },
    {
      "cell_type": "markdown",
      "metadata": {
        "id": "kfhTVQqg151n"
      },
      "source": [
        "### Internet"
      ]
    },
    {
      "cell_type": "code",
      "metadata": {
        "colab": {
          "base_uri": "https://localhost:8080/",
          "height": 510
        },
        "id": "IVwmHwTlzaJw",
        "trusted": false,
        "outputId": "ed84b608-79b7-4b03-e1a4-902455ed4578"
      },
      "source": [
        "check_df(internet)"
      ],
      "execution_count": 23,
      "outputs": [
        {
          "output_type": "stream",
          "name": "stdout",
          "text": [
            "<class 'pandas.core.frame.DataFrame'>\n",
            "RangeIndex: 5517 entries, 0 to 5516\n",
            "Data columns (total 8 columns):\n",
            " #   Column            Non-Null Count  Dtype \n",
            "---  ------            --------------  ----- \n",
            " 0   customerID        5517 non-null   object\n",
            " 1   InternetService   5517 non-null   object\n",
            " 2   OnlineSecurity    5517 non-null   object\n",
            " 3   OnlineBackup      5517 non-null   object\n",
            " 4   DeviceProtection  5517 non-null   object\n",
            " 5   TechSupport       5517 non-null   object\n",
            " 6   StreamingTV       5517 non-null   object\n",
            " 7   StreamingMovies   5517 non-null   object\n",
            "dtypes: object(8)\n",
            "memory usage: 344.9+ KB\n"
          ]
        },
        {
          "output_type": "display_data",
          "data": {
            "text/plain": [
              "None"
            ]
          },
          "metadata": {}
        },
        {
          "output_type": "display_data",
          "data": {
            "text/html": [
              "<div>\n",
              "<style scoped>\n",
              "    .dataframe tbody tr th:only-of-type {\n",
              "        vertical-align: middle;\n",
              "    }\n",
              "\n",
              "    .dataframe tbody tr th {\n",
              "        vertical-align: top;\n",
              "    }\n",
              "\n",
              "    .dataframe thead th {\n",
              "        text-align: right;\n",
              "    }\n",
              "</style>\n",
              "<table border=\"1\" class=\"dataframe\">\n",
              "  <thead>\n",
              "    <tr style=\"text-align: right;\">\n",
              "      <th></th>\n",
              "      <th>customerID</th>\n",
              "      <th>InternetService</th>\n",
              "      <th>OnlineSecurity</th>\n",
              "      <th>OnlineBackup</th>\n",
              "      <th>DeviceProtection</th>\n",
              "      <th>TechSupport</th>\n",
              "      <th>StreamingTV</th>\n",
              "      <th>StreamingMovies</th>\n",
              "    </tr>\n",
              "  </thead>\n",
              "  <tbody>\n",
              "    <tr>\n",
              "      <th>0</th>\n",
              "      <td>7590-VHVEG</td>\n",
              "      <td>DSL</td>\n",
              "      <td>No</td>\n",
              "      <td>Yes</td>\n",
              "      <td>No</td>\n",
              "      <td>No</td>\n",
              "      <td>No</td>\n",
              "      <td>No</td>\n",
              "    </tr>\n",
              "    <tr>\n",
              "      <th>1</th>\n",
              "      <td>5575-GNVDE</td>\n",
              "      <td>DSL</td>\n",
              "      <td>Yes</td>\n",
              "      <td>No</td>\n",
              "      <td>Yes</td>\n",
              "      <td>No</td>\n",
              "      <td>No</td>\n",
              "      <td>No</td>\n",
              "    </tr>\n",
              "    <tr>\n",
              "      <th>2</th>\n",
              "      <td>3668-QPYBK</td>\n",
              "      <td>DSL</td>\n",
              "      <td>Yes</td>\n",
              "      <td>Yes</td>\n",
              "      <td>No</td>\n",
              "      <td>No</td>\n",
              "      <td>No</td>\n",
              "      <td>No</td>\n",
              "    </tr>\n",
              "    <tr>\n",
              "      <th>3</th>\n",
              "      <td>7795-CFOCW</td>\n",
              "      <td>DSL</td>\n",
              "      <td>Yes</td>\n",
              "      <td>No</td>\n",
              "      <td>Yes</td>\n",
              "      <td>Yes</td>\n",
              "      <td>No</td>\n",
              "      <td>No</td>\n",
              "    </tr>\n",
              "    <tr>\n",
              "      <th>4</th>\n",
              "      <td>9237-HQITU</td>\n",
              "      <td>Fiber optic</td>\n",
              "      <td>No</td>\n",
              "      <td>No</td>\n",
              "      <td>No</td>\n",
              "      <td>No</td>\n",
              "      <td>No</td>\n",
              "      <td>No</td>\n",
              "    </tr>\n",
              "  </tbody>\n",
              "</table>\n",
              "</div>"
            ],
            "text/plain": [
              "   customerID InternetService  ... StreamingTV StreamingMovies\n",
              "0  7590-VHVEG             DSL  ...          No              No\n",
              "1  5575-GNVDE             DSL  ...          No              No\n",
              "2  3668-QPYBK             DSL  ...          No              No\n",
              "3  7795-CFOCW             DSL  ...          No              No\n",
              "4  9237-HQITU     Fiber optic  ...          No              No\n",
              "\n",
              "[5 rows x 8 columns]"
            ]
          },
          "metadata": {}
        },
        {
          "output_type": "stream",
          "name": "stdout",
          "text": [
            "\n",
            "Количество уникальных customerID: 5517\n"
          ]
        }
      ]
    },
    {
      "cell_type": "markdown",
      "metadata": {
        "id": "YX_4kHo8cmEA"
      },
      "source": [
        "В Интернетов пользуются не все клиенты (таблица с этими данными короче главной и составляет 5517 объектов).  Пропусков нет, все столбцы текстовые. Признаки содержат атрибуты использования интернет сервисов.\n",
        "\n",
        "Посмотрим подробнее"
      ]
    },
    {
      "cell_type": "code",
      "metadata": {
        "colab": {
          "base_uri": "https://localhost:8080/"
        },
        "id": "kVbAgQ_n2t5P",
        "trusted": false,
        "outputId": "be2ca2b6-1178-4cbd-83aa-155fce371c5f"
      },
      "source": [
        "for col in internet.columns.drop('customerID'):\n",
        "  check_cat_column(internet[col])"
      ],
      "execution_count": 24,
      "outputs": [
        {
          "output_type": "stream",
          "name": "stdout",
          "text": [
            "Кратко о InternetService\n",
            "Fiber optic    0.561175\n",
            "DSL            0.438825\n",
            "Name: InternetService, dtype: float64 \n",
            "\n",
            "Кратко о OnlineSecurity\n",
            "No     0.63404\n",
            "Yes    0.36596\n",
            "Name: OnlineSecurity, dtype: float64 \n",
            "\n",
            "Кратко о OnlineBackup\n",
            "No     0.559724\n",
            "Yes    0.440276\n",
            "Name: OnlineBackup, dtype: float64 \n",
            "\n",
            "Кратко о DeviceProtection\n",
            "No     0.560993\n",
            "Yes    0.439007\n",
            "Name: DeviceProtection, dtype: float64 \n",
            "\n",
            "Кратко о TechSupport\n",
            "No     0.629509\n",
            "Yes    0.370491\n",
            "Name: TechSupport, dtype: float64 \n",
            "\n",
            "Кратко о StreamingTV\n",
            "No     0.509335\n",
            "Yes    0.490665\n",
            "Name: StreamingTV, dtype: float64 \n",
            "\n",
            "Кратко о StreamingMovies\n",
            "No     0.504803\n",
            "Yes    0.495197\n",
            "Name: StreamingMovies, dtype: float64 \n",
            "\n"
          ]
        }
      ]
    },
    {
      "cell_type": "markdown",
      "metadata": {
        "id": "F3GrxqAQwno0"
      },
      "source": [
        "Среди пользователей интернет услуг 56% подключены через кабель, оставшиеся 44% через телефонную связь DSL. Только 37% пользуются услугами Онлайн безопасности, 37% Тех поддержкой, 44% Онлайн поддержкой и 44% Защитой устройств. Почти половина пользуется Стриминговым телевидением и каталогом фильмов"
      ]
    },
    {
      "cell_type": "markdown",
      "metadata": {
        "id": "7xpJ5evB1_P2"
      },
      "source": [
        "### Phone"
      ]
    },
    {
      "cell_type": "code",
      "metadata": {
        "colab": {
          "base_uri": "https://localhost:8080/",
          "height": 408
        },
        "id": "0jjSdNLZzaXM",
        "trusted": false,
        "outputId": "cc65cc80-6627-45be-b6e7-e8566411580a"
      },
      "source": [
        "check_df(phone)"
      ],
      "execution_count": 25,
      "outputs": [
        {
          "output_type": "stream",
          "name": "stdout",
          "text": [
            "<class 'pandas.core.frame.DataFrame'>\n",
            "RangeIndex: 6361 entries, 0 to 6360\n",
            "Data columns (total 2 columns):\n",
            " #   Column         Non-Null Count  Dtype \n",
            "---  ------         --------------  ----- \n",
            " 0   customerID     6361 non-null   object\n",
            " 1   MultipleLines  6361 non-null   object\n",
            "dtypes: object(2)\n",
            "memory usage: 99.5+ KB\n"
          ]
        },
        {
          "output_type": "display_data",
          "data": {
            "text/plain": [
              "None"
            ]
          },
          "metadata": {}
        },
        {
          "output_type": "display_data",
          "data": {
            "text/html": [
              "<div>\n",
              "<style scoped>\n",
              "    .dataframe tbody tr th:only-of-type {\n",
              "        vertical-align: middle;\n",
              "    }\n",
              "\n",
              "    .dataframe tbody tr th {\n",
              "        vertical-align: top;\n",
              "    }\n",
              "\n",
              "    .dataframe thead th {\n",
              "        text-align: right;\n",
              "    }\n",
              "</style>\n",
              "<table border=\"1\" class=\"dataframe\">\n",
              "  <thead>\n",
              "    <tr style=\"text-align: right;\">\n",
              "      <th></th>\n",
              "      <th>customerID</th>\n",
              "      <th>MultipleLines</th>\n",
              "    </tr>\n",
              "  </thead>\n",
              "  <tbody>\n",
              "    <tr>\n",
              "      <th>0</th>\n",
              "      <td>5575-GNVDE</td>\n",
              "      <td>No</td>\n",
              "    </tr>\n",
              "    <tr>\n",
              "      <th>1</th>\n",
              "      <td>3668-QPYBK</td>\n",
              "      <td>No</td>\n",
              "    </tr>\n",
              "    <tr>\n",
              "      <th>2</th>\n",
              "      <td>9237-HQITU</td>\n",
              "      <td>No</td>\n",
              "    </tr>\n",
              "    <tr>\n",
              "      <th>3</th>\n",
              "      <td>9305-CDSKC</td>\n",
              "      <td>Yes</td>\n",
              "    </tr>\n",
              "    <tr>\n",
              "      <th>4</th>\n",
              "      <td>1452-KIOVK</td>\n",
              "      <td>Yes</td>\n",
              "    </tr>\n",
              "  </tbody>\n",
              "</table>\n",
              "</div>"
            ],
            "text/plain": [
              "   customerID MultipleLines\n",
              "0  5575-GNVDE            No\n",
              "1  3668-QPYBK            No\n",
              "2  9237-HQITU            No\n",
              "3  9305-CDSKC           Yes\n",
              "4  1452-KIOVK           Yes"
            ]
          },
          "metadata": {}
        },
        {
          "output_type": "stream",
          "name": "stdout",
          "text": [
            "\n",
            "Количество уникальных customerID: 6361\n"
          ]
        }
      ]
    },
    {
      "cell_type": "markdown",
      "metadata": {
        "id": "6QbuF2Ilo555"
      },
      "source": [
        "елефонными услугами также пользуются не все пользоваели (только 6361). Пустых значений нет, дополнительная информация указана по услуге Многоканальность.\n",
        "\n",
        "Посмотрим на распределение."
      ]
    },
    {
      "cell_type": "code",
      "metadata": {
        "colab": {
          "base_uri": "https://localhost:8080/"
        },
        "id": "Ut1u4uCi2F-F",
        "trusted": false,
        "outputId": "21fc65fa-7d09-460f-eaec-b95aa86311f0"
      },
      "source": [
        "check_cat_column(phone['MultipleLines'])"
      ],
      "execution_count": 26,
      "outputs": [
        {
          "output_type": "stream",
          "name": "stdout",
          "text": [
            "Кратко о MultipleLines\n",
            "No     0.532935\n",
            "Yes    0.467065\n",
            "Name: MultipleLines, dtype: float64 \n",
            "\n"
          ]
        }
      ]
    },
    {
      "cell_type": "markdown",
      "metadata": {
        "id": "BYbkd_7LwD71"
      },
      "source": [
        "Примерно половина (47%) использует Многоканальности\n",
        "\n",
        "Перейдём к созданию общей таблицы"
      ]
    },
    {
      "cell_type": "markdown",
      "metadata": {
        "id": "SgPTz-i-pYAG"
      },
      "source": [
        "## Получение итоговой таблицы (merge, OHE, выделение target)"
      ]
    },
    {
      "cell_type": "markdown",
      "metadata": {
        "id": "PajrXjL6qDHb"
      },
      "source": [
        "Прежде чем добавлять новые столбцы и подготовить данные получим общую таблицу с помощью merge"
      ]
    },
    {
      "cell_type": "code",
      "metadata": {
        "id": "zBWI5Z5Iqoq_",
        "trusted": false
      },
      "source": [
        "df = pd.merge(contract, personal, on = 'customerID')\n",
        "\n",
        "df = pd.merge(df, internet, on = 'customerID', how = 'left')\n",
        "df = pd.merge(df, phone, on = 'customerID', how = 'left')\n",
        "\n",
        "# df.info()\n",
        "# df.head()"
      ],
      "execution_count": 27,
      "outputs": []
    },
    {
      "cell_type": "markdown",
      "metadata": {
        "id": "R9OS9JE-0LhS"
      },
      "source": [
        "Также добавим итоговое состояние клиента (активен он на данный момент или нет)"
      ]
    },
    {
      "cell_type": "code",
      "metadata": {
        "id": "F2EJFsya0GJK",
        "trusted": false
      },
      "source": [
        "df['finished'] = np.where(df['EndDate'].isna(), 0, 1)\n",
        "# display(df.head())"
      ],
      "execution_count": 28,
      "outputs": []
    },
    {
      "cell_type": "markdown",
      "metadata": {
        "id": "A_i9I5wdwcib"
      },
      "source": [
        "После создания общей таблицы (из-за того, что не все клиенты пользуются услугами телефонии и интернета) появилось много столбцов с пустыми значениями, разберёмся с ними.\n",
        "\n",
        "Первым возьмём EndDate. Сам признак, как и BeginDate нам не нужны, однако нам нужна продолжительность жизни клиента с нами. Заполним пустое значение датой представления отчёта (1 февраля 2020) и посчитаем длительность для всех клиентов. Ненужные столбцы сразу выбросим."
      ]
    },
    {
      "cell_type": "code",
      "metadata": {
        "id": "TznfOHnZ0JDe",
        "trusted": false
      },
      "source": [
        "df['EndDate'].fillna(pd.Timestamp('2020-02-01'), inplace = True)\n",
        "\n",
        "# df['duration_M'] = (((df['EndDate'] - df['BeginDate']) / np.timedelta64(1, 'M')).round()).astype(int)\n",
        "\n",
        "df['duration_M'] = (df['EndDate'] - df['BeginDate']).astype(int)\n",
        "\n",
        "\n",
        "df.drop(['BeginDate', 'EndDate'], axis = 1, inplace = True)"
      ],
      "execution_count": 29,
      "outputs": []
    },
    {
      "cell_type": "markdown",
      "metadata": {
        "id": "Rm0CqS965Y9I"
      },
      "source": [
        "По большей части пропуски в столбцах с бинарными вариантами Да/нет и мы можем заменить отсутствие значения нулём. Но есть столбец \"InternetService\", где логика поставить \"нет\" не применима, а также столбец \"MultipleLines\", где поставив \"нет\" - мы потеряем разницу между использующими телефонные услуги в целом и не использующие. Создадим для этого доп признаки."
      ]
    },
    {
      "cell_type": "code",
      "metadata": {
        "id": "3hfBK5kc_EIU",
        "trusted": false
      },
      "source": [
        "df['HaveInternet'] = np.where(df['InternetService'].isna(), 0, 1)\n",
        "df['HavePhone'] = np.where(df['MultipleLines'].isna(), 0, 1)\n",
        "# df.head()"
      ],
      "execution_count": 30,
      "outputs": []
    },
    {
      "cell_type": "markdown",
      "metadata": {
        "id": "z34Sr1IqAc5d"
      },
      "source": [
        "Теперь заполним пропуски в признаках Да/нет. Пропуск в InternetService заполним далее при помощи get_dummies"
      ]
    },
    {
      "cell_type": "code",
      "metadata": {
        "id": "6r8g4O7eES9N",
        "trusted": false
      },
      "source": [
        "YesNoNA = ['OnlineSecurity', 'OnlineBackup', 'DeviceProtection', 'TechSupport', 'StreamingTV', 'StreamingMovies', 'MultipleLines']\n",
        "\n",
        "for col in YesNoNA:\n",
        "  df[col].fillna('No', inplace = True)\n",
        "\n",
        "# df.info()"
      ],
      "execution_count": 31,
      "outputs": []
    },
    {
      "cell_type": "markdown",
      "metadata": {
        "id": "1HOagdArGOr5"
      },
      "source": [
        "Итак, для окончания подготовки данных нам осталось разобраться с категорийными переменными, оставшимися пропусками в InternetService, а также оптимизировать признаки Yes/No. Воспользуемся для этого get_dummies"
      ]
    },
    {
      "cell_type": "code",
      "metadata": {
        "id": "4vy2P_C9AdyA",
        "trusted": false
      },
      "source": [
        "df = pd.get_dummies(df, columns = ['Type', 'PaperlessBilling', 'PaymentMethod',\n",
        "       'gender', 'Partner', 'Dependents', 'InternetService', 'OnlineSecurity', 'OnlineBackup',\n",
        "       'DeviceProtection', 'TechSupport', 'StreamingTV', 'StreamingMovies', 'MultipleLines'], \n",
        "       drop_first = True)\n",
        "\n",
        "# df.info()"
      ],
      "execution_count": 32,
      "outputs": []
    },
    {
      "cell_type": "markdown",
      "metadata": {
        "id": "4I-2NKWmMKGl"
      },
      "source": [
        "Напоследок удалим последний лишний столбец, не несущий полезной информации для дальнейшего анализа - это customerID"
      ]
    },
    {
      "cell_type": "code",
      "metadata": {
        "id": "ZhSVx4A2McWJ",
        "trusted": false
      },
      "source": [
        "df.drop('customerID', axis =1, inplace = True)\n",
        "# df.info()"
      ],
      "execution_count": 33,
      "outputs": []
    },
    {
      "cell_type": "markdown",
      "metadata": {
        "id": "M0VR3PsKNDXK"
      },
      "source": [
        "Теперь наши данные готовы, перейдём к анализу Целевого признака и попробуем найти закономерности с помощью кластеризации"
      ]
    },
    {
      "cell_type": "code",
      "metadata": {
        "trusted": false,
        "colab": {
          "base_uri": "https://localhost:8080/",
          "height": 456
        },
        "id": "zRaB63P_1yvl",
        "outputId": "50f5041a-fa79-44d8-cee5-19a2aa00dd82"
      },
      "source": [
        "df"
      ],
      "execution_count": 34,
      "outputs": [
        {
          "output_type": "execute_result",
          "data": {
            "text/html": [
              "<div>\n",
              "<style scoped>\n",
              "    .dataframe tbody tr th:only-of-type {\n",
              "        vertical-align: middle;\n",
              "    }\n",
              "\n",
              "    .dataframe tbody tr th {\n",
              "        vertical-align: top;\n",
              "    }\n",
              "\n",
              "    .dataframe thead th {\n",
              "        text-align: right;\n",
              "    }\n",
              "</style>\n",
              "<table border=\"1\" class=\"dataframe\">\n",
              "  <thead>\n",
              "    <tr style=\"text-align: right;\">\n",
              "      <th></th>\n",
              "      <th>MonthlyCharges</th>\n",
              "      <th>TotalCharges</th>\n",
              "      <th>SeniorCitizen</th>\n",
              "      <th>finished</th>\n",
              "      <th>duration_M</th>\n",
              "      <th>HaveInternet</th>\n",
              "      <th>HavePhone</th>\n",
              "      <th>Type_One year</th>\n",
              "      <th>Type_Two year</th>\n",
              "      <th>PaperlessBilling_Yes</th>\n",
              "      <th>PaymentMethod_Credit card (automatic)</th>\n",
              "      <th>PaymentMethod_Electronic check</th>\n",
              "      <th>PaymentMethod_Mailed check</th>\n",
              "      <th>gender_Male</th>\n",
              "      <th>Partner_Yes</th>\n",
              "      <th>Dependents_Yes</th>\n",
              "      <th>InternetService_Fiber optic</th>\n",
              "      <th>OnlineSecurity_Yes</th>\n",
              "      <th>OnlineBackup_Yes</th>\n",
              "      <th>DeviceProtection_Yes</th>\n",
              "      <th>TechSupport_Yes</th>\n",
              "      <th>StreamingTV_Yes</th>\n",
              "      <th>StreamingMovies_Yes</th>\n",
              "      <th>MultipleLines_Yes</th>\n",
              "    </tr>\n",
              "  </thead>\n",
              "  <tbody>\n",
              "    <tr>\n",
              "      <th>0</th>\n",
              "      <td>29.85</td>\n",
              "      <td>29.85</td>\n",
              "      <td>0</td>\n",
              "      <td>0</td>\n",
              "      <td>2678400000000000</td>\n",
              "      <td>1</td>\n",
              "      <td>0</td>\n",
              "      <td>0</td>\n",
              "      <td>0</td>\n",
              "      <td>1</td>\n",
              "      <td>0</td>\n",
              "      <td>1</td>\n",
              "      <td>0</td>\n",
              "      <td>0</td>\n",
              "      <td>1</td>\n",
              "      <td>0</td>\n",
              "      <td>0</td>\n",
              "      <td>0</td>\n",
              "      <td>1</td>\n",
              "      <td>0</td>\n",
              "      <td>0</td>\n",
              "      <td>0</td>\n",
              "      <td>0</td>\n",
              "      <td>0</td>\n",
              "    </tr>\n",
              "    <tr>\n",
              "      <th>1</th>\n",
              "      <td>56.95</td>\n",
              "      <td>1889.50</td>\n",
              "      <td>0</td>\n",
              "      <td>0</td>\n",
              "      <td>89510400000000000</td>\n",
              "      <td>1</td>\n",
              "      <td>1</td>\n",
              "      <td>1</td>\n",
              "      <td>0</td>\n",
              "      <td>0</td>\n",
              "      <td>0</td>\n",
              "      <td>0</td>\n",
              "      <td>1</td>\n",
              "      <td>1</td>\n",
              "      <td>0</td>\n",
              "      <td>0</td>\n",
              "      <td>0</td>\n",
              "      <td>1</td>\n",
              "      <td>0</td>\n",
              "      <td>1</td>\n",
              "      <td>0</td>\n",
              "      <td>0</td>\n",
              "      <td>0</td>\n",
              "      <td>0</td>\n",
              "    </tr>\n",
              "    <tr>\n",
              "      <th>2</th>\n",
              "      <td>53.85</td>\n",
              "      <td>108.15</td>\n",
              "      <td>0</td>\n",
              "      <td>1</td>\n",
              "      <td>5270400000000000</td>\n",
              "      <td>1</td>\n",
              "      <td>1</td>\n",
              "      <td>0</td>\n",
              "      <td>0</td>\n",
              "      <td>1</td>\n",
              "      <td>0</td>\n",
              "      <td>0</td>\n",
              "      <td>1</td>\n",
              "      <td>1</td>\n",
              "      <td>0</td>\n",
              "      <td>0</td>\n",
              "      <td>0</td>\n",
              "      <td>1</td>\n",
              "      <td>1</td>\n",
              "      <td>0</td>\n",
              "      <td>0</td>\n",
              "      <td>0</td>\n",
              "      <td>0</td>\n",
              "      <td>0</td>\n",
              "    </tr>\n",
              "    <tr>\n",
              "      <th>3</th>\n",
              "      <td>42.30</td>\n",
              "      <td>1840.75</td>\n",
              "      <td>0</td>\n",
              "      <td>0</td>\n",
              "      <td>118454400000000000</td>\n",
              "      <td>1</td>\n",
              "      <td>0</td>\n",
              "      <td>1</td>\n",
              "      <td>0</td>\n",
              "      <td>0</td>\n",
              "      <td>0</td>\n",
              "      <td>0</td>\n",
              "      <td>0</td>\n",
              "      <td>1</td>\n",
              "      <td>0</td>\n",
              "      <td>0</td>\n",
              "      <td>0</td>\n",
              "      <td>1</td>\n",
              "      <td>0</td>\n",
              "      <td>1</td>\n",
              "      <td>1</td>\n",
              "      <td>0</td>\n",
              "      <td>0</td>\n",
              "      <td>0</td>\n",
              "    </tr>\n",
              "    <tr>\n",
              "      <th>4</th>\n",
              "      <td>70.70</td>\n",
              "      <td>151.65</td>\n",
              "      <td>0</td>\n",
              "      <td>1</td>\n",
              "      <td>5270400000000000</td>\n",
              "      <td>1</td>\n",
              "      <td>1</td>\n",
              "      <td>0</td>\n",
              "      <td>0</td>\n",
              "      <td>1</td>\n",
              "      <td>0</td>\n",
              "      <td>1</td>\n",
              "      <td>0</td>\n",
              "      <td>0</td>\n",
              "      <td>0</td>\n",
              "      <td>0</td>\n",
              "      <td>1</td>\n",
              "      <td>0</td>\n",
              "      <td>0</td>\n",
              "      <td>0</td>\n",
              "      <td>0</td>\n",
              "      <td>0</td>\n",
              "      <td>0</td>\n",
              "      <td>0</td>\n",
              "    </tr>\n",
              "    <tr>\n",
              "      <th>...</th>\n",
              "      <td>...</td>\n",
              "      <td>...</td>\n",
              "      <td>...</td>\n",
              "      <td>...</td>\n",
              "      <td>...</td>\n",
              "      <td>...</td>\n",
              "      <td>...</td>\n",
              "      <td>...</td>\n",
              "      <td>...</td>\n",
              "      <td>...</td>\n",
              "      <td>...</td>\n",
              "      <td>...</td>\n",
              "      <td>...</td>\n",
              "      <td>...</td>\n",
              "      <td>...</td>\n",
              "      <td>...</td>\n",
              "      <td>...</td>\n",
              "      <td>...</td>\n",
              "      <td>...</td>\n",
              "      <td>...</td>\n",
              "      <td>...</td>\n",
              "      <td>...</td>\n",
              "      <td>...</td>\n",
              "      <td>...</td>\n",
              "    </tr>\n",
              "    <tr>\n",
              "      <th>7027</th>\n",
              "      <td>84.80</td>\n",
              "      <td>1990.50</td>\n",
              "      <td>0</td>\n",
              "      <td>0</td>\n",
              "      <td>63072000000000000</td>\n",
              "      <td>1</td>\n",
              "      <td>1</td>\n",
              "      <td>1</td>\n",
              "      <td>0</td>\n",
              "      <td>1</td>\n",
              "      <td>0</td>\n",
              "      <td>0</td>\n",
              "      <td>1</td>\n",
              "      <td>1</td>\n",
              "      <td>1</td>\n",
              "      <td>1</td>\n",
              "      <td>0</td>\n",
              "      <td>1</td>\n",
              "      <td>0</td>\n",
              "      <td>1</td>\n",
              "      <td>1</td>\n",
              "      <td>1</td>\n",
              "      <td>1</td>\n",
              "      <td>1</td>\n",
              "    </tr>\n",
              "    <tr>\n",
              "      <th>7028</th>\n",
              "      <td>103.20</td>\n",
              "      <td>7362.90</td>\n",
              "      <td>0</td>\n",
              "      <td>0</td>\n",
              "      <td>189302400000000000</td>\n",
              "      <td>1</td>\n",
              "      <td>1</td>\n",
              "      <td>1</td>\n",
              "      <td>0</td>\n",
              "      <td>1</td>\n",
              "      <td>1</td>\n",
              "      <td>0</td>\n",
              "      <td>0</td>\n",
              "      <td>0</td>\n",
              "      <td>1</td>\n",
              "      <td>1</td>\n",
              "      <td>1</td>\n",
              "      <td>0</td>\n",
              "      <td>1</td>\n",
              "      <td>1</td>\n",
              "      <td>0</td>\n",
              "      <td>1</td>\n",
              "      <td>1</td>\n",
              "      <td>1</td>\n",
              "    </tr>\n",
              "    <tr>\n",
              "      <th>7029</th>\n",
              "      <td>29.60</td>\n",
              "      <td>346.45</td>\n",
              "      <td>0</td>\n",
              "      <td>0</td>\n",
              "      <td>29116800000000000</td>\n",
              "      <td>1</td>\n",
              "      <td>0</td>\n",
              "      <td>0</td>\n",
              "      <td>0</td>\n",
              "      <td>1</td>\n",
              "      <td>0</td>\n",
              "      <td>1</td>\n",
              "      <td>0</td>\n",
              "      <td>0</td>\n",
              "      <td>1</td>\n",
              "      <td>1</td>\n",
              "      <td>0</td>\n",
              "      <td>1</td>\n",
              "      <td>0</td>\n",
              "      <td>0</td>\n",
              "      <td>0</td>\n",
              "      <td>0</td>\n",
              "      <td>0</td>\n",
              "      <td>0</td>\n",
              "    </tr>\n",
              "    <tr>\n",
              "      <th>7030</th>\n",
              "      <td>74.40</td>\n",
              "      <td>306.60</td>\n",
              "      <td>1</td>\n",
              "      <td>1</td>\n",
              "      <td>10627200000000000</td>\n",
              "      <td>1</td>\n",
              "      <td>1</td>\n",
              "      <td>0</td>\n",
              "      <td>0</td>\n",
              "      <td>1</td>\n",
              "      <td>0</td>\n",
              "      <td>0</td>\n",
              "      <td>1</td>\n",
              "      <td>1</td>\n",
              "      <td>1</td>\n",
              "      <td>0</td>\n",
              "      <td>1</td>\n",
              "      <td>0</td>\n",
              "      <td>0</td>\n",
              "      <td>0</td>\n",
              "      <td>0</td>\n",
              "      <td>0</td>\n",
              "      <td>0</td>\n",
              "      <td>1</td>\n",
              "    </tr>\n",
              "    <tr>\n",
              "      <th>7031</th>\n",
              "      <td>105.65</td>\n",
              "      <td>6844.50</td>\n",
              "      <td>0</td>\n",
              "      <td>0</td>\n",
              "      <td>173664000000000000</td>\n",
              "      <td>1</td>\n",
              "      <td>1</td>\n",
              "      <td>0</td>\n",
              "      <td>1</td>\n",
              "      <td>1</td>\n",
              "      <td>0</td>\n",
              "      <td>0</td>\n",
              "      <td>0</td>\n",
              "      <td>1</td>\n",
              "      <td>0</td>\n",
              "      <td>0</td>\n",
              "      <td>1</td>\n",
              "      <td>1</td>\n",
              "      <td>0</td>\n",
              "      <td>1</td>\n",
              "      <td>1</td>\n",
              "      <td>1</td>\n",
              "      <td>1</td>\n",
              "      <td>0</td>\n",
              "    </tr>\n",
              "  </tbody>\n",
              "</table>\n",
              "<p>7032 rows × 24 columns</p>\n",
              "</div>"
            ],
            "text/plain": [
              "      MonthlyCharges  TotalCharges  ...  StreamingMovies_Yes  MultipleLines_Yes\n",
              "0              29.85         29.85  ...                    0                  0\n",
              "1              56.95       1889.50  ...                    0                  0\n",
              "2              53.85        108.15  ...                    0                  0\n",
              "3              42.30       1840.75  ...                    0                  0\n",
              "4              70.70        151.65  ...                    0                  0\n",
              "...              ...           ...  ...                  ...                ...\n",
              "7027           84.80       1990.50  ...                    1                  1\n",
              "7028          103.20       7362.90  ...                    1                  1\n",
              "7029           29.60        346.45  ...                    0                  0\n",
              "7030           74.40        306.60  ...                    0                  1\n",
              "7031          105.65       6844.50  ...                    1                  0\n",
              "\n",
              "[7032 rows x 24 columns]"
            ]
          },
          "metadata": {},
          "execution_count": 34
        }
      ]
    },
    {
      "cell_type": "markdown",
      "metadata": {
        "id": "nTHpswrYNYGJ"
      },
      "source": [
        "## Исследование целевого признака и Кластеризации"
      ]
    },
    {
      "cell_type": "code",
      "metadata": {
        "colab": {
          "base_uri": "https://localhost:8080/"
        },
        "id": "K0x7GSgsPKKi",
        "trusted": false,
        "outputId": "45f4d11d-b479-48f6-97e3-b9634f75220d"
      },
      "source": [
        "df['finished'].value_counts(normalize = True).round(2)"
      ],
      "execution_count": 35,
      "outputs": [
        {
          "output_type": "execute_result",
          "data": {
            "text/plain": [
              "0    0.73\n",
              "1    0.27\n",
              "Name: finished, dtype: float64"
            ]
          },
          "metadata": {},
          "execution_count": 35
        }
      ]
    },
    {
      "cell_type": "markdown",
      "metadata": {
        "id": "gmQo0EU9P0ZA"
      },
      "source": [
        "Только 27% исходной таблицы составляют ушедшие клиенты, а это значит, что мы имеем дело с несбалансированной бинарной классификацией. Посмотрим есть ли какие-то визуально выделяющиеся зависимости. Для начала получим списки бинарных и числовых столбцов"
      ]
    },
    {
      "cell_type": "code",
      "metadata": {
        "id": "7ojPQNAppWWw",
        "trusted": false
      },
      "source": [
        "num_col = []\n",
        "bin_col = []\n",
        "\n",
        "for col in df.columns.drop('finished'):\n",
        "  if len(df[col].value_counts()) < 3:\n",
        "    bin_col.append(df[col].name)\n",
        "  else:\n",
        "    num_col.append(df[col].name)"
      ],
      "execution_count": 36,
      "outputs": []
    },
    {
      "cell_type": "markdown",
      "metadata": {
        "id": "P7v550EWqMJX"
      },
      "source": [
        "Теперь с помощью группировок посмотрим на различие в бинарных столбцах"
      ]
    },
    {
      "cell_type": "code",
      "metadata": {
        "colab": {
          "base_uri": "https://localhost:8080/",
          "height": 1000
        },
        "id": "-UsvMlUqScpI",
        "trusted": false,
        "outputId": "10392c3d-429c-4207-b897-4aca621340ad"
      },
      "source": [
        "for col in bin_col:\n",
        "  display(df.groupby(col)['finished'].agg(['mean', 'count']))"
      ],
      "execution_count": 37,
      "outputs": [
        {
          "output_type": "display_data",
          "data": {
            "text/html": [
              "<div>\n",
              "<style scoped>\n",
              "    .dataframe tbody tr th:only-of-type {\n",
              "        vertical-align: middle;\n",
              "    }\n",
              "\n",
              "    .dataframe tbody tr th {\n",
              "        vertical-align: top;\n",
              "    }\n",
              "\n",
              "    .dataframe thead th {\n",
              "        text-align: right;\n",
              "    }\n",
              "</style>\n",
              "<table border=\"1\" class=\"dataframe\">\n",
              "  <thead>\n",
              "    <tr style=\"text-align: right;\">\n",
              "      <th></th>\n",
              "      <th>mean</th>\n",
              "      <th>count</th>\n",
              "    </tr>\n",
              "    <tr>\n",
              "      <th>SeniorCitizen</th>\n",
              "      <th></th>\n",
              "      <th></th>\n",
              "    </tr>\n",
              "  </thead>\n",
              "  <tbody>\n",
              "    <tr>\n",
              "      <th>0</th>\n",
              "      <td>0.236503</td>\n",
              "      <td>5890</td>\n",
              "    </tr>\n",
              "    <tr>\n",
              "      <th>1</th>\n",
              "      <td>0.416813</td>\n",
              "      <td>1142</td>\n",
              "    </tr>\n",
              "  </tbody>\n",
              "</table>\n",
              "</div>"
            ],
            "text/plain": [
              "                   mean  count\n",
              "SeniorCitizen                 \n",
              "0              0.236503   5890\n",
              "1              0.416813   1142"
            ]
          },
          "metadata": {}
        },
        {
          "output_type": "display_data",
          "data": {
            "text/html": [
              "<div>\n",
              "<style scoped>\n",
              "    .dataframe tbody tr th:only-of-type {\n",
              "        vertical-align: middle;\n",
              "    }\n",
              "\n",
              "    .dataframe tbody tr th {\n",
              "        vertical-align: top;\n",
              "    }\n",
              "\n",
              "    .dataframe thead th {\n",
              "        text-align: right;\n",
              "    }\n",
              "</style>\n",
              "<table border=\"1\" class=\"dataframe\">\n",
              "  <thead>\n",
              "    <tr style=\"text-align: right;\">\n",
              "      <th></th>\n",
              "      <th>mean</th>\n",
              "      <th>count</th>\n",
              "    </tr>\n",
              "    <tr>\n",
              "      <th>HaveInternet</th>\n",
              "      <th></th>\n",
              "      <th></th>\n",
              "    </tr>\n",
              "  </thead>\n",
              "  <tbody>\n",
              "    <tr>\n",
              "      <th>0</th>\n",
              "      <td>0.074342</td>\n",
              "      <td>1520</td>\n",
              "    </tr>\n",
              "    <tr>\n",
              "      <th>1</th>\n",
              "      <td>0.318578</td>\n",
              "      <td>5512</td>\n",
              "    </tr>\n",
              "  </tbody>\n",
              "</table>\n",
              "</div>"
            ],
            "text/plain": [
              "                  mean  count\n",
              "HaveInternet                 \n",
              "0             0.074342   1520\n",
              "1             0.318578   5512"
            ]
          },
          "metadata": {}
        },
        {
          "output_type": "display_data",
          "data": {
            "text/html": [
              "<div>\n",
              "<style scoped>\n",
              "    .dataframe tbody tr th:only-of-type {\n",
              "        vertical-align: middle;\n",
              "    }\n",
              "\n",
              "    .dataframe tbody tr th {\n",
              "        vertical-align: top;\n",
              "    }\n",
              "\n",
              "    .dataframe thead th {\n",
              "        text-align: right;\n",
              "    }\n",
              "</style>\n",
              "<table border=\"1\" class=\"dataframe\">\n",
              "  <thead>\n",
              "    <tr style=\"text-align: right;\">\n",
              "      <th></th>\n",
              "      <th>mean</th>\n",
              "      <th>count</th>\n",
              "    </tr>\n",
              "    <tr>\n",
              "      <th>HavePhone</th>\n",
              "      <th></th>\n",
              "      <th></th>\n",
              "    </tr>\n",
              "  </thead>\n",
              "  <tbody>\n",
              "    <tr>\n",
              "      <th>0</th>\n",
              "      <td>0.250000</td>\n",
              "      <td>680</td>\n",
              "    </tr>\n",
              "    <tr>\n",
              "      <th>1</th>\n",
              "      <td>0.267475</td>\n",
              "      <td>6352</td>\n",
              "    </tr>\n",
              "  </tbody>\n",
              "</table>\n",
              "</div>"
            ],
            "text/plain": [
              "               mean  count\n",
              "HavePhone                 \n",
              "0          0.250000    680\n",
              "1          0.267475   6352"
            ]
          },
          "metadata": {}
        },
        {
          "output_type": "display_data",
          "data": {
            "text/html": [
              "<div>\n",
              "<style scoped>\n",
              "    .dataframe tbody tr th:only-of-type {\n",
              "        vertical-align: middle;\n",
              "    }\n",
              "\n",
              "    .dataframe tbody tr th {\n",
              "        vertical-align: top;\n",
              "    }\n",
              "\n",
              "    .dataframe thead th {\n",
              "        text-align: right;\n",
              "    }\n",
              "</style>\n",
              "<table border=\"1\" class=\"dataframe\">\n",
              "  <thead>\n",
              "    <tr style=\"text-align: right;\">\n",
              "      <th></th>\n",
              "      <th>mean</th>\n",
              "      <th>count</th>\n",
              "    </tr>\n",
              "    <tr>\n",
              "      <th>Type_One year</th>\n",
              "      <th></th>\n",
              "      <th></th>\n",
              "    </tr>\n",
              "  </thead>\n",
              "  <tbody>\n",
              "    <tr>\n",
              "      <th>0</th>\n",
              "      <td>0.306295</td>\n",
              "      <td>5560</td>\n",
              "    </tr>\n",
              "    <tr>\n",
              "      <th>1</th>\n",
              "      <td>0.112772</td>\n",
              "      <td>1472</td>\n",
              "    </tr>\n",
              "  </tbody>\n",
              "</table>\n",
              "</div>"
            ],
            "text/plain": [
              "                   mean  count\n",
              "Type_One year                 \n",
              "0              0.306295   5560\n",
              "1              0.112772   1472"
            ]
          },
          "metadata": {}
        },
        {
          "output_type": "display_data",
          "data": {
            "text/html": [
              "<div>\n",
              "<style scoped>\n",
              "    .dataframe tbody tr th:only-of-type {\n",
              "        vertical-align: middle;\n",
              "    }\n",
              "\n",
              "    .dataframe tbody tr th {\n",
              "        vertical-align: top;\n",
              "    }\n",
              "\n",
              "    .dataframe thead th {\n",
              "        text-align: right;\n",
              "    }\n",
              "</style>\n",
              "<table border=\"1\" class=\"dataframe\">\n",
              "  <thead>\n",
              "    <tr style=\"text-align: right;\">\n",
              "      <th></th>\n",
              "      <th>mean</th>\n",
              "      <th>count</th>\n",
              "    </tr>\n",
              "    <tr>\n",
              "      <th>Type_Two year</th>\n",
              "      <th></th>\n",
              "      <th></th>\n",
              "    </tr>\n",
              "  </thead>\n",
              "  <tbody>\n",
              "    <tr>\n",
              "      <th>0</th>\n",
              "      <td>0.340565</td>\n",
              "      <td>5347</td>\n",
              "    </tr>\n",
              "    <tr>\n",
              "      <th>1</th>\n",
              "      <td>0.028487</td>\n",
              "      <td>1685</td>\n",
              "    </tr>\n",
              "  </tbody>\n",
              "</table>\n",
              "</div>"
            ],
            "text/plain": [
              "                   mean  count\n",
              "Type_Two year                 \n",
              "0              0.340565   5347\n",
              "1              0.028487   1685"
            ]
          },
          "metadata": {}
        },
        {
          "output_type": "display_data",
          "data": {
            "text/html": [
              "<div>\n",
              "<style scoped>\n",
              "    .dataframe tbody tr th:only-of-type {\n",
              "        vertical-align: middle;\n",
              "    }\n",
              "\n",
              "    .dataframe tbody tr th {\n",
              "        vertical-align: top;\n",
              "    }\n",
              "\n",
              "    .dataframe thead th {\n",
              "        text-align: right;\n",
              "    }\n",
              "</style>\n",
              "<table border=\"1\" class=\"dataframe\">\n",
              "  <thead>\n",
              "    <tr style=\"text-align: right;\">\n",
              "      <th></th>\n",
              "      <th>mean</th>\n",
              "      <th>count</th>\n",
              "    </tr>\n",
              "    <tr>\n",
              "      <th>PaperlessBilling_Yes</th>\n",
              "      <th></th>\n",
              "      <th></th>\n",
              "    </tr>\n",
              "  </thead>\n",
              "  <tbody>\n",
              "    <tr>\n",
              "      <th>0</th>\n",
              "      <td>0.163757</td>\n",
              "      <td>2864</td>\n",
              "    </tr>\n",
              "    <tr>\n",
              "      <th>1</th>\n",
              "      <td>0.335893</td>\n",
              "      <td>4168</td>\n",
              "    </tr>\n",
              "  </tbody>\n",
              "</table>\n",
              "</div>"
            ],
            "text/plain": [
              "                          mean  count\n",
              "PaperlessBilling_Yes                 \n",
              "0                     0.163757   2864\n",
              "1                     0.335893   4168"
            ]
          },
          "metadata": {}
        },
        {
          "output_type": "display_data",
          "data": {
            "text/html": [
              "<div>\n",
              "<style scoped>\n",
              "    .dataframe tbody tr th:only-of-type {\n",
              "        vertical-align: middle;\n",
              "    }\n",
              "\n",
              "    .dataframe tbody tr th {\n",
              "        vertical-align: top;\n",
              "    }\n",
              "\n",
              "    .dataframe thead th {\n",
              "        text-align: right;\n",
              "    }\n",
              "</style>\n",
              "<table border=\"1\" class=\"dataframe\">\n",
              "  <thead>\n",
              "    <tr style=\"text-align: right;\">\n",
              "      <th></th>\n",
              "      <th>mean</th>\n",
              "      <th>count</th>\n",
              "    </tr>\n",
              "    <tr>\n",
              "      <th>PaymentMethod_Credit card (automatic)</th>\n",
              "      <th></th>\n",
              "      <th></th>\n",
              "    </tr>\n",
              "  </thead>\n",
              "  <tbody>\n",
              "    <tr>\n",
              "      <th>0</th>\n",
              "      <td>0.297042</td>\n",
              "      <td>5511</td>\n",
              "    </tr>\n",
              "    <tr>\n",
              "      <th>1</th>\n",
              "      <td>0.152531</td>\n",
              "      <td>1521</td>\n",
              "    </tr>\n",
              "  </tbody>\n",
              "</table>\n",
              "</div>"
            ],
            "text/plain": [
              "                                           mean  count\n",
              "PaymentMethod_Credit card (automatic)                 \n",
              "0                                      0.297042   5511\n",
              "1                                      0.152531   1521"
            ]
          },
          "metadata": {}
        },
        {
          "output_type": "display_data",
          "data": {
            "text/html": [
              "<div>\n",
              "<style scoped>\n",
              "    .dataframe tbody tr th:only-of-type {\n",
              "        vertical-align: middle;\n",
              "    }\n",
              "\n",
              "    .dataframe tbody tr th {\n",
              "        vertical-align: top;\n",
              "    }\n",
              "\n",
              "    .dataframe thead th {\n",
              "        text-align: right;\n",
              "    }\n",
              "</style>\n",
              "<table border=\"1\" class=\"dataframe\">\n",
              "  <thead>\n",
              "    <tr style=\"text-align: right;\">\n",
              "      <th></th>\n",
              "      <th>mean</th>\n",
              "      <th>count</th>\n",
              "    </tr>\n",
              "    <tr>\n",
              "      <th>PaymentMethod_Electronic check</th>\n",
              "      <th></th>\n",
              "      <th></th>\n",
              "    </tr>\n",
              "  </thead>\n",
              "  <tbody>\n",
              "    <tr>\n",
              "      <th>0</th>\n",
              "      <td>0.170988</td>\n",
              "      <td>4667</td>\n",
              "    </tr>\n",
              "    <tr>\n",
              "      <th>1</th>\n",
              "      <td>0.452854</td>\n",
              "      <td>2365</td>\n",
              "    </tr>\n",
              "  </tbody>\n",
              "</table>\n",
              "</div>"
            ],
            "text/plain": [
              "                                    mean  count\n",
              "PaymentMethod_Electronic check                 \n",
              "0                               0.170988   4667\n",
              "1                               0.452854   2365"
            ]
          },
          "metadata": {}
        },
        {
          "output_type": "display_data",
          "data": {
            "text/html": [
              "<div>\n",
              "<style scoped>\n",
              "    .dataframe tbody tr th:only-of-type {\n",
              "        vertical-align: middle;\n",
              "    }\n",
              "\n",
              "    .dataframe tbody tr th {\n",
              "        vertical-align: top;\n",
              "    }\n",
              "\n",
              "    .dataframe thead th {\n",
              "        text-align: right;\n",
              "    }\n",
              "</style>\n",
              "<table border=\"1\" class=\"dataframe\">\n",
              "  <thead>\n",
              "    <tr style=\"text-align: right;\">\n",
              "      <th></th>\n",
              "      <th>mean</th>\n",
              "      <th>count</th>\n",
              "    </tr>\n",
              "    <tr>\n",
              "      <th>PaymentMethod_Mailed check</th>\n",
              "      <th></th>\n",
              "      <th></th>\n",
              "    </tr>\n",
              "  </thead>\n",
              "  <tbody>\n",
              "    <tr>\n",
              "      <th>0</th>\n",
              "      <td>0.287583</td>\n",
              "      <td>5428</td>\n",
              "    </tr>\n",
              "    <tr>\n",
              "      <th>1</th>\n",
              "      <td>0.192020</td>\n",
              "      <td>1604</td>\n",
              "    </tr>\n",
              "  </tbody>\n",
              "</table>\n",
              "</div>"
            ],
            "text/plain": [
              "                                mean  count\n",
              "PaymentMethod_Mailed check                 \n",
              "0                           0.287583   5428\n",
              "1                           0.192020   1604"
            ]
          },
          "metadata": {}
        },
        {
          "output_type": "display_data",
          "data": {
            "text/html": [
              "<div>\n",
              "<style scoped>\n",
              "    .dataframe tbody tr th:only-of-type {\n",
              "        vertical-align: middle;\n",
              "    }\n",
              "\n",
              "    .dataframe tbody tr th {\n",
              "        vertical-align: top;\n",
              "    }\n",
              "\n",
              "    .dataframe thead th {\n",
              "        text-align: right;\n",
              "    }\n",
              "</style>\n",
              "<table border=\"1\" class=\"dataframe\">\n",
              "  <thead>\n",
              "    <tr style=\"text-align: right;\">\n",
              "      <th></th>\n",
              "      <th>mean</th>\n",
              "      <th>count</th>\n",
              "    </tr>\n",
              "    <tr>\n",
              "      <th>gender_Male</th>\n",
              "      <th></th>\n",
              "      <th></th>\n",
              "    </tr>\n",
              "  </thead>\n",
              "  <tbody>\n",
              "    <tr>\n",
              "      <th>0</th>\n",
              "      <td>0.269595</td>\n",
              "      <td>3483</td>\n",
              "    </tr>\n",
              "    <tr>\n",
              "      <th>1</th>\n",
              "      <td>0.262046</td>\n",
              "      <td>3549</td>\n",
              "    </tr>\n",
              "  </tbody>\n",
              "</table>\n",
              "</div>"
            ],
            "text/plain": [
              "                 mean  count\n",
              "gender_Male                 \n",
              "0            0.269595   3483\n",
              "1            0.262046   3549"
            ]
          },
          "metadata": {}
        },
        {
          "output_type": "display_data",
          "data": {
            "text/html": [
              "<div>\n",
              "<style scoped>\n",
              "    .dataframe tbody tr th:only-of-type {\n",
              "        vertical-align: middle;\n",
              "    }\n",
              "\n",
              "    .dataframe tbody tr th {\n",
              "        vertical-align: top;\n",
              "    }\n",
              "\n",
              "    .dataframe thead th {\n",
              "        text-align: right;\n",
              "    }\n",
              "</style>\n",
              "<table border=\"1\" class=\"dataframe\">\n",
              "  <thead>\n",
              "    <tr style=\"text-align: right;\">\n",
              "      <th></th>\n",
              "      <th>mean</th>\n",
              "      <th>count</th>\n",
              "    </tr>\n",
              "    <tr>\n",
              "      <th>Partner_Yes</th>\n",
              "      <th></th>\n",
              "      <th></th>\n",
              "    </tr>\n",
              "  </thead>\n",
              "  <tbody>\n",
              "    <tr>\n",
              "      <th>0</th>\n",
              "      <td>0.329761</td>\n",
              "      <td>3639</td>\n",
              "    </tr>\n",
              "    <tr>\n",
              "      <th>1</th>\n",
              "      <td>0.197171</td>\n",
              "      <td>3393</td>\n",
              "    </tr>\n",
              "  </tbody>\n",
              "</table>\n",
              "</div>"
            ],
            "text/plain": [
              "                 mean  count\n",
              "Partner_Yes                 \n",
              "0            0.329761   3639\n",
              "1            0.197171   3393"
            ]
          },
          "metadata": {}
        },
        {
          "output_type": "display_data",
          "data": {
            "text/html": [
              "<div>\n",
              "<style scoped>\n",
              "    .dataframe tbody tr th:only-of-type {\n",
              "        vertical-align: middle;\n",
              "    }\n",
              "\n",
              "    .dataframe tbody tr th {\n",
              "        vertical-align: top;\n",
              "    }\n",
              "\n",
              "    .dataframe thead th {\n",
              "        text-align: right;\n",
              "    }\n",
              "</style>\n",
              "<table border=\"1\" class=\"dataframe\">\n",
              "  <thead>\n",
              "    <tr style=\"text-align: right;\">\n",
              "      <th></th>\n",
              "      <th>mean</th>\n",
              "      <th>count</th>\n",
              "    </tr>\n",
              "    <tr>\n",
              "      <th>Dependents_Yes</th>\n",
              "      <th></th>\n",
              "      <th></th>\n",
              "    </tr>\n",
              "  </thead>\n",
              "  <tbody>\n",
              "    <tr>\n",
              "      <th>0</th>\n",
              "      <td>0.312791</td>\n",
              "      <td>4933</td>\n",
              "    </tr>\n",
              "    <tr>\n",
              "      <th>1</th>\n",
              "      <td>0.155312</td>\n",
              "      <td>2099</td>\n",
              "    </tr>\n",
              "  </tbody>\n",
              "</table>\n",
              "</div>"
            ],
            "text/plain": [
              "                    mean  count\n",
              "Dependents_Yes                 \n",
              "0               0.312791   4933\n",
              "1               0.155312   2099"
            ]
          },
          "metadata": {}
        },
        {
          "output_type": "display_data",
          "data": {
            "text/html": [
              "<div>\n",
              "<style scoped>\n",
              "    .dataframe tbody tr th:only-of-type {\n",
              "        vertical-align: middle;\n",
              "    }\n",
              "\n",
              "    .dataframe tbody tr th {\n",
              "        vertical-align: top;\n",
              "    }\n",
              "\n",
              "    .dataframe thead th {\n",
              "        text-align: right;\n",
              "    }\n",
              "</style>\n",
              "<table border=\"1\" class=\"dataframe\">\n",
              "  <thead>\n",
              "    <tr style=\"text-align: right;\">\n",
              "      <th></th>\n",
              "      <th>mean</th>\n",
              "      <th>count</th>\n",
              "    </tr>\n",
              "    <tr>\n",
              "      <th>InternetService_Fiber optic</th>\n",
              "      <th></th>\n",
              "      <th></th>\n",
              "    </tr>\n",
              "  </thead>\n",
              "  <tbody>\n",
              "    <tr>\n",
              "      <th>0</th>\n",
              "      <td>0.145325</td>\n",
              "      <td>3936</td>\n",
              "    </tr>\n",
              "    <tr>\n",
              "      <th>1</th>\n",
              "      <td>0.418928</td>\n",
              "      <td>3096</td>\n",
              "    </tr>\n",
              "  </tbody>\n",
              "</table>\n",
              "</div>"
            ],
            "text/plain": [
              "                                 mean  count\n",
              "InternetService_Fiber optic                 \n",
              "0                            0.145325   3936\n",
              "1                            0.418928   3096"
            ]
          },
          "metadata": {}
        },
        {
          "output_type": "display_data",
          "data": {
            "text/html": [
              "<div>\n",
              "<style scoped>\n",
              "    .dataframe tbody tr th:only-of-type {\n",
              "        vertical-align: middle;\n",
              "    }\n",
              "\n",
              "    .dataframe tbody tr th {\n",
              "        vertical-align: top;\n",
              "    }\n",
              "\n",
              "    .dataframe thead th {\n",
              "        text-align: right;\n",
              "    }\n",
              "</style>\n",
              "<table border=\"1\" class=\"dataframe\">\n",
              "  <thead>\n",
              "    <tr style=\"text-align: right;\">\n",
              "      <th></th>\n",
              "      <th>mean</th>\n",
              "      <th>count</th>\n",
              "    </tr>\n",
              "    <tr>\n",
              "      <th>OnlineSecurity_Yes</th>\n",
              "      <th></th>\n",
              "      <th></th>\n",
              "    </tr>\n",
              "  </thead>\n",
              "  <tbody>\n",
              "    <tr>\n",
              "      <th>0</th>\n",
              "      <td>0.313733</td>\n",
              "      <td>5017</td>\n",
              "    </tr>\n",
              "    <tr>\n",
              "      <th>1</th>\n",
              "      <td>0.146402</td>\n",
              "      <td>2015</td>\n",
              "    </tr>\n",
              "  </tbody>\n",
              "</table>\n",
              "</div>"
            ],
            "text/plain": [
              "                        mean  count\n",
              "OnlineSecurity_Yes                 \n",
              "0                   0.313733   5017\n",
              "1                   0.146402   2015"
            ]
          },
          "metadata": {}
        },
        {
          "output_type": "display_data",
          "data": {
            "text/html": [
              "<div>\n",
              "<style scoped>\n",
              "    .dataframe tbody tr th:only-of-type {\n",
              "        vertical-align: middle;\n",
              "    }\n",
              "\n",
              "    .dataframe tbody tr th {\n",
              "        vertical-align: top;\n",
              "    }\n",
              "\n",
              "    .dataframe thead th {\n",
              "        text-align: right;\n",
              "    }\n",
              "</style>\n",
              "<table border=\"1\" class=\"dataframe\">\n",
              "  <thead>\n",
              "    <tr style=\"text-align: right;\">\n",
              "      <th></th>\n",
              "      <th>mean</th>\n",
              "      <th>count</th>\n",
              "    </tr>\n",
              "    <tr>\n",
              "      <th>OnlineBackup_Yes</th>\n",
              "      <th></th>\n",
              "      <th></th>\n",
              "    </tr>\n",
              "  </thead>\n",
              "  <tbody>\n",
              "    <tr>\n",
              "      <th>0</th>\n",
              "      <td>0.292164</td>\n",
              "      <td>4607</td>\n",
              "    </tr>\n",
              "    <tr>\n",
              "      <th>1</th>\n",
              "      <td>0.215670</td>\n",
              "      <td>2425</td>\n",
              "    </tr>\n",
              "  </tbody>\n",
              "</table>\n",
              "</div>"
            ],
            "text/plain": [
              "                      mean  count\n",
              "OnlineBackup_Yes                 \n",
              "0                 0.292164   4607\n",
              "1                 0.215670   2425"
            ]
          },
          "metadata": {}
        },
        {
          "output_type": "display_data",
          "data": {
            "text/html": [
              "<div>\n",
              "<style scoped>\n",
              "    .dataframe tbody tr th:only-of-type {\n",
              "        vertical-align: middle;\n",
              "    }\n",
              "\n",
              "    .dataframe tbody tr th {\n",
              "        vertical-align: top;\n",
              "    }\n",
              "\n",
              "    .dataframe thead th {\n",
              "        text-align: right;\n",
              "    }\n",
              "</style>\n",
              "<table border=\"1\" class=\"dataframe\">\n",
              "  <thead>\n",
              "    <tr style=\"text-align: right;\">\n",
              "      <th></th>\n",
              "      <th>mean</th>\n",
              "      <th>count</th>\n",
              "    </tr>\n",
              "    <tr>\n",
              "      <th>DeviceProtection_Yes</th>\n",
              "      <th></th>\n",
              "      <th></th>\n",
              "    </tr>\n",
              "  </thead>\n",
              "  <tbody>\n",
              "    <tr>\n",
              "      <th>0</th>\n",
              "      <td>0.286953</td>\n",
              "      <td>4614</td>\n",
              "    </tr>\n",
              "    <tr>\n",
              "      <th>1</th>\n",
              "      <td>0.225393</td>\n",
              "      <td>2418</td>\n",
              "    </tr>\n",
              "  </tbody>\n",
              "</table>\n",
              "</div>"
            ],
            "text/plain": [
              "                          mean  count\n",
              "DeviceProtection_Yes                 \n",
              "0                     0.286953   4614\n",
              "1                     0.225393   2418"
            ]
          },
          "metadata": {}
        },
        {
          "output_type": "display_data",
          "data": {
            "text/html": [
              "<div>\n",
              "<style scoped>\n",
              "    .dataframe tbody tr th:only-of-type {\n",
              "        vertical-align: middle;\n",
              "    }\n",
              "\n",
              "    .dataframe tbody tr th {\n",
              "        vertical-align: top;\n",
              "    }\n",
              "\n",
              "    .dataframe thead th {\n",
              "        text-align: right;\n",
              "    }\n",
              "</style>\n",
              "<table border=\"1\" class=\"dataframe\">\n",
              "  <thead>\n",
              "    <tr style=\"text-align: right;\">\n",
              "      <th></th>\n",
              "      <th>mean</th>\n",
              "      <th>count</th>\n",
              "    </tr>\n",
              "    <tr>\n",
              "      <th>TechSupport_Yes</th>\n",
              "      <th></th>\n",
              "      <th></th>\n",
              "    </tr>\n",
              "  </thead>\n",
              "  <tbody>\n",
              "    <tr>\n",
              "      <th>0</th>\n",
              "      <td>0.312300</td>\n",
              "      <td>4992</td>\n",
              "    </tr>\n",
              "    <tr>\n",
              "      <th>1</th>\n",
              "      <td>0.151961</td>\n",
              "      <td>2040</td>\n",
              "    </tr>\n",
              "  </tbody>\n",
              "</table>\n",
              "</div>"
            ],
            "text/plain": [
              "                     mean  count\n",
              "TechSupport_Yes                 \n",
              "0                0.312300   4992\n",
              "1                0.151961   2040"
            ]
          },
          "metadata": {}
        },
        {
          "output_type": "display_data",
          "data": {
            "text/html": [
              "<div>\n",
              "<style scoped>\n",
              "    .dataframe tbody tr th:only-of-type {\n",
              "        vertical-align: middle;\n",
              "    }\n",
              "\n",
              "    .dataframe tbody tr th {\n",
              "        vertical-align: top;\n",
              "    }\n",
              "\n",
              "    .dataframe thead th {\n",
              "        text-align: right;\n",
              "    }\n",
              "</style>\n",
              "<table border=\"1\" class=\"dataframe\">\n",
              "  <thead>\n",
              "    <tr style=\"text-align: right;\">\n",
              "      <th></th>\n",
              "      <th>mean</th>\n",
              "      <th>count</th>\n",
              "    </tr>\n",
              "    <tr>\n",
              "      <th>StreamingTV_Yes</th>\n",
              "      <th></th>\n",
              "      <th></th>\n",
              "    </tr>\n",
              "  </thead>\n",
              "  <tbody>\n",
              "    <tr>\n",
              "      <th>0</th>\n",
              "      <td>0.243705</td>\n",
              "      <td>4329</td>\n",
              "    </tr>\n",
              "    <tr>\n",
              "      <th>1</th>\n",
              "      <td>0.301147</td>\n",
              "      <td>2703</td>\n",
              "    </tr>\n",
              "  </tbody>\n",
              "</table>\n",
              "</div>"
            ],
            "text/plain": [
              "                     mean  count\n",
              "StreamingTV_Yes                 \n",
              "0                0.243705   4329\n",
              "1                0.301147   2703"
            ]
          },
          "metadata": {}
        },
        {
          "output_type": "display_data",
          "data": {
            "text/html": [
              "<div>\n",
              "<style scoped>\n",
              "    .dataframe tbody tr th:only-of-type {\n",
              "        vertical-align: middle;\n",
              "    }\n",
              "\n",
              "    .dataframe tbody tr th {\n",
              "        vertical-align: top;\n",
              "    }\n",
              "\n",
              "    .dataframe thead th {\n",
              "        text-align: right;\n",
              "    }\n",
              "</style>\n",
              "<table border=\"1\" class=\"dataframe\">\n",
              "  <thead>\n",
              "    <tr style=\"text-align: right;\">\n",
              "      <th></th>\n",
              "      <th>mean</th>\n",
              "      <th>count</th>\n",
              "    </tr>\n",
              "    <tr>\n",
              "      <th>StreamingMovies_Yes</th>\n",
              "      <th></th>\n",
              "      <th></th>\n",
              "    </tr>\n",
              "  </thead>\n",
              "  <tbody>\n",
              "    <tr>\n",
              "      <th>0</th>\n",
              "      <td>0.244362</td>\n",
              "      <td>4301</td>\n",
              "    </tr>\n",
              "    <tr>\n",
              "      <th>1</th>\n",
              "      <td>0.299524</td>\n",
              "      <td>2731</td>\n",
              "    </tr>\n",
              "  </tbody>\n",
              "</table>\n",
              "</div>"
            ],
            "text/plain": [
              "                         mean  count\n",
              "StreamingMovies_Yes                 \n",
              "0                    0.244362   4301\n",
              "1                    0.299524   2731"
            ]
          },
          "metadata": {}
        },
        {
          "output_type": "display_data",
          "data": {
            "text/html": [
              "<div>\n",
              "<style scoped>\n",
              "    .dataframe tbody tr th:only-of-type {\n",
              "        vertical-align: middle;\n",
              "    }\n",
              "\n",
              "    .dataframe tbody tr th {\n",
              "        vertical-align: top;\n",
              "    }\n",
              "\n",
              "    .dataframe thead th {\n",
              "        text-align: right;\n",
              "    }\n",
              "</style>\n",
              "<table border=\"1\" class=\"dataframe\">\n",
              "  <thead>\n",
              "    <tr style=\"text-align: right;\">\n",
              "      <th></th>\n",
              "      <th>mean</th>\n",
              "      <th>count</th>\n",
              "    </tr>\n",
              "    <tr>\n",
              "      <th>MultipleLines_Yes</th>\n",
              "      <th></th>\n",
              "      <th></th>\n",
              "    </tr>\n",
              "  </thead>\n",
              "  <tbody>\n",
              "    <tr>\n",
              "      <th>0</th>\n",
              "      <td>0.250677</td>\n",
              "      <td>4065</td>\n",
              "    </tr>\n",
              "    <tr>\n",
              "      <th>1</th>\n",
              "      <td>0.286485</td>\n",
              "      <td>2967</td>\n",
              "    </tr>\n",
              "  </tbody>\n",
              "</table>\n",
              "</div>"
            ],
            "text/plain": [
              "                       mean  count\n",
              "MultipleLines_Yes                 \n",
              "0                  0.250677   4065\n",
              "1                  0.286485   2967"
            ]
          },
          "metadata": {}
        }
      ]
    },
    {
      "cell_type": "markdown",
      "metadata": {
        "id": "kwBsDW8grmPg"
      },
      "source": [
        "Исходя из полученных данных, мы можем сказать, что доля отказавшихся пользователей выше среди:\n",
        "- Пользователей старшего возраста\n",
        "- Пользователей интернет услуг\n",
        "- Пользователей с помесячной оплатой\n",
        "- Пользователей, использующих безбумажный чек\n",
        "- Пользователей, оплачивающих через электронный чек\n",
        "- Пользователей без партнера\n",
        "- Пользователей, подключенных через оптоволоконный кабель\n",
        "- Пользователей стримингового телевидения и каталога фильмов\n",
        "- Пользователей не использующих остальные доп. интернет услоуги (онлайн безопасность, бэкапы, защитой устройств, тех поддержкой)\n",
        "\n",
        "А вот не влияет на расторжение договора признаки:\n",
        "- Пользуется ли услугой телефонии\n",
        "- Пол\n",
        "- Использование многоканальной телефонии\n",
        "\n",
        "Теперь также взглянем на числовые переменные, а заодно и проверим корреляцию среди них"
      ]
    },
    {
      "cell_type": "code",
      "metadata": {
        "colab": {
          "base_uri": "https://localhost:8080/",
          "height": 614
        },
        "id": "r8xIDUzlvSx2",
        "trusted": false,
        "outputId": "bf5e68e0-e267-44fc-9313-1ea98659d401"
      },
      "source": [
        "cor = num_col + ['finished']\n",
        "\n",
        "pair_df = df[cor].copy()\n",
        "\n",
        "map_corr = sns.pairplot(pair_df, hue='finished', palette = 'bright')\n",
        "map_corr.fig.suptitle('Scatter plot for num_col', y = 1.1)\n",
        "plt.show()"
      ],
      "execution_count": 38,
      "outputs": [
        {
          "output_type": "display_data",
          "data": {
            "image/png": "[encoded data removed]",
            "text/plain": [
              "<Figure size 587.875x540 with 12 Axes>"
            ]
          },
          "metadata": {
            "needs_background": "light"
          }
        }
      ]
    },
    {
      "cell_type": "markdown",
      "metadata": {
        "id": "YDI0ScajyYnc"
      },
      "source": [
        "По графику мы можем заметить:\n",
        "- Есть большая часть пользователей, кто платит мало за месяц, но при этом они меньше отказываются от наших услуг\n",
        "- Особой зависимости среди уплаченно в течении всего времени клиента и ухода - нет\n",
        "- Время очень сильно влияет на то останется с нами человек или нет - среди недавно подключившихся процент прерывания почи 50%, а вот среди долгих клиентов он уходит почти в ноль.\n",
        "\n",
        "Кроме того заметно как эти три показателя связаны между собой (чем выше месячная плата - тем выше сумма, а также чем дольше человек с нами - тем выше месячная плата), что конечно же логично. Однако это может привести к проблеме Мультиколлениарности. Проверим с помощью phik\n"
      ]
    },
    {
      "cell_type": "code",
      "metadata": {
        "colab": {
          "base_uri": "https://localhost:8080/",
          "height": 190
        },
        "id": "tAdoswNI4J4H",
        "trusted": false,
        "outputId": "9e6e21be-e0c0-445f-e26f-fe628e4f917f"
      },
      "source": [
        "phik = pair_df.phik_matrix()\n",
        "phik.round(2)"
      ],
      "execution_count": 39,
      "outputs": [
        {
          "output_type": "stream",
          "name": "stdout",
          "text": [
            "interval columns not set, guessing: ['MonthlyCharges', 'TotalCharges', 'duration_M', 'finished']\n"
          ]
        },
        {
          "output_type": "execute_result",
          "data": {
            "text/html": [
              "<div>\n",
              "<style scoped>\n",
              "    .dataframe tbody tr th:only-of-type {\n",
              "        vertical-align: middle;\n",
              "    }\n",
              "\n",
              "    .dataframe tbody tr th {\n",
              "        vertical-align: top;\n",
              "    }\n",
              "\n",
              "    .dataframe thead th {\n",
              "        text-align: right;\n",
              "    }\n",
              "</style>\n",
              "<table border=\"1\" class=\"dataframe\">\n",
              "  <thead>\n",
              "    <tr style=\"text-align: right;\">\n",
              "      <th></th>\n",
              "      <th>MonthlyCharges</th>\n",
              "      <th>TotalCharges</th>\n",
              "      <th>duration_M</th>\n",
              "      <th>finished</th>\n",
              "    </tr>\n",
              "  </thead>\n",
              "  <tbody>\n",
              "    <tr>\n",
              "      <th>MonthlyCharges</th>\n",
              "      <td>1.00</td>\n",
              "      <td>0.76</td>\n",
              "      <td>0.40</td>\n",
              "      <td>0.36</td>\n",
              "    </tr>\n",
              "    <tr>\n",
              "      <th>TotalCharges</th>\n",
              "      <td>0.76</td>\n",
              "      <td>1.00</td>\n",
              "      <td>0.84</td>\n",
              "      <td>0.28</td>\n",
              "    </tr>\n",
              "    <tr>\n",
              "      <th>duration_M</th>\n",
              "      <td>0.40</td>\n",
              "      <td>0.84</td>\n",
              "      <td>1.00</td>\n",
              "      <td>0.42</td>\n",
              "    </tr>\n",
              "    <tr>\n",
              "      <th>finished</th>\n",
              "      <td>0.36</td>\n",
              "      <td>0.28</td>\n",
              "      <td>0.42</td>\n",
              "      <td>1.00</td>\n",
              "    </tr>\n",
              "  </tbody>\n",
              "</table>\n",
              "</div>"
            ],
            "text/plain": [
              "                MonthlyCharges  TotalCharges  duration_M  finished\n",
              "MonthlyCharges            1.00          0.76        0.40      0.36\n",
              "TotalCharges              0.76          1.00        0.84      0.28\n",
              "duration_M                0.40          0.84        1.00      0.42\n",
              "finished                  0.36          0.28        0.42      1.00"
            ]
          },
          "metadata": {},
          "execution_count": 39
        }
      ]
    },
    {
      "cell_type": "markdown",
      "metadata": {
        "id": "nrdtLBo34JCV"
      },
      "source": [
        "Как и предполагалось, у столбцов duration_M показатель к TotalCharges выше порога в 0.9, поэтому мы уберём этот столбец (при этом полнота данных сохранится)\n",
        "\n",
        "Попробуем выделить кластеры в наших финансовых показателях. Для начала подберёмя количество кластеров с помощью метода локтя"
      ]
    },
    {
      "cell_type": "code",
      "metadata": {
        "colab": {
          "base_uri": "https://localhost:8080/",
          "height": 513
        },
        "id": "_dSavYep1Hx3",
        "trusted": false,
        "outputId": "4160ed6d-f990-4851-bfe7-6fcf0fa05d82"
      },
      "source": [
        "k_df = df[['MonthlyCharges', 'TotalCharges']].copy()\n",
        "\n",
        "distortion = []\n",
        "K = range(1, 10)\n",
        "\n",
        "for k in K:\n",
        "    Kmodel = KMeans(n_clusters = k, random_state = rand_stat)\n",
        "    Kmodel.fit(k_df)\n",
        "    distortion.append(Kmodel.inertia_) \n",
        "\n",
        "plt.figure(figsize=(12, 8))\n",
        "plt.plot(K, distortion, 'bx-')\n",
        "plt.title('График локтя для кластеризации на признаках Суммарная и Месячная оплата')\n",
        "plt.xlabel('Кластеры')\n",
        "plt.ylabel('K-means score')\n",
        "plt.show() "
      ],
      "execution_count": 40,
      "outputs": [
        {
          "output_type": "display_data",
          "data": {
            "image/png": "[encoded data removed]",
            "text/plain": [
              "<Figure size 864x576 with 1 Axes>"
            ]
          },
          "metadata": {
            "needs_background": "light"
          }
        }
      ]
    },
    {
      "cell_type": "markdown",
      "metadata": {
        "id": "6u6VkKyh4gbd"
      },
      "source": [
        "Исходя из графика выберем 3 кластера, посмотрим как выглядит это разделение"
      ]
    },
    {
      "cell_type": "code",
      "metadata": {
        "colab": {
          "base_uri": "https://localhost:8080/",
          "height": 486
        },
        "id": "bvkj8pZF4fHW",
        "trusted": false,
        "outputId": "08c2347d-52c1-4e4d-fb65-dd79332e6469"
      },
      "source": [
        "Kmodel = KMeans(n_clusters = 3, random_state = rand_stat)\n",
        "Kmodel.fit(k_df)\n",
        "\n",
        "k_df['fin_group'] = Kmodel.labels_\n",
        "map_K = sns.pairplot(k_df, hue='fin_group', palette = 'bright')\n",
        "map_K.fig.suptitle('Scatter plot for K-means', y = 1.1)\n",
        "plt.show()\n",
        "\n",
        "k_df['fin_group'].value_counts()"
      ],
      "execution_count": 41,
      "outputs": [
        {
          "output_type": "display_data",
          "data": {
            "image/png": "[encoded data removed]",
            "text/plain": [
              "<Figure size 414.75x360 with 6 Axes>"
            ]
          },
          "metadata": {
            "needs_background": "light"
          }
        },
        {
          "output_type": "execute_result",
          "data": {
            "text/plain": [
              "1    4166\n",
              "2    1611\n",
              "0    1255\n",
              "Name: fin_group, dtype: int64"
            ]
          },
          "metadata": {},
          "execution_count": 41
        }
      ]
    },
    {
      "cell_type": "markdown",
      "metadata": {
        "id": "XBvCIOXA8O1w"
      },
      "source": [
        "Как мы видим получились интересный кластеры, делящие наш сет на 3 чётких денежных сегмента, схожий с RFM аналитикой. Единственное - для машинного обучения и лучшей читаемости будет изменить наименования групп от наименне экономически выгодной до наиболее (где 0 - это группа с наименьшими оплатами). Добавим этот столбец в нашу большую таблицу"
      ]
    },
    {
      "cell_type": "code",
      "metadata": {
        "colab": {
          "base_uri": "https://localhost:8080/"
        },
        "id": "wwu60MFLQN4Y",
        "trusted": false,
        "outputId": "15610cb0-431b-49b9-f207-92d9ff7dff12"
      },
      "source": [
        "df.columns"
      ],
      "execution_count": 42,
      "outputs": [
        {
          "output_type": "execute_result",
          "data": {
            "text/plain": [
              "Index(['MonthlyCharges', 'TotalCharges', 'SeniorCitizen', 'finished',\n",
              "       'duration_M', 'HaveInternet', 'HavePhone', 'Type_One year',\n",
              "       'Type_Two year', 'PaperlessBilling_Yes',\n",
              "       'PaymentMethod_Credit card (automatic)',\n",
              "       'PaymentMethod_Electronic check', 'PaymentMethod_Mailed check',\n",
              "       'gender_Male', 'Partner_Yes', 'Dependents_Yes',\n",
              "       'InternetService_Fiber optic', 'OnlineSecurity_Yes', 'OnlineBackup_Yes',\n",
              "       'DeviceProtection_Yes', 'TechSupport_Yes', 'StreamingTV_Yes',\n",
              "       'StreamingMovies_Yes', 'MultipleLines_Yes'],\n",
              "      dtype='object')"
            ]
          },
          "metadata": {},
          "execution_count": 42
        }
      ]
    },
    {
      "cell_type": "code",
      "metadata": {
        "colab": {
          "base_uri": "https://localhost:8080/",
          "height": 173
        },
        "id": "whip2vUh8zbK",
        "trusted": false,
        "outputId": "c4b43a74-c445-478e-90b5-d110cd901669"
      },
      "source": [
        "df['fin_group'] = Kmodel.labels_\n",
        "\n",
        "df['fin_group'] = df['fin_group'].map({1:0, 2:1, 0:2})\n",
        "\n",
        "display(df.groupby(['fin_group'])['finished'].agg(['mean', 'count']))"
      ],
      "execution_count": 43,
      "outputs": [
        {
          "output_type": "display_data",
          "data": {
            "text/html": [
              "<div>\n",
              "<style scoped>\n",
              "    .dataframe tbody tr th:only-of-type {\n",
              "        vertical-align: middle;\n",
              "    }\n",
              "\n",
              "    .dataframe tbody tr th {\n",
              "        vertical-align: top;\n",
              "    }\n",
              "\n",
              "    .dataframe thead th {\n",
              "        text-align: right;\n",
              "    }\n",
              "</style>\n",
              "<table border=\"1\" class=\"dataframe\">\n",
              "  <thead>\n",
              "    <tr style=\"text-align: right;\">\n",
              "      <th></th>\n",
              "      <th>mean</th>\n",
              "      <th>count</th>\n",
              "    </tr>\n",
              "    <tr>\n",
              "      <th>fin_group</th>\n",
              "      <th></th>\n",
              "      <th></th>\n",
              "    </tr>\n",
              "  </thead>\n",
              "  <tbody>\n",
              "    <tr>\n",
              "      <th>0</th>\n",
              "      <td>0.320931</td>\n",
              "      <td>4166</td>\n",
              "    </tr>\n",
              "    <tr>\n",
              "      <th>1</th>\n",
              "      <td>0.222843</td>\n",
              "      <td>1611</td>\n",
              "    </tr>\n",
              "    <tr>\n",
              "      <th>2</th>\n",
              "      <td>0.137849</td>\n",
              "      <td>1255</td>\n",
              "    </tr>\n",
              "  </tbody>\n",
              "</table>\n",
              "</div>"
            ],
            "text/plain": [
              "               mean  count\n",
              "fin_group                 \n",
              "0          0.320931   4166\n",
              "1          0.222843   1611\n",
              "2          0.137849   1255"
            ]
          },
          "metadata": {}
        }
      ]
    },
    {
      "cell_type": "markdown",
      "metadata": {
        "id": "XZJu8tLzRH5a"
      },
      "source": [
        "Выявленные кластеры показывают сильную зависимость с целевым признаком: у сегмента 0 выше процент прекративших сотрудничество (почти треть), у 1 сегмента меньше и самое малое у 2 сегмента (только 14%)\n",
        "\n",
        "Данные подготовлены, теперь разбобъём наши данные для использования в машинном обучении"
      ]
    },
    {
      "cell_type": "markdown",
      "metadata": {
        "id": "MmMqvIRe1yvx"
      },
      "source": [
        ""
      ]
    },
    {
      "cell_type": "markdown",
      "metadata": {
        "id": "SUhO3NO1RyTK"
      },
      "source": [
        "## Подготовка обучающей и тестовой выборок"
      ]
    },
    {
      "cell_type": "markdown",
      "metadata": {
        "id": "BFvVM3KIVebk"
      },
      "source": [
        "Вначале поделим на обучаюие и целевой признаки, а также выделим тестовую часть для финальной проверки модели"
      ]
    },
    {
      "cell_type": "code",
      "metadata": {
        "id": "q_Wkom0tSBbJ",
        "trusted": false
      },
      "source": [
        "features = df.drop(['finished', 'TotalCharges'], axis = 1)\n",
        "target = df['finished']\n",
        "\n",
        "X_train, X_test, y_train, y_test = train_test_split(features, target, test_size = 0.2, random_state = rand_stat, stratify = target)"
      ],
      "execution_count": 44,
      "outputs": []
    },
    {
      "cell_type": "markdown",
      "metadata": {
        "id": "9Qnm7iuWVzGN"
      },
      "source": [
        "Учитывая, что у нас есть числовые значения разных разбросов - нормализуем их"
      ]
    },
    {
      "cell_type": "code",
      "metadata": {
        "colab": {
          "base_uri": "https://localhost:8080/"
        },
        "id": "aeu0c4z8X31b",
        "trusted": false,
        "outputId": "ddddcfdc-3617-463d-9772-da9dba2df5ce"
      },
      "source": [
        "num_col = ['MonthlyCharges', 'duration_M']\n",
        "\n",
        "scaler = StandardScaler()\n",
        "\n",
        "X_train[num_col] = scaler.fit_transform(X_train[num_col])\n",
        "X_test[num_col] = scaler.transform(X_test[num_col])"
      ],
      "execution_count": 45,
      "outputs": [
        {
          "output_type": "stream",
          "name": "stderr",
          "text": [
            "/usr/local/lib/python3.7/dist-packages/ipykernel_launcher.py:5: SettingWithCopyWarning: \n",
            "A value is trying to be set on a copy of a slice from a DataFrame.\n",
            "Try using .loc[row_indexer,col_indexer] = value instead\n",
            "\n",
            "See the caveats in the documentation: https://pandas.pydata.org/pandas-docs/stable/user_guide/indexing.html#returning-a-view-versus-a-copy\n",
            "  \"\"\"\n",
            "/usr/local/lib/python3.7/dist-packages/pandas/core/indexing.py:1734: SettingWithCopyWarning: \n",
            "A value is trying to be set on a copy of a slice from a DataFrame.\n",
            "Try using .loc[row_indexer,col_indexer] = value instead\n",
            "\n",
            "See the caveats in the documentation: https://pandas.pydata.org/pandas-docs/stable/user_guide/indexing.html#returning-a-view-versus-a-copy\n",
            "  isetter(loc, value[:, i].tolist())\n",
            "/usr/local/lib/python3.7/dist-packages/ipykernel_launcher.py:6: SettingWithCopyWarning: \n",
            "A value is trying to be set on a copy of a slice from a DataFrame.\n",
            "Try using .loc[row_indexer,col_indexer] = value instead\n",
            "\n",
            "See the caveats in the documentation: https://pandas.pydata.org/pandas-docs/stable/user_guide/indexing.html#returning-a-view-versus-a-copy\n",
            "  \n",
            "/usr/local/lib/python3.7/dist-packages/pandas/core/indexing.py:1734: SettingWithCopyWarning: \n",
            "A value is trying to be set on a copy of a slice from a DataFrame.\n",
            "Try using .loc[row_indexer,col_indexer] = value instead\n",
            "\n",
            "See the caveats in the documentation: https://pandas.pydata.org/pandas-docs/stable/user_guide/indexing.html#returning-a-view-versus-a-copy\n",
            "  isetter(loc, value[:, i].tolist())\n"
          ]
        }
      ]
    },
    {
      "cell_type": "markdown",
      "metadata": {
        "id": "ZIMrZxeKYSfn"
      },
      "source": [
        "Теперь данные готовы, приступим к моделям"
      ]
    },
    {
      "cell_type": "code",
      "metadata": {
        "trusted": false,
        "colab": {
          "base_uri": "https://localhost:8080/",
          "height": 456
        },
        "id": "x8_iqA6e1yv0",
        "outputId": "d0fe42fa-57f0-4db9-84d9-c7f79307523d"
      },
      "source": [
        "features"
      ],
      "execution_count": 46,
      "outputs": [
        {
          "output_type": "execute_result",
          "data": {
            "text/html": [
              "<div>\n",
              "<style scoped>\n",
              "    .dataframe tbody tr th:only-of-type {\n",
              "        vertical-align: middle;\n",
              "    }\n",
              "\n",
              "    .dataframe tbody tr th {\n",
              "        vertical-align: top;\n",
              "    }\n",
              "\n",
              "    .dataframe thead th {\n",
              "        text-align: right;\n",
              "    }\n",
              "</style>\n",
              "<table border=\"1\" class=\"dataframe\">\n",
              "  <thead>\n",
              "    <tr style=\"text-align: right;\">\n",
              "      <th></th>\n",
              "      <th>MonthlyCharges</th>\n",
              "      <th>SeniorCitizen</th>\n",
              "      <th>duration_M</th>\n",
              "      <th>HaveInternet</th>\n",
              "      <th>HavePhone</th>\n",
              "      <th>Type_One year</th>\n",
              "      <th>Type_Two year</th>\n",
              "      <th>PaperlessBilling_Yes</th>\n",
              "      <th>PaymentMethod_Credit card (automatic)</th>\n",
              "      <th>PaymentMethod_Electronic check</th>\n",
              "      <th>PaymentMethod_Mailed check</th>\n",
              "      <th>gender_Male</th>\n",
              "      <th>Partner_Yes</th>\n",
              "      <th>Dependents_Yes</th>\n",
              "      <th>InternetService_Fiber optic</th>\n",
              "      <th>OnlineSecurity_Yes</th>\n",
              "      <th>OnlineBackup_Yes</th>\n",
              "      <th>DeviceProtection_Yes</th>\n",
              "      <th>TechSupport_Yes</th>\n",
              "      <th>StreamingTV_Yes</th>\n",
              "      <th>StreamingMovies_Yes</th>\n",
              "      <th>MultipleLines_Yes</th>\n",
              "      <th>fin_group</th>\n",
              "    </tr>\n",
              "  </thead>\n",
              "  <tbody>\n",
              "    <tr>\n",
              "      <th>0</th>\n",
              "      <td>29.85</td>\n",
              "      <td>0</td>\n",
              "      <td>2678400000000000</td>\n",
              "      <td>1</td>\n",
              "      <td>0</td>\n",
              "      <td>0</td>\n",
              "      <td>0</td>\n",
              "      <td>1</td>\n",
              "      <td>0</td>\n",
              "      <td>1</td>\n",
              "      <td>0</td>\n",
              "      <td>0</td>\n",
              "      <td>1</td>\n",
              "      <td>0</td>\n",
              "      <td>0</td>\n",
              "      <td>0</td>\n",
              "      <td>1</td>\n",
              "      <td>0</td>\n",
              "      <td>0</td>\n",
              "      <td>0</td>\n",
              "      <td>0</td>\n",
              "      <td>0</td>\n",
              "      <td>0</td>\n",
              "    </tr>\n",
              "    <tr>\n",
              "      <th>1</th>\n",
              "      <td>56.95</td>\n",
              "      <td>0</td>\n",
              "      <td>89510400000000000</td>\n",
              "      <td>1</td>\n",
              "      <td>1</td>\n",
              "      <td>1</td>\n",
              "      <td>0</td>\n",
              "      <td>0</td>\n",
              "      <td>0</td>\n",
              "      <td>0</td>\n",
              "      <td>1</td>\n",
              "      <td>1</td>\n",
              "      <td>0</td>\n",
              "      <td>0</td>\n",
              "      <td>0</td>\n",
              "      <td>1</td>\n",
              "      <td>0</td>\n",
              "      <td>1</td>\n",
              "      <td>0</td>\n",
              "      <td>0</td>\n",
              "      <td>0</td>\n",
              "      <td>0</td>\n",
              "      <td>0</td>\n",
              "    </tr>\n",
              "    <tr>\n",
              "      <th>2</th>\n",
              "      <td>53.85</td>\n",
              "      <td>0</td>\n",
              "      <td>5270400000000000</td>\n",
              "      <td>1</td>\n",
              "      <td>1</td>\n",
              "      <td>0</td>\n",
              "      <td>0</td>\n",
              "      <td>1</td>\n",
              "      <td>0</td>\n",
              "      <td>0</td>\n",
              "      <td>1</td>\n",
              "      <td>1</td>\n",
              "      <td>0</td>\n",
              "      <td>0</td>\n",
              "      <td>0</td>\n",
              "      <td>1</td>\n",
              "      <td>1</td>\n",
              "      <td>0</td>\n",
              "      <td>0</td>\n",
              "      <td>0</td>\n",
              "      <td>0</td>\n",
              "      <td>0</td>\n",
              "      <td>0</td>\n",
              "    </tr>\n",
              "    <tr>\n",
              "      <th>3</th>\n",
              "      <td>42.30</td>\n",
              "      <td>0</td>\n",
              "      <td>118454400000000000</td>\n",
              "      <td>1</td>\n",
              "      <td>0</td>\n",
              "      <td>1</td>\n",
              "      <td>0</td>\n",
              "      <td>0</td>\n",
              "      <td>0</td>\n",
              "      <td>0</td>\n",
              "      <td>0</td>\n",
              "      <td>1</td>\n",
              "      <td>0</td>\n",
              "      <td>0</td>\n",
              "      <td>0</td>\n",
              "      <td>1</td>\n",
              "      <td>0</td>\n",
              "      <td>1</td>\n",
              "      <td>1</td>\n",
              "      <td>0</td>\n",
              "      <td>0</td>\n",
              "      <td>0</td>\n",
              "      <td>0</td>\n",
              "    </tr>\n",
              "    <tr>\n",
              "      <th>4</th>\n",
              "      <td>70.70</td>\n",
              "      <td>0</td>\n",
              "      <td>5270400000000000</td>\n",
              "      <td>1</td>\n",
              "      <td>1</td>\n",
              "      <td>0</td>\n",
              "      <td>0</td>\n",
              "      <td>1</td>\n",
              "      <td>0</td>\n",
              "      <td>1</td>\n",
              "      <td>0</td>\n",
              "      <td>0</td>\n",
              "      <td>0</td>\n",
              "      <td>0</td>\n",
              "      <td>1</td>\n",
              "      <td>0</td>\n",
              "      <td>0</td>\n",
              "      <td>0</td>\n",
              "      <td>0</td>\n",
              "      <td>0</td>\n",
              "      <td>0</td>\n",
              "      <td>0</td>\n",
              "      <td>0</td>\n",
              "    </tr>\n",
              "    <tr>\n",
              "      <th>...</th>\n",
              "      <td>...</td>\n",
              "      <td>...</td>\n",
              "      <td>...</td>\n",
              "      <td>...</td>\n",
              "      <td>...</td>\n",
              "      <td>...</td>\n",
              "      <td>...</td>\n",
              "      <td>...</td>\n",
              "      <td>...</td>\n",
              "      <td>...</td>\n",
              "      <td>...</td>\n",
              "      <td>...</td>\n",
              "      <td>...</td>\n",
              "      <td>...</td>\n",
              "      <td>...</td>\n",
              "      <td>...</td>\n",
              "      <td>...</td>\n",
              "      <td>...</td>\n",
              "      <td>...</td>\n",
              "      <td>...</td>\n",
              "      <td>...</td>\n",
              "      <td>...</td>\n",
              "      <td>...</td>\n",
              "    </tr>\n",
              "    <tr>\n",
              "      <th>7027</th>\n",
              "      <td>84.80</td>\n",
              "      <td>0</td>\n",
              "      <td>63072000000000000</td>\n",
              "      <td>1</td>\n",
              "      <td>1</td>\n",
              "      <td>1</td>\n",
              "      <td>0</td>\n",
              "      <td>1</td>\n",
              "      <td>0</td>\n",
              "      <td>0</td>\n",
              "      <td>1</td>\n",
              "      <td>1</td>\n",
              "      <td>1</td>\n",
              "      <td>1</td>\n",
              "      <td>0</td>\n",
              "      <td>1</td>\n",
              "      <td>0</td>\n",
              "      <td>1</td>\n",
              "      <td>1</td>\n",
              "      <td>1</td>\n",
              "      <td>1</td>\n",
              "      <td>1</td>\n",
              "      <td>1</td>\n",
              "    </tr>\n",
              "    <tr>\n",
              "      <th>7028</th>\n",
              "      <td>103.20</td>\n",
              "      <td>0</td>\n",
              "      <td>189302400000000000</td>\n",
              "      <td>1</td>\n",
              "      <td>1</td>\n",
              "      <td>1</td>\n",
              "      <td>0</td>\n",
              "      <td>1</td>\n",
              "      <td>1</td>\n",
              "      <td>0</td>\n",
              "      <td>0</td>\n",
              "      <td>0</td>\n",
              "      <td>1</td>\n",
              "      <td>1</td>\n",
              "      <td>1</td>\n",
              "      <td>0</td>\n",
              "      <td>1</td>\n",
              "      <td>1</td>\n",
              "      <td>0</td>\n",
              "      <td>1</td>\n",
              "      <td>1</td>\n",
              "      <td>1</td>\n",
              "      <td>2</td>\n",
              "    </tr>\n",
              "    <tr>\n",
              "      <th>7029</th>\n",
              "      <td>29.60</td>\n",
              "      <td>0</td>\n",
              "      <td>29116800000000000</td>\n",
              "      <td>1</td>\n",
              "      <td>0</td>\n",
              "      <td>0</td>\n",
              "      <td>0</td>\n",
              "      <td>1</td>\n",
              "      <td>0</td>\n",
              "      <td>1</td>\n",
              "      <td>0</td>\n",
              "      <td>0</td>\n",
              "      <td>1</td>\n",
              "      <td>1</td>\n",
              "      <td>0</td>\n",
              "      <td>1</td>\n",
              "      <td>0</td>\n",
              "      <td>0</td>\n",
              "      <td>0</td>\n",
              "      <td>0</td>\n",
              "      <td>0</td>\n",
              "      <td>0</td>\n",
              "      <td>0</td>\n",
              "    </tr>\n",
              "    <tr>\n",
              "      <th>7030</th>\n",
              "      <td>74.40</td>\n",
              "      <td>1</td>\n",
              "      <td>10627200000000000</td>\n",
              "      <td>1</td>\n",
              "      <td>1</td>\n",
              "      <td>0</td>\n",
              "      <td>0</td>\n",
              "      <td>1</td>\n",
              "      <td>0</td>\n",
              "      <td>0</td>\n",
              "      <td>1</td>\n",
              "      <td>1</td>\n",
              "      <td>1</td>\n",
              "      <td>0</td>\n",
              "      <td>1</td>\n",
              "      <td>0</td>\n",
              "      <td>0</td>\n",
              "      <td>0</td>\n",
              "      <td>0</td>\n",
              "      <td>0</td>\n",
              "      <td>0</td>\n",
              "      <td>1</td>\n",
              "      <td>0</td>\n",
              "    </tr>\n",
              "    <tr>\n",
              "      <th>7031</th>\n",
              "      <td>105.65</td>\n",
              "      <td>0</td>\n",
              "      <td>173664000000000000</td>\n",
              "      <td>1</td>\n",
              "      <td>1</td>\n",
              "      <td>0</td>\n",
              "      <td>1</td>\n",
              "      <td>1</td>\n",
              "      <td>0</td>\n",
              "      <td>0</td>\n",
              "      <td>0</td>\n",
              "      <td>1</td>\n",
              "      <td>0</td>\n",
              "      <td>0</td>\n",
              "      <td>1</td>\n",
              "      <td>1</td>\n",
              "      <td>0</td>\n",
              "      <td>1</td>\n",
              "      <td>1</td>\n",
              "      <td>1</td>\n",
              "      <td>1</td>\n",
              "      <td>0</td>\n",
              "      <td>2</td>\n",
              "    </tr>\n",
              "  </tbody>\n",
              "</table>\n",
              "<p>7032 rows × 23 columns</p>\n",
              "</div>"
            ],
            "text/plain": [
              "      MonthlyCharges  SeniorCitizen  ...  MultipleLines_Yes  fin_group\n",
              "0              29.85              0  ...                  0          0\n",
              "1              56.95              0  ...                  0          0\n",
              "2              53.85              0  ...                  0          0\n",
              "3              42.30              0  ...                  0          0\n",
              "4              70.70              0  ...                  0          0\n",
              "...              ...            ...  ...                ...        ...\n",
              "7027           84.80              0  ...                  1          1\n",
              "7028          103.20              0  ...                  1          2\n",
              "7029           29.60              0  ...                  0          0\n",
              "7030           74.40              1  ...                  1          0\n",
              "7031          105.65              0  ...                  0          2\n",
              "\n",
              "[7032 rows x 23 columns]"
            ]
          },
          "metadata": {},
          "execution_count": 46
        }
      ]
    },
    {
      "cell_type": "markdown",
      "metadata": {
        "id": "IW6gwTOdE1pf"
      },
      "source": [
        "# Настройка и подбор лучших моделей машинного обучения"
      ]
    },
    {
      "cell_type": "markdown",
      "metadata": {
        "id": "4lPaVgtAainh"
      },
      "source": [
        "Запишем функцию для подбора лучшей модели"
      ]
    },
    {
      "cell_type": "code",
      "metadata": {
        "id": "pKFTkNa6Lo-9",
        "trusted": false
      },
      "source": [
        "def grid(name, model, params):\n",
        "  clf = GridSearchCV(estimator = model, param_grid = params, cv = 5, scoring = 'roc_auc', n_jobs = -1)\n",
        "  clf.fit(X_train, y_train)\n",
        "  print('Parametrs of best Model', clf.best_estimator_)\n",
        "  res = pd.DataFrame({'ROC-AUC_train': round(clf.best_score_, 4)}, index = [name])\n",
        "  display(res)\n",
        "  return clf.best_estimator_"
      ],
      "execution_count": 47,
      "outputs": []
    },
    {
      "cell_type": "markdown",
      "metadata": {
        "id": "5QQ3R3wIE7nD"
      },
      "source": [
        "## Random Forest"
      ]
    },
    {
      "cell_type": "markdown",
      "metadata": {
        "id": "CcMpidUi5mIp"
      },
      "source": [
        "Возьмём модель случайного леса с выбранным балансированием классов и пройдёмся перебором разных параметров для получения наилучшей модели."
      ]
    },
    {
      "cell_type": "code",
      "metadata": {
        "id": "Ob2xVbwfecUW",
        "trusted": false
      },
      "source": [
        "name_rf = 'RandomForestClassifier'\n",
        "model_rf = RandomForestClassifier(class_weight = 'balanced', random_state = rand_stat)\n",
        "params_rf = {\n",
        "    'max_depth': [5, 10, 15],\n",
        "    'n_estimators': [50, 100],\n",
        "    'min_samples_split' : [4, 8, 16],\n",
        "    'min_samples_leaf' : [2, 6, 10]\n",
        "}"
      ],
      "execution_count": 48,
      "outputs": []
    },
    {
      "cell_type": "code",
      "metadata": {
        "colab": {
          "base_uri": "https://localhost:8080/",
          "height": 216
        },
        "id": "J8FQvq4tMfBG",
        "trusted": false,
        "outputId": "dbefe676-7bf3-4506-e8cf-8cd85f4d54f4"
      },
      "source": [
        "best_rf = grid(name_rf, model_rf, params_rf)"
      ],
      "execution_count": 49,
      "outputs": [
        {
          "output_type": "stream",
          "name": "stdout",
          "text": [
            "Parametrs of best Model RandomForestClassifier(bootstrap=True, ccp_alpha=0.0, class_weight='balanced',\n",
            "                       criterion='gini', max_depth=10, max_features='auto',\n",
            "                       max_leaf_nodes=None, max_samples=None,\n",
            "                       min_impurity_decrease=0.0, min_impurity_split=None,\n",
            "                       min_samples_leaf=2, min_samples_split=16,\n",
            "                       min_weight_fraction_leaf=0.0, n_estimators=100,\n",
            "                       n_jobs=None, oob_score=False, random_state=42, verbose=0,\n",
            "                       warm_start=False)\n"
          ]
        },
        {
          "output_type": "display_data",
          "data": {
            "text/html": [
              "<div>\n",
              "<style scoped>\n",
              "    .dataframe tbody tr th:only-of-type {\n",
              "        vertical-align: middle;\n",
              "    }\n",
              "\n",
              "    .dataframe tbody tr th {\n",
              "        vertical-align: top;\n",
              "    }\n",
              "\n",
              "    .dataframe thead th {\n",
              "        text-align: right;\n",
              "    }\n",
              "</style>\n",
              "<table border=\"1\" class=\"dataframe\">\n",
              "  <thead>\n",
              "    <tr style=\"text-align: right;\">\n",
              "      <th></th>\n",
              "      <th>ROC-AUC_train</th>\n",
              "    </tr>\n",
              "  </thead>\n",
              "  <tbody>\n",
              "    <tr>\n",
              "      <th>RandomForestClassifier</th>\n",
              "      <td>0.8562</td>\n",
              "    </tr>\n",
              "  </tbody>\n",
              "</table>\n",
              "</div>"
            ],
            "text/plain": [
              "                        ROC-AUC_train\n",
              "RandomForestClassifier         0.8562"
            ]
          },
          "metadata": {}
        }
      ]
    },
    {
      "cell_type": "markdown",
      "metadata": {
        "id": "91YDQzqx8vbU"
      },
      "source": [
        "## Logistic Regression"
      ]
    },
    {
      "cell_type": "markdown",
      "metadata": {
        "id": "5Inl43759aFU"
      },
      "source": [
        "Для регресси не так много параметров, но попробуем тоже обучить несколько параметров"
      ]
    },
    {
      "cell_type": "code",
      "metadata": {
        "id": "4gzJbsvQ9aFU",
        "trusted": false
      },
      "source": [
        "name_lr = 'LogisticRegression'\n",
        "model_lr = LogisticRegression(class_weight = 'balanced', random_state = rand_stat)\n",
        "params_lr = {\n",
        "    'solver' : ['newton-cg', 'lbfgs', 'liblinear', 'sag', 'saga'],\n",
        "    'penalty' : ['none', 'l1', 'l2', 'elasticnet'],\n",
        "    'C' : [100, 10, 1.0, 0.1, 0.01]\n",
        "}"
      ],
      "execution_count": 50,
      "outputs": []
    },
    {
      "cell_type": "code",
      "metadata": {
        "colab": {
          "base_uri": "https://localhost:8080/",
          "height": 165
        },
        "id": "7FQiHBEc9aFU",
        "trusted": false,
        "outputId": "5a2c88e0-ca48-4e5e-b501-e564cc0afb78"
      },
      "source": [
        "best_lr = grid(name_lr, model_lr, params_lr)"
      ],
      "execution_count": 51,
      "outputs": [
        {
          "output_type": "stream",
          "name": "stdout",
          "text": [
            "Parametrs of best Model LogisticRegression(C=100, class_weight='balanced', dual=False,\n",
            "                   fit_intercept=True, intercept_scaling=1, l1_ratio=None,\n",
            "                   max_iter=100, multi_class='auto', n_jobs=None, penalty='l2',\n",
            "                   random_state=42, solver='newton-cg', tol=0.0001, verbose=0,\n",
            "                   warm_start=False)\n"
          ]
        },
        {
          "output_type": "display_data",
          "data": {
            "text/html": [
              "<div>\n",
              "<style scoped>\n",
              "    .dataframe tbody tr th:only-of-type {\n",
              "        vertical-align: middle;\n",
              "    }\n",
              "\n",
              "    .dataframe tbody tr th {\n",
              "        vertical-align: top;\n",
              "    }\n",
              "\n",
              "    .dataframe thead th {\n",
              "        text-align: right;\n",
              "    }\n",
              "</style>\n",
              "<table border=\"1\" class=\"dataframe\">\n",
              "  <thead>\n",
              "    <tr style=\"text-align: right;\">\n",
              "      <th></th>\n",
              "      <th>ROC-AUC_train</th>\n",
              "    </tr>\n",
              "  </thead>\n",
              "  <tbody>\n",
              "    <tr>\n",
              "      <th>LogisticRegression</th>\n",
              "      <td>0.8461</td>\n",
              "    </tr>\n",
              "  </tbody>\n",
              "</table>\n",
              "</div>"
            ],
            "text/plain": [
              "                    ROC-AUC_train\n",
              "LogisticRegression         0.8461"
            ]
          },
          "metadata": {}
        }
      ]
    },
    {
      "cell_type": "markdown",
      "metadata": {
        "id": "HoiOGSivBItN"
      },
      "source": [
        "## SGD Classifier"
      ]
    },
    {
      "cell_type": "markdown",
      "metadata": {
        "id": "DlnNNha3BItW"
      },
      "source": [
        "Попробуем модель с Стохастическим градиентным спуском"
      ]
    },
    {
      "cell_type": "code",
      "metadata": {
        "id": "Of-0mFfFBItW",
        "trusted": false
      },
      "source": [
        "name_sgd = 'SGDClassifier'\n",
        "model_sgd = SGDClassifier(class_weight = 'balanced', random_state = rand_stat)\n",
        "params_sgd = {\n",
        "    'fit_intercept': [True, False],\n",
        "    'penalty' : ['l1', 'l2', 'elasticnet'],\n",
        "    'loss': ['hinge', 'log', 'modified_huber', 'squared_hinge','perceptron'],\n",
        "    'alpha': [0.000001,0.00001,0.00005,0.0001,0.0005,0.001]\n",
        "}"
      ],
      "execution_count": 52,
      "outputs": []
    },
    {
      "cell_type": "code",
      "metadata": {
        "colab": {
          "base_uri": "https://localhost:8080/",
          "height": 182
        },
        "id": "cfpOMdiSUTQ6",
        "trusted": false,
        "outputId": "1a808641-be69-4f34-dd7d-ab9bbe23b836"
      },
      "source": [
        "best_sgd = grid(name_sgd, model_sgd, params_sgd)"
      ],
      "execution_count": 53,
      "outputs": [
        {
          "output_type": "stream",
          "name": "stdout",
          "text": [
            "Parametrs of best Model SGDClassifier(alpha=0.001, average=False, class_weight='balanced',\n",
            "              early_stopping=False, epsilon=0.1, eta0=0.0, fit_intercept=False,\n",
            "              l1_ratio=0.15, learning_rate='optimal', loss='log', max_iter=1000,\n",
            "              n_iter_no_change=5, n_jobs=None, penalty='l1', power_t=0.5,\n",
            "              random_state=42, shuffle=True, tol=0.001, validation_fraction=0.1,\n",
            "              verbose=0, warm_start=False)\n"
          ]
        },
        {
          "output_type": "display_data",
          "data": {
            "text/html": [
              "<div>\n",
              "<style scoped>\n",
              "    .dataframe tbody tr th:only-of-type {\n",
              "        vertical-align: middle;\n",
              "    }\n",
              "\n",
              "    .dataframe tbody tr th {\n",
              "        vertical-align: top;\n",
              "    }\n",
              "\n",
              "    .dataframe thead th {\n",
              "        text-align: right;\n",
              "    }\n",
              "</style>\n",
              "<table border=\"1\" class=\"dataframe\">\n",
              "  <thead>\n",
              "    <tr style=\"text-align: right;\">\n",
              "      <th></th>\n",
              "      <th>ROC-AUC_train</th>\n",
              "    </tr>\n",
              "  </thead>\n",
              "  <tbody>\n",
              "    <tr>\n",
              "      <th>SGDClassifier</th>\n",
              "      <td>0.8449</td>\n",
              "    </tr>\n",
              "  </tbody>\n",
              "</table>\n",
              "</div>"
            ],
            "text/plain": [
              "               ROC-AUC_train\n",
              "SGDClassifier         0.8449"
            ]
          },
          "metadata": {}
        }
      ]
    },
    {
      "cell_type": "markdown",
      "metadata": {
        "id": "jXqvfBFQFq5T"
      },
      "source": [
        "## LGBM Classifier"
      ]
    },
    {
      "cell_type": "markdown",
      "metadata": {
        "id": "d0BR9viuFq5h"
      },
      "source": [
        "Попробуем модель градиентным бустингом"
      ]
    },
    {
      "cell_type": "code",
      "metadata": {
        "id": "EILnGfioFq5h",
        "trusted": false
      },
      "source": [
        "name_lgbm = 'LGBMClassifier'\n",
        "model_lgbm = LGBMClassifier(class_weight = 'balanced', random_state = rand_stat)\n",
        "params_lgbm = {\n",
        "    'n_estimators' : [100, 300, 500, 1000],\n",
        "    'depth' : [30, 15, 10, 5],\n",
        "    'learning_rate' : [0.1, 0.01, 0.001]\n",
        "}"
      ],
      "execution_count": 54,
      "outputs": []
    },
    {
      "cell_type": "code",
      "metadata": {
        "colab": {
          "base_uri": "https://localhost:8080/",
          "height": 199
        },
        "id": "Wt-QfWcSUtBg",
        "trusted": false,
        "outputId": "1aac0bbd-3a21-4bf4-db33-203d042ca382"
      },
      "source": [
        "best_lgbm = grid(name_lgbm, model_lgbm, params_lgbm)"
      ],
      "execution_count": 55,
      "outputs": [
        {
          "output_type": "stream",
          "name": "stdout",
          "text": [
            "Parametrs of best Model LGBMClassifier(boosting_type='gbdt', class_weight='balanced',\n",
            "               colsample_bytree=1.0, depth=30, importance_type='split',\n",
            "               learning_rate=0.1, max_depth=-1, min_child_samples=20,\n",
            "               min_child_weight=0.001, min_split_gain=0.0, n_estimators=300,\n",
            "               n_jobs=-1, num_leaves=31, objective=None, random_state=42,\n",
            "               reg_alpha=0.0, reg_lambda=0.0, silent=True, subsample=1.0,\n",
            "               subsample_for_bin=200000, subsample_freq=0)\n"
          ]
        },
        {
          "output_type": "display_data",
          "data": {
            "text/html": [
              "<div>\n",
              "<style scoped>\n",
              "    .dataframe tbody tr th:only-of-type {\n",
              "        vertical-align: middle;\n",
              "    }\n",
              "\n",
              "    .dataframe tbody tr th {\n",
              "        vertical-align: top;\n",
              "    }\n",
              "\n",
              "    .dataframe thead th {\n",
              "        text-align: right;\n",
              "    }\n",
              "</style>\n",
              "<table border=\"1\" class=\"dataframe\">\n",
              "  <thead>\n",
              "    <tr style=\"text-align: right;\">\n",
              "      <th></th>\n",
              "      <th>ROC-AUC_train</th>\n",
              "    </tr>\n",
              "  </thead>\n",
              "  <tbody>\n",
              "    <tr>\n",
              "      <th>LGBMClassifier</th>\n",
              "      <td>0.8949</td>\n",
              "    </tr>\n",
              "  </tbody>\n",
              "</table>\n",
              "</div>"
            ],
            "text/plain": [
              "                ROC-AUC_train\n",
              "LGBMClassifier         0.8949"
            ]
          },
          "metadata": {}
        }
      ]
    },
    {
      "cell_type": "markdown",
      "metadata": {
        "id": "G8jfTHKZLLL9"
      },
      "source": [
        "## CatBoost Classifier"
      ]
    },
    {
      "cell_type": "markdown",
      "metadata": {
        "id": "hN-CCLhXLLMC"
      },
      "source": [
        "Попробуем модель градиентным бустингом"
      ]
    },
    {
      "cell_type": "code",
      "metadata": {
        "id": "xn5AhMecLLMC",
        "trusted": false
      },
      "source": [
        "name_cat = 'CatBoostClassifier'\n",
        "model_cat = CatBoostClassifier(auto_class_weights = 'Balanced', random_seed = rand_stat, verbose=1000)\n",
        "params_cat = {\n",
        "    # 'n_estimators':[100], \n",
        "    'learning_rate':[0.0001, 0.001, 0.01],\n",
        "    'depth' : [7]\n",
        "}"
      ],
      "execution_count": 56,
      "outputs": []
    },
    {
      "cell_type": "code",
      "metadata": {
        "colab": {
          "base_uri": "https://localhost:8080/",
          "height": 131
        },
        "id": "24PsX5JhU9QN",
        "trusted": false,
        "outputId": "368d0fe4-86b3-4bbe-d2fd-9902bbabc4a3"
      },
      "source": [
        "best_cat = grid(name_cat, model_cat, params_cat)"
      ],
      "execution_count": 57,
      "outputs": [
        {
          "output_type": "stream",
          "name": "stdout",
          "text": [
            "0:\tlearn: 0.6885678\ttotal: 51.2ms\tremaining: 51.1s\n",
            "999:\tlearn: 0.3339807\ttotal: 3.75s\tremaining: 0us\n",
            "Parametrs of best Model <catboost.core.CatBoostClassifier object at 0x7f9c13ac5810>\n"
          ]
        },
        {
          "output_type": "display_data",
          "data": {
            "text/html": [
              "<div>\n",
              "<style scoped>\n",
              "    .dataframe tbody tr th:only-of-type {\n",
              "        vertical-align: middle;\n",
              "    }\n",
              "\n",
              "    .dataframe tbody tr th {\n",
              "        vertical-align: top;\n",
              "    }\n",
              "\n",
              "    .dataframe thead th {\n",
              "        text-align: right;\n",
              "    }\n",
              "</style>\n",
              "<table border=\"1\" class=\"dataframe\">\n",
              "  <thead>\n",
              "    <tr style=\"text-align: right;\">\n",
              "      <th></th>\n",
              "      <th>ROC-AUC_train</th>\n",
              "    </tr>\n",
              "  </thead>\n",
              "  <tbody>\n",
              "    <tr>\n",
              "      <th>CatBoostClassifier</th>\n",
              "      <td>0.8732</td>\n",
              "    </tr>\n",
              "  </tbody>\n",
              "</table>\n",
              "</div>"
            ],
            "text/plain": [
              "                    ROC-AUC_train\n",
              "CatBoostClassifier         0.8732"
            ]
          },
          "metadata": {}
        }
      ]
    },
    {
      "cell_type": "markdown",
      "metadata": {
        "id": "u_OaqziROUNP"
      },
      "source": [
        "Из моделей очень сильно выделилась LGBM с почти 0,9 Roc_AUC score. Посмотрим, как модели поведут себя на тесте."
      ]
    },
    {
      "cell_type": "markdown",
      "metadata": {
        "id": "C0itciSfE4tI"
      },
      "source": [
        "# Тест моделей"
      ]
    },
    {
      "cell_type": "markdown",
      "metadata": {
        "id": "aPqaw2sIH1kv"
      },
      "source": [
        "Для удобства напишем функцию для подсчёта итогов и вывода"
      ]
    },
    {
      "cell_type": "code",
      "metadata": {
        "id": "qr1-euRLINsx",
        "trusted": false
      },
      "source": [
        "result = pd.DataFrame(columns=['Name of model', 'ROC-AUC_train', 'ROC-AUC_test', 'Accuracy_test'])\n",
        "\n",
        "def test_sum(model, name):\n",
        "  predict_pro_test = model.predict_proba(X_train)[:, 1]\n",
        "  predict_pro = model.predict_proba(X_test)[:, 1]\n",
        "  pred = model.predict(X_test)\n",
        "\n",
        "  fpr, tpr, thresholds = roc_curve(y_test, predict_pro) \n",
        "\n",
        "  plt.figure(figsize=(10, 10))\n",
        "  plt.plot(fpr, tpr, linestyle='-')\n",
        "  plt.plot([0, 1], [0, 1], linestyle='--')\n",
        "  plt.xlim([0.0, 1.0])\n",
        "  plt.ylim([0.0, 1.0])\n",
        "  plt.xlabel('False Positive Rate')\n",
        "  plt.ylabel('True Positive Rate')\n",
        "  plt.title('ROC-curve')\n",
        "  plt.show()\n",
        "  auc = round(roc_auc_score(y_test, predict_pro), 4)\n",
        "  acc = round(accuracy_score(y_test, pred), 4)\n",
        "  train = round(roc_auc_score(y_train, predict_pro_test), 4)\n",
        "\n",
        "  print(\"ROC-AUC:\", auc)\n",
        "  print('Accuracy:', acc)\n",
        "  model_res = {'Name of model': name, 'ROC-AUC_train': train, 'ROC-AUC_test': auc, 'Accuracy_test': acc}\n",
        "  return model_res"
      ],
      "execution_count": 58,
      "outputs": []
    },
    {
      "cell_type": "markdown",
      "metadata": {
        "id": "QdRFa_2oAezG"
      },
      "source": [
        "## Random Forest"
      ]
    },
    {
      "cell_type": "code",
      "metadata": {
        "colab": {
          "base_uri": "https://localhost:8080/",
          "height": 655
        },
        "id": "UAWd5SVFm1WN",
        "trusted": false,
        "outputId": "387b5a21-0279-47ef-d0cc-75363439e730"
      },
      "source": [
        "result = result.append(test_sum(best_rf, name_rf), ignore_index=True)"
      ],
      "execution_count": 59,
      "outputs": [
        {
          "output_type": "display_data",
          "data": {
            "image/png": "[encoded data removed]",
            "text/plain": [
              "<Figure size 720x720 with 1 Axes>"
            ]
          },
          "metadata": {
            "needs_background": "light"
          }
        },
        {
          "output_type": "stream",
          "name": "stdout",
          "text": [
            "ROC-AUC: 0.8517\n",
            "Accuracy: 0.7683\n"
          ]
        }
      ]
    },
    {
      "cell_type": "markdown",
      "metadata": {
        "id": "tK-CsDt4W1z3"
      },
      "source": [
        "## Logistic Regression"
      ]
    },
    {
      "cell_type": "code",
      "metadata": {
        "colab": {
          "base_uri": "https://localhost:8080/",
          "height": 655
        },
        "id": "G8UEjrMvW1z8",
        "trusted": false,
        "outputId": "786be848-bf03-4298-aa76-18cdf7a2acb3"
      },
      "source": [
        "result = result.append(test_sum(best_lr, name_lr), ignore_index=True)"
      ],
      "execution_count": 60,
      "outputs": [
        {
          "output_type": "display_data",
          "data": {
            "image/png": "[encoded data removed]",
            "text/plain": [
              "<Figure size 720x720 with 1 Axes>"
            ]
          },
          "metadata": {
            "needs_background": "light"
          }
        },
        {
          "output_type": "stream",
          "name": "stdout",
          "text": [
            "ROC-AUC: 0.8359\n",
            "Accuracy: 0.7278\n"
          ]
        }
      ]
    },
    {
      "cell_type": "markdown",
      "metadata": {
        "id": "T8KRUQqiW2xH"
      },
      "source": [
        "## SGD Classifier"
      ]
    },
    {
      "cell_type": "code",
      "metadata": {
        "colab": {
          "base_uri": "https://localhost:8080/",
          "height": 655
        },
        "id": "93pwTsRoW2xH",
        "trusted": false,
        "outputId": "9418215f-1542-4b6d-f04b-6f2bffe8e082"
      },
      "source": [
        "result = result.append(test_sum(best_sgd, name_sgd), ignore_index=True)"
      ],
      "execution_count": 61,
      "outputs": [
        {
          "output_type": "display_data",
          "data": {
            "image/png": "[encoded data removed]",
            "text/plain": [
              "<Figure size 720x720 with 1 Axes>"
            ]
          },
          "metadata": {
            "needs_background": "light"
          }
        },
        {
          "output_type": "stream",
          "name": "stdout",
          "text": [
            "ROC-AUC: 0.8374\n",
            "Accuracy: 0.7477\n"
          ]
        }
      ]
    },
    {
      "cell_type": "markdown",
      "metadata": {
        "id": "ta7E89usW26w"
      },
      "source": [
        "## LGBM Classifier"
      ]
    },
    {
      "cell_type": "code",
      "metadata": {
        "colab": {
          "base_uri": "https://localhost:8080/",
          "height": 655
        },
        "id": "JilWjsugW26x",
        "trusted": false,
        "outputId": "adb5725f-1d0a-4eed-87b2-be81c7481fe1"
      },
      "source": [
        "result = result.append(test_sum(best_lgbm, name_lgbm), ignore_index=True)"
      ],
      "execution_count": 62,
      "outputs": [
        {
          "output_type": "display_data",
          "data": {
            "image/png": "[encoded data removed]",
            "text/plain": [
              "<Figure size 720x720 with 1 Axes>"
            ]
          },
          "metadata": {
            "needs_background": "light"
          }
        },
        {
          "output_type": "stream",
          "name": "stdout",
          "text": [
            "ROC-AUC: 0.9047\n",
            "Accuracy: 0.8358\n"
          ]
        }
      ]
    },
    {
      "cell_type": "markdown",
      "metadata": {
        "id": "R3w4tybpW3Jx"
      },
      "source": [
        "## CatBoost Classifier"
      ]
    },
    {
      "cell_type": "code",
      "metadata": {
        "colab": {
          "base_uri": "https://localhost:8080/",
          "height": 655
        },
        "id": "CJR7II3qW3Jy",
        "trusted": false,
        "outputId": "9e6fa644-7b3e-40da-80ca-06ccff9229b2"
      },
      "source": [
        "result = result.append(test_sum(best_cat, name_cat), ignore_index=True)"
      ],
      "execution_count": 63,
      "outputs": [
        {
          "output_type": "display_data",
          "data": {
            "image/png": "[encoded data removed]",
            "text/plain": [
              "<Figure size 720x720 with 1 Axes>"
            ]
          },
          "metadata": {
            "needs_background": "light"
          }
        },
        {
          "output_type": "stream",
          "name": "stdout",
          "text": [
            "ROC-AUC: 0.8716\n",
            "Accuracy: 0.7783\n"
          ]
        }
      ]
    },
    {
      "cell_type": "markdown",
      "metadata": {
        "id": "7BN8DE6NcJCy"
      },
      "source": [
        "## Sanity check"
      ]
    },
    {
      "cell_type": "code",
      "metadata": {
        "colab": {
          "base_uri": "https://localhost:8080/",
          "height": 655
        },
        "id": "az1kuJk3cPyg",
        "trusted": false,
        "outputId": "f836026b-38c4-48f2-e845-2211d39628c0"
      },
      "source": [
        "dum = DummyClassifier(strategy='stratified')\n",
        "\n",
        "dum.fit(X_train, y_train)\n",
        "name_dum = 'DummyClassifier'\n",
        "\n",
        "result = result.append(test_sum(dum, name_dum), ignore_index=True)"
      ],
      "execution_count": 64,
      "outputs": [
        {
          "output_type": "display_data",
          "data": {
            "image/png": "[encoded data removed]",
            "text/plain": [
              "<Figure size 720x720 with 1 Axes>"
            ]
          },
          "metadata": {
            "needs_background": "light"
          }
        },
        {
          "output_type": "stream",
          "name": "stdout",
          "text": [
            "ROC-AUC: 0.4998\n",
            "Accuracy: 0.6091\n"
          ]
        }
      ]
    },
    {
      "cell_type": "markdown",
      "metadata": {
        "id": "AsCLNI5fbKuZ"
      },
      "source": [
        "## Итоги"
      ]
    },
    {
      "cell_type": "code",
      "metadata": {
        "colab": {
          "base_uri": "https://localhost:8080/"
        },
        "id": "bwrEPVpWxykV",
        "trusted": false,
        "outputId": "947b9663-ebec-4899-b2ab-a03d9f9b3e42"
      },
      "source": [
        "print(result.sort_values(by = 'ROC-AUC_test', ascending=False))"
      ],
      "execution_count": 65,
      "outputs": [
        {
          "output_type": "stream",
          "name": "stdout",
          "text": [
            "            Name of model  ROC-AUC_train  ROC-AUC_test  Accuracy_test\n",
            "3          LGBMClassifier         0.9970        0.9047         0.8358\n",
            "4      CatBoostClassifier         0.9390        0.8716         0.7783\n",
            "0  RandomForestClassifier         0.9204        0.8517         0.7683\n",
            "2           SGDClassifier         0.8497        0.8374         0.7477\n",
            "1      LogisticRegression         0.8508        0.8359         0.7278\n",
            "5         DummyClassifier         0.4990        0.4998         0.6091\n"
          ]
        }
      ]
    },
    {
      "cell_type": "markdown",
      "metadata": {
        "id": "mK0o7woObch7"
      },
      "source": [
        "По результатам теста лучше всего справилась модель LGBMClassifier (на тестовой выборке ROC-AUC score составил **КОСМИЧЕСКИЕ** 0,9047, её и будем использовать в работе! Accuracy у модели тоже с отрывом лучше от конкурентов: 0,8358!\n",
        "\n",
        "Теперь взглянем на важность параметров у нашей модели - победителя"
      ]
    },
    {
      "cell_type": "markdown",
      "metadata": {
        "id": "B4G9Y5ET-S0l"
      },
      "source": [
        "## Важность параметров (feature importance)"
      ]
    },
    {
      "cell_type": "code",
      "metadata": {
        "colab": {
          "base_uri": "https://localhost:8080/",
          "height": 567
        },
        "id": "2xRZgvZA-gMU",
        "outputId": "35144e75-3145-4c96-8cc1-2913ff2f84ed"
      },
      "source": [
        "feature_importance = (pd.DataFrame({'feature': list(X_train.columns), \n",
        "                    'importance': best_lgbm.feature_importances_})\n",
        ".sort_values(by='importance', ascending=False))\n",
        "plt.figure(figsize=(16, 9));\n",
        "sns.barplot(x=\"importance\", y=\"feature\", data = feature_importance);\n",
        "plt.title('LGBM features importance:');\n",
        "plt.show()"
      ],
      "execution_count": 66,
      "outputs": [
        {
          "output_type": "display_data",
          "data": {
            "image/png": "[encoded data removed]",
            "text/plain": [
              "<Figure size 1152x648 with 1 Axes>"
            ]
          },
          "metadata": {
            "needs_background": "light"
          }
        }
      ]
    },
    {
      "cell_type": "markdown",
      "metadata": {
        "id": "LTD27JheAD8L"
      },
      "source": [
        "Как видно из графика с больших отрывом наиболее значимыми стали признаки сколько времени клиент с нами и его величина месячной оплаты. Важно, что эти значения были в изначальной таблице (то есть дополнительная информация даже была не так важна для модели).\n",
        "\n",
        "Наименее важными же факторами оказались:\n",
        "- Наличие или отсутствие телефонных услуг\n",
        "- Проложен интернет через оптоволоконный кабель или нет\n",
        "- Сегменты клиентов по финансовым группам (добавлено нами через кластеризацию)\n",
        "- Наличие или отсутствие интернет услуг\n",
        "\n",
        "Таким образом, можно предположить, что наши удержательные механики стоит настроить основным образом на временной и финансовый параметр."
      ]
    },
    {
      "cell_type": "markdown",
      "metadata": {
        "id": "Ur6zbLaNbPSE"
      },
      "source": [
        "# Вывод"
      ]
    },
    {
      "cell_type": "markdown",
      "metadata": {
        "id": "UDLtwu_7bvF5"
      },
      "source": [
        "Главный вывод: **Мы обучили модель LGBMClassifier для нашего случая несбалансированной бинарной классификации, которая показала хороший результат на тестовой выборке в 0.9047 AUC-ROC и 0.8358 Accuracy**\n",
        "\n",
        "Важные комментарии:\n",
        "- Наиболее важные метрики, по которым стоит следить за клиентами и относить их в \"группу риска\" - это продолжительность сотрудничества и величина оплаты в месяц\n",
        "- Лучше всего справились модели с градиентным бустингом, однако по всем моделям заметна небольшая переобученность, однако подбором гипермараметров не удалось решить эту проблему\n",
        "- Модель преодолела sanity check\n",
        "- По исходным данным видно, что все клиенты закончили сотрудничество в последние 4 месяца. Возможно это предоставленные данные, возможно есть какая-то проблема, которая произошла в последнее время, что привела к оттоку!\n",
        "- 20% клиентов уходит после первого месяца - необходимо продумать стратегию удержания после первого периода\n",
        "- Много клиентов уходит из пользователей интернета - возможно стоит делать промокоды и акции с расчётом на интернет услуги"
      ]
    }
  ]
}