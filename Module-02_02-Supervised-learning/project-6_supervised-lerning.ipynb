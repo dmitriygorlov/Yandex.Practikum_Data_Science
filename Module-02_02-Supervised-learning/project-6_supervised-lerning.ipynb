{
  "nbformat": 4,
  "nbformat_minor": 0,
  "metadata": {
    "kernelspec": {
      "display_name": "Python 3",
      "language": "python",
      "name": "python3"
    },
    "language_info": {
      "codemirror_mode": {
        "name": "ipython",
        "version": 3
      },
      "file_extension": ".py",
      "mimetype": "text/x-python",
      "name": "python",
      "nbconvert_exporter": "python",
      "pygments_lexer": "ipython3",
      "version": "3.7.8"
    },
    "toc": {
      "base_numbering": 1,
      "nav_menu": {},
      "number_sections": true,
      "sideBar": true,
      "skip_h1_title": true,
      "title_cell": "Содержание",
      "title_sidebar": "Contents",
      "toc_cell": true,
      "toc_position": {
        "height": "757px",
        "left": "40px",
        "top": "110px",
        "width": "366.391px"
      },
      "toc_section_display": true,
      "toc_window_display": false
    },
    "colab": {
      "name": "project-6_supervised-lerning.ipynb",
      "provenance": [],
      "include_colab_link": true
    }
  },
  "cells": [
    {
      "cell_type": "markdown",
      "metadata": {
        "id": "view-in-github",
        "colab_type": "text"
      },
      "source": [
        "<a href=\"https://colab.research.google.com/github/dmitriygorlov/Yandex.Practikum_Data_Science/blob/main/Module-02_02-Supervised-learning/project-6_supervised-lerning.ipynb\" target=\"_parent\"><img src=\"https://colab.research.google.com/assets/colab-badge.svg\" alt=\"Open In Colab\"/></a>"
      ]
    },
    {
      "cell_type": "markdown",
      "metadata": {
        "id": "2LdW11QsFd1I"
      },
      "source": [
        "# Отток клиентов"
      ]
    },
    {
      "cell_type": "markdown",
      "metadata": {
        "id": "H4v9gD8QFd1J"
      },
      "source": [
        "Нужно постройте модель, которая спрогнозирует \"уйдёт клиент из банка в ближайшее время или нет\" с предельно большим значением *F1*-меры.\n",
        "\n",
        "Источник данных: [https://www.kaggle.com/barelydedicated/bank-customer-churn-modeling](https://www.kaggle.com/barelydedicated/bank-customer-churn-modeling)"
      ]
    },
    {
      "cell_type": "markdown",
      "metadata": {
        "toc": true,
        "id": "8rE1DliGFd1H"
      },
      "source": [
        "<h1>Содержание<span class=\"tocSkip\"></span></h1>\n",
        "<div class=\"toc\"><ul class=\"toc-item\"><li><span><a href=\"#Подготовка-данных\" data-toc-modified-id=\"Подготовка-данных-1\"><span class=\"toc-item-num\">1&nbsp;&nbsp;</span>Подготовка данных</a></span></li><li><span><a href=\"#Исследование-задачи\" data-toc-modified-id=\"Исследование-задачи-2\"><span class=\"toc-item-num\">2&nbsp;&nbsp;</span>Исследование задачи</a></span></li><li><span><a href=\"#Борьба-с-дисбалансом\" data-toc-modified-id=\"Борьба-с-дисбалансом-3\"><span class=\"toc-item-num\">3&nbsp;&nbsp;</span>Борьба с дисбалансом</a></span></li><li><span><a href=\"#Тестирование-модели\" data-toc-modified-id=\"Тестирование-модели-4\"><span class=\"toc-item-num\">4&nbsp;&nbsp;</span>Тестирование модели</a></span></li></ul></div>"
      ]
    },
    {
      "cell_type": "markdown",
      "metadata": {
        "id": "6iFI9MpRFd1K"
      },
      "source": [
        "## Подготовка данных"
      ]
    },
    {
      "cell_type": "code",
      "metadata": {
        "id": "jbL-g4CHFd1L"
      },
      "source": [
        "import pandas as pd\n",
        "\n",
        "from sklearn.preprocessing import StandardScaler\n",
        "from sklearn.model_selection import train_test_split\n",
        "\n",
        "from sklearn.linear_model import LogisticRegression\n",
        "from sklearn.ensemble import RandomForestClassifier\n",
        "\n",
        "from sklearn.metrics import f1_score, roc_auc_score, accuracy_score\n",
        "\n",
        "from sklearn.utils import shuffle\n"
      ],
      "execution_count": 1,
      "outputs": []
    },
    {
      "cell_type": "markdown",
      "metadata": {
        "id": "yUgpZrbYFd1N"
      },
      "source": [
        "Подгрузили нужные библиотеки"
      ]
    },
    {
      "cell_type": "code",
      "metadata": {
        "id": "m5I3JAlqFd1O",
        "outputId": "271baf7e-6c43-40f9-ee7f-c407460db01d",
        "colab": {
          "base_uri": "https://localhost:8080/",
          "height": 581
        }
      },
      "source": [
        "df=pd.read_csv('https://code.s3.yandex.net/datasets/Churn.csv')\n",
        "display(df.head())\n",
        "df.info()"
      ],
      "execution_count": 2,
      "outputs": [
        {
          "output_type": "display_data",
          "data": {
            "text/html": [
              "<div>\n",
              "<style scoped>\n",
              "    .dataframe tbody tr th:only-of-type {\n",
              "        vertical-align: middle;\n",
              "    }\n",
              "\n",
              "    .dataframe tbody tr th {\n",
              "        vertical-align: top;\n",
              "    }\n",
              "\n",
              "    .dataframe thead th {\n",
              "        text-align: right;\n",
              "    }\n",
              "</style>\n",
              "<table border=\"1\" class=\"dataframe\">\n",
              "  <thead>\n",
              "    <tr style=\"text-align: right;\">\n",
              "      <th></th>\n",
              "      <th>RowNumber</th>\n",
              "      <th>CustomerId</th>\n",
              "      <th>Surname</th>\n",
              "      <th>CreditScore</th>\n",
              "      <th>Geography</th>\n",
              "      <th>Gender</th>\n",
              "      <th>Age</th>\n",
              "      <th>Tenure</th>\n",
              "      <th>Balance</th>\n",
              "      <th>NumOfProducts</th>\n",
              "      <th>HasCrCard</th>\n",
              "      <th>IsActiveMember</th>\n",
              "      <th>EstimatedSalary</th>\n",
              "      <th>Exited</th>\n",
              "    </tr>\n",
              "  </thead>\n",
              "  <tbody>\n",
              "    <tr>\n",
              "      <th>0</th>\n",
              "      <td>1</td>\n",
              "      <td>15634602</td>\n",
              "      <td>Hargrave</td>\n",
              "      <td>619</td>\n",
              "      <td>France</td>\n",
              "      <td>Female</td>\n",
              "      <td>42</td>\n",
              "      <td>2.0</td>\n",
              "      <td>0.00</td>\n",
              "      <td>1</td>\n",
              "      <td>1</td>\n",
              "      <td>1</td>\n",
              "      <td>101348.88</td>\n",
              "      <td>1</td>\n",
              "    </tr>\n",
              "    <tr>\n",
              "      <th>1</th>\n",
              "      <td>2</td>\n",
              "      <td>15647311</td>\n",
              "      <td>Hill</td>\n",
              "      <td>608</td>\n",
              "      <td>Spain</td>\n",
              "      <td>Female</td>\n",
              "      <td>41</td>\n",
              "      <td>1.0</td>\n",
              "      <td>83807.86</td>\n",
              "      <td>1</td>\n",
              "      <td>0</td>\n",
              "      <td>1</td>\n",
              "      <td>112542.58</td>\n",
              "      <td>0</td>\n",
              "    </tr>\n",
              "    <tr>\n",
              "      <th>2</th>\n",
              "      <td>3</td>\n",
              "      <td>15619304</td>\n",
              "      <td>Onio</td>\n",
              "      <td>502</td>\n",
              "      <td>France</td>\n",
              "      <td>Female</td>\n",
              "      <td>42</td>\n",
              "      <td>8.0</td>\n",
              "      <td>159660.80</td>\n",
              "      <td>3</td>\n",
              "      <td>1</td>\n",
              "      <td>0</td>\n",
              "      <td>113931.57</td>\n",
              "      <td>1</td>\n",
              "    </tr>\n",
              "    <tr>\n",
              "      <th>3</th>\n",
              "      <td>4</td>\n",
              "      <td>15701354</td>\n",
              "      <td>Boni</td>\n",
              "      <td>699</td>\n",
              "      <td>France</td>\n",
              "      <td>Female</td>\n",
              "      <td>39</td>\n",
              "      <td>1.0</td>\n",
              "      <td>0.00</td>\n",
              "      <td>2</td>\n",
              "      <td>0</td>\n",
              "      <td>0</td>\n",
              "      <td>93826.63</td>\n",
              "      <td>0</td>\n",
              "    </tr>\n",
              "    <tr>\n",
              "      <th>4</th>\n",
              "      <td>5</td>\n",
              "      <td>15737888</td>\n",
              "      <td>Mitchell</td>\n",
              "      <td>850</td>\n",
              "      <td>Spain</td>\n",
              "      <td>Female</td>\n",
              "      <td>43</td>\n",
              "      <td>2.0</td>\n",
              "      <td>125510.82</td>\n",
              "      <td>1</td>\n",
              "      <td>1</td>\n",
              "      <td>1</td>\n",
              "      <td>79084.10</td>\n",
              "      <td>0</td>\n",
              "    </tr>\n",
              "  </tbody>\n",
              "</table>\n",
              "</div>"
            ],
            "text/plain": [
              "   RowNumber  CustomerId   Surname  ...  IsActiveMember EstimatedSalary Exited\n",
              "0          1    15634602  Hargrave  ...               1       101348.88      1\n",
              "1          2    15647311      Hill  ...               1       112542.58      0\n",
              "2          3    15619304      Onio  ...               0       113931.57      1\n",
              "3          4    15701354      Boni  ...               0        93826.63      0\n",
              "4          5    15737888  Mitchell  ...               1        79084.10      0\n",
              "\n",
              "[5 rows x 14 columns]"
            ]
          },
          "metadata": {}
        },
        {
          "output_type": "stream",
          "name": "stdout",
          "text": [
            "<class 'pandas.core.frame.DataFrame'>\n",
            "RangeIndex: 10000 entries, 0 to 9999\n",
            "Data columns (total 14 columns):\n",
            " #   Column           Non-Null Count  Dtype  \n",
            "---  ------           --------------  -----  \n",
            " 0   RowNumber        10000 non-null  int64  \n",
            " 1   CustomerId       10000 non-null  int64  \n",
            " 2   Surname          10000 non-null  object \n",
            " 3   CreditScore      10000 non-null  int64  \n",
            " 4   Geography        10000 non-null  object \n",
            " 5   Gender           10000 non-null  object \n",
            " 6   Age              10000 non-null  int64  \n",
            " 7   Tenure           9091 non-null   float64\n",
            " 8   Balance          10000 non-null  float64\n",
            " 9   NumOfProducts    10000 non-null  int64  \n",
            " 10  HasCrCard        10000 non-null  int64  \n",
            " 11  IsActiveMember   10000 non-null  int64  \n",
            " 12  EstimatedSalary  10000 non-null  float64\n",
            " 13  Exited           10000 non-null  int64  \n",
            "dtypes: float64(3), int64(8), object(3)\n",
            "memory usage: 1.1+ MB\n"
          ]
        }
      ]
    },
    {
      "cell_type": "markdown",
      "metadata": {
        "id": "ZcY1R0HvFd1W"
      },
      "source": [
        "Подгрузили файл, вывели базовую информацию\n",
        "\n",
        "Признаки\n",
        "- RowNumber — индекс строки в данных\n",
        "- CustomerId — уникальный идентификатор клиента\n",
        "- Surname — фамилия\n",
        "- CreditScore — кредитный рейтинг\n",
        "- Geography — страна проживания\n",
        "- Gender — пол\n",
        "- Age — возраст\n",
        "- Tenure — сколько лет человек является клиентом банка\n",
        "- Balance — баланс на счёте\n",
        "- NumOfProducts — количество продуктов банка, используемых клиентом\n",
        "- HasCrCard — наличие кредитной карты\n",
        "- IsActiveMember — активность клиента\n",
        "- EstimatedSalary — предполагаемая зарплата\n",
        "Целевой признак\n",
        "- Exited — факт ухода клиента\n",
        "\n",
        "\n",
        "\n",
        "В файле 10000 строчек, нужны следующие действия по подготовке:\n",
        "- убрать признаки явно не влияющие на расчёт (не имеющие смысла, даже если зависимость есть) Номер строки, Номер клиента, Фамилия\n",
        "- в столбцу Tenure (сколько лет человек является клиентом банка) есть пропуски, нужно изучить и что-нибудь сделать с ними\n",
        "- превратить в численные значения Страну и Пол с помощью One-hot-encoding\n",
        "- Масштабировать численные признаки Баланса и Зарплаты\n",
        "- Поделить выборки на обучающую, валидационную и тестовую (3:1:1)"
      ]
    },
    {
      "cell_type": "code",
      "metadata": {
        "id": "B_uPVPB7Fd1X",
        "outputId": "80e482ac-7118-47f9-8577-ff2dd1ebf7a6",
        "colab": {
          "base_uri": "https://localhost:8080/",
          "height": 224
        }
      },
      "source": [
        "df.drop(['RowNumber', 'CustomerId', 'Surname'], axis = 1, inplace = True)\n",
        "display(df.head())"
      ],
      "execution_count": 3,
      "outputs": [
        {
          "output_type": "display_data",
          "data": {
            "text/html": [
              "<div>\n",
              "<style scoped>\n",
              "    .dataframe tbody tr th:only-of-type {\n",
              "        vertical-align: middle;\n",
              "    }\n",
              "\n",
              "    .dataframe tbody tr th {\n",
              "        vertical-align: top;\n",
              "    }\n",
              "\n",
              "    .dataframe thead th {\n",
              "        text-align: right;\n",
              "    }\n",
              "</style>\n",
              "<table border=\"1\" class=\"dataframe\">\n",
              "  <thead>\n",
              "    <tr style=\"text-align: right;\">\n",
              "      <th></th>\n",
              "      <th>CreditScore</th>\n",
              "      <th>Geography</th>\n",
              "      <th>Gender</th>\n",
              "      <th>Age</th>\n",
              "      <th>Tenure</th>\n",
              "      <th>Balance</th>\n",
              "      <th>NumOfProducts</th>\n",
              "      <th>HasCrCard</th>\n",
              "      <th>IsActiveMember</th>\n",
              "      <th>EstimatedSalary</th>\n",
              "      <th>Exited</th>\n",
              "    </tr>\n",
              "  </thead>\n",
              "  <tbody>\n",
              "    <tr>\n",
              "      <th>0</th>\n",
              "      <td>619</td>\n",
              "      <td>France</td>\n",
              "      <td>Female</td>\n",
              "      <td>42</td>\n",
              "      <td>2.0</td>\n",
              "      <td>0.00</td>\n",
              "      <td>1</td>\n",
              "      <td>1</td>\n",
              "      <td>1</td>\n",
              "      <td>101348.88</td>\n",
              "      <td>1</td>\n",
              "    </tr>\n",
              "    <tr>\n",
              "      <th>1</th>\n",
              "      <td>608</td>\n",
              "      <td>Spain</td>\n",
              "      <td>Female</td>\n",
              "      <td>41</td>\n",
              "      <td>1.0</td>\n",
              "      <td>83807.86</td>\n",
              "      <td>1</td>\n",
              "      <td>0</td>\n",
              "      <td>1</td>\n",
              "      <td>112542.58</td>\n",
              "      <td>0</td>\n",
              "    </tr>\n",
              "    <tr>\n",
              "      <th>2</th>\n",
              "      <td>502</td>\n",
              "      <td>France</td>\n",
              "      <td>Female</td>\n",
              "      <td>42</td>\n",
              "      <td>8.0</td>\n",
              "      <td>159660.80</td>\n",
              "      <td>3</td>\n",
              "      <td>1</td>\n",
              "      <td>0</td>\n",
              "      <td>113931.57</td>\n",
              "      <td>1</td>\n",
              "    </tr>\n",
              "    <tr>\n",
              "      <th>3</th>\n",
              "      <td>699</td>\n",
              "      <td>France</td>\n",
              "      <td>Female</td>\n",
              "      <td>39</td>\n",
              "      <td>1.0</td>\n",
              "      <td>0.00</td>\n",
              "      <td>2</td>\n",
              "      <td>0</td>\n",
              "      <td>0</td>\n",
              "      <td>93826.63</td>\n",
              "      <td>0</td>\n",
              "    </tr>\n",
              "    <tr>\n",
              "      <th>4</th>\n",
              "      <td>850</td>\n",
              "      <td>Spain</td>\n",
              "      <td>Female</td>\n",
              "      <td>43</td>\n",
              "      <td>2.0</td>\n",
              "      <td>125510.82</td>\n",
              "      <td>1</td>\n",
              "      <td>1</td>\n",
              "      <td>1</td>\n",
              "      <td>79084.10</td>\n",
              "      <td>0</td>\n",
              "    </tr>\n",
              "  </tbody>\n",
              "</table>\n",
              "</div>"
            ],
            "text/plain": [
              "   CreditScore Geography  Gender  ...  IsActiveMember  EstimatedSalary  Exited\n",
              "0          619    France  Female  ...               1        101348.88       1\n",
              "1          608     Spain  Female  ...               1        112542.58       0\n",
              "2          502    France  Female  ...               0        113931.57       1\n",
              "3          699    France  Female  ...               0         93826.63       0\n",
              "4          850     Spain  Female  ...               1         79084.10       0\n",
              "\n",
              "[5 rows x 11 columns]"
            ]
          },
          "metadata": {}
        }
      ]
    },
    {
      "cell_type": "code",
      "metadata": {
        "id": "aXN3SDy7Fd1i",
        "outputId": "6cb7274d-5ff1-4848-aa8e-09928929c16f",
        "colab": {
          "base_uri": "https://localhost:8080/",
          "height": 532
        }
      },
      "source": [
        "print(df['Exited'].value_counts(normalize = True))\n",
        "print(df[df['Tenure'].isna()]['Exited'].value_counts(normalize = True))\n",
        "print()\n",
        "print('Процент пустых значений равен {:.1%}'.format(df['Tenure'].isna().sum()/len(df)))\n",
        "print()\n",
        "display(df[df['Tenure'].isna()].head(10))"
      ],
      "execution_count": 4,
      "outputs": [
        {
          "output_type": "stream",
          "name": "stdout",
          "text": [
            "0    0.7963\n",
            "1    0.2037\n",
            "Name: Exited, dtype: float64\n",
            "0    0.79868\n",
            "1    0.20132\n",
            "Name: Exited, dtype: float64\n",
            "\n",
            "Процент пустых значений равен 9.1%\n",
            "\n"
          ]
        },
        {
          "output_type": "display_data",
          "data": {
            "text/html": [
              "<div>\n",
              "<style scoped>\n",
              "    .dataframe tbody tr th:only-of-type {\n",
              "        vertical-align: middle;\n",
              "    }\n",
              "\n",
              "    .dataframe tbody tr th {\n",
              "        vertical-align: top;\n",
              "    }\n",
              "\n",
              "    .dataframe thead th {\n",
              "        text-align: right;\n",
              "    }\n",
              "</style>\n",
              "<table border=\"1\" class=\"dataframe\">\n",
              "  <thead>\n",
              "    <tr style=\"text-align: right;\">\n",
              "      <th></th>\n",
              "      <th>CreditScore</th>\n",
              "      <th>Geography</th>\n",
              "      <th>Gender</th>\n",
              "      <th>Age</th>\n",
              "      <th>Tenure</th>\n",
              "      <th>Balance</th>\n",
              "      <th>NumOfProducts</th>\n",
              "      <th>HasCrCard</th>\n",
              "      <th>IsActiveMember</th>\n",
              "      <th>EstimatedSalary</th>\n",
              "      <th>Exited</th>\n",
              "    </tr>\n",
              "  </thead>\n",
              "  <tbody>\n",
              "    <tr>\n",
              "      <th>30</th>\n",
              "      <td>591</td>\n",
              "      <td>Spain</td>\n",
              "      <td>Female</td>\n",
              "      <td>39</td>\n",
              "      <td>NaN</td>\n",
              "      <td>0.00</td>\n",
              "      <td>3</td>\n",
              "      <td>1</td>\n",
              "      <td>0</td>\n",
              "      <td>140469.38</td>\n",
              "      <td>1</td>\n",
              "    </tr>\n",
              "    <tr>\n",
              "      <th>48</th>\n",
              "      <td>550</td>\n",
              "      <td>Germany</td>\n",
              "      <td>Male</td>\n",
              "      <td>38</td>\n",
              "      <td>NaN</td>\n",
              "      <td>103391.38</td>\n",
              "      <td>1</td>\n",
              "      <td>0</td>\n",
              "      <td>1</td>\n",
              "      <td>90878.13</td>\n",
              "      <td>0</td>\n",
              "    </tr>\n",
              "    <tr>\n",
              "      <th>51</th>\n",
              "      <td>585</td>\n",
              "      <td>Germany</td>\n",
              "      <td>Male</td>\n",
              "      <td>36</td>\n",
              "      <td>NaN</td>\n",
              "      <td>146050.97</td>\n",
              "      <td>2</td>\n",
              "      <td>0</td>\n",
              "      <td>0</td>\n",
              "      <td>86424.57</td>\n",
              "      <td>0</td>\n",
              "    </tr>\n",
              "    <tr>\n",
              "      <th>53</th>\n",
              "      <td>655</td>\n",
              "      <td>Germany</td>\n",
              "      <td>Male</td>\n",
              "      <td>41</td>\n",
              "      <td>NaN</td>\n",
              "      <td>125561.97</td>\n",
              "      <td>1</td>\n",
              "      <td>0</td>\n",
              "      <td>0</td>\n",
              "      <td>164040.94</td>\n",
              "      <td>1</td>\n",
              "    </tr>\n",
              "    <tr>\n",
              "      <th>60</th>\n",
              "      <td>742</td>\n",
              "      <td>Germany</td>\n",
              "      <td>Male</td>\n",
              "      <td>35</td>\n",
              "      <td>NaN</td>\n",
              "      <td>136857.00</td>\n",
              "      <td>1</td>\n",
              "      <td>0</td>\n",
              "      <td>0</td>\n",
              "      <td>84509.57</td>\n",
              "      <td>0</td>\n",
              "    </tr>\n",
              "    <tr>\n",
              "      <th>82</th>\n",
              "      <td>543</td>\n",
              "      <td>France</td>\n",
              "      <td>Female</td>\n",
              "      <td>36</td>\n",
              "      <td>NaN</td>\n",
              "      <td>0.00</td>\n",
              "      <td>2</td>\n",
              "      <td>0</td>\n",
              "      <td>0</td>\n",
              "      <td>26019.59</td>\n",
              "      <td>0</td>\n",
              "    </tr>\n",
              "    <tr>\n",
              "      <th>85</th>\n",
              "      <td>652</td>\n",
              "      <td>Spain</td>\n",
              "      <td>Female</td>\n",
              "      <td>75</td>\n",
              "      <td>NaN</td>\n",
              "      <td>0.00</td>\n",
              "      <td>2</td>\n",
              "      <td>1</td>\n",
              "      <td>1</td>\n",
              "      <td>114675.75</td>\n",
              "      <td>0</td>\n",
              "    </tr>\n",
              "    <tr>\n",
              "      <th>94</th>\n",
              "      <td>730</td>\n",
              "      <td>Spain</td>\n",
              "      <td>Male</td>\n",
              "      <td>42</td>\n",
              "      <td>NaN</td>\n",
              "      <td>0.00</td>\n",
              "      <td>2</td>\n",
              "      <td>0</td>\n",
              "      <td>1</td>\n",
              "      <td>85982.47</td>\n",
              "      <td>0</td>\n",
              "    </tr>\n",
              "    <tr>\n",
              "      <th>99</th>\n",
              "      <td>413</td>\n",
              "      <td>France</td>\n",
              "      <td>Male</td>\n",
              "      <td>34</td>\n",
              "      <td>NaN</td>\n",
              "      <td>0.00</td>\n",
              "      <td>2</td>\n",
              "      <td>0</td>\n",
              "      <td>0</td>\n",
              "      <td>6534.18</td>\n",
              "      <td>0</td>\n",
              "    </tr>\n",
              "    <tr>\n",
              "      <th>111</th>\n",
              "      <td>538</td>\n",
              "      <td>Germany</td>\n",
              "      <td>Male</td>\n",
              "      <td>39</td>\n",
              "      <td>NaN</td>\n",
              "      <td>108055.10</td>\n",
              "      <td>2</td>\n",
              "      <td>1</td>\n",
              "      <td>0</td>\n",
              "      <td>27231.26</td>\n",
              "      <td>0</td>\n",
              "    </tr>\n",
              "  </tbody>\n",
              "</table>\n",
              "</div>"
            ],
            "text/plain": [
              "     CreditScore Geography  Gender  ...  IsActiveMember  EstimatedSalary  Exited\n",
              "30           591     Spain  Female  ...               0        140469.38       1\n",
              "48           550   Germany    Male  ...               1         90878.13       0\n",
              "51           585   Germany    Male  ...               0         86424.57       0\n",
              "53           655   Germany    Male  ...               0        164040.94       1\n",
              "60           742   Germany    Male  ...               0         84509.57       0\n",
              "82           543    France  Female  ...               0         26019.59       0\n",
              "85           652     Spain  Female  ...               1        114675.75       0\n",
              "94           730     Spain    Male  ...               1         85982.47       0\n",
              "99           413    France    Male  ...               0          6534.18       0\n",
              "111          538   Germany    Male  ...               0         27231.26       0\n",
              "\n",
              "[10 rows x 11 columns]"
            ]
          },
          "metadata": {}
        }
      ]
    },
    {
      "cell_type": "markdown",
      "metadata": {
        "id": "O-Qnm8aXFd1j"
      },
      "source": [
        "Пропуски равноценно распределены, закономерностей нет, 9% от общих данных. Исходя из незначительности - выкинем их"
      ]
    },
    {
      "cell_type": "code",
      "metadata": {
        "id": "WX1x1OuzFd1k",
        "outputId": "c311a32e-b4e4-4882-9997-fbe874aca07d",
        "colab": {
          "base_uri": "https://localhost:8080/"
        }
      },
      "source": [
        "print(len(df))\n",
        "df.dropna(inplace = True)\n",
        "print(len(df))"
      ],
      "execution_count": 5,
      "outputs": [
        {
          "output_type": "stream",
          "name": "stdout",
          "text": [
            "10000\n",
            "9091\n"
          ]
        }
      ]
    },
    {
      "cell_type": "code",
      "metadata": {
        "id": "H2PmRRlCFd1l",
        "outputId": "70f39b6e-32fe-4b55-a10a-2265025f2da6",
        "colab": {
          "base_uri": "https://localhost:8080/",
          "height": 224
        }
      },
      "source": [
        "df_OHE = pd.get_dummies(df, drop_first = True)\n",
        "\n",
        "display(df_OHE.head())"
      ],
      "execution_count": 6,
      "outputs": [
        {
          "output_type": "display_data",
          "data": {
            "text/html": [
              "<div>\n",
              "<style scoped>\n",
              "    .dataframe tbody tr th:only-of-type {\n",
              "        vertical-align: middle;\n",
              "    }\n",
              "\n",
              "    .dataframe tbody tr th {\n",
              "        vertical-align: top;\n",
              "    }\n",
              "\n",
              "    .dataframe thead th {\n",
              "        text-align: right;\n",
              "    }\n",
              "</style>\n",
              "<table border=\"1\" class=\"dataframe\">\n",
              "  <thead>\n",
              "    <tr style=\"text-align: right;\">\n",
              "      <th></th>\n",
              "      <th>CreditScore</th>\n",
              "      <th>Age</th>\n",
              "      <th>Tenure</th>\n",
              "      <th>Balance</th>\n",
              "      <th>NumOfProducts</th>\n",
              "      <th>HasCrCard</th>\n",
              "      <th>IsActiveMember</th>\n",
              "      <th>EstimatedSalary</th>\n",
              "      <th>Exited</th>\n",
              "      <th>Geography_Germany</th>\n",
              "      <th>Geography_Spain</th>\n",
              "      <th>Gender_Male</th>\n",
              "    </tr>\n",
              "  </thead>\n",
              "  <tbody>\n",
              "    <tr>\n",
              "      <th>0</th>\n",
              "      <td>619</td>\n",
              "      <td>42</td>\n",
              "      <td>2.0</td>\n",
              "      <td>0.00</td>\n",
              "      <td>1</td>\n",
              "      <td>1</td>\n",
              "      <td>1</td>\n",
              "      <td>101348.88</td>\n",
              "      <td>1</td>\n",
              "      <td>0</td>\n",
              "      <td>0</td>\n",
              "      <td>0</td>\n",
              "    </tr>\n",
              "    <tr>\n",
              "      <th>1</th>\n",
              "      <td>608</td>\n",
              "      <td>41</td>\n",
              "      <td>1.0</td>\n",
              "      <td>83807.86</td>\n",
              "      <td>1</td>\n",
              "      <td>0</td>\n",
              "      <td>1</td>\n",
              "      <td>112542.58</td>\n",
              "      <td>0</td>\n",
              "      <td>0</td>\n",
              "      <td>1</td>\n",
              "      <td>0</td>\n",
              "    </tr>\n",
              "    <tr>\n",
              "      <th>2</th>\n",
              "      <td>502</td>\n",
              "      <td>42</td>\n",
              "      <td>8.0</td>\n",
              "      <td>159660.80</td>\n",
              "      <td>3</td>\n",
              "      <td>1</td>\n",
              "      <td>0</td>\n",
              "      <td>113931.57</td>\n",
              "      <td>1</td>\n",
              "      <td>0</td>\n",
              "      <td>0</td>\n",
              "      <td>0</td>\n",
              "    </tr>\n",
              "    <tr>\n",
              "      <th>3</th>\n",
              "      <td>699</td>\n",
              "      <td>39</td>\n",
              "      <td>1.0</td>\n",
              "      <td>0.00</td>\n",
              "      <td>2</td>\n",
              "      <td>0</td>\n",
              "      <td>0</td>\n",
              "      <td>93826.63</td>\n",
              "      <td>0</td>\n",
              "      <td>0</td>\n",
              "      <td>0</td>\n",
              "      <td>0</td>\n",
              "    </tr>\n",
              "    <tr>\n",
              "      <th>4</th>\n",
              "      <td>850</td>\n",
              "      <td>43</td>\n",
              "      <td>2.0</td>\n",
              "      <td>125510.82</td>\n",
              "      <td>1</td>\n",
              "      <td>1</td>\n",
              "      <td>1</td>\n",
              "      <td>79084.10</td>\n",
              "      <td>0</td>\n",
              "      <td>0</td>\n",
              "      <td>1</td>\n",
              "      <td>0</td>\n",
              "    </tr>\n",
              "  </tbody>\n",
              "</table>\n",
              "</div>"
            ],
            "text/plain": [
              "   CreditScore  Age  Tenure  ...  Geography_Germany  Geography_Spain  Gender_Male\n",
              "0          619   42     2.0  ...                  0                0            0\n",
              "1          608   41     1.0  ...                  0                1            0\n",
              "2          502   42     8.0  ...                  0                0            0\n",
              "3          699   39     1.0  ...                  0                0            0\n",
              "4          850   43     2.0  ...                  0                1            0\n",
              "\n",
              "[5 rows x 12 columns]"
            ]
          },
          "metadata": {}
        }
      ]
    },
    {
      "cell_type": "code",
      "metadata": {
        "id": "e0AhKaMpFd1m",
        "outputId": "93532ec5-9805-4fd8-9a0d-293c061c92c1",
        "colab": {
          "base_uri": "https://localhost:8080/",
          "height": 224
        }
      },
      "source": [
        "scaler = StandardScaler()\n",
        "df_OHE_scal = df_OHE\n",
        "df_OHE_scal[['EstimatedSalary', 'Balance']] = scaler.fit_transform(df_OHE[['EstimatedSalary', 'Balance']])\n",
        "display(df_OHE_scal.head())"
      ],
      "execution_count": 7,
      "outputs": [
        {
          "output_type": "display_data",
          "data": {
            "text/html": [
              "<div>\n",
              "<style scoped>\n",
              "    .dataframe tbody tr th:only-of-type {\n",
              "        vertical-align: middle;\n",
              "    }\n",
              "\n",
              "    .dataframe tbody tr th {\n",
              "        vertical-align: top;\n",
              "    }\n",
              "\n",
              "    .dataframe thead th {\n",
              "        text-align: right;\n",
              "    }\n",
              "</style>\n",
              "<table border=\"1\" class=\"dataframe\">\n",
              "  <thead>\n",
              "    <tr style=\"text-align: right;\">\n",
              "      <th></th>\n",
              "      <th>CreditScore</th>\n",
              "      <th>Age</th>\n",
              "      <th>Tenure</th>\n",
              "      <th>Balance</th>\n",
              "      <th>NumOfProducts</th>\n",
              "      <th>HasCrCard</th>\n",
              "      <th>IsActiveMember</th>\n",
              "      <th>EstimatedSalary</th>\n",
              "      <th>Exited</th>\n",
              "      <th>Geography_Germany</th>\n",
              "      <th>Geography_Spain</th>\n",
              "      <th>Gender_Male</th>\n",
              "    </tr>\n",
              "  </thead>\n",
              "  <tbody>\n",
              "    <tr>\n",
              "      <th>0</th>\n",
              "      <td>619</td>\n",
              "      <td>42</td>\n",
              "      <td>2.0</td>\n",
              "      <td>-1.227780</td>\n",
              "      <td>1</td>\n",
              "      <td>1</td>\n",
              "      <td>1</td>\n",
              "      <td>0.020264</td>\n",
              "      <td>1</td>\n",
              "      <td>0</td>\n",
              "      <td>0</td>\n",
              "      <td>0</td>\n",
              "    </tr>\n",
              "    <tr>\n",
              "      <th>1</th>\n",
              "      <td>608</td>\n",
              "      <td>41</td>\n",
              "      <td>1.0</td>\n",
              "      <td>0.116887</td>\n",
              "      <td>1</td>\n",
              "      <td>0</td>\n",
              "      <td>1</td>\n",
              "      <td>0.214527</td>\n",
              "      <td>0</td>\n",
              "      <td>0</td>\n",
              "      <td>1</td>\n",
              "      <td>0</td>\n",
              "    </tr>\n",
              "    <tr>\n",
              "      <th>2</th>\n",
              "      <td>502</td>\n",
              "      <td>42</td>\n",
              "      <td>8.0</td>\n",
              "      <td>1.333920</td>\n",
              "      <td>3</td>\n",
              "      <td>1</td>\n",
              "      <td>0</td>\n",
              "      <td>0.238632</td>\n",
              "      <td>1</td>\n",
              "      <td>0</td>\n",
              "      <td>0</td>\n",
              "      <td>0</td>\n",
              "    </tr>\n",
              "    <tr>\n",
              "      <th>3</th>\n",
              "      <td>699</td>\n",
              "      <td>39</td>\n",
              "      <td>1.0</td>\n",
              "      <td>-1.227780</td>\n",
              "      <td>2</td>\n",
              "      <td>0</td>\n",
              "      <td>0</td>\n",
              "      <td>-0.110281</td>\n",
              "      <td>0</td>\n",
              "      <td>0</td>\n",
              "      <td>0</td>\n",
              "      <td>0</td>\n",
              "    </tr>\n",
              "    <tr>\n",
              "      <th>4</th>\n",
              "      <td>850</td>\n",
              "      <td>43</td>\n",
              "      <td>2.0</td>\n",
              "      <td>0.785996</td>\n",
              "      <td>1</td>\n",
              "      <td>1</td>\n",
              "      <td>1</td>\n",
              "      <td>-0.366132</td>\n",
              "      <td>0</td>\n",
              "      <td>0</td>\n",
              "      <td>1</td>\n",
              "      <td>0</td>\n",
              "    </tr>\n",
              "  </tbody>\n",
              "</table>\n",
              "</div>"
            ],
            "text/plain": [
              "   CreditScore  Age  Tenure  ...  Geography_Germany  Geography_Spain  Gender_Male\n",
              "0          619   42     2.0  ...                  0                0            0\n",
              "1          608   41     1.0  ...                  0                1            0\n",
              "2          502   42     8.0  ...                  0                0            0\n",
              "3          699   39     1.0  ...                  0                0            0\n",
              "4          850   43     2.0  ...                  0                1            0\n",
              "\n",
              "[5 rows x 12 columns]"
            ]
          },
          "metadata": {}
        }
      ]
    },
    {
      "cell_type": "markdown",
      "metadata": {
        "id": "5w6g1kjOFd1n"
      },
      "source": [
        "<div class=\"alert alert-block alert-info\">\n",
        "<b>Совет: </b> Scaler желательно обучать только после разбиения выборки на части. При этом он должен быть обучен только на тренировочной части данных. Это позволит уменьшит переобучение.\n",
        "</div>"
      ]
    },
    {
      "cell_type": "code",
      "metadata": {
        "id": "L_lp_VIAFd1n",
        "outputId": "1449840f-a2e2-478f-ecd5-8d8c49234e97",
        "colab": {
          "base_uri": "https://localhost:8080/"
        }
      },
      "source": [
        "features = df_OHE_scal.drop(['Exited'], axis = 1)\n",
        "target = df_OHE_scal['Exited']\n",
        "\n",
        "features_main, features_test, target_main, target_test = train_test_split(features, target, \n",
        "                                                                                         test_size = 0.2, random_state = 12345)\n",
        "features_train, features_valid, target_train, target_valid = train_test_split(features_main, target_main, \n",
        "                                                                                         test_size = 0.25, random_state = 12345)\n",
        "print('Тренировочных объектов {:.0%}'.format(len(target_train)/len(target)))\n",
        "print('Валидационных объектов {:.0%}'.format(len(target_valid)/len(target)))\n",
        "print('Тестовых объектов {:.0%}'.format(len(target_test)/len(target)))"
      ],
      "execution_count": 8,
      "outputs": [
        {
          "output_type": "stream",
          "name": "stdout",
          "text": [
            "Тренировочных объектов 60%\n",
            "Валидационных объектов 20%\n",
            "Тестовых объектов 20%\n"
          ]
        }
      ]
    },
    {
      "cell_type": "markdown",
      "metadata": {
        "id": "sa2dkALgFd1o"
      },
      "source": [
        "Все подготовительные работы сделаны, можно приступать к изучению и обучению моделей. Наша задача - это задача бинарной классификации"
      ]
    },
    {
      "cell_type": "markdown",
      "metadata": {
        "id": "Sz4DZ3-RFd1p"
      },
      "source": [
        "## Исследование задачи"
      ]
    },
    {
      "cell_type": "markdown",
      "metadata": {
        "id": "AM2UriFqFd1p"
      },
      "source": [
        "Исследуем баланс классов"
      ]
    },
    {
      "cell_type": "code",
      "metadata": {
        "id": "ShlkZUYWFd1p",
        "outputId": "136dadd0-7310-4e05-edb2-40d4646176fb",
        "colab": {
          "base_uri": "https://localhost:8080/"
        }
      },
      "source": [
        "print(target_train.value_counts(normalize = True))"
      ],
      "execution_count": 9,
      "outputs": [
        {
          "output_type": "stream",
          "name": "stdout",
          "text": [
            "0    0.794829\n",
            "1    0.205171\n",
            "Name: Exited, dtype: float64\n"
          ]
        }
      ]
    },
    {
      "cell_type": "markdown",
      "metadata": {
        "id": "cQqt-APAFd1q"
      },
      "source": [
        "Среди классов есть дисбаланс: 20% объектов положительные, остальные отрицательные. Построим модель регрессии и случаного леса на дисбалансированных данных"
      ]
    },
    {
      "cell_type": "markdown",
      "metadata": {
        "id": "eqen_uujFd1r"
      },
      "source": [
        "# Построим модели"
      ]
    },
    {
      "cell_type": "code",
      "metadata": {
        "id": "nLPL-AaKFd1r",
        "outputId": "ae1254d9-cc2f-4fce-f311-706bfc6938ad",
        "colab": {
          "base_uri": "https://localhost:8080/"
        }
      },
      "source": [
        "# Модель регрессии\n",
        "\n",
        "model_lr = LogisticRegression(solver='liblinear', random_state=12345)\n",
        "model_lr.fit(features_train, target_train)\n",
        "predicted_valid = model_lr.predict(features_valid)\n",
        "print('F1 score = {:.2f}'.format(f1_score(target_valid, predicted_valid)))"
      ],
      "execution_count": 10,
      "outputs": [
        {
          "output_type": "stream",
          "name": "stdout",
          "text": [
            "F1 score = 0.30\n"
          ]
        }
      ]
    },
    {
      "cell_type": "markdown",
      "metadata": {
        "id": "hd-toazRFd1r"
      },
      "source": [
        "Качество модели Регрессии весьма низкое. F1 score = 0,3. Попробуем модель случайного леса"
      ]
    },
    {
      "cell_type": "code",
      "metadata": {
        "id": "w0rVI5rCFd1r",
        "outputId": "fde333c0-4bc9-4372-ff1d-38b735bad575",
        "colab": {
          "base_uri": "https://localhost:8080/"
        }
      },
      "source": [
        "# Модель случайного леса\n",
        "forest_n_est = 0\n",
        "forest_max_dep = 0\n",
        "forest_f1 = 0\n",
        "forest_acc = 0\n",
        "\n",
        "\n",
        "for est in range (10, 101, 10):\n",
        "    for dep in range (5, 30, 1):\n",
        "        model_rf = RandomForestClassifier(n_estimators = est, max_depth = dep, random_state=12345)\n",
        "        model_rf.fit(features_train, target_train)\n",
        "        predicted_valid = model_rf.predict(features_valid)\n",
        "        f1 = f1_score(target_valid, predicted_valid)\n",
        "        acc = accuracy_score(target_valid, predicted_valid)\n",
        "        if f1 > forest_f1:\n",
        "            forest_f1 = f1\n",
        "            forest_max_dep = dep\n",
        "            forest_n_est = est\n",
        "            forest_acc = acc\n",
        "\n",
        "print('N_estim (количество деревьев) = {:.0f}'.format(forest_n_est))\n",
        "print('Max_depth (максимальная глубина) = {:.0f}'.format(forest_max_dep))\n",
        "print('F1 score = {:.2f}'.format(forest_f1))"
      ],
      "execution_count": 11,
      "outputs": [
        {
          "output_type": "stream",
          "name": "stdout",
          "text": [
            "N_estim (количество деревьев) = 40\n",
            "Max_depth (максимальная глубина) = 20\n",
            "F1 score = 0.56\n"
          ]
        }
      ]
    },
    {
      "cell_type": "markdown",
      "metadata": {
        "id": "Zc7-Q3yJFd1s"
      },
      "source": [
        "С моделью случайного леса модель гораздо лучше. Перебрав гипермараметры, мы нашли лучшую модель при количестве еревьев 40 и максимальной глубине 20. Однако качество модели не дотягивает до необходимых 0,59. F1 score = 0,56 (лучше, чем в предыдущей модели)"
      ]
    },
    {
      "cell_type": "markdown",
      "metadata": {
        "id": "hRVMjd_6Fd1s"
      },
      "source": [
        "**Краткий вывод** При дисбалансе классов (положительные исходы только 20%) мы не можем добиться хороших результатов по метрике F1 (требуемая 0,59). Максимально хороший параметр мы получили на модели случайного леса с количеством деревьев 40 и максимальной глубиной 20 (F1 = 0,56) Поэтому необходимо сбалансировать классы и подобрать лучшую модель перед окончательным тестом."
      ]
    },
    {
      "cell_type": "markdown",
      "metadata": {
        "id": "lq4f5745Fd1s"
      },
      "source": [
        "## Борьба с дисбалансом"
      ]
    },
    {
      "cell_type": "markdown",
      "metadata": {
        "id": "_vOS_GI2Fd1t"
      },
      "source": [
        "Улучшим качество модели, применим вначале upsampling и применим модель линейной регрессии и найдём лучшую модель случайного леса, а затем downsampling и также найдем лучшую модель."
      ]
    },
    {
      "cell_type": "code",
      "metadata": {
        "id": "bQv2KswwFd1t"
      },
      "source": [
        "def upsampling (features, target, repeat):\n",
        "    features_zero = features[target == 0]\n",
        "    features_one = features[target == 1]\n",
        "    target_zero = target[target == 0]\n",
        "    target_one = target[target == 1]\n",
        "    \n",
        "    features_final = pd.concat([features_zero] + [features_one] * repeat)\n",
        "    target_final = pd.concat([target_zero] + [target_one] * repeat)\n",
        "    \n",
        "    features_final, target_final = shuffle(\n",
        "        features_final, target_final, random_state=12345)\n",
        "    \n",
        "    return features_final, target_final\n",
        "\n",
        "features_up_train, target_up_train = upsampling(features_train, target_train, 4)"
      ],
      "execution_count": 12,
      "outputs": []
    },
    {
      "cell_type": "markdown",
      "metadata": {
        "id": "-VI1esaaFd1t"
      },
      "source": [
        "Провели upsampling (умножили на 4, чтобы из изначального соотношения 80:20, стало 80:80), теперь применим на моделях регрессии и случайного леса"
      ]
    },
    {
      "cell_type": "code",
      "metadata": {
        "id": "ObUncIfwFd1t",
        "outputId": "2908de2e-ca3c-4c91-8a2a-5468219048cd",
        "colab": {
          "base_uri": "https://localhost:8080/"
        }
      },
      "source": [
        "# Модель регрессии\n",
        "\n",
        "model_lr = LogisticRegression(solver='liblinear', random_state=12345)\n",
        "model_lr.fit(features_up_train, target_up_train)\n",
        "predicted_valid = model_lr.predict(features_valid)\n",
        "print('F1 score = {:.2f}'.format(f1_score(target_valid, predicted_valid)))\n",
        "\n",
        "probabilities_valid = model_lr.predict_proba(features_valid)\n",
        "probabilities_one_valid = probabilities_valid[:, 1]\n",
        "\n",
        "print('AUC-ROC = {:.2f}'.format(roc_auc_score(target_valid, probabilities_one_valid)))"
      ],
      "execution_count": 13,
      "outputs": [
        {
          "output_type": "stream",
          "name": "stdout",
          "text": [
            "F1 score = 0.50\n",
            "AUC-ROC = 0.78\n"
          ]
        }
      ]
    },
    {
      "cell_type": "markdown",
      "metadata": {
        "id": "f2ghAYCeFd1u"
      },
      "source": [
        "Качество модели со сбалансированными классами при upsampling стало куда лучше (F1 стал 0,5 против 0,3 на несбалансированных),  весьма низкое. AUC-ROC = 0,78. Попробуем модель случайного леса"
      ]
    },
    {
      "cell_type": "code",
      "metadata": {
        "id": "MttbUV2eFd1u",
        "outputId": "33fce0e0-a013-4bb6-f082-fea1d302bcf0",
        "colab": {
          "base_uri": "https://localhost:8080/"
        }
      },
      "source": [
        "# Модель случайного леса\n",
        "forest_n_est = 0\n",
        "forest_max_dep = 0\n",
        "forest_f1 = 0\n",
        "forest_acc = 0\n",
        "\n",
        "\n",
        "for est in range (10, 101, 10):\n",
        "    for dep in range (5, 30, 1):\n",
        "        model_rf = RandomForestClassifier(n_estimators = est, max_depth = dep, random_state=12345)\n",
        "        model_rf.fit(features_up_train, target_up_train)\n",
        "        predicted_valid = model_rf.predict(features_valid)\n",
        "        f1 = f1_score(target_valid, predicted_valid)\n",
        "        if f1 > forest_f1:\n",
        "            forest_f1 = f1\n",
        "            forest_max_dep = dep\n",
        "            forest_n_est = est\n",
        "\n",
        "print('N_estim (количество деревьев) = {:.0f}'.format(forest_n_est))\n",
        "print('Max_depth (максимальная глубина) = {:.0f}'.format(forest_max_dep))\n",
        "print('F1 score = {:.2f}'.format(forest_f1))\n",
        "\n",
        "probabilities_valid = model_rf.predict_proba(features_valid)\n",
        "probabilities_one_valid = probabilities_valid[:, 1]\n",
        "\n",
        "print('AUC-ROC = {:.2f}'.format(roc_auc_score(target_valid, probabilities_one_valid)))"
      ],
      "execution_count": 14,
      "outputs": [
        {
          "output_type": "stream",
          "name": "stdout",
          "text": [
            "N_estim (количество деревьев) = 40\n",
            "Max_depth (максимальная глубина) = 9\n",
            "F1 score = 0.61\n",
            "AUC-ROC = 0.83\n"
          ]
        }
      ]
    },
    {
      "cell_type": "markdown",
      "metadata": {
        "id": "1tZJC8lhFd1v"
      },
      "source": [
        "Модель случайного леса с upsampling показала себя лучше и превзошла необходимых порог значения F1 меры в 0,59 (у модели с 40 деревьями и 9 максимальной глубины F1 = 0,61). AUC-ROC при нашей модели равен 0,83, что тоже лучше, чем в линейной регрессии. Теперь пройдёмся мтодом downsampling"
      ]
    },
    {
      "cell_type": "code",
      "metadata": {
        "id": "ji0lnV3BFd1v"
      },
      "source": [
        "def downsampling (features, target, fraction):\n",
        "    features_zero = features[target == 0]\n",
        "    features_one = features[target == 1]\n",
        "    target_zero = target[target == 0]\n",
        "    target_one = target[target == 1]\n",
        "    \n",
        "    features_final = pd.concat([features_zero.sample(frac=fraction, random_state=12345)] + [features_one])\n",
        "    target_final = pd.concat([target_zero.sample(frac=fraction, random_state=12345)] + [target_one])\n",
        "    \n",
        "    features_final, target_final = shuffle(\n",
        "        features_final, target_final, random_state=12345)\n",
        "    \n",
        "    return features_final, target_final\n",
        "\n",
        "features_down_train, target_down_train = downsampling(features_train, target_train, 0.25)"
      ],
      "execution_count": 15,
      "outputs": []
    },
    {
      "cell_type": "markdown",
      "metadata": {
        "id": "Y3vfswhgFd1v"
      },
      "source": [
        "Провели downsampling (взяли 1/4, чтобы из изначального соотношения 80:20, стало 20:20), теперь применим на моделях регрессии и случайного леса"
      ]
    },
    {
      "cell_type": "code",
      "metadata": {
        "id": "1mnkKb5eFd1v",
        "outputId": "cee69a69-3671-4ccc-8f28-f565335331a1",
        "colab": {
          "base_uri": "https://localhost:8080/"
        }
      },
      "source": [
        "# Модель регрессии\n",
        "\n",
        "model_lr = LogisticRegression(solver='liblinear', random_state=12345)\n",
        "model_lr.fit(features_down_train, target_down_train)\n",
        "predicted_valid = model_lr.predict(features_valid)\n",
        "print('F1 score = {:.2f}'.format(f1_score(target_valid, predicted_valid)))\n",
        "\n",
        "probabilities_valid = model_lr.predict_proba(features_valid)\n",
        "probabilities_one_valid = probabilities_valid[:, 1]\n",
        "\n",
        "print('AUC-ROC = {:.2f}'.format(roc_auc_score(target_valid, probabilities_one_valid)))"
      ],
      "execution_count": 16,
      "outputs": [
        {
          "output_type": "stream",
          "name": "stdout",
          "text": [
            "F1 score = 0.50\n",
            "AUC-ROC = 0.78\n"
          ]
        }
      ]
    },
    {
      "cell_type": "markdown",
      "metadata": {
        "id": "DoomhEpiFd1w"
      },
      "source": [
        "Качество модели со сбалансированными классами при downsampling такое же как при upsampling (F1 равен 0,5, AUC-ROC равен 0,78). Попробуем модель случайного леса"
      ]
    },
    {
      "cell_type": "code",
      "metadata": {
        "id": "aCa-NbU-Fd1w",
        "outputId": "8303ffc8-1c38-4e5b-e904-8af5d54fb7c0",
        "colab": {
          "base_uri": "https://localhost:8080/"
        }
      },
      "source": [
        "# Модель случайного леса\n",
        "forest_n_est = 0\n",
        "forest_max_dep = 0\n",
        "forest_f1 = 0\n",
        "forest_acc = 0\n",
        "\n",
        "\n",
        "for est in range (10, 101, 10):\n",
        "    for dep in range (5, 30, 1):\n",
        "        model_rf = RandomForestClassifier(n_estimators = est, max_depth = dep, random_state=12345)\n",
        "        model_rf.fit(features_down_train, target_down_train)\n",
        "        predicted_valid = model_rf.predict(features_valid)\n",
        "        f1 = f1_score(target_valid, predicted_valid)\n",
        "        if f1 > forest_f1:\n",
        "            forest_f1 = f1\n",
        "            forest_max_dep = dep\n",
        "            forest_n_est = est\n",
        "\n",
        "print('N_estim (количество деревьев) = {:.0f}'.format(forest_n_est))\n",
        "print('Max_depth (максимальная глубина) = {:.0f}'.format(forest_max_dep))\n",
        "print('F1 score = {:.2f}'.format(forest_f1))\n",
        "\n",
        "probabilities_valid = model_rf.predict_proba(features_valid)\n",
        "probabilities_one_valid = probabilities_valid[:, 1]\n",
        "\n",
        "print('AUC-ROC = {:.2f}'.format(roc_auc_score(target_valid, probabilities_one_valid)))"
      ],
      "execution_count": 17,
      "outputs": [
        {
          "output_type": "stream",
          "name": "stdout",
          "text": [
            "N_estim (количество деревьев) = 80\n",
            "Max_depth (максимальная глубина) = 9\n",
            "F1 score = 0.59\n",
            "AUC-ROC = 0.84\n"
          ]
        }
      ]
    },
    {
      "cell_type": "markdown",
      "metadata": {
        "id": "lCEqzYa9Fd1w"
      },
      "source": [
        "Модель случайного леса с downsampling показала себя хуже, чем при upsampling (F1 мера равна 0,59 против 0,61). AUC-ROC примерно такой же (0,84 против 0,83 предыдущей)"
      ]
    },
    {
      "cell_type": "markdown",
      "metadata": {
        "id": "mmijX4sqFd1w"
      },
      "source": [
        "**Краткий вывод** Сбалансированная модель показывает лучшие результаты, наилучшей стала модель случайного леса (60 деревьев, глубина 13) после upsampling. Значение F1 меры побило порог и равно 0,61. AUC-ROC модели равен 0,83. Перейдём к тестированию лучшей модели"
      ]
    },
    {
      "cell_type": "markdown",
      "metadata": {
        "id": "g-Mk2cuwFd1x"
      },
      "source": [
        "## Тестирование модели"
      ]
    },
    {
      "cell_type": "markdown",
      "metadata": {
        "id": "UDy3zwBxFd1x"
      },
      "source": [
        "Проведите финальное тестирование."
      ]
    },
    {
      "cell_type": "code",
      "metadata": {
        "id": "-yTcGX8YFd1x",
        "outputId": "f7c0ccba-bf9e-4bab-8baa-2ecaf186a11d",
        "colab": {
          "base_uri": "https://localhost:8080/"
        }
      },
      "source": [
        "best_model = RandomForestClassifier(n_estimators = 40, max_depth = 9, random_state=12345)\n",
        "best_model.fit(features_up_train, target_up_train)\n",
        "\n",
        "predicted_valid = best_model.predict(features_test)\n",
        "f1 = f1_score(target_test, predicted_valid)\n",
        "\n",
        "print('F1 score = {:.2f}'.format(forest_f1))\n",
        "\n",
        "probabilities_test = best_model.predict_proba(features_test)\n",
        "probabilities_one_test = probabilities_test[:, 1]\n",
        "\n",
        "print('AUC-ROC = {:.2f}'.format(roc_auc_score(target_test, probabilities_one_test)))"
      ],
      "execution_count": 19,
      "outputs": [
        {
          "output_type": "stream",
          "name": "stdout",
          "text": [
            "F1 score = 0.59\n",
            "AUC-ROC = 0.86\n"
          ]
        }
      ]
    },
    {
      "cell_type": "markdown",
      "metadata": {
        "id": "g8hdawCDFd1x"
      },
      "source": [
        "На тестовой выборке модель показала себя достаточно хорошо, выполнив порог F1 меры в 0,59. При этом значение AUC-ROC тоже высокое 0,85"
      ]
    },
    {
      "cell_type": "markdown",
      "metadata": {
        "id": "GYp-1PArFd1x"
      },
      "source": [
        "**Общий вывод:** Теперь мы можем пресказывать уход клиента из банка по модели случайного леса (количество деревьев 40, максимальная глубина 9), обучив её на сбалансированной выборке методом upsampling. Модель была успешна протестирована на Тестовых данных\n",
        "- Важно помнить, что дисбаланс классов очень велик, поэтому следуюет уделять этому внимание при дальнейшем использовании модели!"
      ]
    }
  ]
}