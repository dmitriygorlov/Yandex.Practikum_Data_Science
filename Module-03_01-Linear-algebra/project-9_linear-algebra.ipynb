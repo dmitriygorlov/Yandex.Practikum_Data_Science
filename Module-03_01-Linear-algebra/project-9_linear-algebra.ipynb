{
 "cells": [
  {
   "cell_type": "markdown",
   "metadata": {},
   "source": [
    "<div style=\"border:solid green 2px; padding: 20px\">\n",
    "\n",
    "<b>Привет, Дмитрий!</b>\n",
    "\n",
    "Меня зовут Ярослав П. и я буду проверять твой проект. Попробую помочь сделать тебе его еще лучше!\n",
    "\n",
    "Предлагаю общаться на «**ты**». Если это неприемлемо, обязательно напиши мне в комментариях — мы перейдем на «**вы**».\n",
    "\n",
    "Ниже ты найдешь мои комментарии - пожалуйста, не перемещай, не изменяй и не удаляй их. Я буду использовать цветовую разметку:\n",
    "\n",
    "<div class=\"alert alert-danger\">\n",
    "<b>Комментарий ревьюера:</b> Так выделены самые важные замечания. Без их отработки проект не будет принят. </div>\n",
    "\n",
    "<div class=\"alert alert-warning\">\n",
    "<b>Комментарий ревьюера:</b> Так выделены небольшие замечания или советы.\n",
    "\n",
    "</div>\n",
    "\n",
    "<div class=\"alert alert-success\">\n",
    "<b>Комментарий ревьюера:</b> Так я выделяю все остальные комментарии.</div>\n",
    "\n",
    "Давай работать над проектом в диалоге: если ты что-то меняешь в проекте или отвечаешь на мои комменатри — пиши об этом. Мне будет легче отследить изменения, если ты выделишь свои комментарии:\n",
    "<div class=\"alert alert-info\"> <b>Комментарий студента:</b> Например, вот так.</div>\n",
    "\n",
    "Всё это поможет выполнить повторную проверку твоего проекта оперативнее. \n",
    "    \n",
    "    \n",
    "### <span style=\"color:orange\">Обратная связь</span><a class=\"tocSkip\">\n",
    "\n",
    "- Проект отлично выполнен.\n",
    "- Алгоритм и ответ на вопрос верные! Однако в обосновании есть небольшая ошибка. Оставил про это комментарий.\n",
    "- Экспериментальное подтверждение проведено корректно.\n",
    "    \n",
    "Проект принят, успехов в дальнейшем обучении!"
   ]
  },
  {
   "cell_type": "markdown",
   "metadata": {
    "toc": true
   },
   "source": [
    "<h1>Содержание<span class=\"tocSkip\"></span></h1>\n",
    "<div class=\"toc\"><ul class=\"toc-item\"><li><span><a href=\"#Загрузка-данных\" data-toc-modified-id=\"Загрузка-данных-1\"><span class=\"toc-item-num\">1&nbsp;&nbsp;</span>Загрузка данных</a></span></li><li><span><a href=\"#Умножение-матриц\" data-toc-modified-id=\"Умножение-матриц-2\"><span class=\"toc-item-num\">2&nbsp;&nbsp;</span>Умножение матриц</a></span></li><li><span><a href=\"#Алгоритм-преобразования\" data-toc-modified-id=\"Алгоритм-преобразования-3\"><span class=\"toc-item-num\">3&nbsp;&nbsp;</span>Алгоритм преобразования</a></span></li><li><span><a href=\"#Проверка-алгоритма\" data-toc-modified-id=\"Проверка-алгоритма-4\"><span class=\"toc-item-num\">4&nbsp;&nbsp;</span>Проверка алгоритма</a></span></li><li><span><a href=\"#Чек-лист-проверки\" data-toc-modified-id=\"Чек-лист-проверки-5\"><span class=\"toc-item-num\">5&nbsp;&nbsp;</span>Чек-лист проверки</a></span></li></ul></div>"
   ]
  },
  {
   "cell_type": "markdown",
   "metadata": {},
   "source": [
    "# Защита персональных данных клиентов"
   ]
  },
  {
   "cell_type": "markdown",
   "metadata": {},
   "source": [
    "Вам нужно защитить данные клиентов страховой компании «Хоть потоп». Разработайте такой метод преобразования данных, чтобы по ним было сложно восстановить персональную информацию. Обоснуйте корректность его работы.\n",
    "\n",
    "Нужно защитить данные, чтобы при преобразовании качество моделей машинного обучения не ухудшилось. Подбирать наилучшую модель не требуется."
   ]
  },
  {
   "cell_type": "markdown",
   "metadata": {},
   "source": [
    "<div class=\"alert alert-block alert-success\">\n",
    "<b>Комментарий ревьюера</b>\n",
    "\n",
    "Отличное введение.\n",
    "\n",
    "</div>\n"
   ]
  },
  {
   "cell_type": "markdown",
   "metadata": {},
   "source": [
    "## Загрузка данных"
   ]
  },
  {
   "cell_type": "code",
   "execution_count": 1,
   "metadata": {},
   "outputs": [],
   "source": [
    "import pandas as pd\n",
    "import numpy as np\n",
    "from sklearn.linear_model import LinearRegression\n",
    "from sklearn.model_selection import train_test_split"
   ]
  },
  {
   "cell_type": "markdown",
   "metadata": {},
   "source": [
    "загрузили библиотеки"
   ]
  },
  {
   "cell_type": "code",
   "execution_count": 2,
   "metadata": {},
   "outputs": [],
   "source": [
    "df = pd.read_csv(\"/datasets/insurance.csv\")"
   ]
  },
  {
   "cell_type": "markdown",
   "metadata": {},
   "source": [
    "загрузили данные"
   ]
  },
  {
   "cell_type": "code",
   "execution_count": 3,
   "metadata": {},
   "outputs": [
    {
     "name": "stdout",
     "output_type": "stream",
     "text": [
      "<class 'pandas.core.frame.DataFrame'>\n",
      "RangeIndex: 5000 entries, 0 to 4999\n",
      "Data columns (total 5 columns):\n",
      "Пол                  5000 non-null int64\n",
      "Возраст              5000 non-null float64\n",
      "Зарплата             5000 non-null float64\n",
      "Члены семьи          5000 non-null int64\n",
      "Страховые выплаты    5000 non-null int64\n",
      "dtypes: float64(2), int64(3)\n",
      "memory usage: 195.4 KB\n"
     ]
    },
    {
     "data": {
      "text/html": [
       "<div>\n",
       "<style scoped>\n",
       "    .dataframe tbody tr th:only-of-type {\n",
       "        vertical-align: middle;\n",
       "    }\n",
       "\n",
       "    .dataframe tbody tr th {\n",
       "        vertical-align: top;\n",
       "    }\n",
       "\n",
       "    .dataframe thead th {\n",
       "        text-align: right;\n",
       "    }\n",
       "</style>\n",
       "<table border=\"1\" class=\"dataframe\">\n",
       "  <thead>\n",
       "    <tr style=\"text-align: right;\">\n",
       "      <th></th>\n",
       "      <th>Пол</th>\n",
       "      <th>Возраст</th>\n",
       "      <th>Зарплата</th>\n",
       "      <th>Члены семьи</th>\n",
       "      <th>Страховые выплаты</th>\n",
       "    </tr>\n",
       "  </thead>\n",
       "  <tbody>\n",
       "    <tr>\n",
       "      <td>0</td>\n",
       "      <td>1</td>\n",
       "      <td>41.0</td>\n",
       "      <td>49600.0</td>\n",
       "      <td>1</td>\n",
       "      <td>0</td>\n",
       "    </tr>\n",
       "    <tr>\n",
       "      <td>1</td>\n",
       "      <td>0</td>\n",
       "      <td>46.0</td>\n",
       "      <td>38000.0</td>\n",
       "      <td>1</td>\n",
       "      <td>1</td>\n",
       "    </tr>\n",
       "    <tr>\n",
       "      <td>2</td>\n",
       "      <td>0</td>\n",
       "      <td>29.0</td>\n",
       "      <td>21000.0</td>\n",
       "      <td>0</td>\n",
       "      <td>0</td>\n",
       "    </tr>\n",
       "    <tr>\n",
       "      <td>3</td>\n",
       "      <td>0</td>\n",
       "      <td>21.0</td>\n",
       "      <td>41700.0</td>\n",
       "      <td>2</td>\n",
       "      <td>0</td>\n",
       "    </tr>\n",
       "    <tr>\n",
       "      <td>4</td>\n",
       "      <td>1</td>\n",
       "      <td>28.0</td>\n",
       "      <td>26100.0</td>\n",
       "      <td>0</td>\n",
       "      <td>0</td>\n",
       "    </tr>\n",
       "  </tbody>\n",
       "</table>\n",
       "</div>"
      ],
      "text/plain": [
       "   Пол  Возраст  Зарплата  Члены семьи  Страховые выплаты\n",
       "0    1     41.0   49600.0            1                  0\n",
       "1    0     46.0   38000.0            1                  1\n",
       "2    0     29.0   21000.0            0                  0\n",
       "3    0     21.0   41700.0            2                  0\n",
       "4    1     28.0   26100.0            0                  0"
      ]
     },
     "metadata": {},
     "output_type": "display_data"
    }
   ],
   "source": [
    "df.info()\n",
    "display(df.head())"
   ]
  },
  {
   "cell_type": "markdown",
   "metadata": {},
   "source": [
    "наши исходные данные состоят из 5000 строк, есть целевой признак \"Страховые выплаты\", а также признаки пол, возраст, зарплата, члены семьи. Поделим данные на features и target, а также на тренировочный и тестовый набор."
   ]
  },
  {
   "cell_type": "code",
   "execution_count": 4,
   "metadata": {},
   "outputs": [],
   "source": [
    "features = df.drop('Страховые выплаты', axis=1)\n",
    "target = df['Страховые выплаты']\n",
    "\n",
    "features_train, features_test, target_train, target_test = train_test_split(\n",
    "    features, target, test_size=0.25, random_state=12345)"
   ]
  },
  {
   "cell_type": "markdown",
   "metadata": {},
   "source": [
    "посчитаем r2 на изначальной регрессии"
   ]
  },
  {
   "cell_type": "code",
   "execution_count": 5,
   "metadata": {},
   "outputs": [
    {
     "name": "stdout",
     "output_type": "stream",
     "text": [
      "r2 = 0.435227571270266\n"
     ]
    }
   ],
   "source": [
    "model = LinearRegression()\n",
    "model.fit(features_train, target_train)\n",
    "r2 = model.score(features_test, target_test)\n",
    "print('r2 =', r2)"
   ]
  },
  {
   "cell_type": "markdown",
   "metadata": {},
   "source": [
    "Итак, мы знаем исходное значение качества на модели, теперь приступим к умножению матриц и исследуем влияние."
   ]
  },
  {
   "cell_type": "markdown",
   "metadata": {},
   "source": [
    "<div class=\"alert alert-block alert-success\">\n",
    "<b>Комментарий ревьюера</b>\n",
    "\n",
    "Отлично, данные разделены и изначальное значение метрики получено. Также в начале полезно провести небольшой анализ данных (несмотря на то, что проект небольшой и в целом это не требуется). Нет ли каких-либо аномальных значений, например, в возрасте или зарплате, как распределен целевой признак.\n",
    "\n",
    "</div>"
   ]
  },
  {
   "cell_type": "markdown",
   "metadata": {},
   "source": [
    "## Умножение матриц"
   ]
  },
  {
   "cell_type": "markdown",
   "metadata": {},
   "source": [
    "Создадим случайную матрицу 4 на 4 и проверим её на обратимость перед умножением"
   ]
  },
  {
   "cell_type": "code",
   "execution_count": 6,
   "metadata": {},
   "outputs": [],
   "source": [
    "matrix = np.random.rand(4, 4)\n",
    "\n",
    "ver_matrix = np.linalg.inv(matrix)"
   ]
  },
  {
   "cell_type": "markdown",
   "metadata": {},
   "source": [
    "<div class=\"alert alert-block alert-success\">\n",
    "<b>Комментарий ревьюера</b>\n",
    "\n",
    "Молодец, что не забыл про проверку на обратимость.\n",
    "\n",
    "</div>\n"
   ]
  },
  {
   "cell_type": "markdown",
   "metadata": {},
   "source": [
    "подходящая обратимая матрица готова, умножим исходные данные и оценим изменение качества модели (r2)"
   ]
  },
  {
   "cell_type": "code",
   "execution_count": 7,
   "metadata": {},
   "outputs": [
    {
     "name": "stdout",
     "output_type": "stream",
     "text": [
      "r2 = 0.4352275712702376\n"
     ]
    }
   ],
   "source": [
    "features_train_mat = features_train @ matrix\n",
    "features_test_mat = features_test @ matrix\n",
    "\n",
    "\n",
    "model_mat = LinearRegression()\n",
    "model_mat.fit(features_train_mat, target_train)\n",
    "r2 = model_mat.score(features_test_mat, target_test)\n",
    "print('r2 =', r2)"
   ]
  },
  {
   "cell_type": "markdown",
   "metadata": {},
   "source": [
    "**Ответ:** Метрика r2 по сути не изменилась, а значит качество линейной регрессии не меняется при умножении признаков на обратимую матрицу. Это происходит вввиду самой логики формулы линейной регрессии. Посмотрим подробнее"
   ]
  },
  {
   "cell_type": "markdown",
   "metadata": {},
   "source": [
    "<div class=\"alert alert-block alert-success\">\n",
    "<b>Комментарий ревьюера</b>\n",
    "\n",
    "Отлично, экспериментально доказали, теперь осталось математически.\n",
    "\n",
    "</div>\n"
   ]
  },
  {
   "cell_type": "markdown",
   "metadata": {},
   "source": [
    "Обозначения:\n",
    "\n",
    "- $X$ — матрица признаков (нулевой столбец состоит из единиц)\n",
    "\n",
    "- $y$ — вектор целевого признака\n",
    "\n",
    "- $P$ — матрица, на которую умножаются признаки\n",
    "\n",
    "- $w$ — вектор весов линейной регрессии (нулевой элемент равен сдвигу)"
   ]
  },
  {
   "cell_type": "markdown",
   "metadata": {},
   "source": [
    "Предсказания:\n",
    "\n",
    "$$\n",
    "a = Xw\n",
    "$$\n",
    "\n",
    "Задача обучения:\n",
    "\n",
    "$$\n",
    "w = \\arg\\min_w MSE(Xw, y)\n",
    "$$\n",
    "\n",
    "Формула обучения:\n",
    "\n",
    "$$\n",
    "w = (X^T X)^{-1} X^T y\n",
    "$$\n",
    "\n",
    "Важные свойства матриц:\n",
    "\n",
    "$$\n",
    "(AB)^{-1} = B^{-1} A^{-1}\n",
    "$$\n",
    "$$\n",
    "(AB)^{T} = B^{T} A^{T}\n",
    "$$\n",
    "$$\n",
    "A A^{-1} = E\n",
    "$$\n"
   ]
  },
  {
   "cell_type": "markdown",
   "metadata": {},
   "source": [
    "**Обоснование:**\n",
    "\n",
    "Заменим матрицу $X$ на $Y$\n",
    "\n",
    "$$\n",
    "N = XO\n",
    "$$\n",
    "\n",
    "где $O$ - обратимая матрица со случайными значениями\n",
    "\n",
    "После замены посмотрим на новые $w_{1}$ и $a_{1}$\n",
    "\n",
    "$$\n",
    "w_{1}=(N^T N)^{-1} N^T y\n",
    "$$\n",
    "\n",
    "$$\n",
    "a_{1}=N (N^T N)^{-1} N^T y\n",
    "$$\n",
    "\n",
    "Раскроем N\n",
    "\n",
    "$$\n",
    "a_{1}=XO ((XO)^T (XO))^{-1} (XO)^T y\n",
    "$$\n",
    "\n",
    "Теперь воспользуемся свойствами матриц\n",
    "\n",
    "$$\n",
    "XO ((XO)^T (XO))^{-1} (XO)^T y = XO(XO)^{-1}((XO)^T)^{-1}(XO)^Ty = XOO^{-1}X^{-1}((XO)^T)^{-1}(XO)^Ty = XEX^{-1}((XO)^T)^{-1}(XO)^Ty = XX^{-1}(O^T X^T)^{-1} O^T X^T y = X X^{-1}(X^T)^{-1}(O^T)^{-1}O^T X^T y = X X^{-1}(X^T)^{-1}EX^T y = X(X^T X)^{-1} X^T y\n",
    "$$\n",
    "\n",
    "таким образом мы получили исходное \n",
    "\n",
    "$$\n",
    "a = Xw = X(X^T X)^{-1} X^T y\n",
    "$$\n",
    "\n",
    "а это значит, что $a_{1}$ = $a$ и значение предсказания не меняется, если умножать матрицу признаков на обратимую матрицу!"
   ]
  },
  {
   "cell_type": "markdown",
   "metadata": {},
   "source": [
    "<div class=\"alert alert-block alert-warning\">\n",
    "<b>Комментарий ревьюера</b>\n",
    "\n",
    "Ответ верный, однако есть небольшая неточность при открытии скобки (с твоего разрешения вместо О буду использовать обозначение Р):\n",
    "\n",
    "$$\n",
    "((XP)^T(XP))^{-1}\n",
    "$$\n",
    "\n",
    "\n",
    "Так как матрицы $X$ и $X^T$, а также $(XP)^T$ и $XP$, прямогульные, то обратных матриц у них нет. Здесь правильный подход такой. То есть сначала открываем внутренние скобки, потом группируем в три квадратные матрицы, а потом раскрываем скобки:\n",
    "\n",
    "$$\n",
    "((XP)^T(XP))^{-1} = (P^T\\cdot  X^T\\cdot  X\\cdot  P)^{-1} = (P^T\\cdot (X^T  X)\\cdot  P)^{-1} = P^{-1} \\cdot (X^T  X)^{-1} \\cdot (P^T)^{-1}\n",
    "$$\n",
    "\n",
    "</div>"
   ]
  },
  {
   "cell_type": "markdown",
   "metadata": {},
   "source": [
    "## Алгоритм преобразования"
   ]
  },
  {
   "cell_type": "markdown",
   "metadata": {},
   "source": [
    "**Алгоритм**\n",
    "\n",
    "Для шифрования исходных данных сделаем функцию, которая будет создавать подходящую матрицу и перемножать исходные данные на неё"
   ]
  },
  {
   "cell_type": "markdown",
   "metadata": {},
   "source": [
    "<div class=\"alert alert-block alert-warning\">\n",
    "<b>Комментарий ревьюера</b>\n",
    "\n",
    "Здесь преполагается записать алгоритм в таком виде:\n",
    "\n",
    "1. Создадим...\n",
    "2. Проверим...\n",
    "3. Умножим... и т.д.\n",
    "\n",
    "Но это некритично.\n",
    "\n",
    "</div>"
   ]
  },
  {
   "cell_type": "code",
   "execution_count": 8,
   "metadata": {},
   "outputs": [],
   "source": [
    "def algoritm(features_train, features_test):\n",
    "    n = features_train.shape[1]\n",
    "    matrix = np.random.rand(n, n)\n",
    "    det = np.linalg.det(matrix)\n",
    "    while det == 0:\n",
    "        matrix = np.random.rand(n, n)\n",
    "        det = np.linalg.det(matrix)\n",
    "    new_features_train = features_train @ matrix\n",
    "    new_features_test = features_test @ matrix\n",
    "    return new_features_train, new_features_test"
   ]
  },
  {
   "cell_type": "markdown",
   "metadata": {},
   "source": [
    "<div class=\"alert alert-block alert-success\">\n",
    "<b>Комментарий ревьюера</b>\n",
    "\n",
    "Круто, что заложил в функцию автоматическую проверку на обратимость. Также было бы здорово, если функция бы возращала также и нашу рандомную матрицу, которую мы использовали для шифрования - чтобы сохранить ее и потом использовать для расшифровки (умножив new_features_train на обратную ей матрицу).\n",
    "\n",
    "</div>\n"
   ]
  },
  {
   "cell_type": "markdown",
   "metadata": {},
   "source": [
    "**Обоснование**\n",
    "\n",
    "Как мы уже доказали ранее, качество линейной регрессии не изменяется при умножении признаков на обратимую матрицу. Поэтому в рамках функции мы берём исходные данные, узнаем подходящую размерность, создаём подходящую матрицу, проверяем матрицу на обратимость (при необходимости создаём новую) и возвращаем перемноженные матрицы. Проверим алгоритм на наших данных"
   ]
  },
  {
   "cell_type": "markdown",
   "metadata": {},
   "source": [
    "## Проверка алгоритма"
   ]
  },
  {
   "cell_type": "markdown",
   "metadata": {},
   "source": [
    "Исходные данные:"
   ]
  },
  {
   "cell_type": "code",
   "execution_count": 9,
   "metadata": {},
   "outputs": [
    {
     "name": "stdout",
     "output_type": "stream",
     "text": [
      "r2 = 0.435227571270266\n"
     ]
    }
   ],
   "source": [
    "model = LinearRegression()\n",
    "model.fit(features_train, target_train)\n",
    "r2 = model.score(features_test, target_test)\n",
    "print('r2 =', r2)"
   ]
  },
  {
   "cell_type": "markdown",
   "metadata": {},
   "source": [
    "Зашфруем данные и померяем r2 снова:"
   ]
  },
  {
   "cell_type": "code",
   "execution_count": 10,
   "metadata": {},
   "outputs": [
    {
     "name": "stdout",
     "output_type": "stream",
     "text": [
      "cipher_r2 = 0.4352275712713771\n"
     ]
    }
   ],
   "source": [
    "cipher_features_train, cipher_features_test = algoritm(features_train, features_test)\n",
    "\n",
    "model_cipher = LinearRegression()\n",
    "model_cipher.fit(cipher_features_train, target_train)\n",
    "cipher_r2 = model_cipher.score(cipher_features_test, target_test)\n",
    "print('cipher_r2 =', cipher_r2)"
   ]
  },
  {
   "cell_type": "markdown",
   "metadata": {},
   "source": [
    "Метрика качества (r2) не поменялась! \n",
    "\n",
    "**Вывод:** функцию алгоритма можно применять для шифровки исходных данных без падения качества предсказания модели"
   ]
  },
  {
   "cell_type": "markdown",
   "metadata": {},
   "source": [
    "<div class=\"alert alert-block alert-success\">\n",
    "<b>Комментарий ревьюера</b>\n",
    "\n",
    "Результат подтвержден как математически, так и экспериментально, здорово.\n",
    "\n",
    "</div>\n"
   ]
  },
  {
   "cell_type": "markdown",
   "metadata": {},
   "source": [
    "## Чек-лист проверки"
   ]
  },
  {
   "cell_type": "markdown",
   "metadata": {},
   "source": [
    "Поставьте 'x' в выполненных пунктах. Далее нажмите Shift+Enter."
   ]
  },
  {
   "cell_type": "markdown",
   "metadata": {},
   "source": [
    "- [x]  Jupyter Notebook открыт\n",
    "- [x]  Весь код выполняется без ошибок\n",
    "- [x]  Ячейки с кодом расположены в порядке исполнения\n",
    "- [x]  Выполнен шаг 1: данные загружены\n",
    "- [x]  Выполнен шаг 2: получен ответ на вопрос об умножении матриц\n",
    "    - [x]  Указан правильный вариант ответа\n",
    "    - [x]  Вариант обоснован\n",
    "- [x]  Выполнен шаг 3: предложен алгоритм преобразования\n",
    "    - [x]  Алгоритм описан\n",
    "    - [x]  Алгоритм обоснован\n",
    "- [x]  Выполнен шаг 4: алгоритм проверен\n",
    "    - [x]  Алгоритм реализован\n",
    "    - [x]  Проведено сравнение качества моделей до и после преобразования"
   ]
  },
  {
   "cell_type": "code",
   "execution_count": null,
   "metadata": {},
   "outputs": [],
   "source": []
  }
 ],
 "metadata": {
  "ExecuteTimeLog": [
   {
    "duration": 1351,
    "start_time": "2021-07-10T11:51:15.090Z"
   },
   {
    "duration": 4,
    "start_time": "2021-07-10T11:51:20.158Z"
   },
   {
    "duration": 4,
    "start_time": "2021-07-10T11:51:24.158Z"
   },
   {
    "duration": 4,
    "start_time": "2021-07-10T11:53:10.359Z"
   },
   {
    "duration": 18,
    "start_time": "2021-07-10T11:53:11.229Z"
   },
   {
    "duration": 500,
    "start_time": "2021-07-10T11:53:11.959Z"
   },
   {
    "duration": 28,
    "start_time": "2021-07-10T11:53:25.878Z"
   },
   {
    "duration": 17,
    "start_time": "2021-07-10T11:53:37.357Z"
   },
   {
    "duration": 17,
    "start_time": "2021-07-10T11:54:03.498Z"
   },
   {
    "duration": 5,
    "start_time": "2021-07-10T12:04:48.837Z"
   },
   {
    "duration": 6,
    "start_time": "2021-07-10T12:04:54.276Z"
   },
   {
    "duration": 205,
    "start_time": "2021-07-11T19:22:07.371Z"
   },
   {
    "duration": 1002,
    "start_time": "2021-07-11T19:22:14.954Z"
   },
   {
    "duration": 17,
    "start_time": "2021-07-11T19:22:15.959Z"
   },
   {
    "duration": 17,
    "start_time": "2021-07-11T19:22:15.981Z"
   },
   {
    "duration": 3,
    "start_time": "2021-07-11T19:22:16.000Z"
   },
   {
    "duration": 3,
    "start_time": "2021-07-11T19:25:07.012Z"
   },
   {
    "duration": 264,
    "start_time": "2021-07-11T19:26:09.493Z"
   },
   {
    "duration": 8,
    "start_time": "2021-07-11T19:26:23.820Z"
   },
   {
    "duration": 9,
    "start_time": "2021-07-11T19:26:25.650Z"
   },
   {
    "duration": 4,
    "start_time": "2021-07-11T19:29:41.736Z"
   },
   {
    "duration": 3,
    "start_time": "2021-07-11T19:30:03.881Z"
   },
   {
    "duration": 3,
    "start_time": "2021-07-11T19:42:08.215Z"
   },
   {
    "duration": 7,
    "start_time": "2021-07-11T19:56:59.074Z"
   },
   {
    "duration": 7,
    "start_time": "2021-07-11T19:57:23.846Z"
   },
   {
    "duration": 8,
    "start_time": "2021-07-11T19:57:35.066Z"
   },
   {
    "duration": 8,
    "start_time": "2021-07-11T19:57:51.281Z"
   },
   {
    "duration": 8,
    "start_time": "2021-07-11T19:58:07.479Z"
   },
   {
    "duration": 3,
    "start_time": "2021-07-11T20:53:16.252Z"
   },
   {
    "duration": 8,
    "start_time": "2021-07-11T20:57:04.025Z"
   },
   {
    "duration": 7,
    "start_time": "2021-07-11T20:57:07.172Z"
   },
   {
    "duration": 8,
    "start_time": "2021-07-11T20:59:28.127Z"
   },
   {
    "duration": 8,
    "start_time": "2021-07-11T20:59:33.069Z"
   },
   {
    "duration": 8,
    "start_time": "2021-07-11T21:00:02.616Z"
   },
   {
    "duration": 11,
    "start_time": "2021-07-11T21:00:14.363Z"
   },
   {
    "duration": 9,
    "start_time": "2021-07-11T21:00:15.076Z"
   },
   {
    "duration": 9,
    "start_time": "2021-07-11T21:00:15.506Z"
   },
   {
    "duration": 9,
    "start_time": "2021-07-11T21:00:16.007Z"
   },
   {
    "duration": 8,
    "start_time": "2021-07-11T21:00:56.007Z"
   },
   {
    "duration": 8,
    "start_time": "2021-07-11T21:00:57.853Z"
   },
   {
    "duration": 8,
    "start_time": "2021-07-11T21:01:26.441Z"
   },
   {
    "duration": 3,
    "start_time": "2021-07-11T21:01:46.470Z"
   },
   {
    "duration": 6,
    "start_time": "2021-07-11T21:01:47.923Z"
   },
   {
    "duration": 183,
    "start_time": "2021-07-11T21:04:17.195Z"
   },
   {
    "duration": 3,
    "start_time": "2021-07-11T21:04:27.457Z"
   },
   {
    "duration": 8,
    "start_time": "2021-07-11T21:04:29.016Z"
   },
   {
    "duration": 8,
    "start_time": "2021-07-11T21:04:35.483Z"
   },
   {
    "duration": 981,
    "start_time": "2021-07-11T21:06:58.729Z"
   },
   {
    "duration": 18,
    "start_time": "2021-07-11T21:06:59.711Z"
   },
   {
    "duration": 18,
    "start_time": "2021-07-11T21:06:59.732Z"
   },
   {
    "duration": 6,
    "start_time": "2021-07-11T21:06:59.752Z"
   },
   {
    "duration": 10,
    "start_time": "2021-07-11T21:06:59.760Z"
   },
   {
    "duration": 3,
    "start_time": "2021-07-11T21:06:59.784Z"
   },
   {
    "duration": 10,
    "start_time": "2021-07-11T21:06:59.789Z"
   },
   {
    "duration": 3,
    "start_time": "2021-07-11T21:06:59.801Z"
   },
   {
    "duration": 8,
    "start_time": "2021-07-11T21:06:59.887Z"
   },
   {
    "duration": 91,
    "start_time": "2021-07-11T21:06:59.897Z"
   }
  ],
  "kernelspec": {
   "display_name": "Python 3",
   "language": "python",
   "name": "python3"
  },
  "language_info": {
   "codemirror_mode": {
    "name": "ipython",
    "version": 3
   },
   "file_extension": ".py",
   "mimetype": "text/x-python",
   "name": "python",
   "nbconvert_exporter": "python",
   "pygments_lexer": "ipython3",
   "version": "3.7.8"
  },
  "toc": {
   "base_numbering": 1,
   "nav_menu": {},
   "number_sections": true,
   "sideBar": true,
   "skip_h1_title": true,
   "title_cell": "Содержание",
   "title_sidebar": "Contents",
   "toc_cell": true,
   "toc_position": {},
   "toc_section_display": true,
   "toc_window_display": false
  }
 },
 "nbformat": 4,
 "nbformat_minor": 2
}
