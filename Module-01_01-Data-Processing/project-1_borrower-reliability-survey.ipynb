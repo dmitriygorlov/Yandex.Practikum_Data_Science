{
  "nbformat": 4,
  "nbformat_minor": 0,
  "metadata": {
    "kernelspec": {
      "display_name": "Python 3",
      "language": "python",
      "name": "python3"
    },
    "language_info": {
      "codemirror_mode": {
        "name": "ipython",
        "version": 3
      },
      "file_extension": ".py",
      "mimetype": "text/x-python",
      "name": "python",
      "nbconvert_exporter": "python",
      "pygments_lexer": "ipython3",
      "version": "3.7.8"
    },
    "toc": {
      "base_numbering": 1,
      "nav_menu": {
        "height": "225px",
        "width": "237px"
      },
      "number_sections": true,
      "sideBar": true,
      "skip_h1_title": true,
      "title_cell": "Table of Contents",
      "title_sidebar": "Contents",
      "toc_cell": false,
      "toc_position": {},
      "toc_section_display": true,
      "toc_window_display": false
    },
    "colab": {
      "name": "project-1_borrower-reliability-survey.ipynb",
      "provenance": [],
      "include_colab_link": true
    }
  },
  "cells": [
    {
      "cell_type": "markdown",
      "metadata": {
        "id": "view-in-github",
        "colab_type": "text"
      },
      "source": [
        "<a href=\"https://colab.research.google.com/github/dmitriygorlov/Yandex.Practikum_Data_Science/blob/main/Module-01_01-Data-Processing/project-1_borrower-reliability-survey.ipynb\" target=\"_parent\"><img src=\"https://colab.research.google.com/assets/colab-badge.svg\" alt=\"Open In Colab\"/></a>"
      ]
    },
    {
      "cell_type": "markdown",
      "metadata": {
        "id": "XSSl6gM0F7Fk"
      },
      "source": [
        "# Исследование надёжности заёмщиков\n",
        "\n",
        "Нужно разобраться, влияет ли семейное положение и количество детей клиента на факт погашения кредита в срок. Входные данные от банка — статистика о платёжеспособности клиентов.\n",
        "\n",
        "Данные представлены в виде таблицы с информацией по клиентам и наличию или отсутствию у них невыплаченных кредитов. По проекту планируются следующие шаги:\n",
        "\n",
        "- Шаг 1. Прочтение\n",
        "\n",
        "- Шаг 2. Предобработка данных\n",
        "\n",
        "- Шаг 3. Ответы на вопросы\n",
        "\n",
        "- Шаг 4. Общий вывод\n"
      ]
    },
    {
      "cell_type": "markdown",
      "metadata": {
        "id": "i9n_ugjHF7Fo"
      },
      "source": [
        "## Шаг 1. Прочтение"
      ]
    },
    {
      "cell_type": "code",
      "metadata": {
        "scrolled": true,
        "colab": {
          "base_uri": "https://localhost:8080/"
        },
        "id": "fdJZ4uR8F7Fp",
        "outputId": "08e9b267-67d1-4979-d4ab-fe6fb8b81e88"
      },
      "source": [
        "import pandas as pd\n",
        "\n",
        "data = pd.read_csv('https://code.s3.yandex.net/datasets/data.csv')\n",
        "\n",
        "data.info()\n",
        "\n",
        "print(data.head(20))\n"
      ],
      "execution_count": 1,
      "outputs": [
        {
          "output_type": "stream",
          "name": "stdout",
          "text": [
            "<class 'pandas.core.frame.DataFrame'>\n",
            "RangeIndex: 21525 entries, 0 to 21524\n",
            "Data columns (total 12 columns):\n",
            " #   Column            Non-Null Count  Dtype  \n",
            "---  ------            --------------  -----  \n",
            " 0   children          21525 non-null  int64  \n",
            " 1   days_employed     19351 non-null  float64\n",
            " 2   dob_years         21525 non-null  int64  \n",
            " 3   education         21525 non-null  object \n",
            " 4   education_id      21525 non-null  int64  \n",
            " 5   family_status     21525 non-null  object \n",
            " 6   family_status_id  21525 non-null  int64  \n",
            " 7   gender            21525 non-null  object \n",
            " 8   income_type       21525 non-null  object \n",
            " 9   debt              21525 non-null  int64  \n",
            " 10  total_income      19351 non-null  float64\n",
            " 11  purpose           21525 non-null  object \n",
            "dtypes: float64(2), int64(5), object(5)\n",
            "memory usage: 2.0+ MB\n",
            "    children  ...                                 purpose\n",
            "0          1  ...                           покупка жилья\n",
            "1          1  ...                 приобретение автомобиля\n",
            "2          0  ...                           покупка жилья\n",
            "3          3  ...              дополнительное образование\n",
            "4          0  ...                         сыграть свадьбу\n",
            "5          0  ...                           покупка жилья\n",
            "6          0  ...                       операции с жильем\n",
            "7          0  ...                             образование\n",
            "8          2  ...                   на проведение свадьбы\n",
            "9          0  ...                 покупка жилья для семьи\n",
            "10         2  ...                    покупка недвижимости\n",
            "11         0  ...       покупка коммерческой недвижимости\n",
            "12         0  ...                         сыграть свадьбу\n",
            "13         0  ...                 приобретение автомобиля\n",
            "14         0  ...              покупка жилой недвижимости\n",
            "15         1  ...  строительство собственной недвижимости\n",
            "16         0  ...                            недвижимость\n",
            "17         0  ...              строительство недвижимости\n",
            "18         0  ...      на покупку подержанного автомобиля\n",
            "19         0  ...            на покупку своего автомобиля\n",
            "\n",
            "[20 rows x 12 columns]\n"
          ]
        }
      ]
    },
    {
      "cell_type": "markdown",
      "metadata": {
        "id": "UNA9KWiwF7Ft"
      },
      "source": [
        "**Вывод**"
      ]
    },
    {
      "cell_type": "markdown",
      "metadata": {
        "id": "AHjHt-HDF7Fu"
      },
      "source": [
        "Прочитали файл, запросили инфу и прочитали первые 20 строк. <br>\n",
        "\n",
        "<i> В наборе есть: <br>\n",
        "- Логическая переменная 'debt' (либо 0 либо 1) <br>\n",
        "- количественные (их можно сравнить) переменные ('children', 'days_employed', 'dob_years', 'education_id', 'family_status_id', 'total_income')<br>\n",
        "- Категориальные ('education', 'family_status', 'gender', 'income_type', 'purpose') <br>\n",
        "</i>\n",
        "\n",
        "В столбцах 'days_employed' и 'total_income' данных меньше, чем в других столбцах - видимо пропуски, также они единственные являются числами с плавающей точкой. Надо будет убрать эти пропуски, перевести в int64 для использования. <br>\n",
        "Есть отрицательные значения стажа - это вероятно ошибка ввода дат и нужно будет перевести в плюсы (модуль?)\n",
        "В столбце 'education' есть значения прописными и обычными буквами - надо будет унифицировать"
      ]
    },
    {
      "cell_type": "markdown",
      "metadata": {
        "id": "W-6cHYxFF7Fw"
      },
      "source": [
        "## Шаг 2. Предобработка данных "
      ]
    },
    {
      "cell_type": "markdown",
      "metadata": {
        "id": "6MjZMPpZF7Fx"
      },
      "source": [
        "### Обработка пропусков"
      ]
    },
    {
      "cell_type": "code",
      "metadata": {
        "colab": {
          "base_uri": "https://localhost:8080/"
        },
        "id": "7ro-UqfUF7Fx",
        "outputId": "303ad3d7-3b6a-4789-e4c2-385b97c5d38a"
      },
      "source": [
        "data['days_employed'].isnull().sum()\n",
        "# print (data[data['days_employed'].isnull()].head(20))\n",
        "\n",
        "def plusik(row):\n",
        "    days_employed = row['days_employed']\n",
        "    if days_employed < 0: \n",
        "        vozvrat = -row['days_employed']\n",
        "        return vozvrat\n",
        "    if days_employed >= 0:\n",
        "        vozvrat = row['days_employed']\n",
        "        return vozvrat\n",
        "\n",
        "    \n",
        "data['days_employed'] = data.apply(plusik, axis=1)\n",
        "\n",
        "data_null = data[data['total_income'].isna()] \n",
        "\n",
        "# добавил создание \"нулевой\" таблицы для простоты дальнейших сравнений на случайность\n",
        "\n",
        "\n",
        "# сверка \"глазами\" на случайность\n",
        "# print(data.head(20))\n",
        "# print(data_null.head(20))\n",
        "\n",
        "\n",
        "\n",
        "# сверка группировкой на случайность по категориальной переменной 'family_status'\n",
        "print(data_null.groupby('family_status').agg({'family_status': ['count']}))\n",
        "print(data.groupby('family_status').agg({'family_status': ['count']}))\n",
        "\n",
        "# создание сводных таблиц\n",
        "data_pivot = data.pivot_table(index='family_status', values='dob_years', aggfunc=['count', 'mean'])\n",
        "data_null_pivot = data_null.pivot_table(index='family_status', values='dob_years', aggfunc=['count', 'mean'])\n",
        "\n",
        "# проверка на случайность по количественной переменной 'dob_years'\n",
        "print(data_pivot)\n",
        "print(data_null_pivot)\n",
        "\n",
        "\n",
        "average_days_employed = data['days_employed'].median()\n",
        "average_total_income = data['total_income'].median()\n",
        "\n",
        "data['days_employed'].fillna(average_days_employed, inplace=True)\n",
        "data['total_income'].fillna(average_total_income, inplace=True)\n",
        "\n",
        "    \n",
        "# print(data.head(15))\n"
      ],
      "execution_count": 2,
      "outputs": [
        {
          "output_type": "stream",
          "name": "stdout",
          "text": [
            "                      family_status\n",
            "                              count\n",
            "family_status                      \n",
            "Не женат / не замужем           288\n",
            "в разводе                       112\n",
            "вдовец / вдова                   95\n",
            "гражданский брак                442\n",
            "женат / замужем                1237\n",
            "                      family_status\n",
            "                              count\n",
            "family_status                      \n",
            "Не женат / не замужем          2813\n",
            "в разводе                      1195\n",
            "вдовец / вдова                  960\n",
            "гражданский брак               4177\n",
            "женат / замужем               12380\n",
            "                          count       mean\n",
            "                      dob_years  dob_years\n",
            "family_status                             \n",
            "Не женат / не замужем      2813  38.369357\n",
            "в разводе                  1195  45.517992\n",
            "вдовец / вдова              960  56.513542\n",
            "гражданский брак           4177  42.130476\n",
            "женат / замужем           12380  43.564701\n",
            "                          count       mean\n",
            "                      dob_years  dob_years\n",
            "family_status                             \n",
            "Не женат / не замужем       288  39.135417\n",
            "в разводе                   112  45.785714\n",
            "вдовец / вдова               95  56.642105\n",
            "гражданский брак            442  42.300905\n",
            "женат / замужем            1237  43.960388\n"
          ]
        }
      ]
    },
    {
      "cell_type": "markdown",
      "metadata": {
        "id": "qRbfLTplF7Fy"
      },
      "source": [
        "**Вывод**"
      ]
    },
    {
      "cell_type": "markdown",
      "metadata": {
        "id": "bY3YWK_mF7Fy"
      },
      "source": [
        "Смотрим сколько пропущено - это 2174 значения <br>\n",
        "Проверяем насколько совпадают пустые значения в столбце значения 'days_employed' и остальными. Точное совпадение с 'total_income', у остальных такого совпадения не замечено. Пустые данные появились скорее всего из-за отсутствия данных о трудоустройстве при анкетировании, зависимостей больше нетДля подтвержения печатаем датафрейм с фильтрацией по пустым значениям с пустыми значениями<br>\n",
        "Нужно заменить пропуски средним значением для удобства подсчёта (до этого в 'days_employed' переделать отрицательные значения.\n",
        "Пишем функцию 'plusik'по переводу в положительное значение и применяем её через apply.<br>\n",
        "Теперь данные в обоих столбцах готовы к замене среднего (берём медиану как более \"честное\" среднее в сильно разросанных данных), заменяем значения медианой в 'days_employed' и 'total_income'\n"
      ]
    },
    {
      "cell_type": "markdown",
      "metadata": {
        "id": "Q0cduzw2F7F0"
      },
      "source": [
        "### Замена типа данных"
      ]
    },
    {
      "cell_type": "code",
      "metadata": {
        "id": "ExLfYE_5F7F1"
      },
      "source": [
        "# data.info()\n",
        "\n",
        "data['days_employed'] = data['days_employed'].astype('int')\n",
        "data['total_income'] = data['total_income'].astype('int')\n",
        "\n",
        "# data.info()\n",
        "\n"
      ],
      "execution_count": 3,
      "outputs": []
    },
    {
      "cell_type": "markdown",
      "metadata": {
        "id": "ppMROefnF7F1"
      },
      "source": [
        "**Вывод**"
      ]
    },
    {
      "cell_type": "markdown",
      "metadata": {
        "id": "EkF2KzmjF7F1"
      },
      "source": [
        "Для унификации и успешной дальнейшей обработки данных на корреляцию, нужно заменить 2 столца формата 'float64' на 'int64', меняем через astype."
      ]
    },
    {
      "cell_type": "markdown",
      "metadata": {
        "id": "Zx5tirl1F7F2"
      },
      "source": [
        "### Обработка дубликатов"
      ]
    },
    {
      "cell_type": "code",
      "metadata": {
        "scrolled": true,
        "id": "lBh7QeYUF7F2"
      },
      "source": [
        "# print(data.head(15))\n",
        "\n",
        "data['education'] = data['education'].str.lower()\n",
        "# print(data.head(15))\n",
        "\n",
        "# data['education'].value_counts()\n",
        "\n",
        "# data['purpose'].value_counts()\n",
        "\n",
        "# data['family_status'].value_counts()\n",
        "data['family_status'] = data['family_status'].str.lower()\n",
        "# data['family_status'].value_counts()\n",
        "\n",
        "\n",
        "# data['income_type'].value_counts()\n",
        "\n",
        "# data['gender'].value_counts()\n",
        "data = data[data['gender'] != 'XNA']\n",
        "# data['gender'].value_counts()\n",
        "\n",
        "# data.duplicated().sum()\n",
        "# print(data[data.duplicated() == True].head(20))\n",
        "data = data.drop_duplicates().reset_index(drop = True)\n",
        "# data.duplicated().sum()\n"
      ],
      "execution_count": 4,
      "outputs": []
    },
    {
      "cell_type": "markdown",
      "metadata": {
        "id": "YFfkYANEF7F2"
      },
      "source": [
        "**Вывод**"
      ]
    },
    {
      "cell_type": "markdown",
      "metadata": {
        "id": "JQspjdkDF7F2"
      },
      "source": [
        "Из пробных таблиц мы знаем о разных регистрах в столбце 'education'. Меняем в нем все значения на нижний регистр с помощью '.str.lower'. Проверим его и все остальные столбцы 'object' с помощью value_counts\n",
        "Для стандартизации пройдем обработкой и по family_status, а в столбце gender удалим неподходящее значение 'XNA'\n",
        "Посчитаем дубликаты в таблице и выведем 20 строк. Исходя из полученного повторы - это те элементы, где не было информации про трудоустройство Это значит, что мы спокойно удаляем повторы через drop_dublicates и обновить индексы"
      ]
    },
    {
      "cell_type": "markdown",
      "metadata": {
        "id": "drupHw7NF7F3"
      },
      "source": [
        "### Лемматизация"
      ]
    },
    {
      "cell_type": "code",
      "metadata": {
        "colab": {
          "base_uri": "https://localhost:8080/"
        },
        "id": "YSnBo1buF7F3",
        "outputId": "1bdf9f98-5827-46ec-c0ba-f40e8dd6c39a"
      },
      "source": [
        "diction = {'a': 1, 'b': 2}\n",
        "diction.items()"
      ],
      "execution_count": 5,
      "outputs": [
        {
          "output_type": "execute_result",
          "data": {
            "text/plain": [
              "dict_items([('a', 1), ('b', 2)])"
            ]
          },
          "metadata": {},
          "execution_count": 5
        }
      ]
    },
    {
      "cell_type": "code",
      "metadata": {
        "id": "SP318mTYj6v7"
      },
      "source": [
        "from pymystem3 import Mystem\n",
        "m = Mystem()\n",
        "from collections import Counter"
      ],
      "execution_count": 6,
      "outputs": []
    },
    {
      "cell_type": "code",
      "metadata": {
        "colab": {
          "base_uri": "https://localhost:8080/"
        },
        "id": "nFPUE6bbF7F4",
        "outputId": "b2229349-9555-4bdf-9dcf-761294cfd1b1"
      },
      "source": [
        "# Это специально. чтобы colab не вис на mystem \n",
        "!wget http://download.cdn.yandex.net/mystem/mystem-3.0-linux3.1-64bit.tar.gz\n",
        "!tar -xvf mystem-3.0-linux3.1-64bit.tar.gz\n",
        "!cp mystem /root/.local/bin/mystem"
      ],
      "execution_count": 7,
      "outputs": [
        {
          "output_type": "stream",
          "name": "stdout",
          "text": [
            "--2021-09-05 15:27:04--  http://download.cdn.yandex.net/mystem/mystem-3.0-linux3.1-64bit.tar.gz\n",
            "Resolving download.cdn.yandex.net (download.cdn.yandex.net)... 5.45.205.244, 5.45.205.243, 5.45.205.242, ...\n",
            "Connecting to download.cdn.yandex.net (download.cdn.yandex.net)|5.45.205.244|:80... connected.\n",
            "HTTP request sent, awaiting response... 302 Found\n",
            "Location: https://cachev2-mskm901.cdn.yandex.net/download.cdn.yandex.net/mystem/mystem-3.0-linux3.1-64bit.tar.gz?lid=235 [following]\n",
            "--2021-09-05 15:27:04--  https://cachev2-mskm901.cdn.yandex.net/download.cdn.yandex.net/mystem/mystem-3.0-linux3.1-64bit.tar.gz?lid=235\n",
            "Resolving cachev2-mskm901.cdn.yandex.net (cachev2-mskm901.cdn.yandex.net)... 5.45.220.90, 2a02:6b8:0:2002::990\n",
            "Connecting to cachev2-mskm901.cdn.yandex.net (cachev2-mskm901.cdn.yandex.net)|5.45.220.90|:443... connected.\n",
            "HTTP request sent, awaiting response... 200 OK\n",
            "Length: 16457938 (16M) [application/octet-stream]\n",
            "Saving to: ‘mystem-3.0-linux3.1-64bit.tar.gz.2’\n",
            "\n",
            "mystem-3.0-linux3.1 100%[===================>]  15.70M  10.1MB/s    in 1.6s    \n",
            "\n",
            "2021-09-05 15:27:07 (10.1 MB/s) - ‘mystem-3.0-linux3.1-64bit.tar.gz.2’ saved [16457938/16457938]\n",
            "\n",
            "mystem\n"
          ]
        }
      ]
    },
    {
      "cell_type": "code",
      "metadata": {
        "id": "yFcE0ho7j26V",
        "outputId": "bfb7b13f-c32b-4857-c885-b2583fdf724a",
        "colab": {
          "base_uri": "https://localhost:8080/"
        }
      },
      "source": [
        "data['purpose'].value_counts()\n",
        "\n",
        "purposes = []\n",
        "for element in data['purpose']:\n",
        "    lemma = m.lemmatize(element)\n",
        "    purposes.extend(lemma)\n",
        "\n",
        "unique_purposes = Counter(purposes)\n",
        "# print(unique_purposes)    \n",
        "\n",
        "list_unique = []\n",
        "for elements in unique_purposes:\n",
        "    if len(elements) >= 5 :\n",
        "        list_unique.append(elements) \n",
        "        \n",
        "\n",
        "# print(list_unique)\n",
        "\n",
        "list_uni = {'жилье' : 1, 'автомобиль' : 2, 'образование' : 3, 'свадьба' : 4, 'недвижимость' : 5}\n",
        "\n",
        "# list_uni.items()\n",
        "\n",
        "def pyrpose_gr(row):\n",
        "    pyrpose = row['purpose']\n",
        "    ret_pyr = m.lemmatize(pyrpose)\n",
        "    for lemmam in list_uni:\n",
        "        if lemmam in ret_pyr:\n",
        "            return lemmam\n",
        "    return 'другое'\n",
        "\n",
        "data['pyrpose_group'] = data.apply(pyrpose_gr, axis = 1)\n",
        "\n",
        "data['pyrpose_group'].value_counts()\n"
      ],
      "execution_count": 8,
      "outputs": [
        {
          "output_type": "execute_result",
          "data": {
            "text/plain": [
              "недвижимость    6350\n",
              "жилье           4460\n",
              "автомобиль      4306\n",
              "образование     4013\n",
              "свадьба         2324\n",
              "Name: pyrpose_group, dtype: int64"
            ]
          },
          "metadata": {},
          "execution_count": 8
        }
      ]
    },
    {
      "cell_type": "markdown",
      "metadata": {
        "id": "COgJRLTOF7F4"
      },
      "source": [
        "**Вывод**"
      ]
    },
    {
      "cell_type": "markdown",
      "metadata": {
        "id": "bo5IUSNYF7F4"
      },
      "source": [
        "Ранее мы получили информацию, что в столбце 'purpose' есть много значей одинаковых по смыслу, но разных по написанию. Приведем данные к корректным с помощью лемматизации из pymystem3. <br>\n",
        "Вначале посмотрим на сами значения с помощью value_counts, снова видим, что значений много, но среди них есть схожие группы. В цикле лемматизируем столбец и считаем с помощью Counter наиболее часто встречающиеся варианты. Чтобы убрать пробелы и предлоги фильтруем значения только больше или равно 5 <br>\n",
        "Из получившегося списка и предыдущего выбираем для словаря 5 значений: 'жилье', 'автомобиль', 'образование', 'свадьба', 'недвижимость'. Создаем функцию pyrpose_gr, которая проходит по столбцу и возвращает что-то из азбуки или 'другое' Примянем функцию и поверяем с value_counts исчерпываемость группировки (наличие 'другое'). Считаем лемматизацию успешной. <br>"
      ]
    },
    {
      "cell_type": "markdown",
      "metadata": {
        "id": "XPKT7W0KF7F5"
      },
      "source": [
        "### Категоризация данных"
      ]
    },
    {
      "cell_type": "code",
      "metadata": {
        "id": "dXfa4NZYF7F5"
      },
      "source": [
        "# data.info()\n",
        "\n",
        "def children_type_f(row):\n",
        "    total = row['children']\n",
        "    if total == 0:\n",
        "        return 'нет детей'\n",
        "    if total > 0:\n",
        "        return 'дети есть'\n",
        "    return 'ошибка'\n",
        "data['children_type'] = data.apply(children_type_f, axis = 1)\n",
        "\n",
        "# data['children_type'].value_counts()\n",
        "data = data[data['children_type'] != 'ошибка']\n",
        "# data['children_type'].value_counts()\n",
        "\n",
        "data_child = data.groupby('children_type').agg({'debt': ['count', 'mean']})\n",
        "diction_chil = data['children_type'].unique()\n",
        "diction_chil2 = data[['family_status']].drop_duplicates().reset_index(drop=True)\n",
        "\n",
        "# print(diction_chil)\n",
        "# print(diction_chil2)\n",
        "\n",
        "\n",
        "data_family_status = data.groupby('family_status').agg({'debt': ['count', 'mean']})\n",
        "diction_fam_stat = data['family_status'].unique()\n",
        "diction_fam_stat2 = data[['family_status']].drop_duplicates().reset_index(drop=True)\n",
        "\n",
        "# print(diction_fam_stat)\n",
        "# print(diction_fam_stat2)\n",
        "\n",
        "total_income_mean = data['total_income'].mean()\n",
        "\n",
        "def total_incom_type_f(row):\n",
        "    total = row['total_income']\n",
        "    if total < total_income_mean:\n",
        "        return 'low'\n",
        "    if total >= total_income_mean:\n",
        "        return 'high'\n",
        "    return 'ошибка'\n",
        "\n",
        "data['total_incom_type'] = data.apply(total_incom_type_f, axis=1)\n",
        "\n",
        "# data['total_incom_type'].value_counts()\n",
        "\n",
        "data_total_incom_type = data.groupby('total_incom_type').agg({'debt': ['count', 'mean']})\n",
        "data_income_type = data.groupby('income_type').agg({'debt': ['count', 'mean'], 'total_income' : ['mean']})\n",
        "\n",
        "data_pyrpose_group = data.groupby('pyrpose_group').agg({'debt': ['count', 'mean']})\n",
        "\n",
        "\n",
        "\n",
        "data_education = data.groupby('education').agg({'debt': ['count', 'mean']})\n",
        "diction_edu = data['education'].unique()\n",
        "diction_edu2 = data[['education']].drop_duplicates().reset_index(drop=True)\n",
        "\n",
        "# print(diction_edu)\n",
        "# print(diction_edu2)\n",
        "\n"
      ],
      "execution_count": 9,
      "outputs": []
    },
    {
      "cell_type": "markdown",
      "metadata": {
        "id": "YghaG5-xF7F5"
      },
      "source": [
        "**Вывод**"
      ]
    },
    {
      "cell_type": "markdown",
      "metadata": {
        "id": "hfPflNonF7F6"
      },
      "source": [
        "Категоризируем данные для разных вопросов, собираем информацию по столбцам через groupby и agg. Нужные нам значения будут по debt - это количество (для понимания выборки) и среднее (для оценивания есть корреляция или нет). <br>\n",
        "Столбец по детям представляет собой числа, поэтому создадим новый столбец в str по есть/нет детей, Проверяем значение, замечаем ошибочные. Фильтруем таблицу без этих данных. Далее группируем по новому столбцу.<br>\n",
        "Столбец по семейному статусу тоже собирается просто<br>\n",
        "Для столбца по типам доходов сделаем числовой срез от среднего (пишем функцию и делаем новый столбец со значениями 'low' и 'high', проверяем и потом группируем. Также сгруппируем и по типу дохода и выведем там средний доход на группу.<br>\n",
        "Группировка по целям кредита также легко строится."
      ]
    },
    {
      "cell_type": "markdown",
      "metadata": {
        "id": "jsszEY1QF7F6"
      },
      "source": [
        "## Шаг 3. Ответы на вопросы"
      ]
    },
    {
      "cell_type": "markdown",
      "metadata": {
        "id": "3KTPOQg6F7F7"
      },
      "source": [
        "- Есть ли зависимость между наличием детей и возвратом кредита в срок?"
      ]
    },
    {
      "cell_type": "code",
      "metadata": {
        "colab": {
          "base_uri": "https://localhost:8080/"
        },
        "id": "T4thNkMoF7F7",
        "outputId": "6ced1499-1c6f-41d6-97a3-8c23eeca6e5c"
      },
      "source": [
        "print(data_child)"
      ],
      "execution_count": 10,
      "outputs": [
        {
          "output_type": "stream",
          "name": "stdout",
          "text": [
            "                debt          \n",
            "               count      mean\n",
            "children_type                 \n",
            "дети есть       7316  0.092537\n",
            "нет детей      14090  0.075444\n"
          ]
        }
      ]
    },
    {
      "cell_type": "markdown",
      "metadata": {
        "id": "SvpYoCBQF7F7"
      },
      "source": [
        "**Вывод**"
      ]
    },
    {
      "cell_type": "markdown",
      "metadata": {
        "id": "x4YI-sOlF7F7"
      },
      "source": [
        "Печатаем и смотрим на столбец mean(для простоты будем говорить о процентах, не сумел поставить процент) и count. \n",
        "Размер выборок большой, можно им верить. \n",
        "Среди тех, у кого нет детей, процент имеющих задолженность по кредиту ниже. Зависимость есть!"
      ]
    },
    {
      "cell_type": "markdown",
      "metadata": {
        "id": "Pzf2vs9ZF7F7"
      },
      "source": [
        "- Есть ли зависимость между семейным положением и возвратом кредита в срок?"
      ]
    },
    {
      "cell_type": "code",
      "metadata": {
        "colab": {
          "base_uri": "https://localhost:8080/"
        },
        "id": "GRkaT2WhF7F7",
        "outputId": "a3be3054-32b6-4470-c0a6-2e4512f36abd"
      },
      "source": [
        "print(data_family_status)"
      ],
      "execution_count": 11,
      "outputs": [
        {
          "output_type": "stream",
          "name": "stdout",
          "text": [
            "                        debt          \n",
            "                       count      mean\n",
            "family_status                         \n",
            "в разводе               1191  0.071369\n",
            "вдовец / вдова           955  0.065969\n",
            "гражданский брак        4145  0.093607\n",
            "женат / замужем        12310  0.075548\n",
            "не женат / не замужем   2805  0.097683\n"
          ]
        }
      ]
    },
    {
      "cell_type": "markdown",
      "metadata": {
        "id": "ZmWIVkKDF7F8"
      },
      "source": [
        "**Вывод**"
      ]
    },
    {
      "cell_type": "markdown",
      "metadata": {
        "id": "2tVg7vQCF7F8"
      },
      "source": [
        "Печатаем и смотрим на столбец mean(для простоты будем говорить о процентах, не сумел поставить процент) и count. \n",
        "Размер выборок большой, можно им верить. \n",
        "Группа вдовцов и вдов имеют наименьший проент задолженности по кредита, также низкие показатели у в разводе и женаты/замужем. У тех, кто в гражданском браке и неженаты/незамужем процент выше.  Зависимость есть!"
      ]
    },
    {
      "cell_type": "markdown",
      "metadata": {
        "id": "FpL-6dykF7F8"
      },
      "source": [
        "- Есть ли зависимость между уровнем дохода и возвратом кредита в срок?"
      ]
    },
    {
      "cell_type": "code",
      "metadata": {
        "colab": {
          "base_uri": "https://localhost:8080/"
        },
        "id": "8YSXwfJkF7F8",
        "outputId": "af1af4f7-34b0-45c5-ebd3-82c698469715"
      },
      "source": [
        "print(data_total_incom_type)\n",
        "print()\n",
        "print(data_income_type)\n",
        "print()\n",
        "data_pivot_incom = data[(data['income_type'] != 'предприниматель')&(data['income_type'] != 'в декрете')&(data['income_type'] != 'безработный')&(data['income_type'] != 'студент')].pivot_table(index='income_type', columns='total_incom_type', values='debt', aggfunc=['count', 'mean'])\n",
        "print(data_pivot_incom)\n"
      ],
      "execution_count": 12,
      "outputs": [
        {
          "output_type": "stream",
          "name": "stdout",
          "text": [
            "                   debt          \n",
            "                  count      mean\n",
            "total_incom_type                 \n",
            "high               7663  0.077515\n",
            "low               13743  0.083388\n",
            "\n",
            "                  debt             total_income\n",
            "                 count      mean           mean\n",
            "income_type                                    \n",
            "безработный          2  0.500000  131339.000000\n",
            "в декрете            1  1.000000   53829.000000\n",
            "госслужащий       1453  0.059188  168235.437027\n",
            "компаньон         5068  0.074191  196810.030584\n",
            "пенсионер         3821  0.056530  137964.716043\n",
            "предприниматель      2  0.000000  322090.000000\n",
            "сотрудник        11058  0.095858  159815.493489\n",
            "студент              1  0.000000   98201.000000\n",
            "\n",
            "                 count            mean          \n",
            "total_incom_type  high   low      high       low\n",
            "income_type                                     \n",
            "госслужащий        555   898  0.054054  0.062361\n",
            "компаньон         2456  2612  0.071661  0.076570\n",
            "пенсионер          918  2903  0.058824  0.055804\n",
            "сотрудник         3732  7326  0.089496  0.099099\n"
          ]
        }
      ]
    },
    {
      "cell_type": "markdown",
      "metadata": {
        "id": "zN3h0me1F7F9"
      },
      "source": [
        "**Вывод**"
      ]
    },
    {
      "cell_type": "markdown",
      "metadata": {
        "id": "1ypASGvkF7F9"
      },
      "source": [
        "Печатаем и смотрим на столбец mean(для простоты будем говорить о процентах, не сумел поставить процент) и count. \n",
        "Размер выборок большой в меньше и больше среднего, а также в типах 'Госслужащий', 'Компаньон', 'Пенсионер' и 'Cотрудник'. Группы 'Безработный', 'В декрете', 'Предприниматель', 'Студент' обладают лишь по паре значений - игнорируем их. \n",
        "\n",
        "1)При сравнении относительно средней заметно, что процент, имевших задолженность) чуть выше у людей с меньшим заработком. Зависимость есть!\n",
        "2)При делении на типы дохода заметно меньше процент у Пенсионеров и Госслужащих, средний у Компаньнов и высокий у Сотрудников. Есть сильная зависимость!"
      ]
    },
    {
      "cell_type": "markdown",
      "metadata": {
        "id": "5PHaNnOsF7F9"
      },
      "source": [
        "- Как разные цели кредита влияют на его возврат в срок?"
      ]
    },
    {
      "cell_type": "code",
      "metadata": {
        "colab": {
          "base_uri": "https://localhost:8080/"
        },
        "id": "POCTATWeF7F9",
        "outputId": "2dd80e63-3d62-47d0-d424-51d71f2291e4"
      },
      "source": [
        "print(data_pyrpose_group)"
      ],
      "execution_count": 13,
      "outputs": [
        {
          "output_type": "stream",
          "name": "stdout",
          "text": [
            "               debt          \n",
            "              count      mean\n",
            "pyrpose_group                \n",
            "автомобиль     4295  0.093597\n",
            "жилье          4452  0.069182\n",
            "недвижимость   6334  0.074834\n",
            "образование    4003  0.092431\n",
            "свадьба        2322  0.080103\n"
          ]
        }
      ]
    },
    {
      "cell_type": "markdown",
      "metadata": {
        "id": "Td-xcd1xF7F9"
      },
      "source": [
        "**Вывод**"
      ]
    },
    {
      "cell_type": "markdown",
      "metadata": {
        "id": "aUoR0XRGF7F9"
      },
      "source": [
        "Печатаем и смотрим на столбец mean(для простоты будем говорить о процентах, не сумел поставить процент) и count. \n",
        "Размер всех выборок большой, можно им верить. \n",
        "Заметно ниже процент у тех, кто брал кредит на жильё и недвижимость, средний у \"свадебных\" и большой среди бравших кредит на Автомобиль и обраование. Зависимость есть!"
      ]
    },
    {
      "cell_type": "markdown",
      "metadata": {
        "id": "D6HIuFI9F7F-"
      },
      "source": [
        "## Шаг 4. Общий вывод <a id='step4'></a>"
      ]
    },
    {
      "cell_type": "markdown",
      "metadata": {
        "id": "J4hes50AF7F-"
      },
      "source": [
        "Гипотезы о всех факторах влияния подтвердились! **Самый надежный заемщик обладает следующими характеристиками: нет детей, вдовец/вдова или в разводе, пенсионер или госслужащий, с целью кредита \"Жильё\"**. А *самый ненадежный обладает обратными харатеристиками: есть дети, не женат/не замужем, сотрудник и цель кредита \"Автомобиль\" или \"Образование\"*."
      ]
    }
  ]
}