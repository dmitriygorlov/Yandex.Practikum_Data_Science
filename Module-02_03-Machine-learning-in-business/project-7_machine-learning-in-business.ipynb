{
  "nbformat": 4,
  "nbformat_minor": 0,
  "metadata": {
    "kernelspec": {
      "display_name": "Python 3",
      "language": "python",
      "name": "python3"
    },
    "language_info": {
      "codemirror_mode": {
        "name": "ipython",
        "version": 3
      },
      "file_extension": ".py",
      "mimetype": "text/x-python",
      "name": "python",
      "nbconvert_exporter": "python",
      "pygments_lexer": "ipython3",
      "version": "3.7.8"
    },
    "toc": {
      "base_numbering": 1,
      "nav_menu": {},
      "number_sections": true,
      "sideBar": true,
      "skip_h1_title": true,
      "title_cell": "Table of Contents",
      "title_sidebar": "Contents",
      "toc_cell": false,
      "toc_position": {},
      "toc_section_display": true,
      "toc_window_display": false
    },
    "colab": {
      "name": "project-7_machine-learning-in-business.ipynb",
      "provenance": [],
      "toc_visible": true,
      "include_colab_link": true
    }
  },
  "cells": [
    {
      "cell_type": "markdown",
      "metadata": {
        "id": "view-in-github",
        "colab_type": "text"
      },
      "source": [
        "<a href=\"https://colab.research.google.com/github/dmitriygorlov/Yandex.Practikum_Data_Science/blob/main/Module-02_03-Machine-learning-in-business/project-7_machine-learning-in-business.ipynb\" target=\"_parent\"><img src=\"https://colab.research.google.com/assets/colab-badge.svg\" alt=\"Open In Colab\"/></a>"
      ]
    },
    {
      "cell_type": "markdown",
      "metadata": {
        "id": "nl6uZF8rJcOy"
      },
      "source": [
        "# Выбор локации для скважины"
      ]
    },
    {
      "cell_type": "markdown",
      "metadata": {
        "id": "-QDVQIACJcOz"
      },
      "source": [
        "Нужно решить, в каком из регионов бурить новую скважину ."
      ]
    },
    {
      "cell_type": "markdown",
      "metadata": {
        "id": "6fh7wsMVJcO0"
      },
      "source": [
        "**Описание данных**\n",
        "\n",
        "Данные геологоразведки трёх регионов находятся в файлах:\n",
        "- /datasets/geo_data_0.csv\n",
        "- /datasets/geo_data_1.csv\n",
        "- /datasets/geo_data_2.csv\n",
        "\n",
        "id — уникальный идентификатор скважины;\n",
        "\n",
        "f0, f1, f2 — три признака точек (неважно, что они означают, но сами признаки значимы);\n",
        "\n",
        "product — объём запасов в скважине (тыс. баррелей)."
      ]
    },
    {
      "cell_type": "markdown",
      "metadata": {
        "id": "s9In9JfcJcO0"
      },
      "source": [
        "## Загрузка и подготовка данных"
      ]
    },
    {
      "cell_type": "code",
      "metadata": {
        "id": "tkNtWWgGJcO1"
      },
      "source": [
        "import pandas as pd\n",
        "import numpy as np\n",
        "\n",
        "from sklearn.model_selection import train_test_split\n",
        "from sklearn.linear_model import LinearRegression\n",
        "from sklearn.metrics import mean_squared_error\n",
        "\n",
        "rnd_state = 42\n",
        "# from scipy import stats as st"
      ],
      "execution_count": 1,
      "outputs": []
    },
    {
      "cell_type": "markdown",
      "metadata": {
        "id": "pNGFep5BJcO4"
      },
      "source": [
        "Читаем все нужные библиотеки и зафиксируем random_state"
      ]
    },
    {
      "cell_type": "code",
      "metadata": {
        "id": "JSmp-j3xJcO5"
      },
      "source": [
        "df0 = pd.read_csv('https://code.s3.yandex.net/datasets/geo_data_0.csv')\n",
        "df1 = pd.read_csv('https://code.s3.yandex.net/datasets/geo_data_1.csv')\n",
        "df2 = pd.read_csv('https://code.s3.yandex.net/datasets/geo_data_2.csv')"
      ],
      "execution_count": 2,
      "outputs": []
    },
    {
      "cell_type": "markdown",
      "metadata": {
        "id": "x_-g_3gyJcO5"
      },
      "source": [
        "Прочли файлы, присутпим к их изучению"
      ]
    },
    {
      "cell_type": "code",
      "metadata": {
        "id": "BFMM_YY_JcO6",
        "outputId": "041447a5-617a-42e7-b0a6-d48f0b937123",
        "colab": {
          "base_uri": "https://localhost:8080/",
          "height": 794
        }
      },
      "source": [
        "df0.info()\n",
        "display(df0.head())\n",
        "print('Пропущенных значений по столбцам:', df0.isna().mean())\n",
        "print('Дубликатов:', df0.duplicated().mean())\n",
        "df0['product'].hist()"
      ],
      "execution_count": 3,
      "outputs": [
        {
          "output_type": "stream",
          "name": "stdout",
          "text": [
            "<class 'pandas.core.frame.DataFrame'>\n",
            "RangeIndex: 100000 entries, 0 to 99999\n",
            "Data columns (total 5 columns):\n",
            " #   Column   Non-Null Count   Dtype  \n",
            "---  ------   --------------   -----  \n",
            " 0   id       100000 non-null  object \n",
            " 1   f0       100000 non-null  float64\n",
            " 2   f1       100000 non-null  float64\n",
            " 3   f2       100000 non-null  float64\n",
            " 4   product  100000 non-null  float64\n",
            "dtypes: float64(4), object(1)\n",
            "memory usage: 3.8+ MB\n"
          ]
        },
        {
          "output_type": "display_data",
          "data": {
            "text/html": [
              "<div>\n",
              "<style scoped>\n",
              "    .dataframe tbody tr th:only-of-type {\n",
              "        vertical-align: middle;\n",
              "    }\n",
              "\n",
              "    .dataframe tbody tr th {\n",
              "        vertical-align: top;\n",
              "    }\n",
              "\n",
              "    .dataframe thead th {\n",
              "        text-align: right;\n",
              "    }\n",
              "</style>\n",
              "<table border=\"1\" class=\"dataframe\">\n",
              "  <thead>\n",
              "    <tr style=\"text-align: right;\">\n",
              "      <th></th>\n",
              "      <th>id</th>\n",
              "      <th>f0</th>\n",
              "      <th>f1</th>\n",
              "      <th>f2</th>\n",
              "      <th>product</th>\n",
              "    </tr>\n",
              "  </thead>\n",
              "  <tbody>\n",
              "    <tr>\n",
              "      <th>0</th>\n",
              "      <td>txEyH</td>\n",
              "      <td>0.705745</td>\n",
              "      <td>-0.497823</td>\n",
              "      <td>1.221170</td>\n",
              "      <td>105.280062</td>\n",
              "    </tr>\n",
              "    <tr>\n",
              "      <th>1</th>\n",
              "      <td>2acmU</td>\n",
              "      <td>1.334711</td>\n",
              "      <td>-0.340164</td>\n",
              "      <td>4.365080</td>\n",
              "      <td>73.037750</td>\n",
              "    </tr>\n",
              "    <tr>\n",
              "      <th>2</th>\n",
              "      <td>409Wp</td>\n",
              "      <td>1.022732</td>\n",
              "      <td>0.151990</td>\n",
              "      <td>1.419926</td>\n",
              "      <td>85.265647</td>\n",
              "    </tr>\n",
              "    <tr>\n",
              "      <th>3</th>\n",
              "      <td>iJLyR</td>\n",
              "      <td>-0.032172</td>\n",
              "      <td>0.139033</td>\n",
              "      <td>2.978566</td>\n",
              "      <td>168.620776</td>\n",
              "    </tr>\n",
              "    <tr>\n",
              "      <th>4</th>\n",
              "      <td>Xdl7t</td>\n",
              "      <td>1.988431</td>\n",
              "      <td>0.155413</td>\n",
              "      <td>4.751769</td>\n",
              "      <td>154.036647</td>\n",
              "    </tr>\n",
              "  </tbody>\n",
              "</table>\n",
              "</div>"
            ],
            "text/plain": [
              "      id        f0        f1        f2     product\n",
              "0  txEyH  0.705745 -0.497823  1.221170  105.280062\n",
              "1  2acmU  1.334711 -0.340164  4.365080   73.037750\n",
              "2  409Wp  1.022732  0.151990  1.419926   85.265647\n",
              "3  iJLyR -0.032172  0.139033  2.978566  168.620776\n",
              "4  Xdl7t  1.988431  0.155413  4.751769  154.036647"
            ]
          },
          "metadata": {}
        },
        {
          "output_type": "stream",
          "name": "stdout",
          "text": [
            "Пропущенных значений по столбцам: id         0.0\n",
            "f0         0.0\n",
            "f1         0.0\n",
            "f2         0.0\n",
            "product    0.0\n",
            "dtype: float64\n",
            "Дубликатов: 0.0\n"
          ]
        },
        {
          "output_type": "execute_result",
          "data": {
            "text/plain": [
              "<matplotlib.axes._subplots.AxesSubplot at 0x7f51faae3fd0>"
            ]
          },
          "metadata": {},
          "execution_count": 3
        },
        {
          "output_type": "display_data",
          "data": {
            "image/png": "[encoded data removed]",
            "text/plain": [
              "<Figure size 432x288 with 1 Axes>"
            ]
          },
          "metadata": {
            "needs_background": "light"
          }
        }
      ]
    },
    {
      "cell_type": "markdown",
      "metadata": {
        "id": "YI72exCPJcO8"
      },
      "source": [
        "**Регион 0** Таблица из 100 000 строчек. Для машинного обучения есть лишний признак id (технический номер скважины не должен влиять на запасы), нужно его выкинуть для моделей. Пропущенных значений нет, дубликатов нет. Данные в целевом признаке распределены нормально. Проверим и другие таблицы/регионы:"
      ]
    },
    {
      "cell_type": "code",
      "metadata": {
        "id": "9lPWtcXLJcO-",
        "outputId": "57337e6e-4d7c-47ed-ce2d-50becd38eb43",
        "colab": {
          "base_uri": "https://localhost:8080/",
          "height": 792
        }
      },
      "source": [
        "df1.info()\n",
        "display(df1.head())\n",
        "print('Пропущенных значений по столбцам:', df1.isna().mean())\n",
        "print('Дубликатов:', df1.duplicated().mean())\n",
        "df1['product'].hist()"
      ],
      "execution_count": 4,
      "outputs": [
        {
          "output_type": "stream",
          "name": "stdout",
          "text": [
            "<class 'pandas.core.frame.DataFrame'>\n",
            "RangeIndex: 100000 entries, 0 to 99999\n",
            "Data columns (total 5 columns):\n",
            " #   Column   Non-Null Count   Dtype  \n",
            "---  ------   --------------   -----  \n",
            " 0   id       100000 non-null  object \n",
            " 1   f0       100000 non-null  float64\n",
            " 2   f1       100000 non-null  float64\n",
            " 3   f2       100000 non-null  float64\n",
            " 4   product  100000 non-null  float64\n",
            "dtypes: float64(4), object(1)\n",
            "memory usage: 3.8+ MB\n"
          ]
        },
        {
          "output_type": "display_data",
          "data": {
            "text/html": [
              "<div>\n",
              "<style scoped>\n",
              "    .dataframe tbody tr th:only-of-type {\n",
              "        vertical-align: middle;\n",
              "    }\n",
              "\n",
              "    .dataframe tbody tr th {\n",
              "        vertical-align: top;\n",
              "    }\n",
              "\n",
              "    .dataframe thead th {\n",
              "        text-align: right;\n",
              "    }\n",
              "</style>\n",
              "<table border=\"1\" class=\"dataframe\">\n",
              "  <thead>\n",
              "    <tr style=\"text-align: right;\">\n",
              "      <th></th>\n",
              "      <th>id</th>\n",
              "      <th>f0</th>\n",
              "      <th>f1</th>\n",
              "      <th>f2</th>\n",
              "      <th>product</th>\n",
              "    </tr>\n",
              "  </thead>\n",
              "  <tbody>\n",
              "    <tr>\n",
              "      <th>0</th>\n",
              "      <td>kBEdx</td>\n",
              "      <td>-15.001348</td>\n",
              "      <td>-8.276000</td>\n",
              "      <td>-0.005876</td>\n",
              "      <td>3.179103</td>\n",
              "    </tr>\n",
              "    <tr>\n",
              "      <th>1</th>\n",
              "      <td>62mP7</td>\n",
              "      <td>14.272088</td>\n",
              "      <td>-3.475083</td>\n",
              "      <td>0.999183</td>\n",
              "      <td>26.953261</td>\n",
              "    </tr>\n",
              "    <tr>\n",
              "      <th>2</th>\n",
              "      <td>vyE1P</td>\n",
              "      <td>6.263187</td>\n",
              "      <td>-5.948386</td>\n",
              "      <td>5.001160</td>\n",
              "      <td>134.766305</td>\n",
              "    </tr>\n",
              "    <tr>\n",
              "      <th>3</th>\n",
              "      <td>KcrkZ</td>\n",
              "      <td>-13.081196</td>\n",
              "      <td>-11.506057</td>\n",
              "      <td>4.999415</td>\n",
              "      <td>137.945408</td>\n",
              "    </tr>\n",
              "    <tr>\n",
              "      <th>4</th>\n",
              "      <td>AHL4O</td>\n",
              "      <td>12.702195</td>\n",
              "      <td>-8.147433</td>\n",
              "      <td>5.004363</td>\n",
              "      <td>134.766305</td>\n",
              "    </tr>\n",
              "  </tbody>\n",
              "</table>\n",
              "</div>"
            ],
            "text/plain": [
              "      id         f0         f1        f2     product\n",
              "0  kBEdx -15.001348  -8.276000 -0.005876    3.179103\n",
              "1  62mP7  14.272088  -3.475083  0.999183   26.953261\n",
              "2  vyE1P   6.263187  -5.948386  5.001160  134.766305\n",
              "3  KcrkZ -13.081196 -11.506057  4.999415  137.945408\n",
              "4  AHL4O  12.702195  -8.147433  5.004363  134.766305"
            ]
          },
          "metadata": {}
        },
        {
          "output_type": "stream",
          "name": "stdout",
          "text": [
            "Пропущенных значений по столбцам: id         0.0\n",
            "f0         0.0\n",
            "f1         0.0\n",
            "f2         0.0\n",
            "product    0.0\n",
            "dtype: float64\n",
            "Дубликатов: 0.0\n"
          ]
        },
        {
          "output_type": "execute_result",
          "data": {
            "text/plain": [
              "<matplotlib.axes._subplots.AxesSubplot at 0x7f51e8bace10>"
            ]
          },
          "metadata": {},
          "execution_count": 4
        },
        {
          "output_type": "display_data",
          "data": {
            "image/png": "[encoded data removed]",
            "text/plain": [
              "<Figure size 432x288 with 1 Axes>"
            ]
          },
          "metadata": {
            "needs_background": "light"
          }
        }
      ]
    },
    {
      "cell_type": "markdown",
      "metadata": {
        "id": "nb8KkGhMJcO_"
      },
      "source": [
        "**Регион 1** Таблица из 100 000 строчек, лишний признак id, пропущенных значений нет, дубликатов нет. Данные в целевом признаке распределены странно с большим выбросом около нуля и максимума. Посмотрим точнее."
      ]
    },
    {
      "cell_type": "code",
      "metadata": {
        "id": "ZBwMqAX5JcO_",
        "outputId": "ded7d2ae-df7f-45db-9468-d5d1a6e65317",
        "colab": {
          "base_uri": "https://localhost:8080/",
          "height": 486
        }
      },
      "source": [
        "df1['product'].hist(bins = 21)\n",
        "df1['product'].value_counts()"
      ],
      "execution_count": 5,
      "outputs": [
        {
          "output_type": "execute_result",
          "data": {
            "text/plain": [
              "53.906522     8472\n",
              "26.953261     8468\n",
              "84.038886     8431\n",
              "57.085625     8390\n",
              "3.179103      8337\n",
              "80.859783     8320\n",
              "30.132364     8306\n",
              "134.766305    8304\n",
              "110.992147    8303\n",
              "0.000000      8235\n",
              "137.945408    8233\n",
              "107.813044    8201\n",
              "Name: product, dtype: int64"
            ]
          },
          "metadata": {},
          "execution_count": 5
        },
        {
          "output_type": "display_data",
          "data": {
            "image/png": "[encoded data removed]",
            "text/plain": [
              "<Figure size 432x288 with 1 Axes>"
            ]
          },
          "metadata": {
            "needs_background": "light"
          }
        }
      ]
    },
    {
      "cell_type": "markdown",
      "metadata": {
        "id": "e8smF1xxJcPC"
      },
      "source": [
        "**Регион 1** Целевые значения лежат в 12 \"корзинах\". Посмотрим на последний регион:"
      ]
    },
    {
      "cell_type": "code",
      "metadata": {
        "id": "CDArwWPBJcPC",
        "outputId": "f9bcc1ca-657b-4ccc-96e2-552248dd533f",
        "colab": {
          "base_uri": "https://localhost:8080/",
          "height": 792
        }
      },
      "source": [
        "df2.info()\n",
        "display(df2.head())\n",
        "print('Пропущенных значений по столбцам:', df2.isna().mean())\n",
        "print('Дубликатов:', df2.duplicated().mean())\n",
        "df2['product'].hist()"
      ],
      "execution_count": 6,
      "outputs": [
        {
          "output_type": "stream",
          "name": "stdout",
          "text": [
            "<class 'pandas.core.frame.DataFrame'>\n",
            "RangeIndex: 100000 entries, 0 to 99999\n",
            "Data columns (total 5 columns):\n",
            " #   Column   Non-Null Count   Dtype  \n",
            "---  ------   --------------   -----  \n",
            " 0   id       100000 non-null  object \n",
            " 1   f0       100000 non-null  float64\n",
            " 2   f1       100000 non-null  float64\n",
            " 3   f2       100000 non-null  float64\n",
            " 4   product  100000 non-null  float64\n",
            "dtypes: float64(4), object(1)\n",
            "memory usage: 3.8+ MB\n"
          ]
        },
        {
          "output_type": "display_data",
          "data": {
            "text/html": [
              "<div>\n",
              "<style scoped>\n",
              "    .dataframe tbody tr th:only-of-type {\n",
              "        vertical-align: middle;\n",
              "    }\n",
              "\n",
              "    .dataframe tbody tr th {\n",
              "        vertical-align: top;\n",
              "    }\n",
              "\n",
              "    .dataframe thead th {\n",
              "        text-align: right;\n",
              "    }\n",
              "</style>\n",
              "<table border=\"1\" class=\"dataframe\">\n",
              "  <thead>\n",
              "    <tr style=\"text-align: right;\">\n",
              "      <th></th>\n",
              "      <th>id</th>\n",
              "      <th>f0</th>\n",
              "      <th>f1</th>\n",
              "      <th>f2</th>\n",
              "      <th>product</th>\n",
              "    </tr>\n",
              "  </thead>\n",
              "  <tbody>\n",
              "    <tr>\n",
              "      <th>0</th>\n",
              "      <td>fwXo0</td>\n",
              "      <td>-1.146987</td>\n",
              "      <td>0.963328</td>\n",
              "      <td>-0.828965</td>\n",
              "      <td>27.758673</td>\n",
              "    </tr>\n",
              "    <tr>\n",
              "      <th>1</th>\n",
              "      <td>WJtFt</td>\n",
              "      <td>0.262778</td>\n",
              "      <td>0.269839</td>\n",
              "      <td>-2.530187</td>\n",
              "      <td>56.069697</td>\n",
              "    </tr>\n",
              "    <tr>\n",
              "      <th>2</th>\n",
              "      <td>ovLUW</td>\n",
              "      <td>0.194587</td>\n",
              "      <td>0.289035</td>\n",
              "      <td>-5.586433</td>\n",
              "      <td>62.871910</td>\n",
              "    </tr>\n",
              "    <tr>\n",
              "      <th>3</th>\n",
              "      <td>q6cA6</td>\n",
              "      <td>2.236060</td>\n",
              "      <td>-0.553760</td>\n",
              "      <td>0.930038</td>\n",
              "      <td>114.572842</td>\n",
              "    </tr>\n",
              "    <tr>\n",
              "      <th>4</th>\n",
              "      <td>WPMUX</td>\n",
              "      <td>-0.515993</td>\n",
              "      <td>1.716266</td>\n",
              "      <td>5.899011</td>\n",
              "      <td>149.600746</td>\n",
              "    </tr>\n",
              "  </tbody>\n",
              "</table>\n",
              "</div>"
            ],
            "text/plain": [
              "      id        f0        f1        f2     product\n",
              "0  fwXo0 -1.146987  0.963328 -0.828965   27.758673\n",
              "1  WJtFt  0.262778  0.269839 -2.530187   56.069697\n",
              "2  ovLUW  0.194587  0.289035 -5.586433   62.871910\n",
              "3  q6cA6  2.236060 -0.553760  0.930038  114.572842\n",
              "4  WPMUX -0.515993  1.716266  5.899011  149.600746"
            ]
          },
          "metadata": {}
        },
        {
          "output_type": "stream",
          "name": "stdout",
          "text": [
            "Пропущенных значений по столбцам: id         0.0\n",
            "f0         0.0\n",
            "f1         0.0\n",
            "f2         0.0\n",
            "product    0.0\n",
            "dtype: float64\n",
            "Дубликатов: 0.0\n"
          ]
        },
        {
          "output_type": "execute_result",
          "data": {
            "text/plain": [
              "<matplotlib.axes._subplots.AxesSubplot at 0x7f51e85f3dd0>"
            ]
          },
          "metadata": {},
          "execution_count": 6
        },
        {
          "output_type": "display_data",
          "data": {
            "image/png": "[encoded data removed]",
            "text/plain": [
              "<Figure size 432x288 with 1 Axes>"
            ]
          },
          "metadata": {
            "needs_background": "light"
          }
        }
      ]
    },
    {
      "cell_type": "markdown",
      "metadata": {
        "id": "F7-KWDBEJcPD"
      },
      "source": [
        "**Регион 2** Таблица из 100 000 строчек, лишний признак id, пропущенных значений нет, дубликатов нет. Данные в целевом признаке распределены нормально."
      ]
    },
    {
      "cell_type": "code",
      "metadata": {
        "id": "4QhOA4EhJcPD"
      },
      "source": [
        "df0.drop(['id'], axis = 1, inplace = True)\n",
        "df1.drop(['id'], axis = 1, inplace = True)\n",
        "df2.drop(['id'], axis = 1, inplace = True)"
      ],
      "execution_count": 7,
      "outputs": []
    },
    {
      "cell_type": "markdown",
      "metadata": {
        "id": "z3wpj9DeJcPD"
      },
      "source": [
        "Выкинули ненужные столбцы, теперь поделим на features и target"
      ]
    },
    {
      "cell_type": "code",
      "metadata": {
        "id": "kXbdU-UwJcPD"
      },
      "source": [
        "features0 = df0.drop(['product'], axis = 1)\n",
        "target0 = df0['product']\n",
        "\n",
        "features1 = df1.drop(['product'], axis = 1)\n",
        "target1 = df1['product']\n",
        "\n",
        "features2 = df2.drop(['product'], axis = 1)\n",
        "target2 = df2['product']"
      ],
      "execution_count": 8,
      "outputs": []
    },
    {
      "cell_type": "markdown",
      "metadata": {
        "id": "Pl4CrtPeJcPE"
      },
      "source": [
        "Подготовка данных закончена, теперь можно приступить к обучениям и проверкам моделей"
      ]
    },
    {
      "cell_type": "markdown",
      "metadata": {
        "id": "a69DZvVUJcPE"
      },
      "source": [
        "<div class=\"alert alert-block alert-success\">\n",
        "<b>Успех:</b> Загрузка и первичный осмотр данных проведены хорошо. Согласен, что колонка id нам не нужна.\n",
        "</div>"
      ]
    },
    {
      "cell_type": "markdown",
      "metadata": {
        "id": "xZ2ef8ZEJcPE"
      },
      "source": [
        "## Обучение и проверка модели"
      ]
    },
    {
      "cell_type": "markdown",
      "metadata": {
        "id": "aDQyYzYfJcPE"
      },
      "source": [
        "Пройдёмся по каждому региону по следующему алгоритму:\n",
        "- Развика данных на обучающую и валидационную выборку\n",
        "- Обучение моделей и предсказание\n",
        "- Проанализируем средний запас предсказанного сырья и RMSE\n",
        "- Вывод по модели"
      ]
    },
    {
      "cell_type": "code",
      "metadata": {
        "id": "-k-tZ5dsJcPE",
        "outputId": "68d2270b-1e93-48ee-e368-942aa777e3ed",
        "colab": {
          "base_uri": "https://localhost:8080/"
        }
      },
      "source": [
        "# Регион 0\n",
        "features0_train, features0_valid, target0_train, target0_valid = train_test_split(features0, target0,\n",
        "                                                        test_size = 0.25, random_state = rnd_state)\n",
        "\n",
        "model0 = LinearRegression()\n",
        "model0.fit(features0_train, target0_train)\n",
        "predict0 = model0.predict(features0_valid)\n",
        "\n",
        "predict0_mean = predict0.mean()\n",
        "mse0 = mean_squared_error(target0_valid, predict0)\n",
        "rmse0 = mse0**0.5\n",
        "\n",
        "print('Средний запас предсказанного сырья:{:.2f}, RMSE = {:.2f}'.format(predict0_mean, rmse0))"
      ],
      "execution_count": 9,
      "outputs": [
        {
          "output_type": "stream",
          "name": "stdout",
          "text": [
            "Средний запас предсказанного сырья:92.40, RMSE = 37.76\n"
          ]
        }
      ]
    },
    {
      "cell_type": "markdown",
      "metadata": {
        "id": "QJeq--PhJcPF"
      },
      "source": [
        "В **Регионе 0** Средний запас предсказанного сырья 92,4. Корень из среднеквадратичного отклонения = 37,76"
      ]
    },
    {
      "cell_type": "code",
      "metadata": {
        "id": "PnvLzHdSJcPF",
        "outputId": "3f4f0c9c-13da-46f0-a9a9-20b5e422e406",
        "colab": {
          "base_uri": "https://localhost:8080/"
        }
      },
      "source": [
        "# Регион 1\n",
        "features1_train, features1_valid, target1_train, target1_valid = train_test_split(features1, target1,\n",
        "                                                        test_size = 0.25, random_state = rnd_state)\n",
        "\n",
        "model1 = LinearRegression()\n",
        "model1.fit(features1_train, target1_train)\n",
        "predict1 = model1.predict(features1_valid)\n",
        "\n",
        "predict1_mean = predict1.mean()\n",
        "mse1 = mean_squared_error(target1_valid, predict1)\n",
        "rmse1 = mse1**0.5\n",
        "\n",
        "print('Средний запас предсказанного сырья:{:.2f}, RMSE = {:.2f}'.format(predict1_mean, rmse1))"
      ],
      "execution_count": 10,
      "outputs": [
        {
          "output_type": "stream",
          "name": "stdout",
          "text": [
            "Средний запас предсказанного сырья:68.71, RMSE = 0.89\n"
          ]
        }
      ]
    },
    {
      "cell_type": "markdown",
      "metadata": {
        "id": "LP8f4yGWJcPG"
      },
      "source": [
        "В **Регионе 1** Средний запас предсказанного сырья 68,71 (меньше, чем в нулевом регионе). Корень из среднеквадратичного отклонения = 0,89 (ошибка гораздо меньше, чем в 0 регионе, возможно благодарю распределению значения столбца product по \"корзинам\")"
      ]
    },
    {
      "cell_type": "code",
      "metadata": {
        "id": "ragM_0P5JcPG",
        "outputId": "8d91afbb-3d32-4881-f29b-3c2cdede5ea6",
        "colab": {
          "base_uri": "https://localhost:8080/"
        }
      },
      "source": [
        "# Регион 2\n",
        "features2_train, features2_valid, target2_train, target2_valid = train_test_split(features2, target2,\n",
        "                                                        test_size = 0.25, random_state = rnd_state)\n",
        "\n",
        "model2 = LinearRegression()\n",
        "model2.fit(features2_train, target2_train)\n",
        "predict2 = model2.predict(features2_valid)\n",
        "\n",
        "predict2_mean = predict2.mean()\n",
        "mse2 = mean_squared_error(target2_valid, predict2)\n",
        "rmse2 = mse2**0.5\n",
        "\n",
        "print('Средний запас предсказанного сырья:{:.2f}, RMSE = {:.2f}'.format(predict2_mean, rmse2))"
      ],
      "execution_count": 11,
      "outputs": [
        {
          "output_type": "stream",
          "name": "stdout",
          "text": [
            "Средний запас предсказанного сырья:94.77, RMSE = 40.15\n"
          ]
        }
      ]
    },
    {
      "cell_type": "markdown",
      "metadata": {
        "id": "flIE4N7CJcPH"
      },
      "source": [
        "В **Регионе 2** Средний запас предсказанного сырья 94,77 (наибольшее из регионов). Корень из среднеквадратичного отклонения = 40,15 (отклонение также наибольшее)"
      ]
    },
    {
      "cell_type": "markdown",
      "metadata": {
        "id": "xvRPTiuYJcPH"
      },
      "source": [
        "**Промежуточный вывод:** Из трех регионов сильно выдается регион 1 - в нём средний предсказанный запас меньше почти на 30%, но также меньше и отклонение предсказаний (почти нулевая). Регионы 0 и 2 очень похожи, в них средний запас предсказанного сырья выше, но велико и отклонение! Перейдём к подготовке расчётов прибыли"
      ]
    },
    {
      "cell_type": "markdown",
      "metadata": {
        "id": "fucYrP3qJcPH"
      },
      "source": [
        "## Подготовка к расчёту прибыли"
      ]
    },
    {
      "cell_type": "markdown",
      "metadata": {
        "id": "PZWNN3LHJcPH"
      },
      "source": [
        "Подготовим переменные. нам известно следующее:\n",
        "\n",
        "- При разведке региона исследуют 500 точек, из которых с помощью машинного обучения выбирают 200 лучших для разработки.\n",
        "- Бюджет на разработку скважин в регионе — 10 млрд рублей.\n",
        "- При нынешних ценах один баррель сырья приносит 450 рублей дохода. Доход с каждой единицы продукта составляет 450 тыс. рублей, поскольку объём указан в тысячах баррелей.\n",
        "- После оценки рисков нужно оставить лишь те регионы, в которых вероятность убытков меньше 2.5%. Среди них выбирают регион с наибольшей средней прибылью."
      ]
    },
    {
      "cell_type": "code",
      "metadata": {
        "id": "xy95JWC9JcPH"
      },
      "source": [
        "WELL_FOR_RESEARCH = 500\n",
        "BEST_WELL = 200\n",
        "REGION_BUDGET = 10000000000\n",
        "BARREL_INCOME = 450000\n",
        "RISK_PROB = 0.025"
      ],
      "execution_count": 12,
      "outputs": []
    },
    {
      "cell_type": "markdown",
      "metadata": {
        "id": "14nugvAPJcPH"
      },
      "source": [
        "<div class=\"alert alert-block alert-info\">\n",
        "<b>Совет: </b> В названиях константных переменных лучше использовать только БОЛЬШИЕ буквы. Это соглашение между программистами.\n",
        "</div>"
      ]
    },
    {
      "cell_type": "markdown",
      "metadata": {
        "id": "4o7bHjvuJcPI"
      },
      "source": [
        "Для безубыточности необходимо, чтобы запасы в выбранных скажинах, в среднем, приносили больше, чем бюджет на разработку точек в регионе"
      ]
    },
    {
      "cell_type": "code",
      "metadata": {
        "id": "rG66yJetJcPI",
        "outputId": "a8ba303f-f799-4226-c7fd-f3077abf0987",
        "colab": {
          "base_uri": "https://localhost:8080/"
        }
      },
      "source": [
        "no_loss_well = REGION_BUDGET / BEST_WELL / BARREL_INCOME\n",
        "\n",
        "print('Достаточный объём скважины для безубыточной разработки:', no_loss_well)"
      ],
      "execution_count": 13,
      "outputs": [
        {
          "output_type": "stream",
          "name": "stdout",
          "text": [
            "Достаточный объём скважины для безубыточной разработки: 111.11111111111111\n"
          ]
        }
      ]
    },
    {
      "cell_type": "code",
      "metadata": {
        "id": "hmgQfEXFJcPI",
        "outputId": "49fc21cf-8688-4ae4-8b97-dbe4408e9d3c",
        "colab": {
          "base_uri": "https://localhost:8080/"
        }
      },
      "source": [
        "region = 0\n",
        "for i in (predict0_mean, predict1_mean, predict2_mean):\n",
        "    print('Регион', region)\n",
        "    print('Объём скажины длz безубыточной разработки:', no_loss_well) \n",
        "    print('Средний прездсказанный запас в регионе:', i)\n",
        "    if i > no_loss_well:\n",
        "        print('Средний запас в скважинах выше, чем необходимый для безубыточности')\n",
        "    else:\n",
        "        print('Средний запас в скважинах ниже, чем необходимый для безубыточности')\n",
        "    region += 1"
      ],
      "execution_count": 14,
      "outputs": [
        {
          "output_type": "stream",
          "name": "stdout",
          "text": [
            "Регион 0\n",
            "Объём скажины длz безубыточной разработки: 111.11111111111111\n",
            "Средний прездсказанный запас в регионе: 92.39879990657768\n",
            "Средний запас в скважинах ниже, чем необходимый для безубыточности\n",
            "Регион 1\n",
            "Объём скажины длz безубыточной разработки: 111.11111111111111\n",
            "Средний прездсказанный запас в регионе: 68.71287803913764\n",
            "Средний запас в скважинах ниже, чем необходимый для безубыточности\n",
            "Регион 2\n",
            "Объём скажины длz безубыточной разработки: 111.11111111111111\n",
            "Средний прездсказанный запас в регионе: 94.77102387765939\n",
            "Средний запас в скважинах ниже, чем необходимый для безубыточности\n"
          ]
        }
      ]
    },
    {
      "cell_type": "markdown",
      "metadata": {
        "id": "7IdfpbxyJcPI"
      },
      "source": [
        "Во всех регионах средний предсказанный запас скважин меньше, чем необходимый для безубыточности. Это означает, что нам не подойдут 200 случайных скважин, нам точно нужно брать те, чьи запасы выше или равны нужных нам для безубыточности!"
      ]
    },
    {
      "cell_type": "markdown",
      "metadata": {
        "id": "UWOGj6zyJcPJ"
      },
      "source": [
        "<div class=\"alert alert-block alert-success\">\n",
        "<b>Успех:</b> Точка безубыточности найдена верно, сравнение проведено!\n",
        "</div>"
      ]
    },
    {
      "cell_type": "markdown",
      "metadata": {
        "id": "NdB7j_sCJcPJ"
      },
      "source": [
        "## Расчёт прибыли и рисков "
      ]
    },
    {
      "cell_type": "markdown",
      "metadata": {
        "id": "VxWV7_WvJcPJ"
      },
      "source": [
        "Создадим функцию, которая будет считать прибыль по 200 наибольшим точкам региона, а также посчитаем распределение с помощью Bootstrap и найдём среднюю прибыль и доверительный интервал, соответствующий нашему допустимому уровню риска, и риск убытков.\n",
        "\n",
        "5.1. Примените технику Bootstrap с 1000 выборок, чтобы найти распределение прибыли.\n",
        "5.2. Найдите среднюю прибыль, 95%-й доверительный интервал и риск убытков. Убыток — это отрицательная прибыль.\n",
        "5.3. Напишите выводы: предложите регион для разработки скважин и обоснуйте выбор.\n"
      ]
    },
    {
      "cell_type": "code",
      "metadata": {
        "id": "R8Fgnd8SJcPJ"
      },
      "source": [
        "def revenue_count (target, predict):\n",
        "    target = pd.Series(target).reset_index(drop=True)\n",
        "    predict = pd.Series(predict).reset_index(drop=True)\n",
        "    predict_index = predict.sort_values(ascending = False).index\n",
        "    selected = target[predict_index][:200]\n",
        "    return selected.sum() * BARREL_INCOME - REGION_BUDGET"
      ],
      "execution_count": 15,
      "outputs": []
    },
    {
      "cell_type": "markdown",
      "metadata": {
        "id": "ypTZbx9KJcPJ"
      },
      "source": [
        "Создали функцию для расчёта прибыли, которая берёт на вход фактические значения и предсказанные и возвращает прибыль по топ 200 точкам, согласно предсказаниям. Теперь перейдём к Бутстреп"
      ]
    },
    {
      "cell_type": "code",
      "metadata": {
        "id": "sFij81ZrJcPJ"
      },
      "source": [
        "# Определим Bootstrap как функцию, чтобы вызывать для каждого региона\n",
        "def bootstrap (target, predict):\n",
        "    state = np.random.RandomState(rnd_state)\n",
        "    values = []\n",
        "    lost = 0\n",
        "    for i in range(1000):\n",
        "        target_sample = target.sample(n = WELL_FOR_RESEARCH, random_state = state, replace = True)\n",
        "        predict_sample = predict[target_sample.index]\n",
        "        revenue = revenue_count(target_sample, predict_sample)\n",
        "        values.append(revenue)\n",
        "        if revenue < 0:\n",
        "            lost +=1\n",
        "    values = pd.Series(values)\n",
        "    mean_rev = values.mean()\n",
        "    lower = values.quantile(0.025)\n",
        "    upper = values.quantile(0.975)\n",
        "    risk = lost / 1000\n",
        "    return mean_rev, lower, upper, risk"
      ],
      "execution_count": 16,
      "outputs": []
    },
    {
      "cell_type": "markdown",
      "metadata": {
        "id": "6_liD8ylJcPJ"
      },
      "source": [
        "Функция для Bootstrap расчёта готова, пройдёмся по регионам"
      ]
    },
    {
      "cell_type": "code",
      "metadata": {
        "id": "9FwsNIW2JcPK",
        "outputId": "8ab8baa7-6572-4bbb-8ea0-e79a66c6c4bb",
        "colab": {
          "base_uri": "https://localhost:8080/"
        }
      },
      "source": [
        "# Регион 0\n",
        "mean_rev0, lower0, upper0, risk0 = bootstrap(target0_valid.reset_index(drop=True), predict0)\n",
        "\n",
        "print('Регион 0')\n",
        "print('Средняя предсказанная прибыль:{:.2f}'.format(mean_rev0))\n",
        "print('95% доверительный интервал от {:.2f} до {:.2f}'.format(lower0, upper0))\n",
        "if risk0 > RISK_PROB:\n",
        "    print('Вероятность убытков больше, чем допустимая и равна:{:.1%}'.format(risk0))\n",
        "else:\n",
        "    print('Вероятность убытков меньше, чем допустимая и равна:{:.1%}'.format(risk0))"
      ],
      "execution_count": 17,
      "outputs": [
        {
          "output_type": "stream",
          "name": "stdout",
          "text": [
            "Регион 0\n",
            "Средняя предсказанная прибыль:399575478.05\n",
            "95% доверительный интервал от -110467895.33 до 897460327.72\n",
            "Вероятность убытков больше, чем допустимая и равна:6.0%\n"
          ]
        }
      ]
    },
    {
      "cell_type": "markdown",
      "metadata": {
        "id": "Vt7g9xz9JcPK"
      },
      "source": [
        "***Регион 0 нам не подходит ввиду слишком большой вероятности убытков!***"
      ]
    },
    {
      "cell_type": "code",
      "metadata": {
        "id": "AdYRCvbUJcPK",
        "outputId": "2b0e3081-000f-49b8-ba45-2cc2c2290691",
        "colab": {
          "base_uri": "https://localhost:8080/"
        }
      },
      "source": [
        "# Регион 1\n",
        "mean_rev1, lower1, upper1, risk1 = bootstrap(target1_valid.reset_index(drop=True), predict1)\n",
        "\n",
        "print('Регион 1')\n",
        "print('Средняя предсказанная прибыль:{:.2f}'.format(mean_rev1))\n",
        "print('95% доверительный интервал от {:.2f} до {:.2f}'.format(lower1, upper1))\n",
        "if risk1 > RISK_PROB:\n",
        "    print('Вероятность убытков больше, чем допустимая и равна:{:.1%}'.format(risk1))\n",
        "else:\n",
        "    print('Вероятность убытков меньше, чем допустимая и равна:{:.1%}'.format(risk1))"
      ],
      "execution_count": 18,
      "outputs": [
        {
          "output_type": "stream",
          "name": "stdout",
          "text": [
            "Регион 1\n",
            "Средняя предсказанная прибыль:452048890.91\n",
            "95% доверительный интервал от 61684479.65 до 845340177.51\n",
            "Вероятность убытков меньше, чем допустимая и равна:1.5%\n"
          ]
        }
      ]
    },
    {
      "cell_type": "markdown",
      "metadata": {
        "id": "aS4PLuBNJcPK"
      },
      "source": [
        "***Регион 1 нам подходит, риск убытков меньше допустимого***"
      ]
    },
    {
      "cell_type": "code",
      "metadata": {
        "id": "Ye5k4uHGJcPK",
        "outputId": "4cee58f6-5249-401f-86be-1d9d9c333447",
        "colab": {
          "base_uri": "https://localhost:8080/"
        }
      },
      "source": [
        "# Регион 2\n",
        "mean_rev2, lower2, upper2, risk2 = bootstrap(target2_valid.reset_index(drop=True), predict2)\n",
        "\n",
        "print('Регион 2')\n",
        "print('Средняя предсказанная прибыль:{:.2f}'.format(mean_rev2))\n",
        "print('95% доверительный интервал от {:.2f} до {:.2f}'.format(lower2, upper2))\n",
        "if risk2 > RISK_PROB:\n",
        "    print('Вероятность убытков больше, чем допустимая и равна:{:.1%}'.format(risk2))\n",
        "else:\n",
        "    print('Вероятность убытков меньше, чем допустимая и равна:{:.1%}'.format(risk2))"
      ],
      "execution_count": 19,
      "outputs": [
        {
          "output_type": "stream",
          "name": "stdout",
          "text": [
            "Регион 2\n",
            "Средняя предсказанная прибыль:375009902.92\n",
            "95% доверительный интервал от -144766727.30 до 888390403.53\n",
            "Вероятность убытков больше, чем допустимая и равна:8.0%\n"
          ]
        }
      ]
    },
    {
      "cell_type": "markdown",
      "metadata": {
        "id": "qqVec57XJcPK"
      },
      "source": [
        "***Регион 2 нам не подходит ввиду слишком большой вероятности убытков!***"
      ]
    },
    {
      "cell_type": "markdown",
      "metadata": {
        "id": "XZAelBDsJcPL"
      },
      "source": [
        "# Вывод"
      ]
    },
    {
      "cell_type": "markdown",
      "metadata": {
        "id": "QnQ5sahfJcPL"
      },
      "source": [
        "**Из предложенных регионов нам подходит Регион 1. Только у него процент риска меньше допустимого 2,5% (составляет всего лишь 1,5%), поэтому в 95% доверительном интервале только положительная прибыль. Средняя предсказанная прибыль для этого региона равна 452 048 890,91**"
      ]
    }
  ]
}