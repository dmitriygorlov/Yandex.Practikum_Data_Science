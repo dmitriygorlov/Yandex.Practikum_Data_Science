{
 "cells": [
  {
   "cell_type": "markdown",
   "metadata": {},
   "source": [
    "<div style=\"border:solid green 2px; padding: 20px\">\n",
    "<b>Привет, Дмитрий!</b>\n",
    "\n",
    "Меня зовут Марина К, и я буду проверять твой проект. Предлагаю общаться на «ты» :) Но если это не удобно - дай мне знать, и мы перейдем на «вы». \n",
    "\n",
    "Ты проделал большую работу над проектом, но давай сделаем его еще лучше! Ниже ты найдешь мои комментарии - пожалуйста, не перемещай, не изменяй и не удаляй их. Я буду использовать цветовую разметку:\n",
    "\n",
    "<div class=\"alert alert-danger\">\n",
    "<b>Комментарии ревьюера:</b> Так выделены самые важные замечания. Без их отработки проект не будет принят. </div>\n",
    "\n",
    "<div class=\"alert alert-warning\">\n",
    "<b>Комментарии ревьюера:</b> Так выделены небольшие замечания. Одно-два таких замечания в проекте допустимы, но если их будет больше - тебе будет необходимо внести исправления.  </div>\n",
    "\n",
    "<div class=\"alert alert-success\">\n",
    "<b>Комментарии ревьюера:</b> Так я выделяю все остальные комментарии, твои удачные решения, комментарии по твоим промежуточным выводам и даю подсказки, как можно улучшить твоё решение.</div>\n",
    "\n",
    "Давай работать над проектом в диалоге: если ты что-то меняешь в проекте или отвечаешь на мои комментарии — пиши об этом. Мне будет легче отследить изменения, если ты выделишь свои комментарии:\n",
    "<div class=\"alert alert-info\"> <b>Комментарии студента:</b> Например, вот так.</div>"
   ]
  },
  {
   "cell_type": "markdown",
   "metadata": {},
   "source": [
    "# Определение перспективного тарифа для телеком компании\n",
    "Надо сделать предварительный анализ тарифов на небольшой выборке клиентов. Есть данные 500 пользователей «Мегалайна»: кто они, откуда, каким тарифом пользуются, сколько звонков и сообщений каждый отправил за 2018 год. Нужно проанализировать поведение клиентов и сделать вывод — какой тариф лучше."
   ]
  },
  {
   "cell_type": "markdown",
   "metadata": {},
   "source": [
    "# План исследования:\n",
    "- 1. Первичное прочтение данных\n",
    "Загрузка библиотек и таблиц\n",
    "- 2. Предобработка\n",
    "Изменение типов данных, обработка на ошибки, дубликаты и пропуски; расчёт и добавление необходимых столбцов\n",
    "+ 3. Анализ данных\n",
    "Описание данных, построение графиков.\n",
    "+ 4. Проверка гипотез\n",
    "Нулевые и альтернативные гипотезы\n",
    "+ 5. Общий вывод"
   ]
  },
  {
   "cell_type": "markdown",
   "metadata": {},
   "source": [
    "<div class=\"alert alert-success\">\n",
    "<b>Комментарии ревьюера:</b> Хорошее начало - краткое и лаконичное. Ты сформулировал цель проекта и сделал план. Можно еще добавить описание входных переменных.</div>"
   ]
  },
  {
   "cell_type": "markdown",
   "metadata": {},
   "source": [
    "## Первичное прочтение данных"
   ]
  },
  {
   "cell_type": "code",
   "execution_count": 1,
   "metadata": {},
   "outputs": [],
   "source": [
    "import pandas as pd\n",
    "import numpy as np\n",
    "from scipy import stats as st\n",
    "import matplotlib.pyplot as plt\n",
    "\n",
    "users = pd.read_csv('/datasets/users.csv')\n",
    "\n",
    "calls = pd.read_csv('/datasets/calls.csv')\n",
    "internet = pd.read_csv('/datasets/internet.csv')\n",
    "messages = pd.read_csv('/datasets/messages.csv')\n",
    "\n",
    "tariffs = pd.read_csv('/datasets/tariffs.csv')"
   ]
  },
  {
   "cell_type": "markdown",
   "metadata": {},
   "source": [
    "Импортируем библиотеки и читаем файлы. Учитывая, что файлов несколько, скорее всего задействуем объединение данных, нужно быть внимательным к столбцам/ключам."
   ]
  },
  {
   "cell_type": "markdown",
   "metadata": {},
   "source": [
    "<div class=\"alert alert-success\">\n",
    "<b>Комментарии ревьюера:</b> Отлично, данные загружены, давай на них посмотрим.</div>"
   ]
  },
  {
   "cell_type": "markdown",
   "metadata": {},
   "source": [
    "## Предобработка"
   ]
  },
  {
   "cell_type": "markdown",
   "metadata": {},
   "source": [
    "### Изменение типов данных, обработка на ошибки, дубликаты и пропуски"
   ]
  },
  {
   "cell_type": "code",
   "execution_count": 2,
   "metadata": {},
   "outputs": [
    {
     "name": "stdout",
     "output_type": "stream",
     "text": [
      "<class 'pandas.core.frame.DataFrame'>\n",
      "RangeIndex: 500 entries, 0 to 499\n",
      "Data columns (total 8 columns):\n",
      "user_id       500 non-null int64\n",
      "age           500 non-null int64\n",
      "churn_date    38 non-null object\n",
      "city          500 non-null object\n",
      "first_name    500 non-null object\n",
      "last_name     500 non-null object\n",
      "reg_date      500 non-null object\n",
      "tariff        500 non-null object\n",
      "dtypes: int64(2), object(6)\n",
      "memory usage: 31.4+ KB\n",
      "   user_id  age churn_date         city first_name  last_name    reg_date  \\\n",
      "0     1000   52        NaN    Краснодар     Рафаил  Верещагин  2018-05-25   \n",
      "1     1001   41        NaN       Москва       Иван       Ежов  2018-11-01   \n",
      "2     1002   59        NaN  Стерлитамак    Евгений  Абрамович  2018-06-17   \n",
      "3     1003   23        NaN       Москва      Белла   Белякова  2018-08-17   \n",
      "4     1004   68        NaN  Новокузнецк    Татьяна   Авдеенко  2018-05-14   \n",
      "\n",
      "  tariff  \n",
      "0  ultra  \n",
      "1  smart  \n",
      "2  smart  \n",
      "3  ultra  \n",
      "4  ultra  \n"
     ]
    }
   ],
   "source": [
    "users.info()\n",
    "print(users.head(5))"
   ]
  },
  {
   "cell_type": "markdown",
   "metadata": {},
   "source": [
    "В таблице 'users' хранится основная информация по пользователям, разбитые по строкам. Есть столбец ID для связки с другими таблицами, выбранный тариф и начало регистрации, конец регистрации (всего лишь 38 значений/окончившихся тарифов) и описывающие клиента атрибуты: возраст, город, Имя, Фамилия. Пустых значений нет кроме окончания даты, проверим только на дубликаты ID и тарифы + регионы на унификацию, а также изменим тип данных у дат (churn_date, reg_date)"
   ]
  },
  {
   "cell_type": "code",
   "execution_count": 3,
   "metadata": {},
   "outputs": [
    {
     "name": "stdout",
     "output_type": "stream",
     "text": [
      "<class 'pandas.core.frame.DataFrame'>\n",
      "RangeIndex: 500 entries, 0 to 499\n",
      "Data columns (total 8 columns):\n",
      "user_id       500 non-null int64\n",
      "age           500 non-null int64\n",
      "churn_date    38 non-null datetime64[ns]\n",
      "city          500 non-null object\n",
      "first_name    500 non-null object\n",
      "last_name     500 non-null object\n",
      "reg_date      500 non-null datetime64[ns]\n",
      "tariff        500 non-null object\n",
      "dtypes: datetime64[ns](2), int64(2), object(4)\n",
      "memory usage: 31.4+ KB\n"
     ]
    }
   ],
   "source": [
    "users['reg_date'] = pd.to_datetime(users['reg_date'], format= '%Y-%m-%d')\n",
    "users['churn_date'] = pd.to_datetime(users['churn_date'], format= '%Y-%m-%d')\n",
    "\n",
    "users.info()"
   ]
  },
  {
   "cell_type": "markdown",
   "metadata": {},
   "source": [
    "Тип данных для даты был изменен, остальные подходят"
   ]
  },
  {
   "cell_type": "code",
   "execution_count": 4,
   "metadata": {},
   "outputs": [
    {
     "name": "stdout",
     "output_type": "stream",
     "text": [
      "0\n",
      "\n",
      "smart    351\n",
      "ultra    149\n",
      "Name: tariff, dtype: int64\n",
      "\n",
      "Москва             99\n",
      "Санкт-Петербург    39\n",
      "Новосибирск        16\n",
      "Казань             14\n",
      "Омск               14\n",
      "                   ..\n",
      "Химки               1\n",
      "Нижневартовск       1\n",
      "Подольск            1\n",
      "Архангельск         1\n",
      "Иваново             1\n",
      "Name: city, Length: 76, dtype: int64\n"
     ]
    }
   ],
   "source": [
    "print(users.duplicated('user_id').sum())\n",
    "print()\n",
    "print(users['tariff'].value_counts())\n",
    "print()\n",
    "print(users['city'].value_counts())"
   ]
  },
  {
   "cell_type": "markdown",
   "metadata": {},
   "source": [
    "Дубликатов в ID нет.\n",
    "\n",
    "В тарифах всё унифицировано, смарт больше, чем ультра, других значений нет.\n",
    "\n",
    "В городах есть лидирующая Москва с 99 строк и другие объекты, странных значений не заметно."
   ]
  },
  {
   "cell_type": "markdown",
   "metadata": {},
   "source": [
    "<div class=\"alert alert-success\">\n",
    "<b>Комментарии ревьюера:</b> Здорово, что делаешь такие проверки.</div>"
   ]
  },
  {
   "cell_type": "code",
   "execution_count": 5,
   "metadata": {},
   "outputs": [
    {
     "name": "stdout",
     "output_type": "stream",
     "text": [
      "<class 'pandas.core.frame.DataFrame'>\n",
      "RangeIndex: 202607 entries, 0 to 202606\n",
      "Data columns (total 4 columns):\n",
      "id           202607 non-null object\n",
      "call_date    202607 non-null object\n",
      "duration     202607 non-null float64\n",
      "user_id      202607 non-null int64\n",
      "dtypes: float64(1), int64(1), object(2)\n",
      "memory usage: 6.2+ MB\n",
      "       id   call_date  duration  user_id\n",
      "0  1000_0  2018-07-25      0.00     1000\n",
      "1  1000_1  2018-08-17      0.00     1000\n",
      "2  1000_2  2018-06-11      2.85     1000\n",
      "3  1000_3  2018-09-21     13.80     1000\n",
      "4  1000_4  2018-12-15      5.18     1000\n"
     ]
    }
   ],
   "source": [
    "calls.info()\n",
    "print(calls.head())"
   ]
  },
  {
   "cell_type": "markdown",
   "metadata": {},
   "source": [
    "В таблице 'Calls' хранится информация о звонках и таблица ОЧЕНь большая и лучше использовать из неё срезы :). В столбцах есть id (сам id уникального звонка), call_date (дата звонка), duration (продолжительность звонка нечётным числом) и users_id (ключ к таблице пользователей). Пустых объектов строк нет, но нужно изменить тип данных для даты, решить ситуацию с нулевыми звонками, а также округлить продолжительность звонков в большую сторону."
   ]
  },
  {
   "cell_type": "code",
   "execution_count": 6,
   "metadata": {},
   "outputs": [
    {
     "name": "stdout",
     "output_type": "stream",
     "text": [
      "<class 'pandas.core.frame.DataFrame'>\n",
      "RangeIndex: 202607 entries, 0 to 202606\n",
      "Data columns (total 4 columns):\n",
      "id           202607 non-null object\n",
      "call_date    202607 non-null datetime64[ns]\n",
      "duration     202607 non-null float64\n",
      "user_id      202607 non-null int64\n",
      "dtypes: datetime64[ns](1), float64(1), int64(1), object(1)\n",
      "memory usage: 6.2+ MB\n"
     ]
    }
   ],
   "source": [
    "calls['call_date'] = pd.to_datetime(calls['call_date'], format='%Y-%m-%d')\n",
    "calls.info()"
   ]
  },
  {
   "cell_type": "markdown",
   "metadata": {},
   "source": [
    "Заменили тип данных для даты звонка. Оценим масштаб проблемы с нулевым звонками"
   ]
  },
  {
   "cell_type": "code",
   "execution_count": 7,
   "metadata": {},
   "outputs": [
    {
     "name": "stdout",
     "output_type": "stream",
     "text": [
      "0.19551644316336553\n"
     ]
    }
   ],
   "source": [
    "print(len(calls[calls['duration'] == 0])/len(calls))"
   ]
  },
  {
   "cell_type": "markdown",
   "metadata": {},
   "source": [
    "Почтb 20% - это нулевые звонки. Исходя из логики - это, вероятно, исходящие звонки, на которые не было ответа. Учитывая, что нас интересует финансовая часть звонков (а не например техническая для нагрузки на базу), то уберём их как неинтересные нам и как те, кто может сбить среднее и другую статистику. **Убираем нулевые звонки ввиду их неинтересности для финансового изучения, а также их влияния на среднее, количество и тд**"
   ]
  },
  {
   "cell_type": "markdown",
   "metadata": {},
   "source": [
    "<div class=\"alert alert-success\">\n",
    "<b>Комментарии ревьюера:</b> Молодец, что обнаружил проблему с большим количеством нулей. Можно еще построить гистограмму и описать распределение длительности звонков. Так будет  нагляднее. От нулей мы можем избавиться, скорее всего это недозвоны, поэтому при суммировании длительности они не будут учтены, можно удалять. \n",
    "</div>"
   ]
  },
  {
   "cell_type": "code",
   "execution_count": 8,
   "metadata": {},
   "outputs": [
    {
     "name": "stdout",
     "output_type": "stream",
     "text": [
      "202607\n",
      "162994\n"
     ]
    }
   ],
   "source": [
    "print(len(calls))\n",
    "calls = calls[calls['duration'] != 0]\n",
    "print(len(calls))"
   ]
  },
  {
   "cell_type": "markdown",
   "metadata": {},
   "source": [
    "Нулевые звонки убраны из базы звонков, обратим внимание на округление вверх"
   ]
  },
  {
   "cell_type": "code",
   "execution_count": 9,
   "metadata": {},
   "outputs": [
    {
     "name": "stdout",
     "output_type": "stream",
     "text": [
      "       id  call_date  duration  user_id\n",
      "2  1000_2 2018-06-11         3     1000\n",
      "3  1000_3 2018-09-21        14     1000\n",
      "4  1000_4 2018-12-15         6     1000\n",
      "7  1000_7 2018-08-22        19     1000\n",
      "8  1000_8 2018-09-15        19     1000\n",
      "<class 'pandas.core.frame.DataFrame'>\n",
      "Int64Index: 162994 entries, 2 to 202606\n",
      "Data columns (total 4 columns):\n",
      "id           162994 non-null object\n",
      "call_date    162994 non-null datetime64[ns]\n",
      "duration     162994 non-null int64\n",
      "user_id      162994 non-null int64\n",
      "dtypes: datetime64[ns](1), int64(2), object(1)\n",
      "memory usage: 6.2+ MB\n"
     ]
    }
   ],
   "source": [
    "calls['duration'] = np.ceil(calls['duration']).astype(int)\n",
    "print(calls.head())\n",
    "calls.info()"
   ]
  },
  {
   "cell_type": "markdown",
   "metadata": {},
   "source": [
    "<div class=\"alert alert-success\">\n",
    "<b>Комментарии ревьюера:</b> Округление выполнено верно. Молодец, что не забыл привести к целочисленному типу.</div>"
   ]
  },
  {
   "cell_type": "markdown",
   "metadata": {},
   "source": [
    "Округлили вверх с помощью функции из numpy и превращаем в целочисленный тип (нули после запятой становятся не нужны)"
   ]
  },
  {
   "cell_type": "code",
   "execution_count": 10,
   "metadata": {},
   "outputs": [
    {
     "name": "stdout",
     "output_type": "stream",
     "text": [
      "<class 'pandas.core.frame.DataFrame'>\n",
      "RangeIndex: 149396 entries, 0 to 149395\n",
      "Data columns (total 5 columns):\n",
      "Unnamed: 0      149396 non-null int64\n",
      "id              149396 non-null object\n",
      "mb_used         149396 non-null float64\n",
      "session_date    149396 non-null object\n",
      "user_id         149396 non-null int64\n",
      "dtypes: float64(1), int64(2), object(2)\n",
      "memory usage: 5.7+ MB\n",
      "   Unnamed: 0      id  mb_used session_date  user_id\n",
      "0           0  1000_0   112.95   2018-11-25     1000\n",
      "1           1  1000_1  1052.81   2018-09-07     1000\n",
      "2           2  1000_2  1197.26   2018-06-25     1000\n",
      "3           3  1000_3   550.27   2018-08-22     1000\n",
      "4           4  1000_4   302.56   2018-09-24     1000\n"
     ]
    }
   ],
   "source": [
    "internet.info()\n",
    "print(internet.head())"
   ]
  },
  {
   "cell_type": "markdown",
   "metadata": {},
   "source": [
    "В таблице 'internet' хранится информация об интернет сессиях пользователей и таблица тоже весьма большая и нужно использовать срезы :). в таблице есть id (id сессии), mb_used (количество использованного трафика в сессии), session_date (дата сессии),  user_id (ключ к основной таблице пользователей). Пустых значений нет, есть странный столбец Unnamed (нужно понять есть ли в нём смысл), нужно изменить тип данных у даты, а также округлить мегабайты."
   ]
  },
  {
   "cell_type": "code",
   "execution_count": 11,
   "metadata": {},
   "outputs": [
    {
     "name": "stdout",
     "output_type": "stream",
     "text": [
      "<class 'pandas.core.frame.DataFrame'>\n",
      "RangeIndex: 149396 entries, 0 to 149395\n",
      "Data columns (total 5 columns):\n",
      "unnamed         149396 non-null int64\n",
      "id              149396 non-null object\n",
      "mb_used         149396 non-null float64\n",
      "session_date    149396 non-null object\n",
      "user_id         149396 non-null int64\n",
      "dtypes: float64(1), int64(2), object(2)\n",
      "memory usage: 5.7+ MB\n",
      "0    0\n",
      "1    1\n",
      "2    2\n",
      "3    3\n",
      "4    4\n",
      "5    5\n",
      "6    6\n",
      "7    7\n",
      "8    8\n",
      "9    9\n",
      "Name: unnamed, dtype: int64\n"
     ]
    }
   ],
   "source": [
    "internet.set_axis(['unnamed', 'id', 'mb_used', 'session_date', 'user_id'], axis = 'columns', inplace=True)\n",
    "internet.info()\n",
    "print(internet['unnamed'].head(10))"
   ]
  },
  {
   "cell_type": "markdown",
   "metadata": {},
   "source": [
    "Столбец дублирует индекс и судя по всему (и по гуглению) возник из несоответсвтия прочтения файла. е будем перечитывать файл, удалим столбец."
   ]
  },
  {
   "cell_type": "markdown",
   "metadata": {},
   "source": [
    "<div class=\"alert alert-success\">\n",
    "<b>Комментарии ревьюера:</b> Да, все верно. Метод read_csv() сам создает колонку с индексами. В данном случае, колонка с индексами у нас уже имеется, и мы сразу можем сделать её индексом датафрейма, указав index_col = 0. Тогда удалять не нужно будет. </div>"
   ]
  },
  {
   "cell_type": "code",
   "execution_count": 12,
   "metadata": {},
   "outputs": [
    {
     "name": "stdout",
     "output_type": "stream",
     "text": [
      "<class 'pandas.core.frame.DataFrame'>\n",
      "RangeIndex: 149396 entries, 0 to 149395\n",
      "Data columns (total 4 columns):\n",
      "id              149396 non-null object\n",
      "mb_used         149396 non-null float64\n",
      "session_date    149396 non-null object\n",
      "user_id         149396 non-null int64\n",
      "dtypes: float64(1), int64(1), object(2)\n",
      "memory usage: 4.6+ MB\n"
     ]
    }
   ],
   "source": [
    "internet.drop('unnamed', axis=1, inplace=True)\n",
    "internet.info()"
   ]
  },
  {
   "cell_type": "markdown",
   "metadata": {},
   "source": [
    "Столбец удален, поменяем дату"
   ]
  },
  {
   "cell_type": "code",
   "execution_count": 13,
   "metadata": {},
   "outputs": [
    {
     "name": "stdout",
     "output_type": "stream",
     "text": [
      "<class 'pandas.core.frame.DataFrame'>\n",
      "RangeIndex: 149396 entries, 0 to 149395\n",
      "Data columns (total 4 columns):\n",
      "id              149396 non-null object\n",
      "mb_used         149396 non-null float64\n",
      "session_date    149396 non-null datetime64[ns]\n",
      "user_id         149396 non-null int64\n",
      "dtypes: datetime64[ns](1), float64(1), int64(1), object(1)\n",
      "memory usage: 4.6+ MB\n"
     ]
    }
   ],
   "source": [
    "internet['session_date'] = pd.to_datetime(internet['session_date'], format='%Y-%m-%d')\n",
    "internet.info()"
   ]
  },
  {
   "cell_type": "markdown",
   "metadata": {},
   "source": [
    "Дата изменена, округлим и поменяем тип у мегабайтов и заодно проверим на нули (возможна ситуация с \"неудавшимися\" сеансами)"
   ]
  },
  {
   "cell_type": "code",
   "execution_count": 14,
   "metadata": {},
   "outputs": [
    {
     "name": "stdout",
     "output_type": "stream",
     "text": [
      "<class 'pandas.core.frame.DataFrame'>\n",
      "RangeIndex: 149396 entries, 0 to 149395\n",
      "Data columns (total 4 columns):\n",
      "id              149396 non-null object\n",
      "mb_used         149396 non-null int64\n",
      "session_date    149396 non-null datetime64[ns]\n",
      "user_id         149396 non-null int64\n",
      "dtypes: datetime64[ns](1), int64(2), object(1)\n",
      "memory usage: 4.6+ MB\n",
      "       id  mb_used session_date  user_id\n",
      "0  1000_0      113   2018-11-25     1000\n",
      "1  1000_1     1053   2018-09-07     1000\n",
      "2  1000_2     1198   2018-06-25     1000\n",
      "3  1000_3      551   2018-08-22     1000\n",
      "4  1000_4      303   2018-09-24     1000\n",
      "\n",
      "0.13118155773916304\n"
     ]
    }
   ],
   "source": [
    "internet['mb_used'] = np.ceil(internet['mb_used']).astype(int)\n",
    "internet.info()\n",
    "print(internet.head())\n",
    "print()\n",
    "print(len(internet[internet['mb_used'] == 0])/len(internet))"
   ]
  },
  {
   "cell_type": "markdown",
   "metadata": {},
   "source": [
    "<div class=\"alert alert-success\">\n",
    "<b>Комментарии ревьюера:</b> Округление верное.</div>"
   ]
  },
  {
   "cell_type": "markdown",
   "metadata": {},
   "source": [
    "Округление и изменение типа данных провели успешно, но у 13% найдено нулевые значения. **Удалим сессии с нулевыми мегабайтами также по причине изучения финансовой части и скошенности данных** "
   ]
  },
  {
   "cell_type": "code",
   "execution_count": 15,
   "metadata": {},
   "outputs": [
    {
     "name": "stdout",
     "output_type": "stream",
     "text": [
      "149396\n",
      "129798\n"
     ]
    }
   ],
   "source": [
    "print(len(internet))\n",
    "internet = internet[internet['mb_used'] != 0]\n",
    "print(len(internet))"
   ]
  },
  {
   "cell_type": "markdown",
   "metadata": {},
   "source": [
    "<div class=\"alert alert-success\">\n",
    "<b>Комментарии ревьюера:</b> Здесь также лучше построить гистограмму.</div>"
   ]
  },
  {
   "cell_type": "markdown",
   "metadata": {},
   "source": [
    "Нулевые значения убрали и переходим к следующей таблице"
   ]
  },
  {
   "cell_type": "code",
   "execution_count": 16,
   "metadata": {},
   "outputs": [
    {
     "name": "stdout",
     "output_type": "stream",
     "text": [
      "<class 'pandas.core.frame.DataFrame'>\n",
      "RangeIndex: 123036 entries, 0 to 123035\n",
      "Data columns (total 3 columns):\n",
      "id              123036 non-null object\n",
      "message_date    123036 non-null object\n",
      "user_id         123036 non-null int64\n",
      "dtypes: int64(1), object(2)\n",
      "memory usage: 2.8+ MB\n",
      "       id message_date  user_id\n",
      "0  1000_0   2018-06-27     1000\n",
      "1  1000_1   2018-10-08     1000\n",
      "2  1000_2   2018-08-04     1000\n",
      "3  1000_3   2018-06-16     1000\n",
      "4  1000_4   2018-12-05     1000\n"
     ]
    }
   ],
   "source": [
    "messages.info()\n",
    "print(messages.head())"
   ]
  },
  {
   "cell_type": "markdown",
   "metadata": {},
   "source": [
    "Таблица 'messages' состоит из информации по отправленным сообщениям по пользователем и также большая и лучше снимать информацию срезами. Таблица состоит из id (уникальный id сообщения), message_date (даты сообщения), user_id (ключ к общей таблицы по пользователям). Пустых значений нет, а также нет и \"числительных\" значений (строчка = 1 сообение), поэтому нужно только поменять тип данных у даты."
   ]
  },
  {
   "cell_type": "code",
   "execution_count": 17,
   "metadata": {},
   "outputs": [
    {
     "name": "stdout",
     "output_type": "stream",
     "text": [
      "<class 'pandas.core.frame.DataFrame'>\n",
      "RangeIndex: 123036 entries, 0 to 123035\n",
      "Data columns (total 3 columns):\n",
      "id              123036 non-null object\n",
      "message_date    123036 non-null datetime64[ns]\n",
      "user_id         123036 non-null int64\n",
      "dtypes: datetime64[ns](1), int64(1), object(1)\n",
      "memory usage: 2.8+ MB\n"
     ]
    }
   ],
   "source": [
    "messages['message_date'] = pd.to_datetime(messages['message_date'], format='%Y-%m-%d')\n",
    "messages.info()"
   ]
  },
  {
   "cell_type": "markdown",
   "metadata": {},
   "source": [
    "Тип данных изменен, переходим к последней таблице тарифы"
   ]
  },
  {
   "cell_type": "code",
   "execution_count": 18,
   "metadata": {},
   "outputs": [
    {
     "name": "stdout",
     "output_type": "stream",
     "text": [
      "<class 'pandas.core.frame.DataFrame'>\n",
      "RangeIndex: 2 entries, 0 to 1\n",
      "Data columns (total 8 columns):\n",
      "messages_included        2 non-null int64\n",
      "mb_per_month_included    2 non-null int64\n",
      "minutes_included         2 non-null int64\n",
      "rub_monthly_fee          2 non-null int64\n",
      "rub_per_gb               2 non-null int64\n",
      "rub_per_message          2 non-null int64\n",
      "rub_per_minute           2 non-null int64\n",
      "tariff_name              2 non-null object\n",
      "dtypes: int64(7), object(1)\n",
      "memory usage: 256.0+ bytes\n",
      "   messages_included  mb_per_month_included  minutes_included  \\\n",
      "0                 50                  15360               500   \n",
      "1               1000                  30720              3000   \n",
      "\n",
      "   rub_monthly_fee  rub_per_gb  rub_per_message  rub_per_minute tariff_name  \n",
      "0              550         200                3               3       smart  \n",
      "1             1950         150                1               1       ultra  \n"
     ]
    }
   ],
   "source": [
    "tariffs.info()\n",
    "print(tariffs.head())"
   ]
  },
  {
   "cell_type": "markdown",
   "metadata": {},
   "source": [
    "В таблице 'tariffs' всего 2 строчки: указана информация, что за тариф (tariff_name), а также все лимиты, стоимость абонентская и цены свыше лимитов. Предобработка не нужна, все в нужных форматах"
   ]
  },
  {
   "cell_type": "markdown",
   "metadata": {},
   "source": [
    "<div class=\"alert alert-success\">\n",
    "<b>Комментарии ревьюера:</b> Предоработка завершена. Молодец :)</div>"
   ]
  },
  {
   "cell_type": "markdown",
   "metadata": {},
   "source": [
    "### Расчёт и добавление необходимых столбцов"
   ]
  },
  {
   "cell_type": "markdown",
   "metadata": {},
   "source": [
    "Учитывая объёмы таблиц будем делать группировки в таблицах сообщений, звонков и интернета, а затем добавлять информацию в основную таблицу, сочетая по user_id.\n",
    "\n",
    "После этого посчитаем финансовые показатели\n",
    "\n",
    "Начнём с звонков"
   ]
  },
  {
   "cell_type": "code",
   "execution_count": 19,
   "metadata": {},
   "outputs": [
    {
     "name": "stdout",
     "output_type": "stream",
     "text": [
      "       id  call_date  duration  user_id\n",
      "2  1000_2 2018-06-11         3     1000\n",
      "3  1000_3 2018-09-21        14     1000\n",
      "4  1000_4 2018-12-15         6     1000\n",
      "7  1000_7 2018-08-22        19     1000\n",
      "8  1000_8 2018-09-15        19     1000\n",
      "   user_id  month  min_count  min_sum\n",
      "0     1000      5         17      159\n",
      "1     1000      6         28      172\n",
      "2     1000      7         41      340\n",
      "3     1000      8         42      408\n",
      "4     1000      9         46      466\n"
     ]
    }
   ],
   "source": [
    "print(calls.head(5))\n",
    "calls['month'] = calls['call_date'].dt.month\n",
    "calls_group = calls.pivot_table (\n",
    "    index = ['user_id', 'month'], \n",
    "    values = 'duration', \n",
    "    aggfunc = ('count', 'sum')\n",
    ").reset_index()\n",
    "calls_group.set_axis(['user_id', 'month', 'min_count', 'min_sum'], axis = 'columns', inplace=True)\n",
    "print(calls_group.head(5))\n"
   ]
  },
  {
   "cell_type": "markdown",
   "metadata": {},
   "source": [
    "Теперь у нас есть таблица 'calls_group' с информацией по пользователям и месяцам с количеством звонков и суммой."
   ]
  },
  {
   "cell_type": "code",
   "execution_count": 20,
   "metadata": {},
   "outputs": [
    {
     "name": "stdout",
     "output_type": "stream",
     "text": [
      "       id message_date  user_id\n",
      "0  1000_0   2018-06-27     1000\n",
      "1  1000_1   2018-10-08     1000\n",
      "2  1000_2   2018-08-04     1000\n",
      "3  1000_3   2018-06-16     1000\n",
      "4  1000_4   2018-12-05     1000\n",
      "   user_id  month  mes_count\n",
      "0     1000      5         22\n",
      "1     1000      6         60\n",
      "2     1000      7         75\n",
      "3     1000      8         81\n",
      "4     1000      9         57\n"
     ]
    }
   ],
   "source": [
    "print(messages.head(5))\n",
    "messages['month'] = messages['message_date'].dt.month\n",
    "messages_group = messages.pivot_table (\n",
    "    index = ['user_id', 'month'], \n",
    "    values = 'id', \n",
    "    aggfunc = ('count')\n",
    ").reset_index()\n",
    "messages_group.set_axis(['user_id', 'month', 'mes_count'], axis = 'columns', inplace=True)\n",
    "print(messages_group.head(5))"
   ]
  },
  {
   "cell_type": "markdown",
   "metadata": {},
   "source": [
    "Теперь у нас есть таблица 'messages_group' с информацией по пользователям и месяцам с количеством сообщений. Сделаем общую таблицу со звонками."
   ]
  },
  {
   "cell_type": "code",
   "execution_count": 21,
   "metadata": {},
   "outputs": [
    {
     "name": "stdout",
     "output_type": "stream",
     "text": [
      "calls_group 3168\n",
      "messages_group 2717\n",
      "calls_messages_group 3212\n",
      "<class 'pandas.core.frame.DataFrame'>\n",
      "Int64Index: 3212 entries, 0 to 3211\n",
      "Data columns (total 5 columns):\n",
      "user_id      3212 non-null int64\n",
      "month        3212 non-null int64\n",
      "min_count    3212 non-null int64\n",
      "min_sum      3212 non-null int64\n",
      "mes_count    3212 non-null int64\n",
      "dtypes: int64(5)\n",
      "memory usage: 150.6 KB\n",
      "   user_id  month  min_count  min_sum  mes_count\n",
      "0     1000      5         17      159         22\n",
      "1     1000      6         28      172         60\n",
      "2     1000      7         41      340         75\n",
      "3     1000      8         42      408         81\n",
      "4     1000      9         46      466         57\n"
     ]
    }
   ],
   "source": [
    "print('calls_group', len(calls_group))\n",
    "print('messages_group', len(messages_group))\n",
    "\n",
    "calls_messages_group = pd.merge(calls_group, messages_group, on = ['user_id', 'month'], how = 'outer').fillna(0)\n",
    "\n",
    "print('calls_messages_group', len(calls_messages_group))\n",
    "\n",
    "calls_messages_group['min_count'] = calls_messages_group['min_count'].astype(int)\n",
    "calls_messages_group['min_sum'] = calls_messages_group['min_sum'].astype(int)\n",
    "calls_messages_group['mes_count'] = calls_messages_group['mes_count'].astype(int)\n",
    "\n",
    "calls_messages_group.info()\n",
    "print(calls_messages_group.head())"
   ]
  },
  {
   "cell_type": "markdown",
   "metadata": {},
   "source": [
    "<div class=\"alert alert-success\">\n",
    "<b>Комментарии ревьюера:</b> Объединение таблиц верное. Некоторые клиенты могут пользоваться только одной из видов услуг, нам  важно не потерять никакие строки, поэтому используем параметр how = 'outer'. </div>"
   ]
  },
  {
   "cell_type": "markdown",
   "metadata": {},
   "source": [
    "Объединили таблицы со всеми значениями, заполнили пустые значения нулями (не было событий в этот месяц по данному параметру), поменяли типы данных на целые, получим сгруппированную таблицу интернет"
   ]
  },
  {
   "cell_type": "code",
   "execution_count": 22,
   "metadata": {
    "scrolled": true
   },
   "outputs": [
    {
     "name": "stdout",
     "output_type": "stream",
     "text": [
      "       id  mb_used session_date  user_id\n",
      "0  1000_0      113   2018-11-25     1000\n",
      "1  1000_1     1053   2018-09-07     1000\n",
      "2  1000_2     1198   2018-06-25     1000\n",
      "3  1000_3      551   2018-08-22     1000\n",
      "4  1000_4      303   2018-09-24     1000\n",
      "   user_id  month  mb_sum\n",
      "0     1000      5    2256\n",
      "1     1000      6   23257\n",
      "2     1000      7   14016\n",
      "3     1000      8   14070\n",
      "4     1000      9   14581\n"
     ]
    }
   ],
   "source": [
    "print(internet.head(5))\n",
    "internet['month'] = internet['session_date'].dt.month\n",
    "internet_group = internet.pivot_table (\n",
    "    index = ['user_id', 'month'], \n",
    "    values = 'mb_used', \n",
    "    aggfunc = ('sum')\n",
    ").reset_index()\n",
    "internet_group.set_axis(['user_id', 'month', 'mb_sum'], axis = 'columns', inplace=True)\n",
    "print(internet_group.head(5))"
   ]
  },
  {
   "cell_type": "markdown",
   "metadata": {},
   "source": [
    "Теперь у нас есть таблица 'internet_group' с объёмом израсходанного трафика, объединим со звонками и сообщениями"
   ]
  },
  {
   "cell_type": "code",
   "execution_count": 23,
   "metadata": {},
   "outputs": [
    {
     "name": "stdout",
     "output_type": "stream",
     "text": [
      "<class 'pandas.core.frame.DataFrame'>\n",
      "Int64Index: 3214 entries, 0 to 3213\n",
      "Data columns (total 6 columns):\n",
      "user_id      3214 non-null int64\n",
      "month        3214 non-null int64\n",
      "min_count    3214 non-null int64\n",
      "min_sum      3214 non-null int64\n",
      "mes_count    3214 non-null int64\n",
      "mb_sum       3214 non-null int64\n",
      "dtypes: int64(6)\n",
      "memory usage: 175.8 KB\n",
      "   user_id  month  min_count  min_sum  mes_count  mb_sum\n",
      "0     1000      5         17      159         22    2256\n",
      "1     1000      6         28      172         60   23257\n",
      "2     1000      7         41      340         75   14016\n",
      "3     1000      8         42      408         81   14070\n",
      "4     1000      9         46      466         57   14581\n"
     ]
    }
   ],
   "source": [
    "calls_messages_internet_group = pd.merge(calls_messages_group, internet_group, on = ['user_id', 'month'], how = 'outer').fillna(0)\n",
    "\n",
    "calls_messages_internet_group['min_count'] = calls_messages_internet_group['min_count'].astype(int)\n",
    "calls_messages_internet_group['min_sum'] = calls_messages_internet_group['min_sum'].astype(int)\n",
    "calls_messages_internet_group['mes_count'] = calls_messages_internet_group['mes_count'].astype(int)\n",
    "calls_messages_internet_group['mb_sum'] = calls_messages_internet_group['mb_sum'].astype(int)\n",
    "\n",
    "calls_messages_internet_group.info()\n",
    "print(calls_messages_internet_group.head())"
   ]
  },
  {
   "cell_type": "markdown",
   "metadata": {},
   "source": [
    "Теперь получена общая таблица 'calls_messages_internet_group' с данными по интернету, звонкам и сообщениям. Добавим информацию по пользователям, которую предварительно объединим с тарифами"
   ]
  },
  {
   "cell_type": "code",
   "execution_count": 24,
   "metadata": {},
   "outputs": [
    {
     "name": "stdout",
     "output_type": "stream",
     "text": [
      "['messages_included' 'mb_per_month_included' 'minutes_included'\n",
      " 'rub_monthly_fee' 'rub_per_gb' 'rub_per_message' 'rub_per_minute'\n",
      " 'tariff_name']\n",
      "\n",
      "['user_id' 'age' 'churn_date' 'city' 'first_name' 'last_name' 'reg_date'\n",
      " 'tariff']\n",
      "<class 'pandas.core.frame.DataFrame'>\n",
      "Int64Index: 3216 entries, 0 to 3215\n",
      "Data columns (total 20 columns):\n",
      "user_id                  3216 non-null int64\n",
      "month                    3214 non-null float64\n",
      "min_count                3214 non-null float64\n",
      "min_sum                  3214 non-null float64\n",
      "mes_count                3214 non-null float64\n",
      "mb_sum                   3214 non-null float64\n",
      "age                      3216 non-null int64\n",
      "churn_date               189 non-null datetime64[ns]\n",
      "city                     3216 non-null object\n",
      "first_name               3216 non-null object\n",
      "last_name                3216 non-null object\n",
      "reg_date                 3216 non-null datetime64[ns]\n",
      "tariff_name              3216 non-null object\n",
      "messages_included        3216 non-null int64\n",
      "mb_per_month_included    3216 non-null int64\n",
      "minutes_included         3216 non-null int64\n",
      "rub_monthly_fee          3216 non-null int64\n",
      "rub_per_gb               3216 non-null int64\n",
      "rub_per_message          3216 non-null int64\n",
      "rub_per_minute           3216 non-null int64\n",
      "dtypes: datetime64[ns](2), float64(5), int64(9), object(4)\n",
      "memory usage: 527.6+ KB\n",
      "   user_id  month  min_count  min_sum  mes_count   mb_sum  age churn_date  \\\n",
      "0     1000    5.0       17.0    159.0       22.0   2256.0   52        NaT   \n",
      "1     1000    6.0       28.0    172.0       60.0  23257.0   52        NaT   \n",
      "2     1000    7.0       41.0    340.0       75.0  14016.0   52        NaT   \n",
      "3     1000    8.0       42.0    408.0       81.0  14070.0   52        NaT   \n",
      "4     1000    9.0       46.0    466.0       57.0  14581.0   52        NaT   \n",
      "\n",
      "        city first_name  last_name   reg_date tariff_name  messages_included  \\\n",
      "0  Краснодар     Рафаил  Верещагин 2018-05-25       ultra               1000   \n",
      "1  Краснодар     Рафаил  Верещагин 2018-05-25       ultra               1000   \n",
      "2  Краснодар     Рафаил  Верещагин 2018-05-25       ultra               1000   \n",
      "3  Краснодар     Рафаил  Верещагин 2018-05-25       ultra               1000   \n",
      "4  Краснодар     Рафаил  Верещагин 2018-05-25       ultra               1000   \n",
      "\n",
      "   mb_per_month_included  minutes_included  rub_monthly_fee  rub_per_gb  \\\n",
      "0                  30720              3000             1950         150   \n",
      "1                  30720              3000             1950         150   \n",
      "2                  30720              3000             1950         150   \n",
      "3                  30720              3000             1950         150   \n",
      "4                  30720              3000             1950         150   \n",
      "\n",
      "   rub_per_message  rub_per_minute  \n",
      "0                1               1  \n",
      "1                1               1  \n",
      "2                1               1  \n",
      "3                1               1  \n",
      "4                1               1  \n"
     ]
    }
   ],
   "source": [
    "print(tariffs.columns.values)\n",
    "print()\n",
    "print(users.columns.values)\n",
    "users.set_axis(['user_id', 'age', 'churn_date', 'city', 'first_name', 'last_name', 'reg_date', 'tariff_name'], axis=1, inplace=True)\n",
    "\n",
    "users_tarrifs = pd.merge(users, tariffs, on = 'tariff_name') #how не нужен\n",
    "\n",
    "#назовём общую таблицу data для простоты\n",
    "\n",
    "data = pd.merge(calls_messages_internet_group, users_tarrifs, how = 'outer')\n",
    "\n",
    "data.info()\n",
    "print(data.head())"
   ]
  },
  {
   "cell_type": "markdown",
   "metadata": {},
   "source": [
    "ПОлучили общую таблицу data. При объединении значения по интернету, звонкам и сообщениям изменилось на тип float, значит есть пустые значения, остальные данные подгрузились корректно. Это значит, что **есть пользователи, по которым нет данных по звонкам, сообщениям и интернету (не пользовались услугами, но всё равно нужно посчитать им абонентскую плату)** Учтём это при дальнейших расчётах, пока заполним нулями значения и поменяем тип на целочисленный (у пользователей без всего заполним нулями месяца)"
   ]
  },
  {
   "cell_type": "markdown",
   "metadata": {},
   "source": [
    "<div class=\"alert alert-success\">\n",
    "<b>Комментарии ревьюера:</b> Все верно. У нас есть два клиента, которые отключились меньше чем за месяц, их можно найти с помощью столбца churn_date и удалить. Здорово, что не забыл заполнить пропуски нулями.</div>"
   ]
  },
  {
   "cell_type": "code",
   "execution_count": 25,
   "metadata": {},
   "outputs": [
    {
     "name": "stdout",
     "output_type": "stream",
     "text": [
      "<class 'pandas.core.frame.DataFrame'>\n",
      "Int64Index: 3216 entries, 0 to 3215\n",
      "Data columns (total 20 columns):\n",
      "user_id                  3216 non-null int64\n",
      "month                    3216 non-null int64\n",
      "min_count                3216 non-null int64\n",
      "min_sum                  3216 non-null int64\n",
      "mes_count                3216 non-null int64\n",
      "mb_sum                   3216 non-null int64\n",
      "age                      3216 non-null int64\n",
      "churn_date               3216 non-null object\n",
      "city                     3216 non-null object\n",
      "first_name               3216 non-null object\n",
      "last_name                3216 non-null object\n",
      "reg_date                 3216 non-null datetime64[ns]\n",
      "tariff_name              3216 non-null object\n",
      "messages_included        3216 non-null int64\n",
      "mb_per_month_included    3216 non-null int64\n",
      "minutes_included         3216 non-null int64\n",
      "rub_monthly_fee          3216 non-null int64\n",
      "rub_per_gb               3216 non-null int64\n",
      "rub_per_message          3216 non-null int64\n",
      "rub_per_minute           3216 non-null int64\n",
      "dtypes: datetime64[ns](1), int64(14), object(5)\n",
      "memory usage: 527.6+ KB\n"
     ]
    }
   ],
   "source": [
    "data = data.fillna(0)\n",
    "\n",
    "data['min_count'] = data['min_count'].astype(int)\n",
    "data['min_sum'] = data['min_sum'].astype(int)\n",
    "data['mes_count'] = data['mes_count'].astype(int)\n",
    "data['mb_sum'] = data['mb_sum'].astype(int)\n",
    "\n",
    "data['month'] = data['month'].astype(int)\n",
    "\n",
    "data.info()"
   ]
  },
  {
   "cell_type": "markdown",
   "metadata": {},
   "source": [
    "Сделаем функцию для расчёта денег"
   ]
  },
  {
   "cell_type": "code",
   "execution_count": 26,
   "metadata": {},
   "outputs": [],
   "source": [
    "def rub_tot(row):\n",
    "    \n",
    "    minutes = row['min_sum']\n",
    "    min_incl = row['minutes_included']\n",
    "    rub_per_minute = row['rub_per_minute']\n",
    "    \n",
    "    messages = row['mes_count']\n",
    "    mes_incl = row['messages_included']\n",
    "    rub_per_message = row['rub_per_message']\n",
    "    \n",
    "    trafic = row['mb_sum']\n",
    "    mb_incl = row['mb_per_month_included'] \n",
    "    rub_per_gb = row['rub_per_gb']\n",
    "    \n",
    "    rub_fee = row['rub_monthly_fee']\n",
    "            \n",
    "    min_over = minutes - min_incl\n",
    "    if min_over > 0:\n",
    "        rub_min = min_over * rub_per_minute\n",
    "    else:\n",
    "        rub_min = 0\n",
    "\n",
    "        \n",
    "    mes_over = messages - mes_incl\n",
    "    if mes_over > 0:\n",
    "        rub_mes = mes_over * rub_per_message\n",
    "    else:\n",
    "        rub_mes = 0\n",
    "\n",
    "    gb_over = np.ceil((trafic - mb_incl)/1024)\n",
    "    if gb_over > 0:\n",
    "        rub_gb = gb_over * rub_per_gb\n",
    "    else:\n",
    "        rub_gb = 0\n",
    "            \n",
    "            \n",
    "    rub_total = rub_min + rub_mes + rub_gb + rub_fee\n",
    "    \n",
    "    return rub_total"
   ]
  },
  {
   "cell_type": "code",
   "execution_count": 27,
   "metadata": {},
   "outputs": [],
   "source": [
    "data['rub_totally'] = data.apply(rub_tot, axis = 1)"
   ]
  },
  {
   "cell_type": "markdown",
   "metadata": {},
   "source": [
    "<div class=\"alert alert-success\">\n",
    "<b>Комментарии ревьюера:</b> Отличная функция, здорово, что вызываешь её через apply.  Тарификация у нас идет за гигабайт, поэтому переводим мегабайты в гигабайты и округляем вверх, компании часто используют именно такое округление. Хорошее решение! Можно вместо проверки, что  перерасходы по тарифу больше нуля использовать max (..., 0). </div>"
   ]
  },
  {
   "cell_type": "markdown",
   "metadata": {},
   "source": [
    "Данные по финансам получены, сделаем разбивку по разным тарифам для дальнейшего удобства"
   ]
  },
  {
   "cell_type": "code",
   "execution_count": 28,
   "metadata": {},
   "outputs": [],
   "source": [
    "data_smart = data[data['tariff_name'] == 'smart']\n",
    "data_ultra = data[data['tariff_name'] == 'ultra']"
   ]
  },
  {
   "cell_type": "markdown",
   "metadata": {},
   "source": [
    "Теперь у нас есть все необходимые финансовые данные, проведена вся предобработка и перейдём к анализу"
   ]
  },
  {
   "cell_type": "markdown",
   "metadata": {},
   "source": [
    "## Анализ данных"
   ]
  },
  {
   "cell_type": "markdown",
   "metadata": {},
   "source": [
    "Опишите поведение клиентов оператора, исходя из выборки. Сколько минут разговора, сколько сообщений и какой объём интернет-трафика требуется пользователям каждого тарифа в месяц? Посчитайте среднее количество, дисперсию и стандартное отклонение. Постройте гистограммы. Опишите распределения."
   ]
  },
  {
   "cell_type": "markdown",
   "metadata": {},
   "source": [
    "### Общее"
   ]
  },
  {
   "cell_type": "code",
   "execution_count": 29,
   "metadata": {},
   "outputs": [
    {
     "name": "stdout",
     "output_type": "stream",
     "text": [
      "<class 'pandas.core.frame.DataFrame'>\n",
      "Int64Index: 3216 entries, 0 to 3215\n",
      "Data columns (total 21 columns):\n",
      "user_id                  3216 non-null int64\n",
      "month                    3216 non-null int64\n",
      "min_count                3216 non-null int64\n",
      "min_sum                  3216 non-null int64\n",
      "mes_count                3216 non-null int64\n",
      "mb_sum                   3216 non-null int64\n",
      "age                      3216 non-null int64\n",
      "churn_date               3216 non-null object\n",
      "city                     3216 non-null object\n",
      "first_name               3216 non-null object\n",
      "last_name                3216 non-null object\n",
      "reg_date                 3216 non-null datetime64[ns]\n",
      "tariff_name              3216 non-null object\n",
      "messages_included        3216 non-null int64\n",
      "mb_per_month_included    3216 non-null int64\n",
      "minutes_included         3216 non-null int64\n",
      "rub_monthly_fee          3216 non-null int64\n",
      "rub_per_gb               3216 non-null int64\n",
      "rub_per_message          3216 non-null int64\n",
      "rub_per_minute           3216 non-null int64\n",
      "rub_totally              3216 non-null float64\n",
      "dtypes: datetime64[ns](1), float64(1), int64(14), object(5)\n",
      "memory usage: 552.8+ KB\n"
     ]
    }
   ],
   "source": [
    "data.info()"
   ]
  },
  {
   "cell_type": "code",
   "execution_count": 30,
   "metadata": {},
   "outputs": [
    {
     "name": "stdout",
     "output_type": "stream",
     "text": [
      "Пользователям тарифа Smart в месяц нужно:\n",
      "47 звонков\n",
      "418 минут в среднем\n",
      "33 сообщений в среднем\n",
      "15.84 гигабайт в среднем\n",
      "\n",
      "Пользователям тарифа Ultra в месяц нужно:\n",
      "59 звонков\n",
      "526 минут в среднем\n",
      "49 сообщений в среднем\n",
      "19.01 гигабайт в среднем\n"
     ]
    }
   ],
   "source": [
    "print('Пользователям тарифа Smart в месяц нужно:')\n",
    "print('{:.0f} звонков'.format(data_smart['min_count'].mean()))\n",
    "print('{:.0f} минут в среднем'.format(data_smart['min_sum'].mean()))\n",
    "print('{:.0f} сообщений в среднем'.format(data_smart['mes_count'].mean()))\n",
    "print('{:.2f} гигабайт в среднем'.format(data_smart['mb_sum'].mean()/ 1024))\n",
    "print()\n",
    "print('Пользователям тарифа Ultra в месяц нужно:')\n",
    "print('{:.0f} звонков'.format(data_ultra['min_count'].mean()))\n",
    "print('{:.0f} минут в среднем'.format(data_ultra['min_sum'].mean()))\n",
    "print('{:.0f} сообщений в среднем'.format(data_ultra['mes_count'].mean()))\n",
    "print('{:.2f} гигабайт в среднем'.format(data_ultra['mb_sum'].mean()/ 1024))\n"
   ]
  },
  {
   "cell_type": "markdown",
   "metadata": {},
   "source": [
    "В целом пользователи Ultra больше, чем пользователи Smart звонят, пишут сообщений и тратят интернет трафика. \n",
    "\n",
    "При этом пользователи Smart в среднем укладываются в границы своего тарифа по звонкам и сообщениям, но не интернета (Включено 500 минут разговора, 50 сообщений и 15 Гб интернет-трафика), а пользователи Ultra точно укладываются в свой большой тариф (Включено 3000 минут разговора, 1000 сообщений и 30 Гб интернет-трафика).\n",
    "\n",
    "Рассмотрим каждый показатель подробнее"
   ]
  },
  {
   "cell_type": "markdown",
   "metadata": {},
   "source": [
    "<div class=\"alert alert-success\">\n",
    "<b>Комментарии ревьюера:</b> Согласна.</div>"
   ]
  },
  {
   "cell_type": "markdown",
   "metadata": {},
   "source": [
    "### Минуты"
   ]
  },
  {
   "cell_type": "code",
   "execution_count": 54,
   "metadata": {},
   "outputs": [
    {
     "name": "stdout",
     "output_type": "stream",
     "text": [
      "Статистика по минутам для Smart\n",
      "Среднее количество минут: 418\n",
      "Стандартное отклонение: 190\n",
      "Дисперсия: 36265\n"
     ]
    },
    {
     "data": {
      "image/png": "[encoded data removed]",
      "text/plain": [
       "<Figure size 432x288 with 1 Axes>"
      ]
     },
     "metadata": {
      "needs_background": "light"
     },
     "output_type": "display_data"
    },
    {
     "name": "stdout",
     "output_type": "stream",
     "text": [
      "\n",
      "Статистика по минутам для Ultra\n",
      "Среднее количество минут: 526\n",
      "Стандартное отклонение: 318\n",
      "Дисперсия: 100950\n"
     ]
    },
    {
     "data": {
      "image/png": "[encoded data removed]",
      "text/plain": [
       "<Figure size 432x288 with 1 Axes>"
      ]
     },
     "metadata": {
      "needs_background": "light"
     },
     "output_type": "display_data"
    }
   ],
   "source": [
    "print('Статистика по минутам для Smart')\n",
    "print('Среднее количество минут: {:.0f}'.format(data_smart['min_sum'].mean()))\n",
    "print('Стандартное отклонение: {:.0f}'.format(data_smart['min_sum'].std()))\n",
    "print('Дисперсия: {:.0f}'.format(np.var(data_smart['min_sum'])))\n",
    "data_smart.plot(kind='hist',\n",
    "    y='min_sum',\n",
    "    title = 'Количество минут, использованных пользователями, в месяц. Тариф Smart',\n",
    "    bins=50,\n",
    "    alpha=0.7,\n",
    "    label='Минут в месяц, шт',\n",
    "    color='blue',\n",
    "    grid=True,\n",
    "    legend=True\n",
    "               )\n",
    "plt.show()\n",
    "print()\n",
    "print('Статистика по минутам для Ultra')\n",
    "print('Среднее количество минут: {:.0f}'.format(data_ultra['min_sum'].mean()))\n",
    "print('Стандартное отклонение: {:.0f}'.format(data_ultra['min_sum'].std()))\n",
    "print('Дисперсия: {:.0f}'.format(np.var(data_ultra['min_sum'])))\n",
    "data_ultra.plot(kind='hist',\n",
    "    y='min_sum',\n",
    "    title = 'Количество минут, использованных пользователями, в месяц. Тариф Ultra',\n",
    "    bins=50,\n",
    "    alpha=0.7,\n",
    "    label='Минут в месяц, шт',\n",
    "    color='orange',\n",
    "    grid=True,\n",
    "    legend=True\n",
    "               )\n",
    "plt.show()\n",
    "\n",
    "# data_smart['min_sum'].hist(bins = 100, alpha = 0.7)\n",
    "# data_ultra['min_sum'].hist(bins = 100, alpha = 0.7)"
   ]
  },
  {
   "cell_type": "markdown",
   "metadata": {},
   "source": [
    "Пользователи тарифа Smart:\n",
    "- спределение схоже с нормальным, отрицательная скошенность\n",
    "- среднее значение 418 минут\n",
    "- стандартное отклонение 190\n",
    "- дисперсия 36265\n",
    "- есть немного нулевых значений \n",
    "- почти нет значений после 1000\n",
    "- достаточно много значений свыше 500 (сколько входит в абонентскую плату), \n",
    "\n",
    "\n",
    "Пользователи тарифа Ultra: \n",
    "- распределение схожее с нормальным, положительная скошенность\n",
    "- среднее значение 526\n",
    "- стандартное отклонение 318\n",
    "- дисперсия 100950. \n",
    "- есть много нулевых значений (возможно пользуются тарифом не для звонков) \n",
    "- почти нет значений после 1400\n",
    "- все значения значительно ниже 3000 (сколько входит в абонентскую плату), \n"
   ]
  },
  {
   "cell_type": "markdown",
   "metadata": {},
   "source": [
    "### Сообщения"
   ]
  },
  {
   "cell_type": "code",
   "execution_count": 55,
   "metadata": {},
   "outputs": [
    {
     "name": "stdout",
     "output_type": "stream",
     "text": [
      "Статистика по сообщениям для Smart\n",
      "Среднее количество сообщений: 33\n",
      "Стандартное отклонение: 28\n",
      "Дисперсия: 797\n"
     ]
    },
    {
     "data": {
      "image/png": "[encoded data removed]",
      "text/plain": [
       "<Figure size 432x288 with 1 Axes>"
      ]
     },
     "metadata": {
      "needs_background": "light"
     },
     "output_type": "display_data"
    },
    {
     "name": "stdout",
     "output_type": "stream",
     "text": [
      "\n",
      "Статистика по сообщениям для Ultra\n",
      "Среднее количество сообщений: 49\n",
      "Стандартное отклонение: 48\n",
      "Дисперсия: 2283\n"
     ]
    },
    {
     "data": {
      "image/png": "[encoded data removed]",
      "text/plain": [
       "<Figure size 432x288 with 1 Axes>"
      ]
     },
     "metadata": {
      "needs_background": "light"
     },
     "output_type": "display_data"
    }
   ],
   "source": [
    "print('Статистика по сообщениям для Smart')\n",
    "print('Среднее количество сообщений: {:.0f}'.format(data_smart['mes_count'].mean()))\n",
    "print('Стандартное отклонение: {:.0f}'.format(data_smart['mes_count'].std()))\n",
    "print('Дисперсия: {:.0f}'.format(np.var(data_smart['mes_count'])))\n",
    "data_smart.plot(kind='hist',\n",
    "    y='mes_count',\n",
    "    title = 'Количество сообщений, отправленных пользователями, в месяц. Тариф Smart',\n",
    "    bins=50,\n",
    "    alpha=0.7,\n",
    "    label='Сообщений в месяц, шт',\n",
    "    color='blue',\n",
    "    grid=True,\n",
    "    legend=True\n",
    "               )\n",
    "plt.show()\n",
    "print()\n",
    "print('Статистика по сообщениям для Ultra')\n",
    "print('Среднее количество сообщений: {:.0f}'.format(data_ultra['mes_count'].mean()))\n",
    "print('Стандартное отклонение: {:.0f}'.format(data_ultra['mes_count'].std()))\n",
    "print('Дисперсия: {:.0f}'.format(np.var(data_ultra['mes_count'])))\n",
    "data_ultra.plot(kind='hist',\n",
    "    y='mes_count',\n",
    "    title = 'Количество сообщений, отправленных пользователями, в месяц. Тариф Ultra',\n",
    "    bins=50,\n",
    "    alpha=0.7,\n",
    "    label='Сообщений в месяц, шт',\n",
    "    color='orange',\n",
    "    grid=True,\n",
    "    legend=True\n",
    "               )\n",
    "plt.show()\n",
    "\n",
    "\n",
    "# data_smart['mes_count'].hist(bins = 50, alpha = 0.7)\n",
    "# data_ultra['mes_count'].hist(bins = 50, alpha = 0.7)\n",
    "\n"
   ]
  },
  {
   "cell_type": "markdown",
   "metadata": {},
   "source": [
    "Пользователи тарифа Smart:\n",
    "- спределение схоже с нормальным, положительная скошенность\n",
    "- среднее значение 33 сообщения\n",
    "- стандартное отклонение 28\n",
    "- дисперсия 797\n",
    "- есть много нулевых значений (кажется сообщениями многие не пользуются)\n",
    "- почти нет значений после 120\n",
    "- достаточно много значений свыше 50 (сколько входит в абонентскую плату), \n",
    "\n",
    "\n",
    "Пользователи тарифа Ultra: \n",
    "- распределение схожее с нормальным, положительная скошенность\n",
    "- среднее значение 49 сообщений\n",
    "- стандартное отклонение 48\n",
    "- дисперсия 2283\n",
    "- есть много нулевых значений (кажется сообщениями многие не пользуются)\n",
    "- почти нет значений после 200\n",
    "- все значения значительно ниже 1000 (сколько входит в абонентскую плату), \n"
   ]
  },
  {
   "cell_type": "markdown",
   "metadata": {},
   "source": [
    "### Интернет"
   ]
  },
  {
   "cell_type": "code",
   "execution_count": 57,
   "metadata": {},
   "outputs": [
    {
     "name": "stderr",
     "output_type": "stream",
     "text": [
      "/opt/conda/lib/python3.7/site-packages/ipykernel_launcher.py:1: SettingWithCopyWarning: \n",
      "A value is trying to be set on a copy of a slice from a DataFrame.\n",
      "Try using .loc[row_indexer,col_indexer] = value instead\n",
      "\n",
      "See the caveats in the documentation: http://pandas.pydata.org/pandas-docs/stable/user_guide/indexing.html#returning-a-view-versus-a-copy\n",
      "  \"\"\"Entry point for launching an IPython kernel.\n",
      "/opt/conda/lib/python3.7/site-packages/ipykernel_launcher.py:2: SettingWithCopyWarning: \n",
      "A value is trying to be set on a copy of a slice from a DataFrame.\n",
      "Try using .loc[row_indexer,col_indexer] = value instead\n",
      "\n",
      "See the caveats in the documentation: http://pandas.pydata.org/pandas-docs/stable/user_guide/indexing.html#returning-a-view-versus-a-copy\n",
      "  \n"
     ]
    },
    {
     "name": "stdout",
     "output_type": "stream",
     "text": [
      "Статистика по интернет трафику для Smart\n",
      "Среднее количество мегабайт: 15.8\n",
      "Стандартное отклонение: 5.7\n",
      "Дисперсия: 33\n"
     ]
    },
    {
     "data": {
      "image/png": "[encoded data removed]",
      "text/plain": [
       "<Figure size 432x288 with 1 Axes>"
      ]
     },
     "metadata": {
      "needs_background": "light"
     },
     "output_type": "display_data"
    },
    {
     "name": "stdout",
     "output_type": "stream",
     "text": [
      "\n",
      "Статистика по интернет трафику для Ultra\n",
      "Среднее количество мегабайт: 19.0\n",
      "Стандартное отклонение: 9.9\n",
      "Дисперсия: 97\n"
     ]
    },
    {
     "data": {
      "image/png": "[encoded data removed]",
      "text/plain": [
       "<Figure size 432x288 with 1 Axes>"
      ]
     },
     "metadata": {
      "needs_background": "light"
     },
     "output_type": "display_data"
    }
   ],
   "source": [
    "data_smart['gb_sum'] = data_smart['mb_sum'] / 1024\n",
    "data_ultra['gb_sum'] = data_ultra['mb_sum'] / 1024\n",
    "\n",
    "print('Статистика по интернет трафику для Smart')\n",
    "print('Среднее количество мегабайт: {:.1f}'.format(data_smart['gb_sum'].mean()))\n",
    "print('Стандартное отклонение: {:.1f}'.format(data_smart['gb_sum'].std()))\n",
    "print('Дисперсия: {:.0f}'.format(np.var(data_smart['gb_sum'])))\n",
    "data_smart.plot(kind='hist',\n",
    "    y='gb_sum',\n",
    "    title = 'Количество гигабайт, использованных пользователями, в месяц. Тариф Smart',\n",
    "    bins=50,\n",
    "    alpha=0.7,\n",
    "    label='Гигабайт в месяц, шт',\n",
    "    color='blue',\n",
    "    grid=True,\n",
    "    legend=True\n",
    "               )\n",
    "plt.show()\n",
    "print()\n",
    "print('Статистика по интернет трафику для Ultra')\n",
    "print('Среднее количество мегабайт: {:.1f}'.format(data_ultra['gb_sum'].mean()))\n",
    "print('Стандартное отклонение: {:.1f}'.format(data_ultra['gb_sum'].std()))\n",
    "print('Дисперсия: {:.0f}'.format(np.var(data_ultra['gb_sum'])))\n",
    "data_ultra.plot(kind='hist',\n",
    "    y='gb_sum',\n",
    "    title = 'Количество гигабайт, использованных пользователями, в месяц. Тариф Ultra',\n",
    "    bins=50,\n",
    "    alpha=0.7,\n",
    "    label='Гигабайт в месяц, шт',\n",
    "    color='orange',\n",
    "    grid=True,\n",
    "    legend=True\n",
    "               )\n",
    "plt.show()\n",
    "# data_smart['gb_sum'].hist(bins = 100, alpha = 0.7)\n",
    "# data_ultra['gb_sum'].hist(bins = 100, alpha = 0.7)"
   ]
  },
  {
   "cell_type": "markdown",
   "metadata": {},
   "source": [
    "Пользователи тарифа Smart:\n",
    "- спределение схоже с нормальным\n",
    "- среднее значение 15,8 гигабайт\n",
    "- стандартное отклонение 5,7\n",
    "- дисперсия 33\n",
    "- почти нет нулевых значений\n",
    "- почти нет значений после 33 гб\n",
    "- достаточно много значений свыше 15 гб (сколько входит в абонентскую плату), \n",
    "\n",
    "\n",
    "Пользователи тарифа Ultra: \n",
    "- распределение схожее с нормальным, положительная скошенность\n",
    "- среднее значение 19 гигабайт\n",
    "- стандартное отклонение 9,9\n",
    "- дисперсия 97 \n",
    "- нулевых значений среднее количество\n",
    "- почти нет значений после 45 гб\n",
    "- достаточно много значений свыше 30 гб (сколько входит в абонентскую плату), "
   ]
  },
  {
   "cell_type": "markdown",
   "metadata": {},
   "source": [
    "<div class=\"alert alert-danger\">\n",
    "<b>Комментарии ревьюера:</b> <s>Все расчеты верные, но хотелось бы получше оформить графики. Визуализации должны быть понятны читателю без контекста, поэтому добавь, пожалуйста, на графики  название и подписи осей. Тогда будет идеально :) </s>\n",
    "\n",
    "Сделано!\n",
    "\n",
    "</div>"
   ]
  },
  {
   "cell_type": "markdown",
   "metadata": {},
   "source": [
    "<div class=\"alert alert-info\"> <b>Комментарии студента:</b> Переделал графики через plot и добавил описаний :)</div>"
   ]
  },
  {
   "cell_type": "markdown",
   "metadata": {},
   "source": [
    "## Проверка гипотез"
   ]
  },
  {
   "cell_type": "markdown",
   "metadata": {},
   "source": [
    "- средняя выручка пользователей тарифов «Ультра» и «Смарт» различается;\n",
    "- средняя выручка пользователей из Москвы отличается от выручки пользователей из других регионов;\n",
    "\n",
    "Поясните:\n",
    "- как вы формулировали нулевую и альтернативную гипотезы;\n",
    "- какой критерий использовали для проверки гипотез и почему."
   ]
  },
  {
   "cell_type": "markdown",
   "metadata": {},
   "source": [
    "### Средняя выручка пользователей тарифов «Ультра» и «Смарт» различается\n",
    "\n",
    "Выборка пользователей разных тарифов не является зависимой (никто не наступает после друг друга), будем сравнивать как две независимые совокупности.\n",
    "\n",
    "Нулевая гипотеза должна быть о равенстве, поэтому она будет \"средняя выручка пользователей тарифов «Ультра» и «Смарт» равна\". Нам не важно (для вопроса) о том, как различается выручка в большую или меньшую сторону поэтому альтернативная гипотеза будет двусторонней, а именно \"средняя выручка пользователей различается\""
   ]
  },
  {
   "cell_type": "markdown",
   "metadata": {},
   "source": [
    "<div class=\"alert alert-success\">\n",
    "<b>Комментарии ревьюера:</b> Гипотезы сформулированы верно. Альтернативная гипотеза должна быть двусторонней. </div>"
   ]
  },
  {
   "cell_type": "code",
   "execution_count": null,
   "metadata": {},
   "outputs": [],
   "source": [
    "# data.info()\n",
    "\n",
    "alpha = 0.05\n",
    "\n",
    "first_results = st.ttest_ind(data_smart['rub_totally'], data_ultra['rub_totally'], equal_var = False)\n",
    "\n",
    "if first_results.pvalue < alpha:\n",
    "    print('Отвергаем нулевую гипотезу, потому что p={:.2f}'.format(first_results.pvalue))\n",
    "else:\n",
    "    print('Не отвергаем нулевую гипотезу, потому что p={:.2f}'.format(first_results.pvalue))\n",
    "\n",
    "print()    \n",
    "print('Средняя выручка пользователя тарифа Smart: {:.2f}'.format(data_smart['rub_totally'].mean()))\n",
    "print()\n",
    "print('Средняя выручка пользователя тарифа Ultra: {:.2f}'.format(data_ultra['rub_totally'].mean()))\n"
   ]
  },
  {
   "cell_type": "markdown",
   "metadata": {},
   "source": [
    "Нулевая гипотеза отвергнута, поскольку p-значение очень мало, а это значит **Средняя выручка «Ультра» и «Смарт» различается**. Кроме того можно заметить, что средняя выручка значительно отличается (Ультра выше, более чем в 1,5 раза)"
   ]
  },
  {
   "cell_type": "markdown",
   "metadata": {},
   "source": [
    "<div class=\"alert alert-success\">\n",
    "<b>Комментарии ревьюера:</b> Т-тест проведен корректно.</div>"
   ]
  },
  {
   "cell_type": "markdown",
   "metadata": {},
   "source": [
    "### Средняя выручка пользователей из Москвы отличается от выручки пользователей из других регионов\n",
    "\n",
    "Нахождение пользователей в разных регионах не зависити друг от друга (никто не наступает после друг друга), будем сравнивать как две независимые совокупности.\n",
    "\n",
    "Нулевая гипотеза должна быть о равенстве, поэтому она будет \"средняя выручка пользователей в Москве и других регионах равна\". Нам не важно (для вопроса) о том, как различается выручка в большую или меньшую сторону поэтому альтернативная гипотеза будет двусторонней, а именно \"средняя выручка пользователей различается\""
   ]
  },
  {
   "cell_type": "markdown",
   "metadata": {},
   "source": [
    "<div class=\"alert alert-success\">\n",
    "<b>Комментарии ревьюера:</b> Согласна.</div>"
   ]
  },
  {
   "cell_type": "code",
   "execution_count": null,
   "metadata": {},
   "outputs": [],
   "source": [
    "alpha = 0.05\n",
    "\n",
    "first_results = st.ttest_ind(data[data['city'] == 'Москва']['rub_totally'], data[data['city'] != 'Москва']['rub_totally'])\n",
    "\n",
    "if first_results.pvalue < alpha:\n",
    "    print('Отвергаем нулевую гипотезу, потому что p={:.2f}'.format(first_results.pvalue))\n",
    "else:\n",
    "    print('Не отвергаем нулевую гипотезу, потому что p={:.2f}'.format(first_results.pvalue))\n",
    "\n",
    "print()    \n",
    "print('Средняя выручка пользователя из Москвы: {:.2f}'.format(data[data['city'] == 'Москва']['rub_totally'].mean()))\n",
    "print()\n",
    "print('Средняя выручка пользователя не из Москвы: {:.2f}'.format(data[data['city'] != 'Москва']['rub_totally'].mean()))"
   ]
  },
  {
   "cell_type": "markdown",
   "metadata": {},
   "source": [
    "Не получилось отвергунть нулевую гипотезу, поскольку p-значение очень велико (больше 50%, что результат случайный), а это значит **Средняя выручка не равна, но и не отличается статистически значимо**. Кроме того можно заметить, что средняя выручка действительно очень схожа (Ультра выше, более чем в 1,5 раза)."
   ]
  },
  {
   "cell_type": "markdown",
   "metadata": {},
   "source": [
    "<div class=\"alert alert-success\">\n",
    "<b>Комментарии ревьюера:</b> Все отлично, молодец! Полученное значение p-value говорит о том, что средняя выручка пользователей из Москвы и из других регионов отличается, но с вероятностью в 51% такое различие можно получить случайно. Это слишком высокая вероятность для того, чтобы делать выводы о значимом различии между средними значениями выручки.</div>"
   ]
  },
  {
   "cell_type": "markdown",
   "metadata": {},
   "source": [
    "## Общий вывод"
   ]
  },
  {
   "cell_type": "markdown",
   "metadata": {},
   "source": [
    "Исходя из изначальной задачи: \"Оценить какой тариф приносит больше денег\", а также взяв другие найденные закономерности во время изучения выборки, можно говорить о следующем:\n",
    "- **Средняя выручка пользователей тарифов Ultra и Smart различается с большой статистической вероятностью.**\n",
    "    - При этом, при изначальной разницы стоимости абонентских плат (550 рублей против 1950), средняя выручка с пользователя отличаются не так сильно с учетом платы за услуги сверх лимитов (~1300 против ~2100)\n",
    "    - Средняя выручка пользователей из Москвы и других регионов не равно, но не отличается статистически значимо (50%, что это случайный результат)\n",
    "\n",
    "Необычные выводы исходя из изучения пользователей:\n",
    "- Пользователи тарифа Smart платят суммарно больше, чем в два раза больше абонентской платы (в основном из-за интернета и минут), а вот пользователи Ultra смело укладываются в свои лимиты по минутам и сообщениям, но также выходят иногда за рамки пакетов трафика.\n",
    "- Люди мало пользуются сообщениями, даже при таких малых включенных лимитах\n",
    "- Пользователи тарифа Ultra досатточно разнородны, видимо кто-то берёт тариф ради минут и не пользуется интернетом, другие наоборот.\n",
    "- Достаточно большой процент (13 и 20%) звонков и выходов в интернет не является успешным (нет минут, мегабайтов трафика)\n",
    "    "
   ]
  },
  {
   "cell_type": "markdown",
   "metadata": {},
   "source": [
    "<div class=\"alert alert-danger\">\n",
    "<b>Комментарии ревьюера:</b> <s>Выводы сформулированы грамотно, а главное, подкреплены выявленными фактами. Не хватает только ответа на вопрос - какой тариф лучше продвигать? Дай совет компании Мегалайн, как аналитик. В продвижение какого тарифа лучше вложиться? Здесь нет правильного ответа, важны лишь твои рассуждения. </s> </div>"
   ]
  },
  {
   "cell_type": "markdown",
   "metadata": {},
   "source": [
    "Исходя из профессии, мне сложно давать вывод с таким уровнем энтропии (Какая стратегия компании, какое позиционирование и тд). Но я попробую :)\n",
    "<div class=\"alert alert-info\"> \n",
    "<b>Комментарии студента:</b> Компании лучше вложиться в продвижение тарифа Ultra, поскольку: средний чек по клиенту значительно выше; разницы лимитов по смс и звонкам и по тарифу и фактическим использованием клиентами, что ведёт к цепкому рекламному предложению и отсутствию лишних технических затрат; наличии допродаж по гигабайтам даже при текущих лимитах; высокая абонентская плата ведёт к более предсказуемым финансовым моделям прогнозирования, чем доход от превышения лимитов.  </div>"
   ]
  },
  {
   "cell_type": "markdown",
   "metadata": {},
   "source": [
    "<div class=\"alert alert-success\">\n",
    "<b>Комментарии ревьюера V2:</b> Интересные рекомендации :) Ежемесячные платежи пользователей тарифа Ультра действительно редко превышают абонентскую плату. Но они расходуют далеко не весь пакет услуг, и при этом их ежемесячный платеж статистически значимо выше ежемесячного платежа по тарифу Смарт. Поэтому можно заключить, что тариф Ультра выгодней для сотового оператора.</div>"
   ]
  },
  {
   "cell_type": "markdown",
   "metadata": {},
   "source": [
    "<div class=\"alert alert-warning\">\n",
    "<b>Комментарии ревьюера:</b>\n",
    "\n",
    "<b>Общий вывод:</b>\n",
    "\n",
    "Ты уже проделал огромную работу, продемонстрировал, что ты грамотно используешь методы pandas для работы с датафреймами, умеешь писать собственные функции, правильно осуществляешь проверку гипотез. Хочется отдельно отметить, что ты  подробно описываешь все промежуточные выводы и четко формулируешь финальный вывод. Нам важно не только получить какой-то результат, но и уметь его преподнести. Так держать, отлично!\n",
    "\n",
    "<s>Для принятия проекта его осталось совсем чуть-чуть доработать. </s>\n",
    "\n",
    "<s>Критично исправить:\n",
    "    \n",
    "- добавь подписи осей и названия на графики,\n",
    "- закончи общий вывод по проекту и ответь на вопрос, какой тариф лучше продвигать.\n",
    "    \n",
    "Буду ждать твою работу на повторное ревью Уверена, что замечания ты быстро исправишь :) </s>\n",
    "    \n",
    "Замечания устранены. Проект принят. Удачи в следующих проектах!\n",
    "</div>"
   ]
  },
  {
   "cell_type": "markdown",
   "metadata": {},
   "source": [
    "# Критерии Оценки\n",
    "На что обращают внимание, проверяя проект:\n",
    "- Как вы описываете выявленные в данных проблемы?\n",
    "- Как готовите данные к анализу?\n",
    "- Какие графики строите для распределений?\n",
    "- Как интерпретируете полученные графики?\n",
    "- Как рассчитываете стандартное отклонение и дисперсию?\n",
    "- Формулируете ли альтернативную и нулевую гипотезы?\n",
    "- Какие методы применяете для проверки гипотез?\n",
    "- Интерпретируете ли результат проверки гипотезы?\n",
    "- Соблюдаете структуру проекта и поддерживаете аккуратность кода?\n",
    "- Какие выводы делаете?\n",
    "- Оставляете ли комментарии к шагам?"
   ]
  }
 ],
 "metadata": {
  "kernelspec": {
   "display_name": "Python 3",
   "language": "python",
   "name": "python3"
  },
  "language_info": {
   "codemirror_mode": {
    "name": "ipython",
    "version": 3
   },
   "file_extension": ".py",
   "mimetype": "text/x-python",
   "name": "python",
   "nbconvert_exporter": "python",
   "pygments_lexer": "ipython3",
   "version": "3.7.8"
  },
  "toc": {
   "base_numbering": 1,
   "nav_menu": {
    "height": "141px",
    "width": "213px"
   },
   "number_sections": true,
   "sideBar": true,
   "skip_h1_title": true,
   "title_cell": "Table of Contents",
   "title_sidebar": "Contents",
   "toc_cell": false,
   "toc_position": {},
   "toc_section_display": true,
   "toc_window_display": false
  }
 },
 "nbformat": 4,
 "nbformat_minor": 2
}
