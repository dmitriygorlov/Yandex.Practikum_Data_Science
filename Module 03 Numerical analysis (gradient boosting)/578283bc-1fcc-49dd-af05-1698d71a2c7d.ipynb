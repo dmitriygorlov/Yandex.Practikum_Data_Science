{
 "cells": [
  {
   "cell_type": "markdown",
   "metadata": {},
   "source": [
    "В работе ты увидишь комментарии, помеченные разным цветом.\n",
    "\n",
    "<div class=\"alert alert-success\">\n",
    "Зеленым цветом помечены оброзцовые решения. Которые можно использовать в дальнейшем.\n",
    "</div>\n",
    "\n",
    "<div class=\"alert alert-warning\">\n",
    "Желтым цветом отмечено то, что ты можешь улучшить или доработать. Можешь учесть это при выполнении следующих работ или доработать проект сейчас, но это не обязательно.\n",
    "</div>\n",
    "\n",
    "<div class=\"alert alert-danger\">\n",
    "Красным цветом помечены моменты, которые необходимо доработать, чтобы проект был принят. Уверен, что у тебя все получится. Буду ждать твою работу на повторное ревью. \n",
    "</div>\n",
    "\n",
    "Будет комфортнее работать над проектом вместе, если ты будешь **писать об изменениях** в проекте по моим рекомендациям. Для этого выбери для своих комментариев \n",
    "\n",
    "<div class=\"alert alert-block alert-info\">заметный цвет</div>\n",
    "\n",
    "Пожалуйста, **не перемещай, не изменяй и не удаляй мои комментарии**. Всё это поможет выполнить повторную проверку твоего проекта оперативнее.\n",
    "___"
   ]
  },
  {
   "cell_type": "markdown",
   "metadata": {},
   "source": [
    "# Определение стоимости автомобилей"
   ]
  },
  {
   "cell_type": "markdown",
   "metadata": {},
   "source": [
    "Сервис по продаже автомобилей с пробегом «Не бит, не крашен» разрабатывает приложение для привлечения новых клиентов. В нём можно быстро узнать рыночную стоимость своего автомобиля. В вашем распоряжении исторические данные: технические характеристики, комплектации и цены автомобилей. Вам нужно построить модель для определения стоимости. \n",
    "\n",
    "Заказчику важны:\n",
    "\n",
    "- качество предсказания;\n",
    "- скорость предсказания;\n",
    "- время обучения."
   ]
  },
  {
   "cell_type": "markdown",
   "metadata": {},
   "source": [
    "## Подготовка данных"
   ]
  },
  {
   "cell_type": "code",
   "execution_count": 1,
   "metadata": {},
   "outputs": [],
   "source": [
    "import pandas as pd\n",
    "import numpy as np\n",
    "\n",
    "import matplotlib.pyplot as plt\n",
    "\n",
    "from sklearn.model_selection import train_test_split\n",
    "from sklearn.preprocessing import OrdinalEncoder\n",
    "from sklearn.preprocessing import StandardScaler\n",
    "\n",
    "from sklearn.metrics import mean_squared_error\n",
    "\n",
    "from catboost import CatBoostRegressor\n",
    "\n",
    "from lightgbm import LGBMRegressor\n",
    "\n",
    "from sklearn.linear_model import LinearRegression\n",
    "\n",
    "from sklearn.model_selection import GridSearchCV"
   ]
  },
  {
   "cell_type": "markdown",
   "metadata": {},
   "source": [
    "загрузили библиотеки"
   ]
  },
  {
   "cell_type": "code",
   "execution_count": 2,
   "metadata": {},
   "outputs": [],
   "source": [
    "data = pd.read_csv(\"/datasets/autos.csv\")"
   ]
  },
  {
   "cell_type": "markdown",
   "metadata": {},
   "source": [
    "Загрузили данные. Посмотрим на на них первично."
   ]
  },
  {
   "cell_type": "code",
   "execution_count": 3,
   "metadata": {},
   "outputs": [
    {
     "data": {
      "text/html": [
       "<div>\n",
       "<style scoped>\n",
       "    .dataframe tbody tr th:only-of-type {\n",
       "        vertical-align: middle;\n",
       "    }\n",
       "\n",
       "    .dataframe tbody tr th {\n",
       "        vertical-align: top;\n",
       "    }\n",
       "\n",
       "    .dataframe thead th {\n",
       "        text-align: right;\n",
       "    }\n",
       "</style>\n",
       "<table border=\"1\" class=\"dataframe\">\n",
       "  <thead>\n",
       "    <tr style=\"text-align: right;\">\n",
       "      <th></th>\n",
       "      <th>DateCrawled</th>\n",
       "      <th>Price</th>\n",
       "      <th>VehicleType</th>\n",
       "      <th>RegistrationYear</th>\n",
       "      <th>Gearbox</th>\n",
       "      <th>Power</th>\n",
       "      <th>Model</th>\n",
       "      <th>Kilometer</th>\n",
       "      <th>RegistrationMonth</th>\n",
       "      <th>FuelType</th>\n",
       "      <th>Brand</th>\n",
       "      <th>NotRepaired</th>\n",
       "      <th>DateCreated</th>\n",
       "      <th>NumberOfPictures</th>\n",
       "      <th>PostalCode</th>\n",
       "      <th>LastSeen</th>\n",
       "    </tr>\n",
       "  </thead>\n",
       "  <tbody>\n",
       "    <tr>\n",
       "      <td>0</td>\n",
       "      <td>2016-03-24 11:52:17</td>\n",
       "      <td>480</td>\n",
       "      <td>NaN</td>\n",
       "      <td>1993</td>\n",
       "      <td>manual</td>\n",
       "      <td>0</td>\n",
       "      <td>golf</td>\n",
       "      <td>150000</td>\n",
       "      <td>0</td>\n",
       "      <td>petrol</td>\n",
       "      <td>volkswagen</td>\n",
       "      <td>NaN</td>\n",
       "      <td>2016-03-24 00:00:00</td>\n",
       "      <td>0</td>\n",
       "      <td>70435</td>\n",
       "      <td>2016-04-07 03:16:57</td>\n",
       "    </tr>\n",
       "    <tr>\n",
       "      <td>1</td>\n",
       "      <td>2016-03-24 10:58:45</td>\n",
       "      <td>18300</td>\n",
       "      <td>coupe</td>\n",
       "      <td>2011</td>\n",
       "      <td>manual</td>\n",
       "      <td>190</td>\n",
       "      <td>NaN</td>\n",
       "      <td>125000</td>\n",
       "      <td>5</td>\n",
       "      <td>gasoline</td>\n",
       "      <td>audi</td>\n",
       "      <td>yes</td>\n",
       "      <td>2016-03-24 00:00:00</td>\n",
       "      <td>0</td>\n",
       "      <td>66954</td>\n",
       "      <td>2016-04-07 01:46:50</td>\n",
       "    </tr>\n",
       "    <tr>\n",
       "      <td>2</td>\n",
       "      <td>2016-03-14 12:52:21</td>\n",
       "      <td>9800</td>\n",
       "      <td>suv</td>\n",
       "      <td>2004</td>\n",
       "      <td>auto</td>\n",
       "      <td>163</td>\n",
       "      <td>grand</td>\n",
       "      <td>125000</td>\n",
       "      <td>8</td>\n",
       "      <td>gasoline</td>\n",
       "      <td>jeep</td>\n",
       "      <td>NaN</td>\n",
       "      <td>2016-03-14 00:00:00</td>\n",
       "      <td>0</td>\n",
       "      <td>90480</td>\n",
       "      <td>2016-04-05 12:47:46</td>\n",
       "    </tr>\n",
       "    <tr>\n",
       "      <td>3</td>\n",
       "      <td>2016-03-17 16:54:04</td>\n",
       "      <td>1500</td>\n",
       "      <td>small</td>\n",
       "      <td>2001</td>\n",
       "      <td>manual</td>\n",
       "      <td>75</td>\n",
       "      <td>golf</td>\n",
       "      <td>150000</td>\n",
       "      <td>6</td>\n",
       "      <td>petrol</td>\n",
       "      <td>volkswagen</td>\n",
       "      <td>no</td>\n",
       "      <td>2016-03-17 00:00:00</td>\n",
       "      <td>0</td>\n",
       "      <td>91074</td>\n",
       "      <td>2016-03-17 17:40:17</td>\n",
       "    </tr>\n",
       "    <tr>\n",
       "      <td>4</td>\n",
       "      <td>2016-03-31 17:25:20</td>\n",
       "      <td>3600</td>\n",
       "      <td>small</td>\n",
       "      <td>2008</td>\n",
       "      <td>manual</td>\n",
       "      <td>69</td>\n",
       "      <td>fabia</td>\n",
       "      <td>90000</td>\n",
       "      <td>7</td>\n",
       "      <td>gasoline</td>\n",
       "      <td>skoda</td>\n",
       "      <td>no</td>\n",
       "      <td>2016-03-31 00:00:00</td>\n",
       "      <td>0</td>\n",
       "      <td>60437</td>\n",
       "      <td>2016-04-06 10:17:21</td>\n",
       "    </tr>\n",
       "  </tbody>\n",
       "</table>\n",
       "</div>"
      ],
      "text/plain": [
       "           DateCrawled  Price VehicleType  RegistrationYear Gearbox  Power  \\\n",
       "0  2016-03-24 11:52:17    480         NaN              1993  manual      0   \n",
       "1  2016-03-24 10:58:45  18300       coupe              2011  manual    190   \n",
       "2  2016-03-14 12:52:21   9800         suv              2004    auto    163   \n",
       "3  2016-03-17 16:54:04   1500       small              2001  manual     75   \n",
       "4  2016-03-31 17:25:20   3600       small              2008  manual     69   \n",
       "\n",
       "   Model  Kilometer  RegistrationMonth  FuelType       Brand NotRepaired  \\\n",
       "0   golf     150000                  0    petrol  volkswagen         NaN   \n",
       "1    NaN     125000                  5  gasoline        audi         yes   \n",
       "2  grand     125000                  8  gasoline        jeep         NaN   \n",
       "3   golf     150000                  6    petrol  volkswagen          no   \n",
       "4  fabia      90000                  7  gasoline       skoda          no   \n",
       "\n",
       "           DateCreated  NumberOfPictures  PostalCode             LastSeen  \n",
       "0  2016-03-24 00:00:00                 0       70435  2016-04-07 03:16:57  \n",
       "1  2016-03-24 00:00:00                 0       66954  2016-04-07 01:46:50  \n",
       "2  2016-03-14 00:00:00                 0       90480  2016-04-05 12:47:46  \n",
       "3  2016-03-17 00:00:00                 0       91074  2016-03-17 17:40:17  \n",
       "4  2016-03-31 00:00:00                 0       60437  2016-04-06 10:17:21  "
      ]
     },
     "metadata": {},
     "output_type": "display_data"
    },
    {
     "name": "stdout",
     "output_type": "stream",
     "text": [
      "<class 'pandas.core.frame.DataFrame'>\n",
      "RangeIndex: 354369 entries, 0 to 354368\n",
      "Data columns (total 16 columns):\n",
      "DateCrawled          354369 non-null object\n",
      "Price                354369 non-null int64\n",
      "VehicleType          316879 non-null object\n",
      "RegistrationYear     354369 non-null int64\n",
      "Gearbox              334536 non-null object\n",
      "Power                354369 non-null int64\n",
      "Model                334664 non-null object\n",
      "Kilometer            354369 non-null int64\n",
      "RegistrationMonth    354369 non-null int64\n",
      "FuelType             321474 non-null object\n",
      "Brand                354369 non-null object\n",
      "NotRepaired          283215 non-null object\n",
      "DateCreated          354369 non-null object\n",
      "NumberOfPictures     354369 non-null int64\n",
      "PostalCode           354369 non-null int64\n",
      "LastSeen             354369 non-null object\n",
      "dtypes: int64(7), object(9)\n",
      "memory usage: 43.3+ MB\n"
     ]
    }
   ],
   "source": [
    "display(data.head())\n",
    "data.info()"
   ]
  },
  {
   "cell_type": "markdown",
   "metadata": {},
   "source": [
    "Наша таблица состоит из 354368 строк и сразу видно, что в некоторых признаках существуют пропуски. Нужно сделать предобработку на пропуски, проверить на дубли, а также поискать странности в данных.\n",
    "\n",
    "Также опишем признаки:\n",
    "- DateCrawled — дата скачивания анкеты из базы\n",
    "- VehicleType — тип автомобильного кузова\n",
    "- RegistrationYear — год регистрации автомобиля\n",
    "- Gearbox — тип коробки передач\n",
    "- Power — мощность (л. с.)\n",
    "- Model — модель автомобиля\n",
    "- Kilometer — пробег (км)\n",
    "- RegistrationMonth — месяц регистрации автомобиля\n",
    "- FuelType — тип топлива\n",
    "- Brand — марка автомобиля\n",
    "- NotRepaired — была машина в ремонте или нет\n",
    "- DateCreated — дата создания анкеты\n",
    "- NumberOfPictures — количество фотографий автомобиля\n",
    "- PostalCode — почтовый индекс владельца анкеты (пользователя)\n",
    "- LastSeen — дата последней активности пользователя\n",
    "Целевой признак\n",
    "- Price — цена (евро)\n",
    "\n",
    "Сразу отбросим признаки, которые отвечают за характеристику пользователя/анкеты на сайте (расчитываемая цена не должна изменяться, например, из-за давности захода пользователя на сайт). \n",
    "\n",
    "Список этих признаков:\n",
    "- DateCreated\n",
    "- LastSeen\n",
    "\n",
    "Уберём их, а также месяц регистрации (год регистрации автомобиля безусловно важен, но месяц не так определяет стоимость автомобиля."
   ]
  },
  {
   "cell_type": "markdown",
   "metadata": {},
   "source": [
    "<div class=\"alert alert-danger\">\n",
    "    \n",
    "**Комментарий ревьюера**\n",
    "    \n",
    "Нет, сразу отбрасывать нельзя)Т.к. мы рискуем потерять информацию) \n",
    "    \n",
    "1) Дата скачивания анкеты из базы может помочь найти выбросы\n",
    "    \n",
    "2) Почтовые коды могут означать области, а в разных областях могут быть разные закономерности на цены\n",
    "</div>"
   ]
  },
  {
   "cell_type": "markdown",
   "metadata": {},
   "source": [
    "<div class=\"alert alert-block alert-info\">Спасибо! Ок, понял, оставляю дату скачивания и почтовый код, через ячейку рассматриваю их.</div>\n"
   ]
  },
  {
   "cell_type": "markdown",
   "metadata": {},
   "source": [
    "<div class=\"alert alert-success\">\n",
    "    \n",
    "**Комментарий ревьюера v_2**\n",
    "     \n",
    "Супер)Всегда сначала изучаем, а потом думаем что удалять)\n",
    "</div>"
   ]
  },
  {
   "cell_type": "code",
   "execution_count": 4,
   "metadata": {},
   "outputs": [
    {
     "name": "stdout",
     "output_type": "stream",
     "text": [
      "<class 'pandas.core.frame.DataFrame'>\n",
      "RangeIndex: 354369 entries, 0 to 354368\n",
      "Data columns (total 13 columns):\n",
      "DateCrawled         354369 non-null object\n",
      "Price               354369 non-null int64\n",
      "VehicleType         316879 non-null object\n",
      "RegistrationYear    354369 non-null int64\n",
      "Gearbox             334536 non-null object\n",
      "Power               354369 non-null int64\n",
      "Model               334664 non-null object\n",
      "Kilometer           354369 non-null int64\n",
      "FuelType            321474 non-null object\n",
      "Brand               354369 non-null object\n",
      "NotRepaired         283215 non-null object\n",
      "NumberOfPictures    354369 non-null int64\n",
      "PostalCode          354369 non-null int64\n",
      "dtypes: int64(6), object(7)\n",
      "memory usage: 35.1+ MB\n"
     ]
    }
   ],
   "source": [
    "df = data.drop([\"DateCreated\", \"LastSeen\", 'RegistrationMonth'], axis=1)\n",
    "df.info()"
   ]
  },
  {
   "cell_type": "code",
   "execution_count": 5,
   "metadata": {},
   "outputs": [
    {
     "name": "stdout",
     "output_type": "stream",
     "text": [
      "count                  354369\n",
      "unique                     34\n",
      "top       2016-04-04 00:00:00\n",
      "freq                    13591\n",
      "first     2016-03-06 00:00:00\n",
      "last      2016-04-08 00:00:00\n",
      "Name: DateCrawled, dtype: object\n"
     ]
    },
    {
     "name": "stderr",
     "output_type": "stream",
     "text": [
      "/opt/conda/lib/python3.7/site-packages/pandas/plotting/_matplotlib/converter.py:103: FutureWarning: Using an implicitly registered datetime converter for a matplotlib plotting method. The converter was registered by pandas on import. Future versions of pandas will require you to explicitly register matplotlib converters.\n",
      "\n",
      "To register the converters:\n",
      "\t>>> from pandas.plotting import register_matplotlib_converters\n",
      "\t>>> register_matplotlib_converters()\n",
      "  warnings.warn(msg, FutureWarning)\n"
     ]
    },
    {
     "data": {
      "text/plain": [
       "<matplotlib.axes._subplots.AxesSubplot at 0x7f0911398c10>"
      ]
     },
     "execution_count": 5,
     "metadata": {},
     "output_type": "execute_result"
    },
    {
     "data": {
      "image/png": "[encoded data removed]",
      "text/plain": [
       "<Figure size 432x288 with 1 Axes>"
      ]
     },
     "metadata": {
      "needs_background": "light"
     },
     "output_type": "display_data"
    }
   ],
   "source": [
    "df['DateCrawled'] = pd.to_datetime(df['DateCrawled']).dt.round('D')\n",
    "\n",
    "print(df['DateCrawled'].describe())\n",
    "df['DateCrawled'].hist(bins = 34)"
   ]
  },
  {
   "cell_type": "code",
   "execution_count": 6,
   "metadata": {},
   "outputs": [
    {
     "data": {
      "text/plain": [
       "DateCrawled         0.000000\n",
       "Price               0.000000\n",
       "VehicleType         0.095741\n",
       "RegistrationYear    0.000000\n",
       "Gearbox             0.064048\n",
       "Power               0.000000\n",
       "Model               0.052493\n",
       "Kilometer           0.000000\n",
       "FuelType            0.088478\n",
       "Brand               0.000000\n",
       "NotRepaired         0.194454\n",
       "NumberOfPictures    0.000000\n",
       "PostalCode          0.000000\n",
       "dtype: float64"
      ]
     },
     "execution_count": 6,
     "metadata": {},
     "output_type": "execute_result"
    }
   ],
   "source": [
    "df[df['DateCrawled'] > '2016-04-05' ].isna().mean()"
   ]
  },
  {
   "cell_type": "markdown",
   "metadata": {},
   "source": [
    "<div class=\"alert alert-block alert-info\">Дата скачивалась 34 дня (уникальных значений) и довольно стабильно. Мало даты за последние дни - посмотрел на них, там нет бо'льшего кол-ва пропусков, чем в другие дни. Насколько понял, столбец не может быть полезным, поэтому все же выкидываю его.</div>"
   ]
  },
  {
   "cell_type": "markdown",
   "metadata": {},
   "source": [
    "<div class=\"alert alert-success\">\n",
    "    \n",
    "**Комментарий ревьюера v_2**\n",
    "     \n",
    "Если ты увидел, что дата скачивания 2016 год и авто выше этого года быть не может, тогда ок)\n",
    "</div>"
   ]
  },
  {
   "cell_type": "code",
   "execution_count": 7,
   "metadata": {},
   "outputs": [],
   "source": [
    "df = df.drop(['DateCrawled'], axis=1)"
   ]
  },
  {
   "cell_type": "code",
   "execution_count": 8,
   "metadata": {},
   "outputs": [
    {
     "name": "stdout",
     "output_type": "stream",
     "text": [
      "count    354369.000000\n",
      "mean      50508.689087\n",
      "std       25783.096248\n",
      "min        1067.000000\n",
      "25%       30165.000000\n",
      "50%       49413.000000\n",
      "75%       71083.000000\n",
      "max       99998.000000\n",
      "Name: PostalCode, dtype: float64\n"
     ]
    },
    {
     "data": {
      "text/plain": [
       "<matplotlib.axes._subplots.AxesSubplot at 0x7f08851f8a50>"
      ]
     },
     "execution_count": 8,
     "metadata": {},
     "output_type": "execute_result"
    },
    {
     "data": {
      "image/png": "[encoded data removed]",
      "text/plain": [
       "<Figure size 432x288 with 1 Axes>"
      ]
     },
     "metadata": {
      "needs_background": "light"
     },
     "output_type": "display_data"
    }
   ],
   "source": [
    "print(df['PostalCode'].describe())\n",
    "df['PostalCode'].hist(bins = 100)"
   ]
  },
  {
   "cell_type": "markdown",
   "metadata": {},
   "source": [
    "<div class=\"alert alert-block alert-info\">В Почтовых кодах пропусков нет, данные в порядке, просто используем дальше в расчётах (исправил далее, чтобы он тоже учитывался)</div>"
   ]
  },
  {
   "cell_type": "markdown",
   "metadata": {},
   "source": [
    "<div class=\"alert alert-success\">\n",
    "    \n",
    "**Комментарий ревьюера v_2**\n",
    "     \n",
    "Супер)Еще бы посмотреть на то, насколько этот признак в итоге окажется полезным)\n",
    "</div>"
   ]
  },
  {
   "cell_type": "markdown",
   "metadata": {},
   "source": [
    "Убрали столбцы, теперь разберёмся с пропусками"
   ]
  },
  {
   "cell_type": "code",
   "execution_count": 9,
   "metadata": {},
   "outputs": [
    {
     "data": {
      "text/plain": [
       "Price               0.000000\n",
       "VehicleType         0.105794\n",
       "RegistrationYear    0.000000\n",
       "Gearbox             0.055967\n",
       "Power               0.000000\n",
       "Model               0.055606\n",
       "Kilometer           0.000000\n",
       "FuelType            0.092827\n",
       "Brand               0.000000\n",
       "NotRepaired         0.200791\n",
       "NumberOfPictures    0.000000\n",
       "PostalCode          0.000000\n",
       "dtype: float64"
      ]
     },
     "execution_count": 9,
     "metadata": {},
     "output_type": "execute_result"
    }
   ],
   "source": [
    "df.isna().mean()"
   ]
  },
  {
   "cell_type": "markdown",
   "metadata": {},
   "source": [
    "В таблице много пропусков в NotRepaired, VehicleType, FuelType, а также есть пропуски в Gearbox и Model. Разберемся с ними по порядку.\n",
    "\n",
    "Пропущенные значения в NotRepaired (не было ремонта) скорее всего означают, что ремонта не было и поэтому пользователь не указал это. Заполним пропуски положительным значением"
   ]
  },
  {
   "cell_type": "code",
   "execution_count": 10,
   "metadata": {},
   "outputs": [
    {
     "data": {
      "text/plain": [
       "0.0"
      ]
     },
     "execution_count": 10,
     "metadata": {},
     "output_type": "execute_result"
    }
   ],
   "source": [
    "# df['NotRepaired'].unique()\n",
    "df[\"NotRepaired\"].fillna(\"yes\", inplace=True)\n",
    "df[\"NotRepaired\"].isna().mean()"
   ]
  },
  {
   "cell_type": "markdown",
   "metadata": {},
   "source": [
    "<div class=\"alert alert-warning\">\n",
    "    \n",
    "**Комментарий ревьюера**\n",
    "    \n",
    "Еще какие-то варианты рассматривались?)Как меняется результат?)\n",
    "</div>"
   ]
  },
  {
   "cell_type": "markdown",
   "metadata": {},
   "source": [
    "<div class=\"alert alert-block alert-info\">Тут не понял, что значит. Заполнить его наоборот значение \"нет\"? Или откинуть? Результат имеется ввиду качество модели или что?</div>\n"
   ]
  },
  {
   "cell_type": "markdown",
   "metadata": {},
   "source": [
    "<div class=\"alert alert-success\">\n",
    "    \n",
    "**Комментарий ревьюера v_2**\n",
    "     \n",
    "Да)Что будет если заполнить нет или заполнить \"unknown\" и как будет меняться результат модели)\n",
    "</div>"
   ]
  },
  {
   "cell_type": "markdown",
   "metadata": {},
   "source": [
    "Теперь перейдём к столбцу VehicleType (тип автомобиля) и Model (модель). Учитывая, что в таблице есть модель автомобиля - возьмём данные по типу автомобиля оттуда. Для этого создадим словарь модель - тип автомобиля, а также функцию которая пройдётся по строкам и соответствующе заполнит (пустые значения в модели и в типе автомобиля заполним unknown, чтобы учитывать и случай когда низвестны данные). Учитывая, что признаки FuelType (тип топлива) и Gearbox (тип коробки) схожи по смыслу с типом автомобиля, по ним пройдёмся также."
   ]
  },
  {
   "cell_type": "code",
   "execution_count": 11,
   "metadata": {},
   "outputs": [
    {
     "name": "stdout",
     "output_type": "stream",
     "text": [
      "0.1057936783409384\n",
      "0.055605879746817584\n",
      "0.09282696849893755\n",
      "0.055967085156997366\n"
     ]
    }
   ],
   "source": [
    "print(df[\"VehicleType\"].isna().mean())\n",
    "print(df[\"Model\"].isna().mean())\n",
    "print(df[\"FuelType\"].isna().mean())\n",
    "print(df[\"Gearbox\"].isna().mean())"
   ]
  },
  {
   "cell_type": "code",
   "execution_count": 12,
   "metadata": {},
   "outputs": [],
   "source": [
    "dict_model_veh = df.groupby(\"Model\")['VehicleType'].agg(lambda x:x.value_counts().index[0]).to_dict()\n",
    "# словарь для типа атвтомобиля\n",
    "dict_model_fuel = df.groupby(\"Model\")['FuelType'].agg(lambda x:x.value_counts().index[0]).to_dict()\n",
    "# словарь для типа топлива\n",
    "dict_model_gear = df.groupby(\"Model\")['Gearbox'].agg(lambda x:x.value_counts().index[0]).to_dict()\n",
    "# словарь для типа топлива"
   ]
  },
  {
   "cell_type": "markdown",
   "metadata": {},
   "source": [
    "создали словари для обоих случаев, перейдём к функциям и заполнению"
   ]
  },
  {
   "cell_type": "code",
   "execution_count": 13,
   "metadata": {},
   "outputs": [
    {
     "name": "stdout",
     "output_type": "stream",
     "text": [
      "0.0\n",
      "0.0\n"
     ]
    }
   ],
   "source": [
    "df[\"Model\"] = df[\"Model\"].fillna(\"unknown\")\n",
    "df[\"VehicleType\"] = df[\"VehicleType\"].fillna(\"unknown\")\n",
    "\n",
    "def model_to_veh(row):\n",
    "    model = row[\"Model\"]\n",
    "    veh = row[\"VehicleType\"]\n",
    "    \n",
    "    if model == \"unknown\" and veh == \"unknown\":\n",
    "        return \"unknown\"\n",
    "    elif model == \"unknown\" and veh != \"unknown\":\n",
    "        return veh\n",
    "    \n",
    "    return dict_model_veh[model]\n",
    "\n",
    "df[\"VehicleType\"] = df[[\"VehicleType\", \"Model\"]].apply(model_to_veh, axis=1)\n",
    "\n",
    "print(df[\"VehicleType\"].isna().mean())\n",
    "print(df[\"Model\"].isna().mean())"
   ]
  },
  {
   "cell_type": "markdown",
   "metadata": {},
   "source": [
    "<div class=\"alert alert-success\">\n",
    "    \n",
    "**Комментарий ревьюера**\n",
    "    \n",
    "Какими еще вариантами можно было заполнить? Разве не может быть так, что у авто\n",
    "</div>"
   ]
  },
  {
   "cell_type": "markdown",
   "metadata": {},
   "source": [
    "<div class=\"alert alert-block alert-info\">Тут совсем не понял - видимо что-то не заполнено. Мне кажется модель - самое подробное деление по этому по ней заполнять наиболее логично, можно еще по бренду (но бренд не производит один тип)</div>"
   ]
  },
  {
   "cell_type": "markdown",
   "metadata": {},
   "source": [
    "<div class=\"alert alert-success\">\n",
    "    \n",
    "**Комментарий ревьюера v_2**\n",
    "     \n",
    "Видимо часть моего комментария стерлась) Ну смотри, у нас ведь может быть так, что 1 модель в зависимости от комплектации будет иметь движок например слабее и тогда и вид топлива другой или коробку. Не знаю так ли это)Но суть вопроса была в том, чтобы ты изучил это)\n",
    "</div>"
   ]
  },
  {
   "cell_type": "markdown",
   "metadata": {},
   "source": [
    "Тип двигателя заполнили, перейдём к топливу"
   ]
  },
  {
   "cell_type": "code",
   "execution_count": 14,
   "metadata": {},
   "outputs": [
    {
     "name": "stdout",
     "output_type": "stream",
     "text": [
      "0.0\n"
     ]
    }
   ],
   "source": [
    "df[\"FuelType\"] = df[\"FuelType\"].fillna(\"unknown\")\n",
    "\n",
    "def model_to_fuel(row):\n",
    "    model = row[\"Model\"]\n",
    "    fuel = row[\"FuelType\"]\n",
    "    \n",
    "    if model == \"unknown\" and fuel == \"unknown\":\n",
    "        return \"unknown\"\n",
    "    elif model == \"unknown\" and fuel != \"unknown\":\n",
    "        return fuel\n",
    "    \n",
    "    return dict_model_fuel[model]\n",
    "\n",
    "df[\"FuelType\"] = df[[\"FuelType\", \"Model\"]].apply(model_to_fuel, axis=1)\n",
    "\n",
    "print(df[\"FuelType\"].isna().mean())"
   ]
  },
  {
   "cell_type": "markdown",
   "metadata": {},
   "source": [
    "Топливо сделали, заполним и коробку"
   ]
  },
  {
   "cell_type": "code",
   "execution_count": 15,
   "metadata": {},
   "outputs": [
    {
     "name": "stdout",
     "output_type": "stream",
     "text": [
      "0.0\n"
     ]
    }
   ],
   "source": [
    "df[\"Gearbox\"] = df[\"Gearbox\"].fillna(\"unknown\")\n",
    "\n",
    "def model_to_gear(row):\n",
    "    model = row[\"Model\"]\n",
    "    gear = row[\"Gearbox\"]\n",
    "    \n",
    "    if model == \"unknown\" and gear == \"unknown\":\n",
    "        return \"unknown\"\n",
    "    elif model == \"unknown\" and gear != \"unknown\":\n",
    "        return gear\n",
    "    \n",
    "    return dict_model_gear[model]\n",
    "\n",
    "df[\"Gearbox\"] = df[[\"Gearbox\", \"Model\"]].apply(model_to_gear, axis=1)\n",
    "\n",
    "print(df[\"Gearbox\"].isna().mean())"
   ]
  },
  {
   "cell_type": "markdown",
   "metadata": {},
   "source": [
    "<div class=\"alert alert-danger\">\n",
    "    \n",
    "**Комментарий ревьюера**\n",
    "    \n",
    "Это ведь копипаст)Пожалуйста исправь)\n",
    "</div>"
   ]
  },
  {
   "cell_type": "markdown",
   "metadata": {},
   "source": [
    "<div class=\"alert alert-block alert-info\">Тут тоже не понял - пометка красная, значит надо точно её поправить, но я не понимаю на что исправить. Убрать это всё в одну функцию? Или использовать разные логики? Или просто откинуть пустые значения? </div>"
   ]
  },
  {
   "cell_type": "markdown",
   "metadata": {},
   "source": [
    "<div class=\"alert alert-success\">\n",
    "    \n",
    "**Комментарий ревьюера v_2**\n",
    "     \n",
    "model_to_gear и model_to_fuel у тебя почти 1 в 1, это плохо)Можно написать другую функцию, которая сможет делать всё одна)\n",
    "</div>"
   ]
  },
  {
   "cell_type": "markdown",
   "metadata": {},
   "source": [
    "Уберём и дупликаты"
   ]
  },
  {
   "cell_type": "code",
   "execution_count": 16,
   "metadata": {},
   "outputs": [],
   "source": [
    "df = df.drop_duplicates()"
   ]
  },
  {
   "cell_type": "markdown",
   "metadata": {},
   "source": [
    "Еще раз посмотрим на данные по типу данных"
   ]
  },
  {
   "cell_type": "code",
   "execution_count": 17,
   "metadata": {},
   "outputs": [
    {
     "name": "stdout",
     "output_type": "stream",
     "text": [
      "<class 'pandas.core.frame.DataFrame'>\n",
      "Int64Index: 327385 entries, 0 to 354368\n",
      "Data columns (total 12 columns):\n",
      "Price               327385 non-null int64\n",
      "VehicleType         327385 non-null object\n",
      "RegistrationYear    327385 non-null int64\n",
      "Gearbox             327385 non-null object\n",
      "Power               327385 non-null int64\n",
      "Model               327385 non-null object\n",
      "Kilometer           327385 non-null int64\n",
      "FuelType            327385 non-null object\n",
      "Brand               327385 non-null object\n",
      "NotRepaired         327385 non-null object\n",
      "NumberOfPictures    327385 non-null int64\n",
      "PostalCode          327385 non-null int64\n",
      "dtypes: int64(6), object(6)\n",
      "memory usage: 32.5+ MB\n"
     ]
    }
   ],
   "source": [
    "df.info()"
   ]
  },
  {
   "cell_type": "markdown",
   "metadata": {},
   "source": [
    "Разобъём столбцы на категориальные и численные"
   ]
  },
  {
   "cell_type": "code",
   "execution_count": 18,
   "metadata": {},
   "outputs": [],
   "source": [
    "cat_columns = ['VehicleType', 'Gearbox', 'Model', 'FuelType', 'Brand', 'NotRepaired']\n",
    "num_columns = ['Price', 'RegistrationYear', 'Power', 'Kilometer', 'NumberOfPictures', 'PostalCode']"
   ]
  },
  {
   "cell_type": "markdown",
   "metadata": {},
   "source": [
    "Теперь численные признаки проверим на выбросы."
   ]
  },
  {
   "cell_type": "code",
   "execution_count": 19,
   "metadata": {},
   "outputs": [
    {
     "data": {
      "text/html": [
       "<div>\n",
       "<style scoped>\n",
       "    .dataframe tbody tr th:only-of-type {\n",
       "        vertical-align: middle;\n",
       "    }\n",
       "\n",
       "    .dataframe tbody tr th {\n",
       "        vertical-align: top;\n",
       "    }\n",
       "\n",
       "    .dataframe thead th {\n",
       "        text-align: right;\n",
       "    }\n",
       "</style>\n",
       "<table border=\"1\" class=\"dataframe\">\n",
       "  <thead>\n",
       "    <tr style=\"text-align: right;\">\n",
       "      <th></th>\n",
       "      <th>Price</th>\n",
       "      <th>RegistrationYear</th>\n",
       "      <th>Power</th>\n",
       "      <th>Kilometer</th>\n",
       "      <th>NumberOfPictures</th>\n",
       "      <th>PostalCode</th>\n",
       "    </tr>\n",
       "  </thead>\n",
       "  <tbody>\n",
       "    <tr>\n",
       "      <td>count</td>\n",
       "      <td>327385.000000</td>\n",
       "      <td>327385.000000</td>\n",
       "      <td>327385.000000</td>\n",
       "      <td>327385.000000</td>\n",
       "      <td>327385.0</td>\n",
       "      <td>327385.000000</td>\n",
       "    </tr>\n",
       "    <tr>\n",
       "      <td>mean</td>\n",
       "      <td>4385.449614</td>\n",
       "      <td>2004.182773</td>\n",
       "      <td>109.886091</td>\n",
       "      <td>128248.667471</td>\n",
       "      <td>0.0</td>\n",
       "      <td>50733.997336</td>\n",
       "    </tr>\n",
       "    <tr>\n",
       "      <td>std</td>\n",
       "      <td>4510.908428</td>\n",
       "      <td>89.914389</td>\n",
       "      <td>195.767964</td>\n",
       "      <td>37955.820872</td>\n",
       "      <td>0.0</td>\n",
       "      <td>25821.351863</td>\n",
       "    </tr>\n",
       "    <tr>\n",
       "      <td>min</td>\n",
       "      <td>0.000000</td>\n",
       "      <td>1000.000000</td>\n",
       "      <td>0.000000</td>\n",
       "      <td>5000.000000</td>\n",
       "      <td>0.0</td>\n",
       "      <td>1067.000000</td>\n",
       "    </tr>\n",
       "    <tr>\n",
       "      <td>25%</td>\n",
       "      <td>1000.000000</td>\n",
       "      <td>1999.000000</td>\n",
       "      <td>68.000000</td>\n",
       "      <td>125000.000000</td>\n",
       "      <td>0.0</td>\n",
       "      <td>30419.000000</td>\n",
       "    </tr>\n",
       "    <tr>\n",
       "      <td>50%</td>\n",
       "      <td>2699.000000</td>\n",
       "      <td>2003.000000</td>\n",
       "      <td>103.000000</td>\n",
       "      <td>150000.000000</td>\n",
       "      <td>0.0</td>\n",
       "      <td>49504.000000</td>\n",
       "    </tr>\n",
       "    <tr>\n",
       "      <td>75%</td>\n",
       "      <td>6300.000000</td>\n",
       "      <td>2008.000000</td>\n",
       "      <td>141.000000</td>\n",
       "      <td>150000.000000</td>\n",
       "      <td>0.0</td>\n",
       "      <td>71404.000000</td>\n",
       "    </tr>\n",
       "    <tr>\n",
       "      <td>max</td>\n",
       "      <td>20000.000000</td>\n",
       "      <td>9999.000000</td>\n",
       "      <td>20000.000000</td>\n",
       "      <td>150000.000000</td>\n",
       "      <td>0.0</td>\n",
       "      <td>99998.000000</td>\n",
       "    </tr>\n",
       "  </tbody>\n",
       "</table>\n",
       "</div>"
      ],
      "text/plain": [
       "               Price  RegistrationYear          Power      Kilometer  \\\n",
       "count  327385.000000     327385.000000  327385.000000  327385.000000   \n",
       "mean     4385.449614       2004.182773     109.886091  128248.667471   \n",
       "std      4510.908428         89.914389     195.767964   37955.820872   \n",
       "min         0.000000       1000.000000       0.000000    5000.000000   \n",
       "25%      1000.000000       1999.000000      68.000000  125000.000000   \n",
       "50%      2699.000000       2003.000000     103.000000  150000.000000   \n",
       "75%      6300.000000       2008.000000     141.000000  150000.000000   \n",
       "max     20000.000000       9999.000000   20000.000000  150000.000000   \n",
       "\n",
       "       NumberOfPictures     PostalCode  \n",
       "count          327385.0  327385.000000  \n",
       "mean                0.0   50733.997336  \n",
       "std                 0.0   25821.351863  \n",
       "min                 0.0    1067.000000  \n",
       "25%                 0.0   30419.000000  \n",
       "50%                 0.0   49504.000000  \n",
       "75%                 0.0   71404.000000  \n",
       "max                 0.0   99998.000000  "
      ]
     },
     "execution_count": 19,
     "metadata": {},
     "output_type": "execute_result"
    }
   ],
   "source": [
    "df[num_columns].describe()"
   ]
  },
  {
   "cell_type": "markdown",
   "metadata": {},
   "source": [
    "Кратко по численным признакам:\n",
    "- Price нужно оценить данные, точно убрать нули (мы предсказываем цену, нулевая цена - это какая-о ошибка)\n",
    "- RegistrationYear - нужно оценить и явно убрать выбросы (1000 год  9999 явно смущают)\n",
    "- Power нужно оценить данные, точно убрать нули и посмотреть большие выбросы (максимум 20 000 гораздо больше 75% значения в 143)\n",
    "- Kilometer на первый взгляд данные нормальны\n",
    "- NumberOfPictures состоит из нулей - можно выкинуть его из данных без потерь\n",
    "- PostalCode - всё ок\n",
    "\n",
    "Приступим по очереди"
   ]
  },
  {
   "cell_type": "code",
   "execution_count": 20,
   "metadata": {},
   "outputs": [
    {
     "name": "stdout",
     "output_type": "stream",
     "text": [
      "count    327385.000000\n",
      "mean       4385.449614\n",
      "std        4510.908428\n",
      "min           0.000000\n",
      "25%        1000.000000\n",
      "50%        2699.000000\n",
      "75%        6300.000000\n",
      "max       20000.000000\n",
      "Name: Price, dtype: float64\n"
     ]
    },
    {
     "data": {
      "text/plain": [
       "<matplotlib.axes._subplots.AxesSubplot at 0x7f08848d2790>"
      ]
     },
     "execution_count": 20,
     "metadata": {},
     "output_type": "execute_result"
    },
    {
     "data": {
      "image/png": "[encoded data removed]",
      "text/plain": [
       "<Figure size 432x288 with 1 Axes>"
      ]
     },
     "metadata": {
      "needs_background": "light"
     },
     "output_type": "display_data"
    }
   ],
   "source": [
    "print(df['Price'].describe())\n",
    "df['Price'].hist(bins = 100)"
   ]
  },
  {
   "cell_type": "markdown",
   "metadata": {},
   "source": [
    "Убираем только нули, остальные данные действительно распределенно идут до максимум"
   ]
  },
  {
   "cell_type": "code",
   "execution_count": 21,
   "metadata": {},
   "outputs": [],
   "source": [
    "df = df[df['Price'] > 0]\n",
    "# df['Price'].describe()"
   ]
  },
  {
   "cell_type": "markdown",
   "metadata": {},
   "source": [
    "С ценой разобрались, теперь к году регистрации"
   ]
  },
  {
   "cell_type": "code",
   "execution_count": 22,
   "metadata": {},
   "outputs": [
    {
     "name": "stdout",
     "output_type": "stream",
     "text": [
      "count    317590.000000\n",
      "mean       2004.087934\n",
      "std          80.661666\n",
      "min        1000.000000\n",
      "25%        1999.000000\n",
      "50%        2003.000000\n",
      "75%        2008.000000\n",
      "max        9999.000000\n",
      "Name: RegistrationYear, dtype: float64\n"
     ]
    },
    {
     "data": {
      "text/plain": [
       "<matplotlib.axes._subplots.AxesSubplot at 0x7f08848a0410>"
      ]
     },
     "execution_count": 22,
     "metadata": {},
     "output_type": "execute_result"
    },
    {
     "data": {
      "image/png": "[encoded data removed]",
      "text/plain": [
       "<Figure size 432x288 with 1 Axes>"
      ]
     },
     "metadata": {
      "needs_background": "light"
     },
     "output_type": "display_data"
    }
   ],
   "source": [
    "print(df['RegistrationYear'].describe())\n",
    "df['RegistrationYear'].hist(bins = 100)"
   ]
  },
  {
   "cell_type": "markdown",
   "metadata": {},
   "source": [
    "Выбросы слишком сильные (даже не видны на графике), возъмём минимум за 1900 год, а максимумом максимальный год загрузки анкеты (исходим из логики, что это настоящее время)"
   ]
  },
  {
   "cell_type": "markdown",
   "metadata": {},
   "source": [
    "<div class=\"alert alert-success\">\n",
    "    \n",
    "**Комментарий ревьюера**\n",
    "    \n",
    "А данные были другие)\n",
    "</div>"
   ]
  },
  {
   "cell_type": "markdown",
   "metadata": {},
   "source": [
    "<div class=\"alert alert-block alert-info\">Тут тоже не понял - данные другие - это имеется ввиду, что надо по другому отбрасывать? Или не отбрасывать и учиывать и эти года для точности?</div>"
   ]
  },
  {
   "cell_type": "markdown",
   "metadata": {},
   "source": [
    "<div class=\"alert alert-success\">\n",
    "    \n",
    "**Комментарий ревьюера v_2**\n",
    "     \n",
    "Это я про то, что максимум выгрузки это 2016 год, а у тебя если не ошибаюсь было 2021)\n",
    "</div>"
   ]
  },
  {
   "cell_type": "code",
   "execution_count": 23,
   "metadata": {},
   "outputs": [
    {
     "name": "stdout",
     "output_type": "stream",
     "text": [
      "count    304511.000000\n",
      "mean       2002.538362\n",
      "std           6.992269\n",
      "min        1910.000000\n",
      "25%        1999.000000\n",
      "50%        2003.000000\n",
      "75%        2007.000000\n",
      "max        2016.000000\n",
      "Name: RegistrationYear, dtype: float64\n"
     ]
    },
    {
     "data": {
      "image/png": "[encoded data removed]",
      "text/plain": [
       "<Figure size 432x288 with 1 Axes>"
      ]
     },
     "metadata": {
      "needs_background": "light"
     },
     "output_type": "display_data"
    }
   ],
   "source": [
    "max_year = pd.to_datetime(data['DateCreated']).max().year\n",
    "# display(max_year)\n",
    "df = df[(df['RegistrationYear'] <= max_year) & (df['RegistrationYear'] > 1900)]\n",
    "df['RegistrationYear'].hist(bins = 100)\n",
    "print(df['RegistrationYear'].describe())"
   ]
  },
  {
   "cell_type": "markdown",
   "metadata": {},
   "source": [
    "C годами предобработку закончили, взглянем на мощность."
   ]
  },
  {
   "cell_type": "code",
   "execution_count": 24,
   "metadata": {},
   "outputs": [
    {
     "name": "stdout",
     "output_type": "stream",
     "text": [
      "count    304511.000000\n",
      "mean        111.700684\n",
      "std         190.544270\n",
      "min           0.000000\n",
      "25%          70.000000\n",
      "50%         105.000000\n",
      "75%         143.000000\n",
      "max       20000.000000\n",
      "Name: Power, dtype: float64\n"
     ]
    },
    {
     "data": {
      "text/plain": [
       "<matplotlib.axes._subplots.AxesSubplot at 0x7f088457cb90>"
      ]
     },
     "execution_count": 24,
     "metadata": {},
     "output_type": "execute_result"
    },
    {
     "data": {
      "image/png": "[encoded data removed]",
      "text/plain": [
       "<Figure size 432x288 with 1 Axes>"
      ]
     },
     "metadata": {
      "needs_background": "light"
     },
     "output_type": "display_data"
    }
   ],
   "source": [
    "print(df['Power'].describe())\n",
    "df['Power'].hist(bins = 100)"
   ]
  },
  {
   "cell_type": "markdown",
   "metadata": {},
   "source": [
    "Ситуация аналогичная годам, график не может показать ввиду слишком большого выброса. Ограничим: сразу возьмём больше нуля, а также меньше 1000"
   ]
  },
  {
   "cell_type": "code",
   "execution_count": 25,
   "metadata": {},
   "outputs": [
    {
     "name": "stdout",
     "output_type": "stream",
     "text": [
      "count    273249.000000\n",
      "mean        120.555310\n",
      "std          54.888698\n",
      "min           1.000000\n",
      "25%          75.000000\n",
      "50%         110.000000\n",
      "75%         150.000000\n",
      "max        1000.000000\n",
      "Name: Power, dtype: float64\n"
     ]
    },
    {
     "data": {
      "image/png": "[encoded data removed]",
      "text/plain": [
       "<Figure size 432x288 with 1 Axes>"
      ]
     },
     "metadata": {
      "needs_background": "light"
     },
     "output_type": "display_data"
    }
   ],
   "source": [
    "df = df[(df['Power'] <= 1000) & (df['Power'] > 0)]\n",
    "df['Power'].hist(bins = 100)\n",
    "print(df['Power'].describe())"
   ]
  },
  {
   "cell_type": "markdown",
   "metadata": {},
   "source": [
    "Видно, что можно снизить значения еще до примерно 600 и не поерять значимых данных. Сократим, а также сразу уберём признак количество картинок как пустой."
   ]
  },
  {
   "cell_type": "code",
   "execution_count": 26,
   "metadata": {},
   "outputs": [],
   "source": [
    "df = df[df['Power'] <= 600]\n",
    "df = df.drop(['NumberOfPictures'], axis = 1)\n",
    "# df.info()"
   ]
  },
  {
   "cell_type": "markdown",
   "metadata": {},
   "source": [
    "Подготовка данных завершена, перейдём к следующему шагу: Обучение моделей"
   ]
  },
  {
   "cell_type": "markdown",
   "metadata": {},
   "source": [
    "## Обучение моделей"
   ]
  },
  {
   "cell_type": "markdown",
   "metadata": {},
   "source": [
    "Для сравнения моделей мы будем использовать следюущие:\n",
    "- CatBoost\n",
    "- LightGBM\n",
    "- Linear\n",
    "\n",
    "Для начала подготовим данные."
   ]
  },
  {
   "cell_type": "code",
   "execution_count": 27,
   "metadata": {
    "scrolled": true
   },
   "outputs": [
    {
     "name": "stderr",
     "output_type": "stream",
     "text": [
      "/opt/conda/lib/python3.7/site-packages/ipykernel_launcher.py:13: SettingWithCopyWarning: \n",
      "A value is trying to be set on a copy of a slice from a DataFrame.\n",
      "Try using .loc[row_indexer,col_indexer] = value instead\n",
      "\n",
      "See the caveats in the documentation: http://pandas.pydata.org/pandas-docs/stable/user_guide/indexing.html#returning-a-view-versus-a-copy\n",
      "  del sys.path[0]\n",
      "/opt/conda/lib/python3.7/site-packages/pandas/core/indexing.py:494: SettingWithCopyWarning: \n",
      "A value is trying to be set on a copy of a slice from a DataFrame.\n",
      "Try using .loc[row_indexer,col_indexer] = value instead\n",
      "\n",
      "See the caveats in the documentation: http://pandas.pydata.org/pandas-docs/stable/user_guide/indexing.html#returning-a-view-versus-a-copy\n",
      "  self.obj[item] = s\n",
      "/opt/conda/lib/python3.7/site-packages/ipykernel_launcher.py:14: SettingWithCopyWarning: \n",
      "A value is trying to be set on a copy of a slice from a DataFrame.\n",
      "Try using .loc[row_indexer,col_indexer] = value instead\n",
      "\n",
      "See the caveats in the documentation: http://pandas.pydata.org/pandas-docs/stable/user_guide/indexing.html#returning-a-view-versus-a-copy\n",
      "  \n",
      "/opt/conda/lib/python3.7/site-packages/pandas/core/indexing.py:494: SettingWithCopyWarning: \n",
      "A value is trying to be set on a copy of a slice from a DataFrame.\n",
      "Try using .loc[row_indexer,col_indexer] = value instead\n",
      "\n",
      "See the caveats in the documentation: http://pandas.pydata.org/pandas-docs/stable/user_guide/indexing.html#returning-a-view-versus-a-copy\n",
      "  self.obj[item] = s\n"
     ]
    }
   ],
   "source": [
    "features = df.drop(['Price'], axis = 1)\n",
    "target = df['Price']\n",
    "\n",
    "encoder = OrdinalEncoder()\n",
    "features[cat_columns] = encoder.fit_transform(features[cat_columns])\n",
    "\n",
    "features_train, features_test, target_train, target_test = train_test_split(\n",
    "    features, target, test_size=0.25, random_state=12345)\n",
    "\n",
    "scaler = StandardScaler()\n",
    "num_columns = ['RegistrationYear', 'Power', 'Kilometer', 'PostalCode']\n",
    "scaler.fit(features_train[num_columns])\n",
    "features_train[num_columns] = scaler.transform(features_train[num_columns])\n",
    "features_test[num_columns] = scaler.transform(features_test[num_columns])"
   ]
  },
  {
   "cell_type": "markdown",
   "metadata": {},
   "source": [
    "<div class=\"alert alert-danger\">\n",
    "    \n",
    "**Комментарий ревьюера**\n",
    "    \n",
    "Мы должны обучать скалер только на трейн части. Поэтому сначала делим нашу выборку, а уже потом обучаем на трейне и трансформим\n",
    "</div>"
   ]
  },
  {
   "cell_type": "markdown",
   "metadata": {},
   "source": [
    "<div class=\"alert alert-block alert-info\">Спасибо, не знал и делал всегда так! Поменял местами</div>"
   ]
  },
  {
   "cell_type": "markdown",
   "metadata": {},
   "source": [
    "<div class=\"alert alert-success\">\n",
    "    \n",
    "**Комментарий ревьюера v_2**\n",
    "     \n",
    "Хорошо, что узнал сейчас)Я многие шишки набил, когда получал отказы на собеседованиях)\n",
    "</div>"
   ]
  },
  {
   "cell_type": "markdown",
   "metadata": {},
   "source": [
    "Подготовку закончили, перейдём к обучению моделей"
   ]
  },
  {
   "cell_type": "markdown",
   "metadata": {},
   "source": [
    "### CatBoost"
   ]
  },
  {
   "cell_type": "markdown",
   "metadata": {},
   "source": [
    "Возьмём 2 модели с разной глубиной (10 и 5)"
   ]
  },
  {
   "cell_type": "code",
   "execution_count": null,
   "metadata": {},
   "outputs": [
    {
     "name": "stderr",
     "output_type": "stream",
     "text": [
      "/opt/conda/lib/python3.7/site-packages/sklearn/model_selection/_split.py:1978: FutureWarning: The default value of cv will change from 3 to 5 in version 0.22. Specify it explicitly to silence this warning.\n",
      "  warnings.warn(CV_WARNING, FutureWarning)\n"
     ]
    },
    {
     "name": "stdout",
     "output_type": "stream",
     "text": [
      "0:\tlearn: 2578.4063703\ttotal: 271ms\tremaining: 1m 48s\n",
      "100:\tlearn: 1453.0381759\ttotal: 21.5s\tremaining: 1m 3s\n",
      "200:\tlearn: 1314.8304136\ttotal: 42.2s\tremaining: 41.8s\n",
      "300:\tlearn: 1225.3726927\ttotal: 1m 3s\tremaining: 20.8s\n",
      "399:\tlearn: 1151.1273530\ttotal: 1m 24s\tremaining: 0us\n",
      "0:\tlearn: 2553.5629445\ttotal: 116ms\tremaining: 46.3s\n"
     ]
    }
   ],
   "source": [
    "%%time\n",
    "catboost = CatBoostRegressor()\n",
    "parametrs_cat = {'loss_function' : ['RMSE'],\n",
    "             'iterations' : [400],\n",
    "              'depth' : [10, 5],\n",
    "              'learning_rate' : [0.8],\n",
    "              'verbose' : [100],\n",
    "              'random_state' : [12345]}\n",
    "clf_cat = GridSearchCV(catboost, parametrs_cat)\n",
    "\n",
    "clf_cat.fit(features_train, target_train)\n",
    "\n",
    "print(clf_cat.best_params_)"
   ]
  },
  {
   "cell_type": "markdown",
   "metadata": {},
   "source": [
    "<div class=\"alert alert-danger\">\n",
    "    \n",
    "**Комментарий ревьюера**\n",
    "    \n",
    "Откуда взяли гиперпараметры?)Нужно их подобрать не используя тестовую часть)для этого или выдели еще валидационную часть или воспользуйся cv)Если будут какие-то вопросы или нужна помощь, я всегда рад)Жду доработок!)\n",
    "</div>"
   ]
  },
  {
   "cell_type": "markdown",
   "metadata": {},
   "source": [
    "<div class=\"alert alert-block alert-info\">Взял параметры просто так, чтобы посмотреть на разных гиперпараметрах как будет работать и дальше сделать вывод.В задаче было указано попробовать разные параметры, 2-3 из-за того, что обучается долго. Добавил GridSearchCV в каждый, затем по лучшему параметру вынес обучение (чтобы замерить время для сравнения) это то, что нужно?</div>"
   ]
  },
  {
   "cell_type": "markdown",
   "metadata": {},
   "source": [
    "<div class=\"alert alert-success\">\n",
    "    \n",
    "**Комментарий ревьюера v_2**\n",
    "     \n",
    "Супер)\n",
    "</div>"
   ]
  },
  {
   "cell_type": "code",
   "execution_count": null,
   "metadata": {},
   "outputs": [],
   "source": [
    "%%time\n",
    "best_cat = CatBoostRegressor(loss_function = 'RMSE',\n",
    "             iterations = 400,\n",
    "              depth = 5,\n",
    "              learning_rate = 0.8,\n",
    "              verbose = 100,\n",
    "              random_state = 12345)\n",
    "best_cat.fit(features_train, target_train)"
   ]
  },
  {
   "cell_type": "code",
   "execution_count": null,
   "metadata": {},
   "outputs": [],
   "source": [
    "%%time\n",
    "best_cat_pred = best_cat.predict(features_test)"
   ]
  },
  {
   "cell_type": "code",
   "execution_count": null,
   "metadata": {},
   "outputs": [],
   "source": [
    "print(\"RMSE catboost\", mean_squared_error(target_test, best_cat_pred)**(0.5))"
   ]
  },
  {
   "cell_type": "markdown",
   "metadata": {},
   "source": [
    "### LightGBM"
   ]
  },
  {
   "cell_type": "markdown",
   "metadata": {},
   "source": [
    "Возьмём также разную глубину (15, 10, 5) для сравнения."
   ]
  },
  {
   "cell_type": "code",
   "execution_count": null,
   "metadata": {},
   "outputs": [],
   "source": [
    "%%time\n",
    "LGBM = LGBMRegressor()\n",
    "parametrs_LGBM = {'metric' : ['RMSE'],\n",
    "                  'n_estimators' : [100],\n",
    "              'depth' : [15, 10, 5],\n",
    "              'learning_rate' : [0.8],\n",
    "              'verbose' : [50],\n",
    "              'random_state' : [12345]}\n",
    "clf_LGBM = GridSearchCV(LGBM, parametrs_LGBM)\n",
    "\n",
    "clf_LGBM.fit(features_train, target_train)\n",
    "\n",
    "print(clf_LGBM.best_params_)"
   ]
  },
  {
   "cell_type": "code",
   "execution_count": null,
   "metadata": {},
   "outputs": [],
   "source": [
    "%%time\n",
    "best_LGBM = LGBMRegressor(metric = 'RMSE',\n",
    "                  n_estimators = 100,\n",
    "              depth = 15,\n",
    "              learning_rate = 0.8,\n",
    "              verbose = 50,\n",
    "              random_state = 12345)\n",
    "best_LGBM.fit(features_train, target_train)"
   ]
  },
  {
   "cell_type": "code",
   "execution_count": null,
   "metadata": {},
   "outputs": [],
   "source": [
    "%%time\n",
    "best_LGBM_pred = best_LGBM.predict(features_test)"
   ]
  },
  {
   "cell_type": "code",
   "execution_count": null,
   "metadata": {},
   "outputs": [],
   "source": [
    "print(\"RMSE LGBM\", mean_squared_error(target_test, best_LGBM_pred)**(0.5))"
   ]
  },
  {
   "cell_type": "markdown",
   "metadata": {},
   "source": [
    "### Linear"
   ]
  },
  {
   "cell_type": "markdown",
   "metadata": {},
   "source": [
    "Для сравнения третьей возьмём просту модель Линейной регрессии"
   ]
  },
  {
   "cell_type": "code",
   "execution_count": null,
   "metadata": {},
   "outputs": [],
   "source": [
    "%%time\n",
    "\n",
    "LINR = LinearRegression(normalize=True)\n",
    "\n",
    "LINR.fit(features_train, target_train)"
   ]
  },
  {
   "cell_type": "code",
   "execution_count": null,
   "metadata": {},
   "outputs": [],
   "source": [
    "%%time\n",
    "LINR_pred = LINR.predict(features_test)"
   ]
  },
  {
   "cell_type": "code",
   "execution_count": null,
   "metadata": {},
   "outputs": [],
   "source": [
    "print(\"RMSE LINEAR\", mean_squared_error(target_test, LINR_pred)**(0.5))"
   ]
  },
  {
   "cell_type": "markdown",
   "metadata": {},
   "source": [
    "Имея данные по всем моделям, сравним итоговые результаты"
   ]
  },
  {
   "cell_type": "markdown",
   "metadata": {},
   "source": [
    "## Анализ моделей"
   ]
  },
  {
   "cell_type": "code",
   "execution_count": null,
   "metadata": {},
   "outputs": [],
   "source": [
    "data = [['56.6 s', '67.7 ms', 1694.44],\n",
    "        ['5.29 s', '464 sms', 1745.85],\n",
    "        ['83.6 ms', '7.77 ms', 2998.93]]\n",
    "\n",
    "model = ['CatBoost', 'LightGBM', 'Linear']\n",
    "\n",
    "metrika = ['CPU times fit', 'CPU times predict', 'RMSE']\n",
    "\n",
    "result = pd.DataFrame(data = data, index = model, columns = metrika)\n",
    "\n",
    "display(result)"
   ]
  },
  {
   "cell_type": "markdown",
   "metadata": {},
   "source": [
    "- Наибольшую скорость обучения и предсказания показала простая модель Линейной Регрессии (операции выполнялись за милисекунды, где остальным моделям требовались секунды), однако она же показала и худший RMSE тоже с большим отрывом (почти в 2 раза). \n",
    "- Вторая по скорости обучения - это модель LGBM, которая показала хороший RMSE, но заняла третье (худшее) место по скорости предсказаний. \n",
    "- Модель же Catboost показала самое большое время обучения, но при этом лучший RMSE и очень достойное время предикта!\n",
    "\n",
    "Главный вывод: **Для наилушего предсказания мы выбираем модель Catboost за лучший RMSE, а также за приемлемые значения скорости предсказания.** Время обучения не так важно, поскольку важнее результат и как быстро мы сможем его предоставлять!"
   ]
  },
  {
   "cell_type": "markdown",
   "metadata": {},
   "source": [
    "## Чек-лист проверки"
   ]
  },
  {
   "cell_type": "markdown",
   "metadata": {},
   "source": [
    "Поставьте 'x' в выполненных пунктах. Далее нажмите Shift+Enter."
   ]
  },
  {
   "cell_type": "markdown",
   "metadata": {},
   "source": [
    "- [x]  Jupyter Notebook открыт\n",
    "- [x]  Весь код выполняется без ошибок\n",
    "- [x]  Ячейки с кодом расположены в порядке исполнения\n",
    "- [x]  Выполнена загрузка и подготовка данных\n",
    "- [x]  Выполнено обучение моделей\n",
    "- [x]  Есть анализ скорости работы и качества моделей"
   ]
  },
  {
   "cell_type": "markdown",
   "metadata": {},
   "source": [
    "<div class=\"alert alert-success\">\n",
    "    \n",
    "**Комментарий ревьюера v_2**\n",
    "     \n",
    "У меня вопросов больше нет, ты большой молодец)Если что, пиши через куратора)Успехов в следующих проектах!)\n",
    "\n",
    "время\n",
    "\n",
    "https://www.youtube.com/watch?v=u433nrxdf5k&ab_channel=DataMininginAction\n",
    "\n",
    "https://scikit-learn.org/stable/modules/generated/sklearn.model_selection.TimeSeriesSplit.html\n",
    "</div>"
   ]
  },
  {
   "cell_type": "code",
   "execution_count": null,
   "metadata": {},
   "outputs": [],
   "source": []
  }
 ],
 "metadata": {
  "ExecuteTimeLog": [
   {
    "duration": 1509,
    "start_time": "2021-07-26T05:41:32.559Z"
   },
   {
    "duration": 1196,
    "start_time": "2021-07-26T05:42:42.450Z"
   },
   {
    "duration": 1222,
    "start_time": "2021-07-26T05:43:08.189Z"
   },
   {
    "duration": 1046,
    "start_time": "2021-07-26T05:44:08.247Z"
   },
   {
    "duration": 59,
    "start_time": "2021-07-26T05:55:36.359Z"
   },
   {
    "duration": 452,
    "start_time": "2021-07-26T05:56:00.326Z"
   },
   {
    "duration": 308,
    "start_time": "2021-07-26T05:57:51.934Z"
   },
   {
    "duration": 101,
    "start_time": "2021-07-26T05:58:26.199Z"
   },
   {
    "duration": 1434,
    "start_time": "2021-07-26T05:58:55.740Z"
   },
   {
    "duration": 1050,
    "start_time": "2021-07-26T05:58:57.176Z"
   },
   {
    "duration": 191,
    "start_time": "2021-07-26T05:58:58.229Z"
   },
   {
    "duration": 173,
    "start_time": "2021-07-26T05:58:58.423Z"
   },
   {
    "duration": 433,
    "start_time": "2021-07-26T06:00:17.123Z"
   },
   {
    "duration": 273,
    "start_time": "2021-07-26T06:00:44.628Z"
   },
   {
    "duration": 1470,
    "start_time": "2021-07-26T06:04:35.718Z"
   },
   {
    "duration": 1094,
    "start_time": "2021-07-26T06:04:37.190Z"
   },
   {
    "duration": 201,
    "start_time": "2021-07-26T06:04:38.288Z"
   },
   {
    "duration": 173,
    "start_time": "2021-07-26T06:04:38.492Z"
   },
   {
    "duration": 95,
    "start_time": "2021-07-26T06:05:21.147Z"
   },
   {
    "duration": 96,
    "start_time": "2021-07-26T06:05:28.145Z"
   },
   {
    "duration": 520,
    "start_time": "2021-07-26T06:07:20.161Z"
   },
   {
    "duration": 100,
    "start_time": "2021-07-26T06:07:29.591Z"
   },
   {
    "duration": 27,
    "start_time": "2021-07-26T06:09:11.311Z"
   },
   {
    "duration": 27,
    "start_time": "2021-07-26T06:11:23.322Z"
   },
   {
    "duration": 298,
    "start_time": "2021-07-26T06:16:08.450Z"
   },
   {
    "duration": 286,
    "start_time": "2021-07-26T06:16:17.646Z"
   },
   {
    "duration": 164,
    "start_time": "2021-07-26T06:16:31.559Z"
   },
   {
    "duration": 127,
    "start_time": "2021-07-26T06:17:48.420Z"
   },
   {
    "duration": 26,
    "start_time": "2021-07-26T06:20:19.734Z"
   },
   {
    "duration": 25,
    "start_time": "2021-07-26T06:21:49.215Z"
   },
   {
    "duration": 24,
    "start_time": "2021-07-26T06:22:19.412Z"
   },
   {
    "duration": 37,
    "start_time": "2021-07-26T06:22:36.169Z"
   },
   {
    "duration": 22,
    "start_time": "2021-07-26T06:30:30.227Z"
   },
   {
    "duration": 26,
    "start_time": "2021-07-26T06:31:01.271Z"
   },
   {
    "duration": 29,
    "start_time": "2021-07-26T06:31:20.059Z"
   },
   {
    "duration": 721,
    "start_time": "2021-07-26T06:33:04.255Z"
   },
   {
    "duration": 949,
    "start_time": "2021-07-26T06:33:45.834Z"
   },
   {
    "duration": 9921,
    "start_time": "2021-07-26T06:37:01.146Z"
   },
   {
    "duration": 10236,
    "start_time": "2021-07-26T06:41:18.013Z"
   },
   {
    "duration": 10075,
    "start_time": "2021-07-26T06:46:00.699Z"
   },
   {
    "duration": 104,
    "start_time": "2021-07-26T06:52:37.555Z"
   },
   {
    "duration": 1501,
    "start_time": "2021-07-26T06:52:54.773Z"
   },
   {
    "duration": 1050,
    "start_time": "2021-07-26T06:52:56.277Z"
   },
   {
    "duration": 196,
    "start_time": "2021-07-26T06:52:57.335Z"
   },
   {
    "duration": 172,
    "start_time": "2021-07-26T06:52:57.533Z"
   },
   {
    "duration": 115,
    "start_time": "2021-07-26T06:52:57.707Z"
   },
   {
    "duration": 41,
    "start_time": "2021-07-26T06:52:57.824Z"
   },
   {
    "duration": 72,
    "start_time": "2021-07-26T06:52:57.867Z"
   },
   {
    "duration": 743,
    "start_time": "2021-07-26T06:52:57.943Z"
   },
   {
    "duration": 9460,
    "start_time": "2021-07-26T06:52:58.689Z"
   },
   {
    "duration": 9603,
    "start_time": "2021-07-26T06:53:08.155Z"
   },
   {
    "duration": 105,
    "start_time": "2021-07-26T06:53:17.760Z"
   },
   {
    "duration": 121,
    "start_time": "2021-07-26T07:01:01.566Z"
   },
   {
    "duration": 517,
    "start_time": "2021-07-26T07:11:34.854Z"
   },
   {
    "duration": 93,
    "start_time": "2021-07-26T07:12:11.699Z"
   },
   {
    "duration": 83,
    "start_time": "2021-07-26T07:13:24.746Z"
   },
   {
    "duration": 4,
    "start_time": "2021-07-26T07:13:43.792Z"
   },
   {
    "duration": 280,
    "start_time": "2021-07-26T07:15:14.331Z"
   },
   {
    "duration": 85,
    "start_time": "2021-07-26T07:15:24.033Z"
   },
   {
    "duration": 87,
    "start_time": "2021-07-26T07:15:46.212Z"
   },
   {
    "duration": 585,
    "start_time": "2021-07-26T07:21:12.897Z"
   },
   {
    "duration": 630,
    "start_time": "2021-07-26T07:22:47.414Z"
   },
   {
    "duration": 124,
    "start_time": "2021-07-26T07:23:03.210Z"
   },
   {
    "duration": 71,
    "start_time": "2021-07-26T07:23:11.527Z"
   },
   {
    "duration": 46,
    "start_time": "2021-07-26T07:23:48.529Z"
   },
   {
    "duration": 126,
    "start_time": "2021-07-26T07:25:53.074Z"
   },
   {
    "duration": 614,
    "start_time": "2021-07-26T07:31:08.097Z"
   },
   {
    "duration": 570,
    "start_time": "2021-07-26T07:33:29.944Z"
   },
   {
    "duration": 95,
    "start_time": "2021-07-26T07:37:43.713Z"
   },
   {
    "duration": 245,
    "start_time": "2021-07-26T07:37:48.415Z"
   },
   {
    "duration": 1557,
    "start_time": "2021-07-26T07:38:02.450Z"
   },
   {
    "duration": 1111,
    "start_time": "2021-07-26T07:38:04.010Z"
   },
   {
    "duration": 203,
    "start_time": "2021-07-26T07:38:05.125Z"
   },
   {
    "duration": 161,
    "start_time": "2021-07-26T07:38:05.332Z"
   },
   {
    "duration": 113,
    "start_time": "2021-07-26T07:38:05.496Z"
   },
   {
    "duration": 41,
    "start_time": "2021-07-26T07:38:05.611Z"
   },
   {
    "duration": 103,
    "start_time": "2021-07-26T07:38:05.655Z"
   },
   {
    "duration": 1187,
    "start_time": "2021-07-26T07:38:05.760Z"
   },
   {
    "duration": 10409,
    "start_time": "2021-07-26T07:38:06.951Z"
   },
   {
    "duration": 10425,
    "start_time": "2021-07-26T07:38:17.363Z"
   },
   {
    "duration": 11367,
    "start_time": "2021-07-26T07:38:27.792Z"
   },
   {
    "duration": 276,
    "start_time": "2021-07-26T07:38:39.162Z"
   },
   {
    "duration": 97,
    "start_time": "2021-07-26T07:38:39.442Z"
   },
   {
    "duration": 4,
    "start_time": "2021-07-26T07:38:39.542Z"
   },
   {
    "duration": 118,
    "start_time": "2021-07-26T07:38:39.549Z"
   },
   {
    "duration": 743,
    "start_time": "2021-07-26T07:38:39.669Z"
   },
   {
    "duration": 43,
    "start_time": "2021-07-26T07:38:40.415Z"
   },
   {
    "duration": 639,
    "start_time": "2021-07-26T07:38:40.461Z"
   },
   {
    "duration": 33,
    "start_time": "2021-07-26T07:38:41.103Z"
   },
   {
    "duration": 615,
    "start_time": "2021-07-26T07:38:41.139Z"
   },
   {
    "duration": 43,
    "start_time": "2021-07-26T07:38:41.756Z"
   },
   {
    "duration": 39,
    "start_time": "2021-07-26T07:38:59.441Z"
   },
   {
    "duration": 468,
    "start_time": "2021-07-26T07:39:07.582Z"
   },
   {
    "duration": 316,
    "start_time": "2021-07-26T07:39:13.537Z"
   },
   {
    "duration": 305,
    "start_time": "2021-07-26T07:39:49.270Z"
   },
   {
    "duration": 97,
    "start_time": "2021-07-26T07:40:00.857Z"
   },
   {
    "duration": 383,
    "start_time": "2021-07-26T07:40:08.473Z"
   },
   {
    "duration": 62,
    "start_time": "2021-07-26T07:40:25.327Z"
   },
   {
    "duration": 62,
    "start_time": "2021-07-26T07:40:37.594Z"
   },
   {
    "duration": 61,
    "start_time": "2021-07-26T07:43:18.015Z"
   },
   {
    "duration": 282,
    "start_time": "2021-07-26T07:44:17.726Z"
   },
   {
    "duration": 318,
    "start_time": "2021-07-26T07:45:07.523Z"
   },
   {
    "duration": 712,
    "start_time": "2021-07-26T07:46:21.245Z"
   },
   {
    "duration": 789,
    "start_time": "2021-07-26T07:46:43.858Z"
   },
   {
    "duration": 650,
    "start_time": "2021-07-26T07:48:07.273Z"
   },
   {
    "duration": 616,
    "start_time": "2021-07-26T07:51:30.229Z"
   },
   {
    "duration": 688,
    "start_time": "2021-07-26T07:53:07.290Z"
   },
   {
    "duration": 820,
    "start_time": "2021-07-26T07:53:26.571Z"
   },
   {
    "duration": 666,
    "start_time": "2021-07-26T07:53:34.946Z"
   },
   {
    "duration": 114,
    "start_time": "2021-07-26T08:18:24.707Z"
   },
   {
    "duration": 324,
    "start_time": "2021-07-26T08:28:11.384Z"
   },
   {
    "duration": 571,
    "start_time": "2021-07-26T08:28:21.638Z"
   },
   {
    "duration": 4,
    "start_time": "2021-07-26T08:29:06.448Z"
   },
   {
    "duration": 5,
    "start_time": "2021-07-26T08:45:17.539Z"
   },
   {
    "duration": 7724,
    "start_time": "2021-07-26T08:46:10.566Z"
   },
   {
    "duration": 568,
    "start_time": "2021-07-26T08:47:42.061Z"
   },
   {
    "duration": 7501,
    "start_time": "2021-07-26T08:47:43.781Z"
   },
   {
    "duration": 56,
    "start_time": "2021-07-26T08:48:16.177Z"
   },
   {
    "duration": 127510,
    "start_time": "2021-07-26T08:49:24.395Z"
   },
   {
    "duration": 16830,
    "start_time": "2021-07-26T08:51:54.759Z"
   },
   {
    "duration": 457893,
    "start_time": "2021-07-26T08:52:23.870Z"
   },
   {
    "duration": 1002,
    "start_time": "2021-07-26T09:00:19.035Z"
   },
   {
    "duration": 1166,
    "start_time": "2021-07-26T09:00:36.019Z"
   },
   {
    "duration": 9,
    "start_time": "2021-07-26T09:00:45.026Z"
   },
   {
    "duration": 1101,
    "start_time": "2021-07-26T09:00:50.994Z"
   },
   {
    "duration": 14820,
    "start_time": "2021-07-26T09:01:14.110Z"
   },
   {
    "duration": 179166,
    "start_time": "2021-07-26T09:01:40.969Z"
   },
   {
    "duration": 484,
    "start_time": "2021-07-26T09:04:48.304Z"
   },
   {
    "duration": 8,
    "start_time": "2021-07-26T09:04:51.727Z"
   },
   {
    "duration": 6,
    "start_time": "2021-07-26T09:04:56.641Z"
   },
   {
    "duration": 6,
    "start_time": "2021-07-26T09:05:20.802Z"
   },
   {
    "duration": 253,
    "start_time": "2021-07-26T09:11:28.337Z"
   },
   {
    "duration": 717,
    "start_time": "2021-07-26T09:14:46.107Z"
   },
   {
    "duration": 279,
    "start_time": "2021-07-26T09:14:55.096Z"
   },
   {
    "duration": 316,
    "start_time": "2021-07-26T09:15:06.377Z"
   },
   {
    "duration": 136,
    "start_time": "2021-07-26T09:15:55.127Z"
   },
   {
    "duration": 180309,
    "start_time": "2021-07-26T09:16:01.114Z"
   },
   {
    "duration": 15,
    "start_time": "2021-07-26T09:21:02.447Z"
   },
   {
    "duration": 685,
    "start_time": "2021-07-26T09:21:56.175Z"
   },
   {
    "duration": 673,
    "start_time": "2021-07-26T09:22:22.016Z"
   },
   {
    "duration": 899,
    "start_time": "2021-07-26T09:22:42.787Z"
   },
   {
    "duration": 1364,
    "start_time": "2021-07-26T09:23:35.673Z"
   },
   {
    "duration": 33316,
    "start_time": "2021-07-26T09:23:58.377Z"
   },
   {
    "duration": 30492,
    "start_time": "2021-07-26T09:24:39.008Z"
   },
   {
    "duration": 13,
    "start_time": "2021-07-26T09:31:34.149Z"
   },
   {
    "duration": 6,
    "start_time": "2021-07-26T09:31:39.084Z"
   },
   {
    "duration": 1434,
    "start_time": "2021-07-26T09:31:40.423Z"
   },
   {
    "duration": 291,
    "start_time": "2021-07-26T09:31:42.241Z"
   },
   {
    "duration": 218,
    "start_time": "2021-07-26T09:31:42.789Z"
   },
   {
    "duration": 175,
    "start_time": "2021-07-26T09:31:43.186Z"
   },
   {
    "duration": 68,
    "start_time": "2021-07-26T09:31:43.631Z"
   },
   {
    "duration": 126,
    "start_time": "2021-07-26T09:31:44.073Z"
   },
   {
    "duration": 1803,
    "start_time": "2021-07-26T09:31:44.481Z"
   },
   {
    "duration": 10700,
    "start_time": "2021-07-26T09:31:46.287Z"
   },
   {
    "duration": 11367,
    "start_time": "2021-07-26T09:31:56.992Z"
   },
   {
    "duration": 12349,
    "start_time": "2021-07-26T09:32:08.363Z"
   },
   {
    "duration": 262,
    "start_time": "2021-07-26T09:32:20.714Z"
   },
   {
    "duration": 84,
    "start_time": "2021-07-26T09:32:20.979Z"
   },
   {
    "duration": 18,
    "start_time": "2021-07-26T09:32:21.065Z"
   },
   {
    "duration": 96,
    "start_time": "2021-07-26T09:32:21.088Z"
   },
   {
    "duration": 824,
    "start_time": "2021-07-26T09:32:21.187Z"
   },
   {
    "duration": 48,
    "start_time": "2021-07-26T09:32:22.014Z"
   },
   {
    "duration": 861,
    "start_time": "2021-07-26T09:32:22.065Z"
   },
   {
    "duration": 893,
    "start_time": "2021-07-26T09:32:22.929Z"
   },
   {
    "duration": 660,
    "start_time": "2021-07-26T09:32:23.825Z"
   },
   {
    "duration": 618,
    "start_time": "2021-07-26T09:32:24.487Z"
   },
   {
    "duration": 56,
    "start_time": "2021-07-26T09:32:25.108Z"
   },
   {
    "duration": 1007,
    "start_time": "2021-07-26T09:32:25.166Z"
   },
   {
    "duration": 20672,
    "start_time": "2021-07-26T09:32:42.280Z"
   },
   {
    "duration": 1028,
    "start_time": "2021-07-26T09:33:40.693Z"
   },
   {
    "duration": 124975,
    "start_time": "2021-07-26T09:33:56.554Z"
   },
   {
    "duration": 1488,
    "start_time": "2021-07-26T09:36:07.884Z"
   },
   {
    "duration": 7,
    "start_time": "2021-07-26T09:36:23.244Z"
   },
   {
    "duration": 7,
    "start_time": "2021-07-26T09:36:41.927Z"
   },
   {
    "duration": 383469,
    "start_time": "2021-07-26T09:36:44.194Z"
   },
   {
    "duration": 5,
    "start_time": "2021-07-26T09:43:07.666Z"
   },
   {
    "duration": 5,
    "start_time": "2021-07-26T09:43:24.575Z"
   },
   {
    "duration": 72718,
    "start_time": "2021-07-26T09:43:26.635Z"
   },
   {
    "duration": 5,
    "start_time": "2021-07-26T09:44:43.936Z"
   },
   {
    "duration": 80750,
    "start_time": "2021-07-26T09:45:26.956Z"
   },
   {
    "duration": 6,
    "start_time": "2021-07-26T09:46:54.509Z"
   },
   {
    "duration": 5,
    "start_time": "2021-07-26T09:47:45.626Z"
   },
   {
    "duration": 55149,
    "start_time": "2021-07-26T09:47:47.455Z"
   },
   {
    "duration": 212910,
    "start_time": "2021-07-26T09:48:58.934Z"
   },
   {
    "duration": 6,
    "start_time": "2021-07-26T09:52:37.915Z"
   },
   {
    "duration": 215871,
    "start_time": "2021-07-26T09:53:21.116Z"
   },
   {
    "duration": 226,
    "start_time": "2021-07-26T09:58:44.785Z"
   },
   {
    "duration": 427,
    "start_time": "2021-07-26T09:58:54.102Z"
   },
   {
    "duration": 6,
    "start_time": "2021-07-26T09:59:24.964Z"
   },
   {
    "duration": 1667839,
    "start_time": "2021-07-26T09:59:59.674Z"
   },
   {
    "duration": 2483,
    "start_time": "2021-07-26T10:27:47.517Z"
   },
   {
    "duration": 10,
    "start_time": "2021-07-26T10:27:50.014Z"
   },
   {
    "duration": 1650673,
    "start_time": "2021-07-26T10:27:50.027Z"
   },
   {
    "duration": 2379,
    "start_time": "2021-07-26T10:55:20.703Z"
   },
   {
    "duration": 6,
    "start_time": "2021-07-26T10:55:23.085Z"
   },
   {
    "duration": 9744,
    "start_time": "2021-07-26T10:55:23.096Z"
   },
   {
    "duration": 329,
    "start_time": "2021-07-26T10:55:33.123Z"
   },
   {
    "duration": 373,
    "start_time": "2021-07-26T10:55:33.455Z"
   },
   {
    "duration": 7395,
    "start_time": "2021-07-26T19:32:34.869Z"
   },
   {
    "duration": 50034,
    "start_time": "2021-07-26T19:33:24.355Z"
   },
   {
    "duration": 6,
    "start_time": "2021-07-26T19:37:02.464Z"
   },
   {
    "duration": 7,
    "start_time": "2021-07-26T19:37:04.520Z"
   },
   {
    "duration": 22,
    "start_time": "2021-07-26T19:41:47.516Z"
   },
   {
    "duration": 210,
    "start_time": "2021-07-26T19:43:38.189Z"
   },
   {
    "duration": 56,
    "start_time": "2021-07-26T19:43:44.544Z"
   },
   {
    "duration": 116,
    "start_time": "2021-07-26T19:44:14.466Z"
   },
   {
    "duration": 7,
    "start_time": "2021-07-26T19:44:26.774Z"
   },
   {
    "duration": 398,
    "start_time": "2021-07-26T19:57:33.140Z"
   },
   {
    "duration": 99538,
    "start_time": "2021-07-26T19:57:40.030Z"
   },
   {
    "duration": 242,
    "start_time": "2021-07-26T19:59:19.570Z"
   },
   {
    "duration": 5,
    "start_time": "2021-07-26T19:59:19.816Z"
   },
   {
    "duration": 6484,
    "start_time": "2021-07-26T19:59:19.824Z"
   },
   {
    "duration": 186,
    "start_time": "2021-07-26T19:59:26.311Z"
   },
   {
    "duration": 278,
    "start_time": "2021-07-26T19:59:26.500Z"
   },
   {
    "duration": 290,
    "start_time": "2021-07-26T19:59:26.491Z"
   },
   {
    "duration": 51834,
    "start_time": "2021-07-26T20:00:10.761Z"
   },
   {
    "duration": 20,
    "start_time": "2021-07-26T20:01:02.598Z"
   },
   {
    "duration": 67,
    "start_time": "2021-07-26T20:01:02.621Z"
   },
   {
    "duration": 5265,
    "start_time": "2021-07-26T20:01:44.124Z"
   },
   {
    "duration": 1927,
    "start_time": "2021-07-26T20:02:15.816Z"
   },
   {
    "duration": 9,
    "start_time": "2021-07-26T20:02:17.746Z"
   },
   {
    "duration": 5423,
    "start_time": "2021-07-26T20:02:17.759Z"
   },
   {
    "duration": 1849,
    "start_time": "2021-07-26T20:02:23.185Z"
   },
   {
    "duration": 5,
    "start_time": "2021-07-26T20:02:25.037Z"
   },
   {
    "duration": 5457,
    "start_time": "2021-07-26T20:06:23.160Z"
   },
   {
    "duration": 1762,
    "start_time": "2021-07-26T20:06:28.620Z"
   },
   {
    "duration": 6,
    "start_time": "2021-07-26T20:06:30.386Z"
   },
   {
    "duration": 5308,
    "start_time": "2021-07-26T20:06:30.396Z"
   },
   {
    "duration": 1724,
    "start_time": "2021-07-26T20:06:35.707Z"
   },
   {
    "duration": 6,
    "start_time": "2021-07-26T20:06:37.433Z"
   },
   {
    "duration": 53,
    "start_time": "2021-07-26T20:07:44.737Z"
   },
   {
    "duration": 14,
    "start_time": "2021-07-26T20:07:47.671Z"
   },
   {
    "duration": 52,
    "start_time": "2021-07-26T20:08:07.903Z"
   },
   {
    "duration": 101,
    "start_time": "2021-07-26T20:08:08.281Z"
   },
   {
    "duration": 6,
    "start_time": "2021-07-26T20:08:08.843Z"
   },
   {
    "duration": 14,
    "start_time": "2021-07-26T20:09:54.225Z"
   },
   {
    "duration": 2039,
    "start_time": "2021-07-27T12:42:14.915Z"
   },
   {
    "duration": 1656,
    "start_time": "2021-07-27T12:42:16.957Z"
   },
   {
    "duration": 330,
    "start_time": "2021-07-27T12:42:18.618Z"
   },
   {
    "duration": 249,
    "start_time": "2021-07-27T12:42:18.952Z"
   },
   {
    "duration": 141,
    "start_time": "2021-07-27T12:42:19.204Z"
   },
   {
    "duration": 58,
    "start_time": "2021-07-27T12:42:19.348Z"
   },
   {
    "duration": 103,
    "start_time": "2021-07-27T12:42:19.409Z"
   },
   {
    "duration": 1290,
    "start_time": "2021-07-27T12:42:19.515Z"
   },
   {
    "duration": 10508,
    "start_time": "2021-07-27T12:42:20.809Z"
   },
   {
    "duration": 10657,
    "start_time": "2021-07-27T12:42:31.320Z"
   },
   {
    "duration": 15552,
    "start_time": "2021-07-27T12:42:41.987Z"
   },
   {
    "duration": 56,
    "start_time": "2021-07-27T12:42:57.542Z"
   },
   {
    "duration": 1461,
    "start_time": "2021-07-27T14:55:18.557Z"
   },
   {
    "duration": 1023,
    "start_time": "2021-07-27T14:55:20.021Z"
   },
   {
    "duration": 176,
    "start_time": "2021-07-27T14:55:21.713Z"
   },
   {
    "duration": 168,
    "start_time": "2021-07-27T14:55:26.231Z"
   },
   {
    "duration": 125,
    "start_time": "2021-07-27T14:55:36.141Z"
   },
   {
    "duration": 181,
    "start_time": "2021-07-27T14:57:44.341Z"
   },
   {
    "duration": 9,
    "start_time": "2021-07-27T14:58:19.240Z"
   },
   {
    "duration": 220,
    "start_time": "2021-07-27T15:00:09.797Z"
   },
   {
    "duration": 481,
    "start_time": "2021-07-27T15:00:26.153Z"
   },
   {
    "duration": 694,
    "start_time": "2021-07-27T15:01:35.151Z"
   },
   {
    "duration": 454,
    "start_time": "2021-07-27T15:03:55.471Z"
   },
   {
    "duration": 427,
    "start_time": "2021-07-27T15:03:59.787Z"
   },
   {
    "duration": 440,
    "start_time": "2021-07-27T15:04:04.800Z"
   },
   {
    "duration": 119,
    "start_time": "2021-07-27T15:06:49.778Z"
   },
   {
    "duration": 1195,
    "start_time": "2021-07-27T15:06:56.509Z"
   },
   {
    "duration": 265,
    "start_time": "2021-07-27T15:07:08.809Z"
   },
   {
    "duration": 5779,
    "start_time": "2021-07-27T15:07:26.968Z"
   },
   {
    "duration": 291,
    "start_time": "2021-07-27T15:11:11.898Z"
   },
   {
    "duration": 286,
    "start_time": "2021-07-27T15:11:19.588Z"
   },
   {
    "duration": 14,
    "start_time": "2021-07-27T15:11:36.282Z"
   },
   {
    "duration": 45,
    "start_time": "2021-07-27T15:14:40.450Z"
   },
   {
    "duration": 563,
    "start_time": "2021-07-27T15:15:03.747Z"
   },
   {
    "duration": 6,
    "start_time": "2021-07-27T15:24:18.845Z"
   },
   {
    "duration": 1124,
    "start_time": "2021-07-27T15:24:19.191Z"
   },
   {
    "duration": 194,
    "start_time": "2021-07-27T15:24:20.318Z"
   },
   {
    "duration": 206,
    "start_time": "2021-07-27T15:24:21.401Z"
   },
   {
    "duration": 624,
    "start_time": "2021-07-27T15:24:22.069Z"
   },
   {
    "duration": 15,
    "start_time": "2021-07-27T15:24:22.786Z"
   },
   {
    "duration": 39,
    "start_time": "2021-07-27T15:24:23.673Z"
   },
   {
    "duration": 652,
    "start_time": "2021-07-27T15:24:24.166Z"
   },
   {
    "duration": 132,
    "start_time": "2021-07-27T15:24:25.749Z"
   },
   {
    "duration": 43,
    "start_time": "2021-07-27T15:24:28.028Z"
   },
   {
    "duration": 67,
    "start_time": "2021-07-27T15:24:30.951Z"
   },
   {
    "duration": 1094,
    "start_time": "2021-07-27T15:24:31.668Z"
   },
   {
    "duration": 9594,
    "start_time": "2021-07-27T15:24:32.765Z"
   },
   {
    "duration": 9021,
    "start_time": "2021-07-27T15:24:42.363Z"
   },
   {
    "duration": 9171,
    "start_time": "2021-07-27T15:24:51.387Z"
   },
   {
    "duration": 274,
    "start_time": "2021-07-27T15:25:00.560Z"
   },
   {
    "duration": 94,
    "start_time": "2021-07-27T15:25:00.837Z"
   },
   {
    "duration": 4,
    "start_time": "2021-07-27T15:25:00.934Z"
   },
   {
    "duration": 107,
    "start_time": "2021-07-27T15:25:00.956Z"
   },
   {
    "duration": 561,
    "start_time": "2021-07-27T15:25:30.745Z"
   },
   {
    "duration": 42,
    "start_time": "2021-07-27T15:25:32.282Z"
   },
   {
    "duration": 520,
    "start_time": "2021-07-27T15:25:34.546Z"
   },
   {
    "duration": 631,
    "start_time": "2021-07-27T15:25:37.527Z"
   },
   {
    "duration": 548,
    "start_time": "2021-07-27T15:25:38.692Z"
   },
   {
    "duration": 595,
    "start_time": "2021-07-27T15:25:40.436Z"
   },
   {
    "duration": 61,
    "start_time": "2021-07-27T15:25:42.370Z"
   },
   {
    "duration": 1050,
    "start_time": "2021-07-27T15:27:42.568Z"
   },
   {
    "duration": 1710,
    "start_time": "2021-07-27T15:29:38.458Z"
   },
   {
    "duration": 1217,
    "start_time": "2021-07-27T15:30:18.619Z"
   },
   {
    "duration": 1595,
    "start_time": "2021-07-27T15:30:34.382Z"
   },
   {
    "duration": 1336,
    "start_time": "2021-07-27T15:30:56.674Z"
   },
   {
    "duration": 1606,
    "start_time": "2021-07-27T15:31:19.848Z"
   },
   {
    "duration": 914,
    "start_time": "2021-07-27T15:31:32.849Z"
   },
   {
    "duration": 5,
    "start_time": "2021-07-27T15:51:26.797Z"
   },
   {
    "duration": 127,
    "start_time": "2021-07-27T16:00:24.621Z"
   },
   {
    "duration": 254,
    "start_time": "2021-07-27T16:00:32.057Z"
   },
   {
    "duration": 238,
    "start_time": "2021-07-27T16:00:43.907Z"
   },
   {
    "duration": 243,
    "start_time": "2021-07-27T16:00:49.170Z"
   },
   {
    "duration": 234,
    "start_time": "2021-07-27T16:00:54.107Z"
   },
   {
    "duration": 129,
    "start_time": "2021-07-27T16:01:13.319Z"
   },
   {
    "duration": 234,
    "start_time": "2021-07-27T16:01:20.167Z"
   },
   {
    "duration": 127,
    "start_time": "2021-07-27T16:01:57.017Z"
   },
   {
    "duration": 241,
    "start_time": "2021-07-27T16:02:02.862Z"
   },
   {
    "duration": 275,
    "start_time": "2021-07-27T16:02:41.524Z"
   },
   {
    "duration": 256,
    "start_time": "2021-07-27T16:02:50.049Z"
   },
   {
    "duration": 238,
    "start_time": "2021-07-27T16:03:31.433Z"
   },
   {
    "duration": 232,
    "start_time": "2021-07-27T16:03:36.914Z"
   },
   {
    "duration": 239,
    "start_time": "2021-07-27T16:03:54.555Z"
   },
   {
    "duration": 117,
    "start_time": "2021-07-27T16:04:46.734Z"
   },
   {
    "duration": 245,
    "start_time": "2021-07-27T16:06:05.094Z"
   },
   {
    "duration": 239,
    "start_time": "2021-07-27T16:06:50.256Z"
   },
   {
    "duration": 239,
    "start_time": "2021-07-27T16:07:14.640Z"
   },
   {
    "duration": 245,
    "start_time": "2021-07-27T16:09:44.845Z"
   },
   {
    "duration": 243,
    "start_time": "2021-07-27T16:10:22.852Z"
   },
   {
    "duration": 238,
    "start_time": "2021-07-27T16:10:55.352Z"
   },
   {
    "duration": 5,
    "start_time": "2021-07-27T16:12:13.421Z"
   },
   {
    "duration": 128,
    "start_time": "2021-07-27T16:13:32.142Z"
   },
   {
    "duration": 250,
    "start_time": "2021-07-27T16:13:47.894Z"
   },
   {
    "duration": 244,
    "start_time": "2021-07-27T16:14:57.610Z"
   },
   {
    "duration": 237,
    "start_time": "2021-07-27T16:16:16.408Z"
   },
   {
    "duration": 262,
    "start_time": "2021-07-27T16:16:33.432Z"
   },
   {
    "duration": 223,
    "start_time": "2021-07-27T16:16:44.994Z"
   },
   {
    "duration": 439881,
    "start_time": "2021-07-27T16:17:25.401Z"
   },
   {
    "duration": 37,
    "start_time": "2021-07-27T16:26:51.540Z"
   },
   {
    "duration": 6,
    "start_time": "2021-07-27T16:26:55.433Z"
   },
   {
    "duration": 129,
    "start_time": "2021-07-27T16:30:38.367Z"
   },
   {
    "duration": 451,
    "start_time": "2021-07-27T16:30:52.172Z"
   },
   {
    "duration": 256,
    "start_time": "2021-07-27T16:31:13.395Z"
   },
   {
    "duration": 221,
    "start_time": "2021-07-27T16:31:39.972Z"
   },
   {
    "duration": 258,
    "start_time": "2021-07-27T16:31:56.151Z"
   },
   {
    "duration": 58434,
    "start_time": "2021-07-27T16:32:00.762Z"
   },
   {
    "duration": 140277,
    "start_time": "2021-07-27T16:36:57.854Z"
   },
   {
    "duration": 127,
    "start_time": "2021-07-27T16:39:43.298Z"
   },
   {
    "duration": 214680,
    "start_time": "2021-07-27T16:39:51.167Z"
   },
   {
    "duration": 60333,
    "start_time": "2021-07-27T16:43:41.998Z"
   },
   {
    "duration": 45182,
    "start_time": "2021-07-27T16:44:44.657Z"
   },
   {
    "duration": 57256,
    "start_time": "2021-07-27T16:45:38.060Z"
   },
   {
    "duration": 69960,
    "start_time": "2021-07-27T16:46:51.308Z"
   },
   {
    "duration": 209644,
    "start_time": "2021-07-27T16:49:19.437Z"
   },
   {
    "duration": 50550,
    "start_time": "2021-07-27T17:06:21.952Z"
   },
   {
    "duration": 245,
    "start_time": "2021-07-27T17:07:12.505Z"
   },
   {
    "duration": 5318,
    "start_time": "2021-07-27T17:07:21.445Z"
   },
   {
    "duration": 500,
    "start_time": "2021-07-27T17:07:26.766Z"
   },
   {
    "duration": 5,
    "start_time": "2021-07-27T17:07:27.269Z"
   },
   {
    "duration": 108,
    "start_time": "2021-07-27T17:09:08.848Z"
   },
   {
    "duration": 12,
    "start_time": "2021-07-27T17:09:15.121Z"
   },
   {
    "duration": 7,
    "start_time": "2021-07-27T17:09:17.085Z"
   },
   {
    "duration": 1539,
    "start_time": "2021-07-28T11:10:27.214Z"
   },
   {
    "duration": 1091,
    "start_time": "2021-07-28T11:10:28.756Z"
   },
   {
    "duration": 191,
    "start_time": "2021-07-28T11:10:29.850Z"
   },
   {
    "duration": 189,
    "start_time": "2021-07-28T11:10:30.044Z"
   },
   {
    "duration": 607,
    "start_time": "2021-07-28T11:10:30.235Z"
   },
   {
    "duration": 15,
    "start_time": "2021-07-28T11:10:30.844Z"
   },
   {
    "duration": 68,
    "start_time": "2021-07-28T11:10:30.861Z"
   },
   {
    "duration": 573,
    "start_time": "2021-07-28T11:10:30.933Z"
   },
   {
    "duration": 117,
    "start_time": "2021-07-28T11:10:31.509Z"
   },
   {
    "duration": 58,
    "start_time": "2021-07-28T11:10:31.629Z"
   },
   {
    "duration": 72,
    "start_time": "2021-07-28T11:10:31.690Z"
   },
   {
    "duration": 1142,
    "start_time": "2021-07-28T11:10:31.765Z"
   },
   {
    "duration": 9993,
    "start_time": "2021-07-28T11:10:32.910Z"
   },
   {
    "duration": 9626,
    "start_time": "2021-07-28T11:10:42.906Z"
   },
   {
    "duration": 10050,
    "start_time": "2021-07-28T11:10:52.535Z"
   },
   {
    "duration": 322,
    "start_time": "2021-07-28T11:11:02.588Z"
   },
   {
    "duration": 106,
    "start_time": "2021-07-28T11:11:02.913Z"
   },
   {
    "duration": 5,
    "start_time": "2021-07-28T11:11:03.022Z"
   },
   {
    "duration": 130,
    "start_time": "2021-07-28T11:11:03.031Z"
   },
   {
    "duration": 613,
    "start_time": "2021-07-28T11:11:03.164Z"
   },
   {
    "duration": 46,
    "start_time": "2021-07-28T11:11:03.779Z"
   },
   {
    "duration": 745,
    "start_time": "2021-07-28T11:11:03.828Z"
   },
   {
    "duration": 681,
    "start_time": "2021-07-28T11:11:04.578Z"
   },
   {
    "duration": 574,
    "start_time": "2021-07-28T11:11:05.262Z"
   },
   {
    "duration": 700,
    "start_time": "2021-07-28T11:11:05.839Z"
   },
   {
    "duration": 89,
    "start_time": "2021-07-28T11:11:06.541Z"
   },
   {
    "duration": 1880,
    "start_time": "2021-07-28T11:11:06.633Z"
   }
  ],
  "kernelspec": {
   "display_name": "Python 3",
   "language": "python",
   "name": "python3"
  },
  "language_info": {
   "codemirror_mode": {
    "name": "ipython",
    "version": 3
   },
   "file_extension": ".py",
   "mimetype": "text/x-python",
   "name": "python",
   "nbconvert_exporter": "python",
   "pygments_lexer": "ipython3",
   "version": "3.7.8"
  },
  "toc": {
   "base_numbering": 1,
   "nav_menu": {},
   "number_sections": true,
   "sideBar": true,
   "skip_h1_title": true,
   "title_cell": "Table of Contents",
   "title_sidebar": "Contents",
   "toc_cell": false,
   "toc_position": {},
   "toc_section_display": true,
   "toc_window_display": false
  }
 },
 "nbformat": 4,
 "nbformat_minor": 2
}
